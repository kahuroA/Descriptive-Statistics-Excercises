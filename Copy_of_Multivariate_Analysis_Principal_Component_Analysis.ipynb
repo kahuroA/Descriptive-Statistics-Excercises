{
  "nbformat": 4,
  "nbformat_minor": 0,
  "metadata": {
    "colab": {
      "name": "Copy of Multivariate Analysis: Principal Component Analysis",
      "provenance": [],
      "collapsed_sections": [
        "4Vu7ecaQWf_7",
        "XW3_wR1Vb03N"
      ],
      "include_colab_link": true
    },
    "kernelspec": {
      "name": "python3",
      "display_name": "Python 3"
    }
  },
  "cells": [
    {
      "cell_type": "markdown",
      "metadata": {
        "id": "view-in-github",
        "colab_type": "text"
      },
      "source": [
        "<a href=\"https://colab.research.google.com/github/kahuroA/Descriptive-Statistics-Excercises/blob/main/Copy_of_Multivariate_Analysis_Principal_Component_Analysis.ipynb\" target=\"_parent\"><img src=\"https://colab.research.google.com/assets/colab-badge.svg\" alt=\"Open In Colab\"/></a>"
      ]
    },
    {
      "cell_type": "markdown",
      "metadata": {
        "id": "DqjbDzSIKTd_"
      },
      "source": [
        "<font color=\"green\">*To start working on this notebook, or any other notebook that we will use in the Moringa Data Science Course, we will need to save our own copy of it. We can do this by clicking File > Save a Copy in Drive. We will then be able to make edits to our own copy of this notebook.*</font>"
      ]
    },
    {
      "cell_type": "markdown",
      "metadata": {
        "id": "3maIRH9kSonB"
      },
      "source": [
        "# Multivariate Analysis: Principal Component Analysis"
      ]
    },
    {
      "cell_type": "markdown",
      "metadata": {
        "id": "L9DvTjp9WkOX"
      },
      "source": [
        "With the availability of high performance CPUs and GPUs, it is pretty much possible to solve every regression, classification, clustering and other related problems using machine learning and deep learning models. However, there are still various factors that cause performance bottlenecks while developing such models. Large number of features in the dataset is one of the factors that affect both the training time as well as accuracy of machine learning models. You have different options to deal with huge number of features in a dataset.\n",
        "\n",
        "* Try to train the models on original number of features, which take days or weeks if the number of features is too high.\n",
        "* Reduce the number of variables by merging correlated variables.\n",
        "* Extract the most important features from the dataset that are responsible for maximum variance in the output. Different statistical techniques are used for this purpose e.g. linear discriminant analysis, factor analysis, and principal component analysis.\n",
        "\n",
        "Principal component analysis, or PCA, is a statistical technique to convert high dimensional data to low dimensional data by selecting the most important features that capture maximum information about the dataset. The features are selected on the basis of variance that they cause in the output. The feature that causes highest variance is the first principal component. The feature that is responsible for second highest variance is considered the second principal component, and so on. It is important to mention that principal components do not have any correlation with each other.\n",
        "\n",
        "**Advantages of PCA**\n",
        "\n",
        "There are two main advantages of dimensionality reduction with PCA.\n",
        "\n",
        "* The training time of the algorithms reduces significantly with less number of features.\n",
        "* It is not always possible to analyze data in high dimensions. For instance if there are 100 features in a dataset. Total number of scatter plots required to visualize the data would be 100(100-1)2 = 4950. Practically it is not possible to analyze data this way.\n",
        "\n",
        "\n",
        "**Normalization of Features**\n",
        "\n",
        "It is imperative to mention that a feature set must be normalized before applying PCA. For instance if a feature set has data expressed in units of Kilograms, Light years, or Millions, the variance scale is huge in the training set. If PCA is applied on such a feature set, the resultant loadings for features with high variance will also be large. Hence, principal components will be biased towards features with high variance, leading to false results.\n",
        "\n",
        "Finally, the last point to remember before we start coding is that PCA is a statistical technique and can only be applied to numeric data. Therefore, categorical features are required to be converted into numerical features before PCA can be applied.\n",
        "\n",
        "Let's now implement PCA with the help of Python's Scikit-Learn library. We will follow the classic machine learning pipeline where we will first import libraries and dataset, perform exploratory data analysis and preprocessing, and finally train our models, make predictions and evaluate accuracies. The only additional step will be to perform PCA to find out optimal number of features before we train our models. These steps have been implemented as follows:"
      ]
    },
    {
      "cell_type": "markdown",
      "metadata": {
        "id": "4Vu7ecaQWf_7"
      },
      "source": [
        "### Example 1"
      ]
    },
    {
      "cell_type": "code",
      "metadata": {
        "id": "RWzQXfobSjkX"
      },
      "source": [
        "# Step 1: Importing Libraries\n",
        "import pandas as pd\n",
        "import numpy as np\n",
        "import matplotlib.pyplot as plt\n",
        "import seaborn as sns\n",
        "\n",
        "sns.set_style()\n",
        "url = \"https://archive.ics.uci.edu/ml/machine-learning-databases/iris/iris.data\"\n",
        "names = ['sepal-length', 'sepal-width', 'petal-length', 'petal-width', 'Class']\n",
        "dataset = pd.read_csv(url, names=names)"
      ],
      "execution_count": 1,
      "outputs": []
    },
    {
      "cell_type": "code",
      "metadata": {
        "id": "xbza6CLaXqtj",
        "colab": {
          "base_uri": "https://localhost:8080/",
          "height": 203
        },
        "outputId": "abc040a5-de55-47f2-ee01-ce39cb990e81"
      },
      "source": [
        "# Step 2: Let's take a look at what our dataset looks like:\n",
        "#\n",
        "dataset.head()"
      ],
      "execution_count": 2,
      "outputs": [
        {
          "output_type": "execute_result",
          "data": {
            "text/html": [
              "<div>\n",
              "<style scoped>\n",
              "    .dataframe tbody tr th:only-of-type {\n",
              "        vertical-align: middle;\n",
              "    }\n",
              "\n",
              "    .dataframe tbody tr th {\n",
              "        vertical-align: top;\n",
              "    }\n",
              "\n",
              "    .dataframe thead th {\n",
              "        text-align: right;\n",
              "    }\n",
              "</style>\n",
              "<table border=\"1\" class=\"dataframe\">\n",
              "  <thead>\n",
              "    <tr style=\"text-align: right;\">\n",
              "      <th></th>\n",
              "      <th>sepal-length</th>\n",
              "      <th>sepal-width</th>\n",
              "      <th>petal-length</th>\n",
              "      <th>petal-width</th>\n",
              "      <th>Class</th>\n",
              "    </tr>\n",
              "  </thead>\n",
              "  <tbody>\n",
              "    <tr>\n",
              "      <th>0</th>\n",
              "      <td>5.1</td>\n",
              "      <td>3.5</td>\n",
              "      <td>1.4</td>\n",
              "      <td>0.2</td>\n",
              "      <td>Iris-setosa</td>\n",
              "    </tr>\n",
              "    <tr>\n",
              "      <th>1</th>\n",
              "      <td>4.9</td>\n",
              "      <td>3.0</td>\n",
              "      <td>1.4</td>\n",
              "      <td>0.2</td>\n",
              "      <td>Iris-setosa</td>\n",
              "    </tr>\n",
              "    <tr>\n",
              "      <th>2</th>\n",
              "      <td>4.7</td>\n",
              "      <td>3.2</td>\n",
              "      <td>1.3</td>\n",
              "      <td>0.2</td>\n",
              "      <td>Iris-setosa</td>\n",
              "    </tr>\n",
              "    <tr>\n",
              "      <th>3</th>\n",
              "      <td>4.6</td>\n",
              "      <td>3.1</td>\n",
              "      <td>1.5</td>\n",
              "      <td>0.2</td>\n",
              "      <td>Iris-setosa</td>\n",
              "    </tr>\n",
              "    <tr>\n",
              "      <th>4</th>\n",
              "      <td>5.0</td>\n",
              "      <td>3.6</td>\n",
              "      <td>1.4</td>\n",
              "      <td>0.2</td>\n",
              "      <td>Iris-setosa</td>\n",
              "    </tr>\n",
              "  </tbody>\n",
              "</table>\n",
              "</div>"
            ],
            "text/plain": [
              "   sepal-length  sepal-width  petal-length  petal-width        Class\n",
              "0           5.1          3.5           1.4          0.2  Iris-setosa\n",
              "1           4.9          3.0           1.4          0.2  Iris-setosa\n",
              "2           4.7          3.2           1.3          0.2  Iris-setosa\n",
              "3           4.6          3.1           1.5          0.2  Iris-setosa\n",
              "4           5.0          3.6           1.4          0.2  Iris-setosa"
            ]
          },
          "metadata": {},
          "execution_count": 2
        }
      ]
    },
    {
      "cell_type": "code",
      "metadata": {
        "id": "BfM8zyTMXwP5"
      },
      "source": [
        "# Step 3: Preprocessing\n",
        "# The first preprocessing step is to divide the dataset into a feature set and corresponding labels. \n",
        "# The following script performs this task. The script below stores the feature sets into the X variable \n",
        "# and the series of corresponding labels in to the y variable.\n",
        "# \n",
        "X = dataset.drop('Class', 1)\n",
        "y = dataset['Class']"
      ],
      "execution_count": 3,
      "outputs": []
    },
    {
      "cell_type": "code",
      "metadata": {
        "id": "uLFSJjW4YCzf"
      },
      "source": [
        "# Step 4: Splitting the dataset into the Training set and Test set\n",
        "# The next preprocessing step is to divide data into training and test sets. \n",
        "# We execute the following script to do so:\n",
        "#\n",
        "from sklearn.model_selection import train_test_split\n",
        "\n",
        "X_train, X_test, y_train, y_test = train_test_split(X, y, test_size=0.2, random_state=0)"
      ],
      "execution_count": 4,
      "outputs": []
    },
    {
      "cell_type": "code",
      "metadata": {
        "id": "AwnjYgdxYLhP"
      },
      "source": [
        "# Step 5: Normalization\n",
        "# As mentioned earlier, PCA performs best with a normalized feature set. \n",
        "# We will perform standard scalar normalization to normalize our feature set. \n",
        "# To do this, we execute the following code:\n",
        "# \n",
        "from sklearn.preprocessing import StandardScaler\n",
        "\n",
        "sc = StandardScaler()\n",
        "X_train = sc.fit_transform(X_train)\n",
        "X_test = sc.transform(X_test)"
      ],
      "execution_count": 5,
      "outputs": []
    },
    {
      "cell_type": "code",
      "metadata": {
        "id": "P2LCiMNDYXU_"
      },
      "source": [
        "# Step 6: Applying PCA\n",
        "# It is only a matter of three lines of code to perform PCA using Python's Scikit-Learn library. \n",
        "# The PCA class is used for this purpose. PCA depends only upon the feature set and not the label data. \n",
        "# Therefore, PCA can be considered as an unsupervised machine learning technique.\n",
        "# Performing PCA using Scikit-Learn is a two-step process:\n",
        "# Initialize the PCA class by passing the number of components to the constructor.\n",
        "# Call the fit and then transform methods by passing the feature set to these methods. \n",
        "# The transform method returns the specified number of principal components.\n",
        "# Let's take a look at the following code. In the code above, we create a PCA object named pca. \n",
        "# We did not specify the number of components in the constructor. \n",
        "# Hence, all four of the features in the feature set will be returned for both the training and test sets.\n",
        "# \n",
        "from sklearn.decomposition import PCA\n",
        "\n",
        "pca = PCA()\n",
        "X_train = pca.fit_transform(X_train)\n",
        "X_test = pca.transform(X_test)"
      ],
      "execution_count": 6,
      "outputs": []
    },
    {
      "cell_type": "code",
      "metadata": {
        "id": "4oJFE2e9Ym7i",
        "colab": {
          "base_uri": "https://localhost:8080/"
        },
        "outputId": "4a8ef797-a085-4192-ef45-9707b066a015"
      },
      "source": [
        "# Step 7: Explained Variance Ratio\n",
        "# The PCA class contains explained_variance_ratio_ which returns the variance caused by each of the principal components. \n",
        "# We execute the following line of code to find the \"explained variance ratio\".\n",
        "# \n",
        "explained_variance = pca.explained_variance_ratio_\n",
        "\n",
        "# The explained_variance variable is now a float type array which contains variance ratios for each principal component. \n",
        "# The values for the explained_variance variable looks like what is shown in the output. \n",
        "# It can be seen that first principal component is responsible for 72.22% variance. \n",
        "# Similarly, the second principal component causes 23.9% variance in the dataset. \n",
        "# Collectively we can say that (72.22 + 23.9) 96.21% percent of the classification information contained \n",
        "# in the feature set is captured by the first two principal components.\n",
        "explained_variance"
      ],
      "execution_count": 7,
      "outputs": [
        {
          "output_type": "execute_result",
          "data": {
            "text/plain": [
              "array([0.72226528, 0.23974795, 0.03338117, 0.0046056 ])"
            ]
          },
          "metadata": {},
          "execution_count": 7
        }
      ]
    },
    {
      "cell_type": "code",
      "metadata": {
        "id": "jg-1BukkY5DW"
      },
      "source": [
        "# Step 8: Using 1 Principal Component\n",
        "# Let's first try to use 1 principal component to train our algorithm. To do so, execute the following code:\n",
        "# \n",
        "from sklearn.decomposition import PCA\n",
        "\n",
        "pca = PCA(n_components=1)\n",
        "X_train = pca.fit_transform(X_train)\n",
        "X_test = pca.transform(X_test)"
      ],
      "execution_count": 8,
      "outputs": []
    },
    {
      "cell_type": "code",
      "metadata": {
        "id": "iGFiEEaVZWug"
      },
      "source": [
        "# Step 9: Training and Making Predictions\n",
        "# In this case we'll use random forest classification for making the predictions.\n",
        "# \n",
        "from sklearn.ensemble import RandomForestClassifier\n",
        "\n",
        "classifier = RandomForestClassifier(max_depth=2, random_state=0)\n",
        "classifier.fit(X_train, y_train)\n",
        "\n",
        "# Predicting the Test set results\n",
        "y_pred = classifier.predict(X_test)"
      ],
      "execution_count": 9,
      "outputs": []
    },
    {
      "cell_type": "code",
      "metadata": {
        "id": "2c5lgRH0Zd-B",
        "colab": {
          "base_uri": "https://localhost:8080/"
        },
        "outputId": "f93108d0-87ff-4ecf-e418-7c4391a3c4c6"
      },
      "source": [
        "# Step 10: Performance Evaluation\n",
        "# \n",
        "from sklearn.metrics import confusion_matrix\n",
        "from sklearn.metrics import accuracy_score\n",
        "\n",
        "cm = confusion_matrix(y_test, y_pred)\n",
        "print(cm)\n",
        "print('Accuracy' , accuracy_score(y_test, y_pred))\n",
        "\n",
        "# Noting that from the output that with only one feature, \n",
        "# the random forest algorithm is able to correctly predict 28 out of 30 instances, \n",
        "# resulting in 93.33% accuracy."
      ],
      "execution_count": 10,
      "outputs": [
        {
          "output_type": "stream",
          "name": "stdout",
          "text": [
            "[[11  0  0]\n",
            " [ 0 12  1]\n",
            " [ 0  1  5]]\n",
            "Accuracy 0.9333333333333333\n"
          ]
        }
      ]
    },
    {
      "cell_type": "code",
      "metadata": {
        "id": "rDxxofjtaLWX"
      },
      "source": [
        "# Step 11: Results with 2 Principal Components\n",
        "# Now let's try to evaluate classification performance of the random forest algorithm \n",
        "# with 2 principal components. \n",
        "#\n",
        "from sklearn.decomposition import PCA\n",
        "#get another set of training and testing set\n",
        "X_train_2, X_test_2, y_train_2, y_test_2 = train_test_split(X, y, test_size=0.2, random_state=0)\n",
        "#let us scale the new set\n",
        "sc_2 = StandardScaler()\n",
        "X_train_2 = sc_2.fit_transform(X_train_2)\n",
        "X_test_2 = sc_2.transform(X_test_2)\n",
        "\n",
        "\n",
        "pca_2 = PCA(n_components=2)\n",
        "X_train_2 = pca_2.fit_transform(X_train_2)\n",
        "X_test_2 = pca_2.transform(X_test_2)\n",
        "\n",
        "# Here the number of components for PCA has been set to 2. \n",
        "# The classification results with 2 components are as shown in the output.\n",
        "# With two principal components the classification accuracy decreases to 83.33% compared to 93.33% for 1 component."
      ],
      "execution_count": 34,
      "outputs": []
    },
    {
      "cell_type": "code",
      "metadata": {
        "colab": {
          "base_uri": "https://localhost:8080/"
        },
        "id": "JP_hPYYvXOQs",
        "outputId": "e653395c-e632-4bb0-9210-d02c99883653"
      },
      "source": [
        "# With two principal components the classification accuracy should again increase to 93.33%\n",
        "classifier = RandomForestClassifier(max_depth=2, random_state=0)\n",
        "classifier.fit(X_train_2, y_train_2)"
      ],
      "execution_count": 35,
      "outputs": [
        {
          "output_type": "execute_result",
          "data": {
            "text/plain": [
              "RandomForestClassifier(bootstrap=True, ccp_alpha=0.0, class_weight=None,\n",
              "                       criterion='gini', max_depth=2, max_features='auto',\n",
              "                       max_leaf_nodes=None, max_samples=None,\n",
              "                       min_impurity_decrease=0.0, min_impurity_split=None,\n",
              "                       min_samples_leaf=1, min_samples_split=2,\n",
              "                       min_weight_fraction_leaf=0.0, n_estimators=100,\n",
              "                       n_jobs=None, oob_score=False, random_state=0, verbose=0,\n",
              "                       warm_start=False)"
            ]
          },
          "metadata": {},
          "execution_count": 35
        }
      ]
    },
    {
      "cell_type": "code",
      "metadata": {
        "colab": {
          "base_uri": "https://localhost:8080/"
        },
        "id": "rH0p9gTei-ts",
        "outputId": "2075aca8-44bd-4e3c-ca73-44ab0aebd6eb"
      },
      "source": [
        "y_pred_2=classifier.predict(X_test_2)\n",
        "conf=confusion_matrix(y_test_2, y_pred_2)\n",
        "print(conf)\n",
        "print('Accuracy', accuracy_score(y_test_2, y_pred_2))"
      ],
      "execution_count": 36,
      "outputs": [
        {
          "output_type": "stream",
          "name": "stdout",
          "text": [
            "[[11  0  0]\n",
            " [ 0  9  4]\n",
            " [ 0  2  4]]\n",
            "Accuracy 0.8\n"
          ]
        }
      ]
    },
    {
      "cell_type": "code",
      "metadata": {
        "id": "fwWE4FhbadPq",
        "colab": {
          "base_uri": "https://localhost:8080/"
        },
        "outputId": "817909db-d017-41a9-81cb-3d5fb887a5ee"
      },
      "source": [
        "# Step 12: Results with 2 Principal Components\n",
        "# Lets now write code to evaluate clasification performance of the \n",
        "# random forest algorithm with 3 principal components.\n",
        "X_train_3, X_test_3, y_train_3, y_test_3 = train_test_split(X, y, test_size=0.2, random_state=0)\n",
        "\n",
        "sc_3 = StandardScaler()\n",
        "X_train_3 = sc_3.fit_transform(X_train_3)\n",
        "X_test_3 = sc_3.transform(X_test_3)\n",
        "\n",
        "pca_3 = PCA(n_components=3)\n",
        "X_train_3 = pca_3.fit_transform(X_train_3)\n",
        "X_test_3 = pca_3.transform(X_test_3)\n",
        "\n",
        "# With three principal components the classification accuracy should again increase to 93.33%\n",
        "classifier_3 = RandomForestClassifier(max_depth=2, random_state=0)\n",
        "classifier_3.fit(X_train_3, y_train_3)\n"
      ],
      "execution_count": 37,
      "outputs": [
        {
          "output_type": "execute_result",
          "data": {
            "text/plain": [
              "RandomForestClassifier(bootstrap=True, ccp_alpha=0.0, class_weight=None,\n",
              "                       criterion='gini', max_depth=2, max_features='auto',\n",
              "                       max_leaf_nodes=None, max_samples=None,\n",
              "                       min_impurity_decrease=0.0, min_impurity_split=None,\n",
              "                       min_samples_leaf=1, min_samples_split=2,\n",
              "                       min_weight_fraction_leaf=0.0, n_estimators=100,\n",
              "                       n_jobs=None, oob_score=False, random_state=0, verbose=0,\n",
              "                       warm_start=False)"
            ]
          },
          "metadata": {},
          "execution_count": 37
        }
      ]
    },
    {
      "cell_type": "code",
      "metadata": {
        "id": "fSVnSt7_wfAo",
        "colab": {
          "base_uri": "https://localhost:8080/"
        },
        "outputId": "34a9b22f-9872-4ced-c42d-edf8c608bbe5"
      },
      "source": [
        "# Predicting the Test set results\n",
        "y_pred_3 = classifier_3.predict(X_test_3)\n",
        "\n",
        "cm_3 = confusion_matrix(y_test_3, y_pred_3)\n",
        "print(cm_3)\n",
        "print('Accuracy' , accuracy_score(y_test_3, y_pred_3))"
      ],
      "execution_count": 38,
      "outputs": [
        {
          "output_type": "stream",
          "name": "stdout",
          "text": [
            "[[11  0  0]\n",
            " [ 0  8  5]\n",
            " [ 0  1  5]]\n",
            "Accuracy 0.8\n"
          ]
        }
      ]
    },
    {
      "cell_type": "code",
      "metadata": {
        "id": "FknOrjzWbOTa",
        "colab": {
          "base_uri": "https://localhost:8080/"
        },
        "outputId": "93b06ff7-326a-47f9-b6a0-6ec930a813be"
      },
      "source": [
        "# Step 13: Results with Full Feature Set\n",
        "# Let's try to find the results with full feature set. \n",
        "# To do so, we simply remove the PCA part from the script that we wrote above\n",
        "# \n",
        "X_train_full, X_test_full, y_train_full, y_test_full = train_test_split(X, y, test_size=0.2, random_state=0)\n",
        "\n",
        "sc_full = StandardScaler()\n",
        "X_train_full = sc_full.fit_transform(X_train_full)\n",
        "X_test_full= sc_full.transform(X_test_full)\n",
        "\n",
        "# The accuracy received with full feature set should also be 93.33%.\n",
        "classifier_full = RandomForestClassifier(max_depth=2, random_state=0)\n",
        "classifier_full.fit(X_train_full, y_train_full)\n",
        "\n",
        "\n",
        "y_pred_full = classifier_full.predict(X_test_full)\n",
        "\n",
        "cm_full = confusion_matrix(y_test_full, y_pred_full)\n",
        "print(cm_full)\n",
        "print('Accuracy' , accuracy_score(y_test_full, y_pred_full))"
      ],
      "execution_count": 39,
      "outputs": [
        {
          "output_type": "stream",
          "name": "stdout",
          "text": [
            "[[11  0  0]\n",
            " [ 0 13  0]\n",
            " [ 0  0  6]]\n",
            "Accuracy 1.0\n"
          ]
        }
      ]
    },
    {
      "cell_type": "markdown",
      "metadata": {
        "id": "LZUzM3fhbsG_"
      },
      "source": [
        "From the above experimentation we achieved optimal level of accuracy while significantly reducing the number of features in the dataset. We saw that accuracy achieved with only 1 principal component is equal to the accuracy achieved with will feature set i.e. 93.33%. It is also pertinent to mention that the accuracy of a classifier doesn't necessarily improve with increased number of principal components. From the results we can see that the accuracy achieved with one principal component (93.33%) was greater than the one achieved with two principal components (83.33%).\n",
        "\n"
      ]
    },
    {
      "cell_type": "markdown",
      "metadata": {
        "id": "80nI0zSPbveH"
      },
      "source": [
        "The number of principal components to retain in a feature set depends on several conditions such as storage capacity, training time, performance, etc. In some dataset all the features are contributing equally to the overall variance, therefore all the principal components are crucial to the predictions and none can be ignored. A general rule of thumb is to take number of principal of principal components that contribute to significant variance and ignore those with diminishing variance returns. A good way is to plot the variance against principal components and ignore the principal components with diminishing values as shown in the following graph:"
      ]
    },
    {
      "cell_type": "markdown",
      "metadata": {
        "id": "XW3_wR1Vb03N"
      },
      "source": [
        "### <font color=\"green\">Challenges</font>"
      ]
    },
    {
      "cell_type": "code",
      "metadata": {
        "id": "TahOibrIb3O_",
        "colab": {
          "base_uri": "https://localhost:8080/",
          "height": 270
        },
        "outputId": "5e7a5a78-e007-4b2a-d87f-c6503a1a279d"
      },
      "source": [
        "# Challenge 1\n",
        "# ---\n",
        "# Question: Perform PCA using the given dataset to get a reduced number of variables and examine the results.\n",
        "# Dataset url = http://bit.ly/PokemonDataset\n",
        "# ---\n",
        "# \n",
        "poke_data = pd.read_csv('http://bit.ly/PokemonDataset')\n",
        "print(poke_data['Legendary'].value_counts())\n",
        "print('*'*100)\n",
        "poke_data.head()"
      ],
      "execution_count": 41,
      "outputs": [
        {
          "output_type": "stream",
          "name": "stdout",
          "text": [
            "False    735\n",
            "True      65\n",
            "Name: Legendary, dtype: int64\n",
            "****************************************************************************************************\n"
          ]
        },
        {
          "output_type": "execute_result",
          "data": {
            "text/html": [
              "<div>\n",
              "<style scoped>\n",
              "    .dataframe tbody tr th:only-of-type {\n",
              "        vertical-align: middle;\n",
              "    }\n",
              "\n",
              "    .dataframe tbody tr th {\n",
              "        vertical-align: top;\n",
              "    }\n",
              "\n",
              "    .dataframe thead th {\n",
              "        text-align: right;\n",
              "    }\n",
              "</style>\n",
              "<table border=\"1\" class=\"dataframe\">\n",
              "  <thead>\n",
              "    <tr style=\"text-align: right;\">\n",
              "      <th></th>\n",
              "      <th>#</th>\n",
              "      <th>Name</th>\n",
              "      <th>Type 1</th>\n",
              "      <th>Type 2</th>\n",
              "      <th>Total</th>\n",
              "      <th>HP</th>\n",
              "      <th>Attack</th>\n",
              "      <th>Defense</th>\n",
              "      <th>Sp. Atk</th>\n",
              "      <th>Sp. Def</th>\n",
              "      <th>Speed</th>\n",
              "      <th>Generation</th>\n",
              "      <th>Legendary</th>\n",
              "    </tr>\n",
              "  </thead>\n",
              "  <tbody>\n",
              "    <tr>\n",
              "      <th>0</th>\n",
              "      <td>1</td>\n",
              "      <td>Bulbasaur</td>\n",
              "      <td>Grass</td>\n",
              "      <td>Poison</td>\n",
              "      <td>318</td>\n",
              "      <td>45</td>\n",
              "      <td>49</td>\n",
              "      <td>49</td>\n",
              "      <td>65</td>\n",
              "      <td>65</td>\n",
              "      <td>45</td>\n",
              "      <td>1</td>\n",
              "      <td>False</td>\n",
              "    </tr>\n",
              "    <tr>\n",
              "      <th>1</th>\n",
              "      <td>2</td>\n",
              "      <td>Ivysaur</td>\n",
              "      <td>Grass</td>\n",
              "      <td>Poison</td>\n",
              "      <td>405</td>\n",
              "      <td>60</td>\n",
              "      <td>62</td>\n",
              "      <td>63</td>\n",
              "      <td>80</td>\n",
              "      <td>80</td>\n",
              "      <td>60</td>\n",
              "      <td>1</td>\n",
              "      <td>False</td>\n",
              "    </tr>\n",
              "    <tr>\n",
              "      <th>2</th>\n",
              "      <td>3</td>\n",
              "      <td>Venusaur</td>\n",
              "      <td>Grass</td>\n",
              "      <td>Poison</td>\n",
              "      <td>525</td>\n",
              "      <td>80</td>\n",
              "      <td>82</td>\n",
              "      <td>83</td>\n",
              "      <td>100</td>\n",
              "      <td>100</td>\n",
              "      <td>80</td>\n",
              "      <td>1</td>\n",
              "      <td>False</td>\n",
              "    </tr>\n",
              "    <tr>\n",
              "      <th>3</th>\n",
              "      <td>3</td>\n",
              "      <td>VenusaurMega Venusaur</td>\n",
              "      <td>Grass</td>\n",
              "      <td>Poison</td>\n",
              "      <td>625</td>\n",
              "      <td>80</td>\n",
              "      <td>100</td>\n",
              "      <td>123</td>\n",
              "      <td>122</td>\n",
              "      <td>120</td>\n",
              "      <td>80</td>\n",
              "      <td>1</td>\n",
              "      <td>False</td>\n",
              "    </tr>\n",
              "    <tr>\n",
              "      <th>4</th>\n",
              "      <td>4</td>\n",
              "      <td>Charmander</td>\n",
              "      <td>Fire</td>\n",
              "      <td>NaN</td>\n",
              "      <td>309</td>\n",
              "      <td>39</td>\n",
              "      <td>52</td>\n",
              "      <td>43</td>\n",
              "      <td>60</td>\n",
              "      <td>50</td>\n",
              "      <td>65</td>\n",
              "      <td>1</td>\n",
              "      <td>False</td>\n",
              "    </tr>\n",
              "  </tbody>\n",
              "</table>\n",
              "</div>"
            ],
            "text/plain": [
              "   #                   Name Type 1  ... Speed  Generation  Legendary\n",
              "0  1              Bulbasaur  Grass  ...    45           1      False\n",
              "1  2                Ivysaur  Grass  ...    60           1      False\n",
              "2  3               Venusaur  Grass  ...    80           1      False\n",
              "3  3  VenusaurMega Venusaur  Grass  ...    80           1      False\n",
              "4  4             Charmander   Fire  ...    65           1      False\n",
              "\n",
              "[5 rows x 13 columns]"
            ]
          },
          "metadata": {},
          "execution_count": 41
        }
      ]
    },
    {
      "cell_type": "code",
      "metadata": {
        "id": "e9miRU2Pzrdh",
        "colab": {
          "base_uri": "https://localhost:8080/",
          "height": 203
        },
        "outputId": "db5b5e91-e6b6-4087-9266-c529c9383eed"
      },
      "source": [
        "# leg_enc = {'Legendary':{'False': 0, 'True':1}}\n",
        "# poke_data.replace(leg_enc, inplace=True)\n",
        "# poke_data.head()\n",
        "poke_data['Legendary']=poke_data['Legendary'].astype('int')\n",
        "poke_data.head()"
      ],
      "execution_count": 42,
      "outputs": [
        {
          "output_type": "execute_result",
          "data": {
            "text/html": [
              "<div>\n",
              "<style scoped>\n",
              "    .dataframe tbody tr th:only-of-type {\n",
              "        vertical-align: middle;\n",
              "    }\n",
              "\n",
              "    .dataframe tbody tr th {\n",
              "        vertical-align: top;\n",
              "    }\n",
              "\n",
              "    .dataframe thead th {\n",
              "        text-align: right;\n",
              "    }\n",
              "</style>\n",
              "<table border=\"1\" class=\"dataframe\">\n",
              "  <thead>\n",
              "    <tr style=\"text-align: right;\">\n",
              "      <th></th>\n",
              "      <th>#</th>\n",
              "      <th>Name</th>\n",
              "      <th>Type 1</th>\n",
              "      <th>Type 2</th>\n",
              "      <th>Total</th>\n",
              "      <th>HP</th>\n",
              "      <th>Attack</th>\n",
              "      <th>Defense</th>\n",
              "      <th>Sp. Atk</th>\n",
              "      <th>Sp. Def</th>\n",
              "      <th>Speed</th>\n",
              "      <th>Generation</th>\n",
              "      <th>Legendary</th>\n",
              "    </tr>\n",
              "  </thead>\n",
              "  <tbody>\n",
              "    <tr>\n",
              "      <th>0</th>\n",
              "      <td>1</td>\n",
              "      <td>Bulbasaur</td>\n",
              "      <td>Grass</td>\n",
              "      <td>Poison</td>\n",
              "      <td>318</td>\n",
              "      <td>45</td>\n",
              "      <td>49</td>\n",
              "      <td>49</td>\n",
              "      <td>65</td>\n",
              "      <td>65</td>\n",
              "      <td>45</td>\n",
              "      <td>1</td>\n",
              "      <td>0</td>\n",
              "    </tr>\n",
              "    <tr>\n",
              "      <th>1</th>\n",
              "      <td>2</td>\n",
              "      <td>Ivysaur</td>\n",
              "      <td>Grass</td>\n",
              "      <td>Poison</td>\n",
              "      <td>405</td>\n",
              "      <td>60</td>\n",
              "      <td>62</td>\n",
              "      <td>63</td>\n",
              "      <td>80</td>\n",
              "      <td>80</td>\n",
              "      <td>60</td>\n",
              "      <td>1</td>\n",
              "      <td>0</td>\n",
              "    </tr>\n",
              "    <tr>\n",
              "      <th>2</th>\n",
              "      <td>3</td>\n",
              "      <td>Venusaur</td>\n",
              "      <td>Grass</td>\n",
              "      <td>Poison</td>\n",
              "      <td>525</td>\n",
              "      <td>80</td>\n",
              "      <td>82</td>\n",
              "      <td>83</td>\n",
              "      <td>100</td>\n",
              "      <td>100</td>\n",
              "      <td>80</td>\n",
              "      <td>1</td>\n",
              "      <td>0</td>\n",
              "    </tr>\n",
              "    <tr>\n",
              "      <th>3</th>\n",
              "      <td>3</td>\n",
              "      <td>VenusaurMega Venusaur</td>\n",
              "      <td>Grass</td>\n",
              "      <td>Poison</td>\n",
              "      <td>625</td>\n",
              "      <td>80</td>\n",
              "      <td>100</td>\n",
              "      <td>123</td>\n",
              "      <td>122</td>\n",
              "      <td>120</td>\n",
              "      <td>80</td>\n",
              "      <td>1</td>\n",
              "      <td>0</td>\n",
              "    </tr>\n",
              "    <tr>\n",
              "      <th>4</th>\n",
              "      <td>4</td>\n",
              "      <td>Charmander</td>\n",
              "      <td>Fire</td>\n",
              "      <td>NaN</td>\n",
              "      <td>309</td>\n",
              "      <td>39</td>\n",
              "      <td>52</td>\n",
              "      <td>43</td>\n",
              "      <td>60</td>\n",
              "      <td>50</td>\n",
              "      <td>65</td>\n",
              "      <td>1</td>\n",
              "      <td>0</td>\n",
              "    </tr>\n",
              "  </tbody>\n",
              "</table>\n",
              "</div>"
            ],
            "text/plain": [
              "   #                   Name Type 1  ... Speed  Generation  Legendary\n",
              "0  1              Bulbasaur  Grass  ...    45           1          0\n",
              "1  2                Ivysaur  Grass  ...    60           1          0\n",
              "2  3               Venusaur  Grass  ...    80           1          0\n",
              "3  3  VenusaurMega Venusaur  Grass  ...    80           1          0\n",
              "4  4             Charmander   Fire  ...    65           1          0\n",
              "\n",
              "[5 rows x 13 columns]"
            ]
          },
          "metadata": {},
          "execution_count": 42
        }
      ]
    },
    {
      "cell_type": "code",
      "metadata": {
        "colab": {
          "base_uri": "https://localhost:8080/"
        },
        "id": "JnCeqWDvp-Oe",
        "outputId": "d92334dd-4b5b-4d90-ad7a-ba139a56690f"
      },
      "source": [
        "poke_data.columns"
      ],
      "execution_count": 43,
      "outputs": [
        {
          "output_type": "execute_result",
          "data": {
            "text/plain": [
              "Index(['#', 'Name', 'Type 1', 'Type 2', 'Total', 'HP', 'Attack', 'Defense',\n",
              "       'Sp. Atk', 'Sp. Def', 'Speed', 'Generation', 'Legendary'],\n",
              "      dtype='object')"
            ]
          },
          "metadata": {},
          "execution_count": 43
        }
      ]
    },
    {
      "cell_type": "code",
      "metadata": {
        "id": "OVHf1Ufup5qo"
      },
      "source": [
        "#get the numeric features\n",
        "numeric_features=['Total','HP','Attack','Defense','Sp. Atk','Sp. Def','Speed','Generation','Legendary']\n",
        "poke_num=poke_data[numeric_features]\n"
      ],
      "execution_count": 44,
      "outputs": []
    },
    {
      "cell_type": "code",
      "metadata": {
        "colab": {
          "base_uri": "https://localhost:8080/"
        },
        "id": "LzXfQaV7r_4s",
        "outputId": "42fe7e7b-a95f-429d-a05e-c664427a7ef6"
      },
      "source": [
        "poke_num.shape"
      ],
      "execution_count": 49,
      "outputs": [
        {
          "output_type": "execute_result",
          "data": {
            "text/plain": [
              "(800, 9)"
            ]
          },
          "metadata": {},
          "execution_count": 49
        }
      ]
    },
    {
      "cell_type": "code",
      "metadata": {
        "id": "UeHTuV6dqvsP"
      },
      "source": [
        "#let us scale the features\n",
        "from sklearn.preprocessing import StandardScaler\n",
        "scale=StandardScaler()\n",
        "poke_scaled=scale.fit_transform(poke_num)"
      ],
      "execution_count": 45,
      "outputs": []
    },
    {
      "cell_type": "code",
      "metadata": {
        "id": "WTyx8s_MrX2-"
      },
      "source": [
        "#let us reduce the dimensions using pca\n",
        "from sklearn.decomposition import PCA\n",
        "pc_poke=PCA(n_components=3)\n",
        "poke_red=pc_poke.fit_transform(poke_scaled)"
      ],
      "execution_count": 50,
      "outputs": []
    },
    {
      "cell_type": "code",
      "metadata": {
        "colab": {
          "base_uri": "https://localhost:8080/"
        },
        "id": "HLuYaK4Fr1bq",
        "outputId": "99724789-2462-4300-a083-f0469b453816"
      },
      "source": [
        "poke_red.shape"
      ],
      "execution_count": 51,
      "outputs": [
        {
          "output_type": "execute_result",
          "data": {
            "text/plain": [
              "(800, 3)"
            ]
          },
          "metadata": {},
          "execution_count": 51
        }
      ]
    },
    {
      "cell_type": "code",
      "metadata": {
        "id": "y6pSIIrGpUbh"
      },
      "source": [
        "# Challenge 2\n",
        "# ---\n",
        "# Question: Apply Principal component analysis on the given dataset. \n",
        "# Then apply random forest regressor on old and the transformed datasets and compare them\n",
        "# ---\n",
        "# Dataset url = \n",
        "# Dataset info:\n",
        "# We want to be able to predict how crowded the gym will be in the future \n",
        "# by measuring how many people were in the gym once every 10 minutes over the last year.\n",
        "# Label:\n",
        "# Number of people\n",
        "# Features:\n",
        "# date (string; datetime of data)\n",
        "# timestamp (int; number of seconds since beginning of day)\n",
        "# day_of_week (int; 0 [monday] - 6 [sunday])\n",
        "# is_weekend (int; 0 or 1) [boolean, if 1, it's either saturday or sunday, otherwise 0]\n",
        "# is_holiday (int; 0 or 1) [boolean, if 1 it's a federal holiday, 0 otherwise]\n",
        "# temperature (float; degrees fahrenheit)\n",
        "# is_start_of_semester (int; 0 or 1) [boolean, if 1 it's the beginning of a school semester, 0 otherwise]\n",
        "# month (int; 1 [jan] - 12 [dec])\n",
        "# hour (int; 0 - 23)\n",
        "# ---\n",
        "# \n",
        "OUR CODE GOES HERE"
      ],
      "execution_count": null,
      "outputs": []
    },
    {
      "cell_type": "code",
      "metadata": {
        "id": "U7lobmho2QdK",
        "colab": {
          "base_uri": "https://localhost:8080/",
          "height": 223
        },
        "outputId": "7a2032b8-c464-439e-cd1b-b586a65f1c6f"
      },
      "source": [
        "# Challenge 3:\n",
        "# ---\n",
        "# Question: Perform PCA on the following dataset\n",
        "# ---\n",
        "# Dataset url = http://bit.ly/WineDataset2 \n",
        "# ---\n",
        "# \n",
        "df_wine=pd.read_csv('http://bit.ly/WineDataset2 ')\n",
        "df_wine.head()"
      ],
      "execution_count": 2,
      "outputs": [
        {
          "output_type": "execute_result",
          "data": {
            "text/html": [
              "<div>\n",
              "<style scoped>\n",
              "    .dataframe tbody tr th:only-of-type {\n",
              "        vertical-align: middle;\n",
              "    }\n",
              "\n",
              "    .dataframe tbody tr th {\n",
              "        vertical-align: top;\n",
              "    }\n",
              "\n",
              "    .dataframe thead th {\n",
              "        text-align: right;\n",
              "    }\n",
              "</style>\n",
              "<table border=\"1\" class=\"dataframe\">\n",
              "  <thead>\n",
              "    <tr style=\"text-align: right;\">\n",
              "      <th></th>\n",
              "      <th>Alcohol</th>\n",
              "      <th>Malic_Acid</th>\n",
              "      <th>Ash</th>\n",
              "      <th>Ash_Alcanity</th>\n",
              "      <th>Magnesium</th>\n",
              "      <th>Total_Phenols</th>\n",
              "      <th>Flavanoids</th>\n",
              "      <th>Nonflavanoid_Phenols</th>\n",
              "      <th>Proanthocyanins</th>\n",
              "      <th>Color_Intensity</th>\n",
              "      <th>Hue</th>\n",
              "      <th>OD280</th>\n",
              "      <th>Proline</th>\n",
              "      <th>Customer_Segment</th>\n",
              "    </tr>\n",
              "  </thead>\n",
              "  <tbody>\n",
              "    <tr>\n",
              "      <th>0</th>\n",
              "      <td>14.23</td>\n",
              "      <td>1.71</td>\n",
              "      <td>2.43</td>\n",
              "      <td>15.6</td>\n",
              "      <td>127</td>\n",
              "      <td>2.80</td>\n",
              "      <td>3.06</td>\n",
              "      <td>0.28</td>\n",
              "      <td>2.29</td>\n",
              "      <td>5.64</td>\n",
              "      <td>1.04</td>\n",
              "      <td>3.92</td>\n",
              "      <td>1065</td>\n",
              "      <td>1</td>\n",
              "    </tr>\n",
              "    <tr>\n",
              "      <th>1</th>\n",
              "      <td>13.20</td>\n",
              "      <td>1.78</td>\n",
              "      <td>2.14</td>\n",
              "      <td>11.2</td>\n",
              "      <td>100</td>\n",
              "      <td>2.65</td>\n",
              "      <td>2.76</td>\n",
              "      <td>0.26</td>\n",
              "      <td>1.28</td>\n",
              "      <td>4.38</td>\n",
              "      <td>1.05</td>\n",
              "      <td>3.40</td>\n",
              "      <td>1050</td>\n",
              "      <td>1</td>\n",
              "    </tr>\n",
              "    <tr>\n",
              "      <th>2</th>\n",
              "      <td>13.16</td>\n",
              "      <td>2.36</td>\n",
              "      <td>2.67</td>\n",
              "      <td>18.6</td>\n",
              "      <td>101</td>\n",
              "      <td>2.80</td>\n",
              "      <td>3.24</td>\n",
              "      <td>0.30</td>\n",
              "      <td>2.81</td>\n",
              "      <td>5.68</td>\n",
              "      <td>1.03</td>\n",
              "      <td>3.17</td>\n",
              "      <td>1185</td>\n",
              "      <td>1</td>\n",
              "    </tr>\n",
              "    <tr>\n",
              "      <th>3</th>\n",
              "      <td>14.37</td>\n",
              "      <td>1.95</td>\n",
              "      <td>2.50</td>\n",
              "      <td>16.8</td>\n",
              "      <td>113</td>\n",
              "      <td>3.85</td>\n",
              "      <td>3.49</td>\n",
              "      <td>0.24</td>\n",
              "      <td>2.18</td>\n",
              "      <td>7.80</td>\n",
              "      <td>0.86</td>\n",
              "      <td>3.45</td>\n",
              "      <td>1480</td>\n",
              "      <td>1</td>\n",
              "    </tr>\n",
              "    <tr>\n",
              "      <th>4</th>\n",
              "      <td>13.24</td>\n",
              "      <td>2.59</td>\n",
              "      <td>2.87</td>\n",
              "      <td>21.0</td>\n",
              "      <td>118</td>\n",
              "      <td>2.80</td>\n",
              "      <td>2.69</td>\n",
              "      <td>0.39</td>\n",
              "      <td>1.82</td>\n",
              "      <td>4.32</td>\n",
              "      <td>1.04</td>\n",
              "      <td>2.93</td>\n",
              "      <td>735</td>\n",
              "      <td>1</td>\n",
              "    </tr>\n",
              "  </tbody>\n",
              "</table>\n",
              "</div>"
            ],
            "text/plain": [
              "   Alcohol  Malic_Acid   Ash  ...  OD280  Proline  Customer_Segment\n",
              "0    14.23        1.71  2.43  ...   3.92     1065                 1\n",
              "1    13.20        1.78  2.14  ...   3.40     1050                 1\n",
              "2    13.16        2.36  2.67  ...   3.17     1185                 1\n",
              "3    14.37        1.95  2.50  ...   3.45     1480                 1\n",
              "4    13.24        2.59  2.87  ...   2.93      735                 1\n",
              "\n",
              "[5 rows x 14 columns]"
            ]
          },
          "metadata": {},
          "execution_count": 2
        }
      ]
    },
    {
      "cell_type": "code",
      "metadata": {
        "id": "Fmf1Ko-CHref"
      },
      "source": [
        "#let us scale our dataset\n",
        "from sklearn.preprocessing import StandardScaler\n",
        "scale=StandardScaler()\n",
        "df_scaled=scale.fit_transform(df_wine)"
      ],
      "execution_count": 3,
      "outputs": []
    },
    {
      "cell_type": "code",
      "metadata": {
        "id": "P854iosBIJNY"
      },
      "source": [
        "from sklearn.decomposition import PCA\n",
        "pc=PCA(n_components=3)\n",
        "df_red=pc.fit_transform(df_scaled)\n"
      ],
      "execution_count": 4,
      "outputs": []
    },
    {
      "cell_type": "code",
      "metadata": {
        "colab": {
          "base_uri": "https://localhost:8080/"
        },
        "id": "gJl1PXvRIpYU",
        "outputId": "4ec33d48-39b1-417c-ce56-326b2a3c6f35"
      },
      "source": [
        "df_red.shape"
      ],
      "execution_count": 5,
      "outputs": [
        {
          "output_type": "execute_result",
          "data": {
            "text/plain": [
              "(178, 3)"
            ]
          },
          "metadata": {},
          "execution_count": 5
        }
      ]
    },
    {
      "cell_type": "code",
      "metadata": {
        "id": "wQ13v0MXIrjF"
      },
      "source": [
        "explained_variance = pc.explained_variance_ratio_"
      ],
      "execution_count": 6,
      "outputs": []
    },
    {
      "cell_type": "code",
      "metadata": {
        "colab": {
          "base_uri": "https://localhost:8080/"
        },
        "id": "-BfY-7iXI9aA",
        "outputId": "a0289643-cb1c-47ad-8094-f965724fa46c"
      },
      "source": [
        "explained_variance"
      ],
      "execution_count": 7,
      "outputs": [
        {
          "output_type": "execute_result",
          "data": {
            "text/plain": [
              "array([0.39542486, 0.17836259, 0.10329102])"
            ]
          },
          "metadata": {},
          "execution_count": 7
        }
      ]
    }
  ]
}