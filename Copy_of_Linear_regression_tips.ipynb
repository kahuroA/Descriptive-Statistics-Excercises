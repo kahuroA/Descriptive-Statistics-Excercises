{
  "nbformat": 4,
  "nbformat_minor": 0,
  "metadata": {
    "colab": {
      "name": "Copy of Linear regression tips.ipynb",
      "provenance": [],
      "collapsed_sections": [],
      "include_colab_link": true
    },
    "kernelspec": {
      "name": "python3",
      "display_name": "Python 3"
    }
  },
  "cells": [
    {
      "cell_type": "markdown",
      "metadata": {
        "id": "view-in-github",
        "colab_type": "text"
      },
      "source": [
        "<a href=\"https://colab.research.google.com/github/kahuroA/Descriptive-Statistics-Excercises/blob/main/Copy_of_Linear_regression_tips.ipynb\" target=\"_parent\"><img src=\"https://colab.research.google.com/assets/colab-badge.svg\" alt=\"Open In Colab\"/></a>"
      ]
    },
    {
      "cell_type": "markdown",
      "metadata": {
        "id": "oxXI2w6xSCxt"
      },
      "source": [
        "# Example: Detecting multicollinearity\n",
        "\n",
        "We will once again use our university admission [dataset](https://drive.google.com/file/d/13HPgfc4HP9UP-gHM2lutJ7MXSt-dAL1d/view)\n",
        "\n",
        "First, let's understand how our independent variables are correlated to each other"
      ]
    },
    {
      "cell_type": "code",
      "metadata": {
        "id": "3myU4PcKSB9V",
        "colab": {
          "base_uri": "https://localhost:8080/",
          "height": 266
        },
        "outputId": "edd5ef18-3ac0-4e97-f42e-3c49571da78e"
      },
      "source": [
        "import numpy as np\n",
        "import pandas as pd\n",
        "\n",
        "# Load the dataset\n",
        "data = pd.read_csv('uni_admission.csv')\n",
        "\n",
        "# Remove the serial and admit chance columns, we want to focus on our independent variables only.\n",
        "independent_only = data.drop(columns=['Serial No.', 'admit_chance'])\n",
        "\n",
        "# Let's display the correlations between the variables\n",
        "correlations = independent_only.corr()\n",
        "\n",
        "correlations"
      ],
      "execution_count": 1,
      "outputs": [
        {
          "output_type": "execute_result",
          "data": {
            "text/html": [
              "<div>\n",
              "<style scoped>\n",
              "    .dataframe tbody tr th:only-of-type {\n",
              "        vertical-align: middle;\n",
              "    }\n",
              "\n",
              "    .dataframe tbody tr th {\n",
              "        vertical-align: top;\n",
              "    }\n",
              "\n",
              "    .dataframe thead th {\n",
              "        text-align: right;\n",
              "    }\n",
              "</style>\n",
              "<table border=\"1\" class=\"dataframe\">\n",
              "  <thead>\n",
              "    <tr style=\"text-align: right;\">\n",
              "      <th></th>\n",
              "      <th>GRE</th>\n",
              "      <th>TOEFL</th>\n",
              "      <th>uni_rating</th>\n",
              "      <th>SOP</th>\n",
              "      <th>LOR</th>\n",
              "      <th>CGPA</th>\n",
              "      <th>publications</th>\n",
              "    </tr>\n",
              "  </thead>\n",
              "  <tbody>\n",
              "    <tr>\n",
              "      <th>GRE</th>\n",
              "      <td>1.000000</td>\n",
              "      <td>0.827200</td>\n",
              "      <td>0.635376</td>\n",
              "      <td>0.613498</td>\n",
              "      <td>0.524679</td>\n",
              "      <td>0.825878</td>\n",
              "      <td>0.563398</td>\n",
              "    </tr>\n",
              "    <tr>\n",
              "      <th>TOEFL</th>\n",
              "      <td>0.827200</td>\n",
              "      <td>1.000000</td>\n",
              "      <td>0.649799</td>\n",
              "      <td>0.644410</td>\n",
              "      <td>0.541563</td>\n",
              "      <td>0.810574</td>\n",
              "      <td>0.467012</td>\n",
              "    </tr>\n",
              "    <tr>\n",
              "      <th>uni_rating</th>\n",
              "      <td>0.635376</td>\n",
              "      <td>0.649799</td>\n",
              "      <td>1.000000</td>\n",
              "      <td>0.728024</td>\n",
              "      <td>0.608651</td>\n",
              "      <td>0.705254</td>\n",
              "      <td>0.427047</td>\n",
              "    </tr>\n",
              "    <tr>\n",
              "      <th>SOP</th>\n",
              "      <td>0.613498</td>\n",
              "      <td>0.644410</td>\n",
              "      <td>0.728024</td>\n",
              "      <td>1.000000</td>\n",
              "      <td>0.663707</td>\n",
              "      <td>0.712154</td>\n",
              "      <td>0.408116</td>\n",
              "    </tr>\n",
              "    <tr>\n",
              "      <th>LOR</th>\n",
              "      <td>0.524679</td>\n",
              "      <td>0.541563</td>\n",
              "      <td>0.608651</td>\n",
              "      <td>0.663707</td>\n",
              "      <td>1.000000</td>\n",
              "      <td>0.637469</td>\n",
              "      <td>0.372526</td>\n",
              "    </tr>\n",
              "    <tr>\n",
              "      <th>CGPA</th>\n",
              "      <td>0.825878</td>\n",
              "      <td>0.810574</td>\n",
              "      <td>0.705254</td>\n",
              "      <td>0.712154</td>\n",
              "      <td>0.637469</td>\n",
              "      <td>1.000000</td>\n",
              "      <td>0.501311</td>\n",
              "    </tr>\n",
              "    <tr>\n",
              "      <th>publications</th>\n",
              "      <td>0.563398</td>\n",
              "      <td>0.467012</td>\n",
              "      <td>0.427047</td>\n",
              "      <td>0.408116</td>\n",
              "      <td>0.372526</td>\n",
              "      <td>0.501311</td>\n",
              "      <td>1.000000</td>\n",
              "    </tr>\n",
              "  </tbody>\n",
              "</table>\n",
              "</div>"
            ],
            "text/plain": [
              "                   GRE     TOEFL  uni_rating  ...       LOR      CGPA  publications\n",
              "GRE           1.000000  0.827200    0.635376  ...  0.524679  0.825878      0.563398\n",
              "TOEFL         0.827200  1.000000    0.649799  ...  0.541563  0.810574      0.467012\n",
              "uni_rating    0.635376  0.649799    1.000000  ...  0.608651  0.705254      0.427047\n",
              "SOP           0.613498  0.644410    0.728024  ...  0.663707  0.712154      0.408116\n",
              "LOR           0.524679  0.541563    0.608651  ...  1.000000  0.637469      0.372526\n",
              "CGPA          0.825878  0.810574    0.705254  ...  0.637469  1.000000      0.501311\n",
              "publications  0.563398  0.467012    0.427047  ...  0.372526  0.501311      1.000000\n",
              "\n",
              "[7 rows x 7 columns]"
            ]
          },
          "metadata": {},
          "execution_count": 1
        }
      ]
    },
    {
      "cell_type": "code",
      "metadata": {
        "colab": {
          "base_uri": "https://localhost:8080/"
        },
        "id": "axQ4KbAfCX9W",
        "outputId": "28f820bd-b8b9-4e5e-b27d-8bfc38c682e0"
      },
      "source": [
        "correlations.values"
      ],
      "execution_count": 2,
      "outputs": [
        {
          "output_type": "execute_result",
          "data": {
            "text/plain": [
              "array([[1.        , 0.8272004 , 0.63537621, 0.61349767, 0.52467939,\n",
              "        0.82587795, 0.56339812],\n",
              "       [0.8272004 , 1.        , 0.6497992 , 0.64441039, 0.5415633 ,\n",
              "        0.81057354, 0.46701206],\n",
              "       [0.63537621, 0.6497992 , 1.        , 0.72802357, 0.60865071,\n",
              "        0.70525435, 0.42704745],\n",
              "       [0.61349767, 0.64441039, 0.72802357, 1.        , 0.66370685,\n",
              "        0.71215432, 0.40811585],\n",
              "       [0.52467939, 0.5415633 , 0.60865071, 0.66370685, 1.        ,\n",
              "        0.63746921, 0.3725256 ],\n",
              "       [0.82587795, 0.81057354, 0.70525435, 0.71215432, 0.63746921,\n",
              "        1.        , 0.501311  ],\n",
              "       [0.56339812, 0.46701206, 0.42704745, 0.40811585, 0.3725256 ,\n",
              "        0.501311  , 1.        ]])"
            ]
          },
          "metadata": {},
          "execution_count": 2
        }
      ]
    },
    {
      "cell_type": "markdown",
      "metadata": {
        "id": "l3mXiNPXcMeF"
      },
      "source": [
        "The tabe above shows us how each variable relates to another. The coefficient of 1 across the diagonal makes sense, as a variable is perfectly correlated to itself. Let's use these correlations to compute the VIF score for each variable. This will require a little bit of linear algebra, but the approach is straightforward: we create a new dataframe with the *inverse* of the matrix above."
      ]
    },
    {
      "cell_type": "code",
      "metadata": {
        "id": "Q_L2Glx4UJjW",
        "colab": {
          "base_uri": "https://localhost:8080/",
          "height": 254
        },
        "outputId": "d10406df-158c-485c-bec7-3e20b4f9724f"
      },
      "source": [
        "pd.DataFrame(np.linalg.inv(correlations.values), index = correlations.index, columns=correlations.columns)\n"
      ],
      "execution_count": null,
      "outputs": [
        {
          "output_type": "execute_result",
          "data": {
            "text/html": [
              "<div>\n",
              "<style scoped>\n",
              "    .dataframe tbody tr th:only-of-type {\n",
              "        vertical-align: middle;\n",
              "    }\n",
              "\n",
              "    .dataframe tbody tr th {\n",
              "        vertical-align: top;\n",
              "    }\n",
              "\n",
              "    .dataframe thead th {\n",
              "        text-align: right;\n",
              "    }\n",
              "</style>\n",
              "<table border=\"1\" class=\"dataframe\">\n",
              "  <thead>\n",
              "    <tr style=\"text-align: right;\">\n",
              "      <th></th>\n",
              "      <th>GRE</th>\n",
              "      <th>TOEFL</th>\n",
              "      <th>uni_rating</th>\n",
              "      <th>SOP</th>\n",
              "      <th>LOR</th>\n",
              "      <th>CGPA</th>\n",
              "      <th>publications</th>\n",
              "    </tr>\n",
              "  </thead>\n",
              "  <tbody>\n",
              "    <tr>\n",
              "      <th>GRE</th>\n",
              "      <td>4.464249</td>\n",
              "      <td>-1.919309</td>\n",
              "      <td>-0.167441</td>\n",
              "      <td>0.115539</td>\n",
              "      <td>0.163716</td>\n",
              "      <td>-1.829666</td>\n",
              "      <td>-0.738214</td>\n",
              "    </tr>\n",
              "    <tr>\n",
              "      <th>TOEFL</th>\n",
              "      <td>-1.919309</td>\n",
              "      <td>3.904213</td>\n",
              "      <td>-0.280590</td>\n",
              "      <td>-0.320530</td>\n",
              "      <td>0.008925</td>\n",
              "      <td>-1.216918</td>\n",
              "      <td>0.115389</td>\n",
              "    </tr>\n",
              "    <tr>\n",
              "      <th>uni_rating</th>\n",
              "      <td>-0.167441</td>\n",
              "      <td>-0.280590</td>\n",
              "      <td>2.621036</td>\n",
              "      <td>-1.003439</td>\n",
              "      <td>-0.326820</td>\n",
              "      <td>-0.504916</td>\n",
              "      <td>-0.109544</td>\n",
              "    </tr>\n",
              "    <tr>\n",
              "      <th>SOP</th>\n",
              "      <td>0.115539</td>\n",
              "      <td>-0.320530</td>\n",
              "      <td>-1.003439</td>\n",
              "      <td>2.835210</td>\n",
              "      <td>-0.715324</td>\n",
              "      <td>-0.670228</td>\n",
              "      <td>-0.041512</td>\n",
              "    </tr>\n",
              "    <tr>\n",
              "      <th>LOR</th>\n",
              "      <td>0.163716</td>\n",
              "      <td>0.008925</td>\n",
              "      <td>-0.326820</td>\n",
              "      <td>-0.715324</td>\n",
              "      <td>2.033555</td>\n",
              "      <td>-0.650578</td>\n",
              "      <td>-0.096312</td>\n",
              "    </tr>\n",
              "    <tr>\n",
              "      <th>CGPA</th>\n",
              "      <td>-1.829666</td>\n",
              "      <td>-1.216918</td>\n",
              "      <td>-0.504916</td>\n",
              "      <td>-0.670228</td>\n",
              "      <td>-0.650578</td>\n",
              "      <td>4.777992</td>\n",
              "      <td>-0.064604</td>\n",
              "    </tr>\n",
              "    <tr>\n",
              "      <th>publications</th>\n",
              "      <td>-0.738214</td>\n",
              "      <td>0.115389</td>\n",
              "      <td>-0.109544</td>\n",
              "      <td>-0.041512</td>\n",
              "      <td>-0.096312</td>\n",
              "      <td>-0.064604</td>\n",
              "      <td>1.494008</td>\n",
              "    </tr>\n",
              "  </tbody>\n",
              "</table>\n",
              "</div>"
            ],
            "text/plain": [
              "                   GRE     TOEFL  uni_rating  ...       LOR      CGPA  publications\n",
              "GRE           4.464249 -1.919309   -0.167441  ...  0.163716 -1.829666     -0.738214\n",
              "TOEFL        -1.919309  3.904213   -0.280590  ...  0.008925 -1.216918      0.115389\n",
              "uni_rating   -0.167441 -0.280590    2.621036  ... -0.326820 -0.504916     -0.109544\n",
              "SOP           0.115539 -0.320530   -1.003439  ... -0.715324 -0.670228     -0.041512\n",
              "LOR           0.163716  0.008925   -0.326820  ...  2.033555 -0.650578     -0.096312\n",
              "CGPA         -1.829666 -1.216918   -0.504916  ... -0.650578  4.777992     -0.064604\n",
              "publications -0.738214  0.115389   -0.109544  ... -0.096312 -0.064604      1.494008\n",
              "\n",
              "[7 rows x 7 columns]"
            ]
          },
          "metadata": {
            "tags": []
          },
          "execution_count": 5
        }
      ]
    },
    {
      "cell_type": "markdown",
      "metadata": {
        "id": "jTBZHScKc5yh"
      },
      "source": [
        "Interpreting the table is straightforward: The VIF score for each variable is found alongside the downwards sloping diagonal. GRE has a score of 4.46, TOEFL has a score of 3.9, uni_rating a score of 2.62, etc.\n",
        "\n",
        "CGPA has a value nearing 5, let's see how the VIF scores improve if we remove it from our dataset"
      ]
    },
    {
      "cell_type": "code",
      "metadata": {
        "id": "8ODEkFCQaG94",
        "colab": {
          "base_uri": "https://localhost:8080/",
          "height": 235
        },
        "outputId": "dcdc072c-d476-4f7e-d855-04fb9da31edf"
      },
      "source": [
        "revised = independent_only.drop(columns=['CGPA'])\n",
        "\n",
        "correlations = revised.corr()\n",
        "pd.DataFrame(np.linalg.inv(correlations.values), index = correlations.index, columns=correlations.columns)\n",
        "\n"
      ],
      "execution_count": 3,
      "outputs": [
        {
          "output_type": "execute_result",
          "data": {
            "text/html": [
              "<div>\n",
              "<style scoped>\n",
              "    .dataframe tbody tr th:only-of-type {\n",
              "        vertical-align: middle;\n",
              "    }\n",
              "\n",
              "    .dataframe tbody tr th {\n",
              "        vertical-align: top;\n",
              "    }\n",
              "\n",
              "    .dataframe thead th {\n",
              "        text-align: right;\n",
              "    }\n",
              "</style>\n",
              "<table border=\"1\" class=\"dataframe\">\n",
              "  <thead>\n",
              "    <tr style=\"text-align: right;\">\n",
              "      <th></th>\n",
              "      <th>GRE</th>\n",
              "      <th>TOEFL</th>\n",
              "      <th>uni_rating</th>\n",
              "      <th>SOP</th>\n",
              "      <th>LOR</th>\n",
              "      <th>publications</th>\n",
              "    </tr>\n",
              "  </thead>\n",
              "  <tbody>\n",
              "    <tr>\n",
              "      <th>GRE</th>\n",
              "      <td>3.763604</td>\n",
              "      <td>-2.385311</td>\n",
              "      <td>-0.360792</td>\n",
              "      <td>-0.141115</td>\n",
              "      <td>-0.085414</td>\n",
              "      <td>-0.762953</td>\n",
              "    </tr>\n",
              "    <tr>\n",
              "      <th>TOEFL</th>\n",
              "      <td>-2.385311</td>\n",
              "      <td>3.594274</td>\n",
              "      <td>-0.409188</td>\n",
              "      <td>-0.491232</td>\n",
              "      <td>-0.156772</td>\n",
              "      <td>0.098934</td>\n",
              "    </tr>\n",
              "    <tr>\n",
              "      <th>uni_rating</th>\n",
              "      <td>-0.360792</td>\n",
              "      <td>-0.409188</td>\n",
              "      <td>2.567679</td>\n",
              "      <td>-1.074266</td>\n",
              "      <td>-0.395570</td>\n",
              "      <td>-0.116371</td>\n",
              "    </tr>\n",
              "    <tr>\n",
              "      <th>SOP</th>\n",
              "      <td>-0.141115</td>\n",
              "      <td>-0.491232</td>\n",
              "      <td>-1.074266</td>\n",
              "      <td>2.741195</td>\n",
              "      <td>-0.806583</td>\n",
              "      <td>-0.050574</td>\n",
              "    </tr>\n",
              "    <tr>\n",
              "      <th>LOR</th>\n",
              "      <td>-0.085414</td>\n",
              "      <td>-0.156772</td>\n",
              "      <td>-0.395570</td>\n",
              "      <td>-0.806583</td>\n",
              "      <td>1.944971</td>\n",
              "      <td>-0.105109</td>\n",
              "    </tr>\n",
              "    <tr>\n",
              "      <th>publications</th>\n",
              "      <td>-0.762953</td>\n",
              "      <td>0.098934</td>\n",
              "      <td>-0.116371</td>\n",
              "      <td>-0.050574</td>\n",
              "      <td>-0.105109</td>\n",
              "      <td>1.493134</td>\n",
              "    </tr>\n",
              "  </tbody>\n",
              "</table>\n",
              "</div>"
            ],
            "text/plain": [
              "                   GRE     TOEFL  uni_rating       SOP       LOR  publications\n",
              "GRE           3.763604 -2.385311   -0.360792 -0.141115 -0.085414     -0.762953\n",
              "TOEFL        -2.385311  3.594274   -0.409188 -0.491232 -0.156772      0.098934\n",
              "uni_rating   -0.360792 -0.409188    2.567679 -1.074266 -0.395570     -0.116371\n",
              "SOP          -0.141115 -0.491232   -1.074266  2.741195 -0.806583     -0.050574\n",
              "LOR          -0.085414 -0.156772   -0.395570 -0.806583  1.944971     -0.105109\n",
              "publications -0.762953  0.098934   -0.116371 -0.050574 -0.105109      1.493134"
            ]
          },
          "metadata": {},
          "execution_count": 3
        }
      ]
    },
    {
      "cell_type": "markdown",
      "metadata": {
        "id": "Z95zlmBidiF5"
      },
      "source": [
        "All scores dropped, but the GRE's in particular did quite a bit, indicating that GRE and CGPA were colinear. "
      ]
    },
    {
      "cell_type": "markdown",
      "metadata": {
        "id": "7DRwrZjZduD7"
      },
      "source": [
        "# Example 2: Residual plots and heteroskedasticity testing\n",
        "\n",
        "Let's start by creating a model based on our revised set of independent variables above, then displaying the residual plot for it."
      ]
    },
    {
      "cell_type": "code",
      "metadata": {
        "id": "IHQOLs1Nh2bx",
        "colab": {
          "base_uri": "https://localhost:8080/"
        },
        "outputId": "c4b8a086-2910-4da6-ca6b-d9e8fe63d167"
      },
      "source": [
        "from sklearn import metrics\n",
        "from sklearn.model_selection import train_test_split\n",
        "from sklearn.linear_model import LinearRegression\n",
        "\n",
        "X = revised.values\n",
        "y = data['admit_chance'].values\n",
        "\n",
        "X_train, X_test, admit_train, admit_test = train_test_split(X, y, test_size=0.2, random_state=0)\n",
        "\n",
        "regressor = LinearRegression()\n",
        "regressor.fit(X_train, admit_train)\n",
        "\n",
        "# This is our prediction for admission based on our model\n",
        "admit_predict = regressor.predict(X_test)\n",
        "\n",
        "# We now create the residual by substracting the test value from the predicted \n",
        "# value for each row in our dataset\n",
        "\n",
        "residuals = np.subtract(admit_predict, admit_test)\n",
        "\n",
        "# Let's describe our residual:\n",
        "pd.DataFrame(residuals).describe()\n",
        "\n",
        "residuals.mean()"
      ],
      "execution_count": 4,
      "outputs": [
        {
          "output_type": "execute_result",
          "data": {
            "text/plain": [
              "-0.0017516644688065042"
            ]
          },
          "metadata": {},
          "execution_count": 4
        }
      ]
    },
    {
      "cell_type": "markdown",
      "metadata": {
        "id": "wevY_SU-j7gH"
      },
      "source": [
        "Before we interpret the description above, let's recall what we are trying to predict: The percentage chance of admission to university. This means values between 0 and 1. \n",
        "\n",
        "Our min and max for the residual are fairly high: they suggest we've been up to 26% off target. It's important for us to plot this first: Is this a common occurence, or a few outliers?\n",
        "\n",
        "Our mean on the other hand is close to 0, indicating that we tend to be fairly correct, although slightly over estimating chances by, on average, 0.17%\n",
        "\n",
        "Let's show the residual plot"
      ]
    },
    {
      "cell_type": "code",
      "metadata": {
        "id": "sn8crVSAlPIw",
        "colab": {
          "base_uri": "https://localhost:8080/",
          "height": 283
        },
        "outputId": "d81c4196-3cf4-476d-c403-7cdeabdf975d"
      },
      "source": [
        "import matplotlib.pyplot as plt\n",
        "\n",
        "plt.scatter(admit_predict, residuals, color='black')\n",
        "plt.ylabel('residual')\n",
        "plt.xlabel('fitted values')\n",
        "plt.axhline(y= residuals.mean(), color='red', linewidth=1)\n",
        "plt.show()"
      ],
      "execution_count": null,
      "outputs": [
        {
          "output_type": "display_data",
          "data": {
            "image/png": "[encoded data removed]",
            "text/plain": [
              "<Figure size 432x288 with 1 Axes>"
            ]
          },
          "metadata": {
            "tags": []
          }
        }
      ]
    },
    {
      "cell_type": "markdown",
      "metadata": {
        "id": "oIT6DpvlmqaD"
      },
      "source": [
        "This does not look too bad: our residuals are centered around a mean that is very close to 0, and there are no glaringly obvious patterns. Let's be thorough though, and perform a heteroskedasticity test.\n",
        "\n",
        "For this we will use [bartlett's test](https://www.itl.nist.gov/div898/handbook/eda/section3/eda357.htm). The test establishes as a null hypothesis that the variance is equal for all our datapoints,and the new hypothesis that the variance is different for at least one pair of datapoints.\n"
      ]
    },
    {
      "cell_type": "code",
      "metadata": {
        "id": "LlvHQ6Ivm5j5",
        "colab": {
          "base_uri": "https://localhost:8080/"
        },
        "outputId": "7830e53a-a984-489e-ecd9-f277e72dd976"
      },
      "source": [
        "import scipy as sp\n",
        "\n",
        "test_result, p_value = sp.stats.bartlett(admit_predict, residuals)\n",
        "\n",
        "# To interpret the results we must also compute a critical value of the chi squared distribution\n",
        "degree_of_freedom = len(admit_predict)-1\n",
        "probability = 1 - p_value\n",
        "\n",
        "critical_value = sp.stats.chi2.ppf(probability, degree_of_freedom)\n",
        "print(critical_value)\n",
        "\n",
        "# If the test_result is greater than the critical value, then we reject our null\n",
        "# hypothesis. This would mean that there are patterns to the variance of the data\n",
        "\n",
        "# Otherwise, we can identify no patterns, and we accept the null hypothesis that \n",
        "# the variance is homogeneous across our data\n",
        "\n",
        "if (test_result > critical_value):\n",
        "  print('the variances are unequal, and the model should be reassessed')\n",
        "else:\n",
        "  print('the variances are homogeneous!')\n",
        "\n"
      ],
      "execution_count": 6,
      "outputs": [
        {
          "output_type": "stream",
          "name": "stdout",
          "text": [
            "185.4720823514965\n",
            "the variances are homogeneous!\n"
          ]
        }
      ]
    },
    {
      "cell_type": "markdown",
      "metadata": {
        "id": "W27Z9P7Jx1yK"
      },
      "source": [
        "# Challenge\n",
        "\n",
        "We will bring this all together by adapting a challenge from data.world. In the code section below you have access to a large dataset with demographic and medical data for cancer occurances in regions in the US. Your aim is to build a model that predicts the **target_deathrate** variable. You can find descriptions of all the columns [here](https://data.world/exercises/linear-regression-exercise-1)\n",
        "\n",
        "This is a holistic challenge:\n",
        "\n",
        "\n",
        "*   Make sure to clean up your data first, there are some missing elements.\n",
        "*   Some data should be changed: Add a **state** column which indicates the state a person lives in(you can modify the geography column). Perform a multicollinearity test: Should **state** be included in your model or not?\n",
        "* If it should be, make sure to transform it since we want to be dealing with numerical data.\n",
        "* Build a model, then display the residual plot for it. Perform a Bartlett test to determine if your model is acceptable or not.\n",
        "\n",
        "\n",
        "\n"
      ]
    },
    {
      "cell_type": "code",
      "metadata": {
        "id": "X7yaWsK3JCAC"
      },
      "source": [
        "#making a list of missing values types besides the standard missing value recognized by panadas\n",
        "missing_values = [\"n/a\", \"na\", \"--\", \" \"]"
      ],
      "execution_count": 16,
      "outputs": []
    },
    {
      "cell_type": "code",
      "metadata": {
        "id": "jPivvZE_zCzY"
      },
      "source": [
        "# Your code goes here!\n",
        "df = pd.read_csv('https://query.data.world/s/4n3rdrpeu6qrfo63yacah7v3ofoaag',na_values = missing_values)"
      ],
      "execution_count": 17,
      "outputs": []
    },
    {
      "cell_type": "code",
      "metadata": {
        "colab": {
          "base_uri": "https://localhost:8080/",
          "height": 394
        },
        "id": "Zdj_jB4iFvy3",
        "outputId": "928cd5e1-d95f-45ea-e5c7-49c6c63392b8"
      },
      "source": [
        "df.head()"
      ],
      "execution_count": 18,
      "outputs": [
        {
          "output_type": "execute_result",
          "data": {
            "text/html": [
              "<div>\n",
              "<style scoped>\n",
              "    .dataframe tbody tr th:only-of-type {\n",
              "        vertical-align: middle;\n",
              "    }\n",
              "\n",
              "    .dataframe tbody tr th {\n",
              "        vertical-align: top;\n",
              "    }\n",
              "\n",
              "    .dataframe thead th {\n",
              "        text-align: right;\n",
              "    }\n",
              "</style>\n",
              "<table border=\"1\" class=\"dataframe\">\n",
              "  <thead>\n",
              "    <tr style=\"text-align: right;\">\n",
              "      <th></th>\n",
              "      <th>avganncount</th>\n",
              "      <th>avgdeathsperyear</th>\n",
              "      <th>target_deathrate</th>\n",
              "      <th>incidencerate</th>\n",
              "      <th>medincome</th>\n",
              "      <th>popest2015</th>\n",
              "      <th>povertypercent</th>\n",
              "      <th>studypercap</th>\n",
              "      <th>binnedinc</th>\n",
              "      <th>medianage</th>\n",
              "      <th>medianagemale</th>\n",
              "      <th>medianagefemale</th>\n",
              "      <th>geography</th>\n",
              "      <th>percentmarried</th>\n",
              "      <th>pctnohs18_24</th>\n",
              "      <th>pcths18_24</th>\n",
              "      <th>pctsomecol18_24</th>\n",
              "      <th>pctbachdeg18_24</th>\n",
              "      <th>pcths25_over</th>\n",
              "      <th>pctbachdeg25_over</th>\n",
              "      <th>pctemployed16_over</th>\n",
              "      <th>pctunemployed16_over</th>\n",
              "      <th>pctprivatecoverage</th>\n",
              "      <th>pctprivatecoveragealone</th>\n",
              "      <th>pctempprivcoverage</th>\n",
              "      <th>pctpubliccoverage</th>\n",
              "      <th>pctpubliccoveragealone</th>\n",
              "      <th>pctwhite</th>\n",
              "      <th>pctblack</th>\n",
              "      <th>pctasian</th>\n",
              "      <th>pctotherrace</th>\n",
              "      <th>pctmarriedhouseholds</th>\n",
              "      <th>birthrate</th>\n",
              "    </tr>\n",
              "  </thead>\n",
              "  <tbody>\n",
              "    <tr>\n",
              "      <th>0</th>\n",
              "      <td>1397.0</td>\n",
              "      <td>469</td>\n",
              "      <td>164.9</td>\n",
              "      <td>489.8</td>\n",
              "      <td>61898</td>\n",
              "      <td>260131</td>\n",
              "      <td>11.2</td>\n",
              "      <td>499.748204</td>\n",
              "      <td>(61494.5, 125635]</td>\n",
              "      <td>39.3</td>\n",
              "      <td>36.9</td>\n",
              "      <td>41.7</td>\n",
              "      <td>Kitsap County, Washington</td>\n",
              "      <td>52.5</td>\n",
              "      <td>11.5</td>\n",
              "      <td>39.5</td>\n",
              "      <td>42.1</td>\n",
              "      <td>6.9</td>\n",
              "      <td>23.2</td>\n",
              "      <td>19.6</td>\n",
              "      <td>51.9</td>\n",
              "      <td>8.0</td>\n",
              "      <td>75.1</td>\n",
              "      <td>NaN</td>\n",
              "      <td>41.6</td>\n",
              "      <td>32.9</td>\n",
              "      <td>14.0</td>\n",
              "      <td>81.780529</td>\n",
              "      <td>2.594728</td>\n",
              "      <td>4.821857</td>\n",
              "      <td>1.843479</td>\n",
              "      <td>52.856076</td>\n",
              "      <td>6.118831</td>\n",
              "    </tr>\n",
              "    <tr>\n",
              "      <th>1</th>\n",
              "      <td>173.0</td>\n",
              "      <td>70</td>\n",
              "      <td>161.3</td>\n",
              "      <td>411.6</td>\n",
              "      <td>48127</td>\n",
              "      <td>43269</td>\n",
              "      <td>18.6</td>\n",
              "      <td>23.111234</td>\n",
              "      <td>(48021.6, 51046.4]</td>\n",
              "      <td>33.0</td>\n",
              "      <td>32.2</td>\n",
              "      <td>33.7</td>\n",
              "      <td>Kittitas County, Washington</td>\n",
              "      <td>44.5</td>\n",
              "      <td>6.1</td>\n",
              "      <td>22.4</td>\n",
              "      <td>64.0</td>\n",
              "      <td>7.5</td>\n",
              "      <td>26.0</td>\n",
              "      <td>22.7</td>\n",
              "      <td>55.9</td>\n",
              "      <td>7.8</td>\n",
              "      <td>70.2</td>\n",
              "      <td>53.8</td>\n",
              "      <td>43.6</td>\n",
              "      <td>31.1</td>\n",
              "      <td>15.3</td>\n",
              "      <td>89.228509</td>\n",
              "      <td>0.969102</td>\n",
              "      <td>2.246233</td>\n",
              "      <td>3.741352</td>\n",
              "      <td>45.372500</td>\n",
              "      <td>4.333096</td>\n",
              "    </tr>\n",
              "    <tr>\n",
              "      <th>2</th>\n",
              "      <td>102.0</td>\n",
              "      <td>50</td>\n",
              "      <td>174.7</td>\n",
              "      <td>349.7</td>\n",
              "      <td>49348</td>\n",
              "      <td>21026</td>\n",
              "      <td>14.6</td>\n",
              "      <td>47.560164</td>\n",
              "      <td>(48021.6, 51046.4]</td>\n",
              "      <td>45.0</td>\n",
              "      <td>44.0</td>\n",
              "      <td>45.8</td>\n",
              "      <td>Klickitat County, Washington</td>\n",
              "      <td>54.2</td>\n",
              "      <td>24.0</td>\n",
              "      <td>36.6</td>\n",
              "      <td>NaN</td>\n",
              "      <td>9.5</td>\n",
              "      <td>29.0</td>\n",
              "      <td>16.0</td>\n",
              "      <td>45.9</td>\n",
              "      <td>7.0</td>\n",
              "      <td>63.7</td>\n",
              "      <td>43.5</td>\n",
              "      <td>34.9</td>\n",
              "      <td>42.1</td>\n",
              "      <td>21.1</td>\n",
              "      <td>90.922190</td>\n",
              "      <td>0.739673</td>\n",
              "      <td>0.465898</td>\n",
              "      <td>2.747358</td>\n",
              "      <td>54.444868</td>\n",
              "      <td>3.729488</td>\n",
              "    </tr>\n",
              "    <tr>\n",
              "      <th>3</th>\n",
              "      <td>427.0</td>\n",
              "      <td>202</td>\n",
              "      <td>194.8</td>\n",
              "      <td>430.4</td>\n",
              "      <td>44243</td>\n",
              "      <td>75882</td>\n",
              "      <td>17.1</td>\n",
              "      <td>342.637253</td>\n",
              "      <td>(42724.4, 45201]</td>\n",
              "      <td>42.8</td>\n",
              "      <td>42.2</td>\n",
              "      <td>43.4</td>\n",
              "      <td>Lewis County, Washington</td>\n",
              "      <td>52.7</td>\n",
              "      <td>20.2</td>\n",
              "      <td>41.2</td>\n",
              "      <td>36.1</td>\n",
              "      <td>2.5</td>\n",
              "      <td>31.6</td>\n",
              "      <td>9.3</td>\n",
              "      <td>48.3</td>\n",
              "      <td>12.1</td>\n",
              "      <td>58.4</td>\n",
              "      <td>40.3</td>\n",
              "      <td>35.0</td>\n",
              "      <td>45.3</td>\n",
              "      <td>25.0</td>\n",
              "      <td>91.744686</td>\n",
              "      <td>0.782626</td>\n",
              "      <td>1.161359</td>\n",
              "      <td>1.362643</td>\n",
              "      <td>51.021514</td>\n",
              "      <td>4.603841</td>\n",
              "    </tr>\n",
              "    <tr>\n",
              "      <th>4</th>\n",
              "      <td>57.0</td>\n",
              "      <td>26</td>\n",
              "      <td>144.4</td>\n",
              "      <td>350.1</td>\n",
              "      <td>49955</td>\n",
              "      <td>10321</td>\n",
              "      <td>12.5</td>\n",
              "      <td>0.000000</td>\n",
              "      <td>(48021.6, 51046.4]</td>\n",
              "      <td>48.3</td>\n",
              "      <td>47.8</td>\n",
              "      <td>48.9</td>\n",
              "      <td>Lincoln County, Washington</td>\n",
              "      <td>57.8</td>\n",
              "      <td>14.9</td>\n",
              "      <td>43.0</td>\n",
              "      <td>40.0</td>\n",
              "      <td>2.0</td>\n",
              "      <td>33.4</td>\n",
              "      <td>15.0</td>\n",
              "      <td>48.2</td>\n",
              "      <td>4.8</td>\n",
              "      <td>61.6</td>\n",
              "      <td>43.9</td>\n",
              "      <td>35.1</td>\n",
              "      <td>44.0</td>\n",
              "      <td>22.7</td>\n",
              "      <td>94.104024</td>\n",
              "      <td>0.270192</td>\n",
              "      <td>0.665830</td>\n",
              "      <td>0.492135</td>\n",
              "      <td>54.027460</td>\n",
              "      <td>6.796657</td>\n",
              "    </tr>\n",
              "  </tbody>\n",
              "</table>\n",
              "</div>"
            ],
            "text/plain": [
              "   avganncount  avgdeathsperyear  ...  pctmarriedhouseholds  birthrate\n",
              "0       1397.0               469  ...             52.856076   6.118831\n",
              "1        173.0                70  ...             45.372500   4.333096\n",
              "2        102.0                50  ...             54.444868   3.729488\n",
              "3        427.0               202  ...             51.021514   4.603841\n",
              "4         57.0                26  ...             54.027460   6.796657\n",
              "\n",
              "[5 rows x 33 columns]"
            ]
          },
          "metadata": {},
          "execution_count": 18
        }
      ]
    },
    {
      "cell_type": "code",
      "metadata": {
        "colab": {
          "base_uri": "https://localhost:8080/"
        },
        "id": "eK2hEsFkGLcW",
        "outputId": "bcdce74c-016c-4d0e-d9a6-62a7cfafc20a"
      },
      "source": [
        "df.shape"
      ],
      "execution_count": 19,
      "outputs": [
        {
          "output_type": "execute_result",
          "data": {
            "text/plain": [
              "(3047, 33)"
            ]
          },
          "metadata": {},
          "execution_count": 19
        }
      ]
    },
    {
      "cell_type": "code",
      "metadata": {
        "colab": {
          "base_uri": "https://localhost:8080/"
        },
        "id": "wPZInNrEFxFx",
        "outputId": "1478772f-33c6-4932-f662-0df82c4441f8"
      },
      "source": [
        "df.info()"
      ],
      "execution_count": 20,
      "outputs": [
        {
          "output_type": "stream",
          "name": "stdout",
          "text": [
            "<class 'pandas.core.frame.DataFrame'>\n",
            "RangeIndex: 3047 entries, 0 to 3046\n",
            "Data columns (total 33 columns):\n",
            " #   Column                   Non-Null Count  Dtype  \n",
            "---  ------                   --------------  -----  \n",
            " 0   avganncount              3047 non-null   float64\n",
            " 1   avgdeathsperyear         3047 non-null   int64  \n",
            " 2   target_deathrate         3047 non-null   float64\n",
            " 3   incidencerate            3047 non-null   float64\n",
            " 4   medincome                3047 non-null   int64  \n",
            " 5   popest2015               3047 non-null   int64  \n",
            " 6   povertypercent           3047 non-null   float64\n",
            " 7   studypercap              3047 non-null   float64\n",
            " 8   binnedinc                3047 non-null   object \n",
            " 9   medianage                3047 non-null   float64\n",
            " 10  medianagemale            3047 non-null   float64\n",
            " 11  medianagefemale          3047 non-null   float64\n",
            " 12  geography                3047 non-null   object \n",
            " 13  percentmarried           3047 non-null   float64\n",
            " 14  pctnohs18_24             3047 non-null   float64\n",
            " 15  pcths18_24               3047 non-null   float64\n",
            " 16  pctsomecol18_24          762 non-null    float64\n",
            " 17  pctbachdeg18_24          3047 non-null   float64\n",
            " 18  pcths25_over             3047 non-null   float64\n",
            " 19  pctbachdeg25_over        3047 non-null   float64\n",
            " 20  pctemployed16_over       2895 non-null   float64\n",
            " 21  pctunemployed16_over     3047 non-null   float64\n",
            " 22  pctprivatecoverage       3047 non-null   float64\n",
            " 23  pctprivatecoveragealone  2438 non-null   float64\n",
            " 24  pctempprivcoverage       3047 non-null   float64\n",
            " 25  pctpubliccoverage        3047 non-null   float64\n",
            " 26  pctpubliccoveragealone   3047 non-null   float64\n",
            " 27  pctwhite                 3047 non-null   float64\n",
            " 28  pctblack                 3047 non-null   float64\n",
            " 29  pctasian                 3047 non-null   float64\n",
            " 30  pctotherrace             3047 non-null   float64\n",
            " 31  pctmarriedhouseholds     3047 non-null   float64\n",
            " 32  birthrate                3047 non-null   float64\n",
            "dtypes: float64(28), int64(3), object(2)\n",
            "memory usage: 785.7+ KB\n"
          ]
        }
      ]
    },
    {
      "cell_type": "code",
      "metadata": {
        "colab": {
          "base_uri": "https://localhost:8080/"
        },
        "id": "RRnm-QzDF8RL",
        "outputId": "1a0088df-c570-47f6-84aa-af4aa685a0eb"
      },
      "source": [
        "#check missing values\n",
        "df.isnull().sum()"
      ],
      "execution_count": 21,
      "outputs": [
        {
          "output_type": "execute_result",
          "data": {
            "text/plain": [
              "avganncount                   0\n",
              "avgdeathsperyear              0\n",
              "target_deathrate              0\n",
              "incidencerate                 0\n",
              "medincome                     0\n",
              "popest2015                    0\n",
              "povertypercent                0\n",
              "studypercap                   0\n",
              "binnedinc                     0\n",
              "medianage                     0\n",
              "medianagemale                 0\n",
              "medianagefemale               0\n",
              "geography                     0\n",
              "percentmarried                0\n",
              "pctnohs18_24                  0\n",
              "pcths18_24                    0\n",
              "pctsomecol18_24            2285\n",
              "pctbachdeg18_24               0\n",
              "pcths25_over                  0\n",
              "pctbachdeg25_over             0\n",
              "pctemployed16_over          152\n",
              "pctunemployed16_over          0\n",
              "pctprivatecoverage            0\n",
              "pctprivatecoveragealone     609\n",
              "pctempprivcoverage            0\n",
              "pctpubliccoverage             0\n",
              "pctpubliccoveragealone        0\n",
              "pctwhite                      0\n",
              "pctblack                      0\n",
              "pctasian                      0\n",
              "pctotherrace                  0\n",
              "pctmarriedhouseholds          0\n",
              "birthrate                     0\n",
              "dtype: int64"
            ]
          },
          "metadata": {},
          "execution_count": 21
        }
      ]
    },
    {
      "cell_type": "code",
      "metadata": {
        "colab": {
          "base_uri": "https://localhost:8080/"
        },
        "id": "NRZ6aerpGFfq",
        "outputId": "8aa37eec-2e27-4bcd-98fc-8e4429e2a651"
      },
      "source": [
        "#percentage of missing values per column\n",
        "#pctsomecol18_24 column\n",
        "(df['pctsomecol18_24'].isnull().sum())/df.shape[0]"
      ],
      "execution_count": 13,
      "outputs": [
        {
          "output_type": "execute_result",
          "data": {
            "text/plain": [
              "0.749917952084017"
            ]
          },
          "metadata": {},
          "execution_count": 13
        }
      ]
    },
    {
      "cell_type": "code",
      "metadata": {
        "colab": {
          "base_uri": "https://localhost:8080/"
        },
        "id": "icXthM3gGfhk",
        "outputId": "95b9c847-da55-495d-9383-09550fe40706"
      },
      "source": [
        "#pctemployed16_over \n",
        "(df['pctemployed16_over'].isnull().sum())/df.shape[0]"
      ],
      "execution_count": 14,
      "outputs": [
        {
          "output_type": "execute_result",
          "data": {
            "text/plain": [
              "0.04988513291762389"
            ]
          },
          "metadata": {},
          "execution_count": 14
        }
      ]
    },
    {
      "cell_type": "code",
      "metadata": {
        "colab": {
          "base_uri": "https://localhost:8080/"
        },
        "id": "ree5o3bAG81i",
        "outputId": "b3953264-ff4f-4c81-aa30-69471e0ad0a7"
      },
      "source": [
        "#pctemployed16_over \n",
        "(df['pctprivatecoveragealone'].isnull().sum())/df.shape[0]"
      ],
      "execution_count": 15,
      "outputs": [
        {
          "output_type": "execute_result",
          "data": {
            "text/plain": [
              "0.19986872333442732"
            ]
          },
          "metadata": {},
          "execution_count": 15
        }
      ]
    },
    {
      "cell_type": "code",
      "metadata": {
        "id": "fCT29XzbKXJx"
      },
      "source": [
        "#we have a column that has 75% of data missing, to handle the missing values, we will get rid of this column. The rest of the columns with missing values can be\n",
        "#imputed"
      ],
      "execution_count": 22,
      "outputs": []
    },
    {
      "cell_type": "code",
      "metadata": {
        "id": "8j79AeODK565"
      },
      "source": [
        "#drom the pctsomecol18_24 column\n",
        "df.drop(['pctsomecol18_24'], axis=1, inplace=True)"
      ],
      "execution_count": 27,
      "outputs": []
    },
    {
      "cell_type": "code",
      "metadata": {
        "colab": {
          "base_uri": "https://localhost:8080/",
          "height": 111
        },
        "id": "dFiDy12pLTyh",
        "outputId": "a428fd86-1de0-4885-f7dd-1126ad95b162"
      },
      "source": [
        "#let us check out the summary statistics of the other columns so we can decide what to impute\n",
        "df.describe().T.loc[['pctemployed16_over', 'pctprivatecoveragealone']]"
      ],
      "execution_count": 32,
      "outputs": [
        {
          "output_type": "execute_result",
          "data": {
            "text/html": [
              "<div>\n",
              "<style scoped>\n",
              "    .dataframe tbody tr th:only-of-type {\n",
              "        vertical-align: middle;\n",
              "    }\n",
              "\n",
              "    .dataframe tbody tr th {\n",
              "        vertical-align: top;\n",
              "    }\n",
              "\n",
              "    .dataframe thead th {\n",
              "        text-align: right;\n",
              "    }\n",
              "</style>\n",
              "<table border=\"1\" class=\"dataframe\">\n",
              "  <thead>\n",
              "    <tr style=\"text-align: right;\">\n",
              "      <th></th>\n",
              "      <th>count</th>\n",
              "      <th>mean</th>\n",
              "      <th>std</th>\n",
              "      <th>min</th>\n",
              "      <th>25%</th>\n",
              "      <th>50%</th>\n",
              "      <th>75%</th>\n",
              "      <th>max</th>\n",
              "    </tr>\n",
              "  </thead>\n",
              "  <tbody>\n",
              "    <tr>\n",
              "      <th>pctemployed16_over</th>\n",
              "      <td>2895.0</td>\n",
              "      <td>54.152642</td>\n",
              "      <td>8.315064</td>\n",
              "      <td>17.6</td>\n",
              "      <td>48.6</td>\n",
              "      <td>54.5</td>\n",
              "      <td>60.3</td>\n",
              "      <td>80.1</td>\n",
              "    </tr>\n",
              "    <tr>\n",
              "      <th>pctprivatecoveragealone</th>\n",
              "      <td>2438.0</td>\n",
              "      <td>48.453774</td>\n",
              "      <td>10.083006</td>\n",
              "      <td>15.7</td>\n",
              "      <td>41.0</td>\n",
              "      <td>48.7</td>\n",
              "      <td>55.6</td>\n",
              "      <td>78.9</td>\n",
              "    </tr>\n",
              "  </tbody>\n",
              "</table>\n",
              "</div>"
            ],
            "text/plain": [
              "                          count       mean        std  ...   50%   75%   max\n",
              "pctemployed16_over       2895.0  54.152642   8.315064  ...  54.5  60.3  80.1\n",
              "pctprivatecoveragealone  2438.0  48.453774  10.083006  ...  48.7  55.6  78.9\n",
              "\n",
              "[2 rows x 8 columns]"
            ]
          },
          "metadata": {},
          "execution_count": 32
        }
      ]
    },
    {
      "cell_type": "code",
      "metadata": {
        "colab": {
          "base_uri": "https://localhost:8080/",
          "height": 351
        },
        "id": "k8f_-wzbMtHx",
        "outputId": "5414a9ab-aaac-4efc-bb84-01e56e66d0a7"
      },
      "source": [
        "#check for outliers\n",
        "import seaborn as sns\n",
        "sns.boxplot(df['pctemployed16_over'])"
      ],
      "execution_count": 33,
      "outputs": [
        {
          "output_type": "stream",
          "name": "stderr",
          "text": [
            "/usr/local/lib/python3.7/dist-packages/seaborn/_decorators.py:43: FutureWarning: Pass the following variable as a keyword arg: x. From version 0.12, the only valid positional argument will be `data`, and passing other arguments without an explicit keyword will result in an error or misinterpretation.\n",
            "  FutureWarning\n"
          ]
        },
        {
          "output_type": "execute_result",
          "data": {
            "text/plain": [
              "<matplotlib.axes._subplots.AxesSubplot at 0x7f67cf5aec10>"
            ]
          },
          "metadata": {},
          "execution_count": 33
        },
        {
          "output_type": "display_data",
          "data": {
            "image/png": "[encoded data removed]",
            "text/plain": [
              "<Figure size 432x288 with 1 Axes>"
            ]
          },
          "metadata": {
            "needs_background": "light"
          }
        }
      ]
    },
    {
      "cell_type": "code",
      "metadata": {
        "colab": {
          "base_uri": "https://localhost:8080/",
          "height": 350
        },
        "id": "5OtIi71KM2Li",
        "outputId": "27c09b58-c208-4a33-daed-0130c3d11b73"
      },
      "source": [
        "sns.boxplot(df['pctprivatecoveragealone'])"
      ],
      "execution_count": 35,
      "outputs": [
        {
          "output_type": "stream",
          "name": "stderr",
          "text": [
            "/usr/local/lib/python3.7/dist-packages/seaborn/_decorators.py:43: FutureWarning: Pass the following variable as a keyword arg: x. From version 0.12, the only valid positional argument will be `data`, and passing other arguments without an explicit keyword will result in an error or misinterpretation.\n",
            "  FutureWarning\n"
          ]
        },
        {
          "output_type": "execute_result",
          "data": {
            "text/plain": [
              "<matplotlib.axes._subplots.AxesSubplot at 0x7f67cf0120d0>"
            ]
          },
          "metadata": {},
          "execution_count": 35
        },
        {
          "output_type": "display_data",
          "data": {
            "image/png": "[encoded data removed]",
            "text/plain": [
              "<Figure size 432x288 with 1 Axes>"
            ]
          },
          "metadata": {
            "needs_background": "light"
          }
        }
      ]
    },
    {
      "cell_type": "code",
      "metadata": {
        "id": "kmbIY2CyNFer"
      },
      "source": [
        "#since the distribution of the two variables is not skewed i.e mean and median are very close, we can impute the missing values with the mean\n",
        "\n",
        "#imputation\n",
        "df.fillna(df.mean(), inplace=True)"
      ],
      "execution_count": 36,
      "outputs": []
    },
    {
      "cell_type": "code",
      "metadata": {
        "colab": {
          "base_uri": "https://localhost:8080/"
        },
        "id": "lDQ4t_4FOYdI",
        "outputId": "092655f6-911e-4184-91fe-7a430203b4b3"
      },
      "source": [
        "df.isnull().sum().sum()"
      ],
      "execution_count": 38,
      "outputs": [
        {
          "output_type": "execute_result",
          "data": {
            "text/plain": [
              "0"
            ]
          },
          "metadata": {},
          "execution_count": 38
        }
      ]
    },
    {
      "cell_type": "markdown",
      "metadata": {
        "id": "UuKHJDYsKXxl"
      },
      "source": [
        ""
      ]
    },
    {
      "cell_type": "code",
      "metadata": {
        "id": "n5qTdAkeHDF_"
      },
      "source": [
        ""
      ],
      "execution_count": null,
      "outputs": []
    }
  ]
}