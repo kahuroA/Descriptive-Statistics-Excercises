{
  "nbformat": 4,
  "nbformat_minor": 0,
  "metadata": {
    "colab": {
      "name": "Copy of Univariate Analysis with Python - Exercise",
      "provenance": [],
      "collapsed_sections": [
        "kLkivweO1Iii",
        "InrgA2D21MCl",
        "0CRs-dFC1ohx",
        "ck0zE_a43uV-",
        "NCrhoYJz1dUY",
        "jRKV0pa04BQH",
        "yXH8QAl71vLq",
        "6lNbN0xS4XAY",
        "QIuhupEZ1y_S",
        "GqietlVA2BUa",
        "Z6im-o4g4pK6",
        "8POt4f4D2LcH",
        "xumXllAg5A6N",
        "kKZFF5-Q6d5c",
        "32s_izI76icw",
        "DHNDapES6-4D",
        "NqN2REVg6xM7",
        "uXIKUeun7Tz6"
      ],
      "toc_visible": true
    },
    "kernelspec": {
      "name": "python3",
      "display_name": "Python 3"
    }
  },
  "cells": [
    {
      "cell_type": "markdown",
      "metadata": {
        "id": "adeOETQPnPAj"
      },
      "source": [
        "<font color=\"green\">*To start working on this notebook, or any other notebook that we will use in the Moringa Data Science Course, we will need to save our own copy of it. We can do this by clicking File > Save a Copy in Drive. We will then be able to make edits to our own copy of this notebook.*</font>"
      ]
    },
    {
      "cell_type": "markdown",
      "metadata": {
        "id": "FtNfyN9C1FSE"
      },
      "source": [
        "# Univariate Analysis with Python - Exercise"
      ]
    },
    {
      "cell_type": "markdown",
      "metadata": {
        "id": "kLkivweO1Iii"
      },
      "source": [
        "## 1.0 Importing Libraries"
      ]
    },
    {
      "cell_type": "code",
      "metadata": {
        "id": "7rB0TURq1Mfo"
      },
      "source": [
        "# Importing Pandas\n",
        "# \n",
        "import pandas as pd"
      ],
      "execution_count": 1,
      "outputs": []
    },
    {
      "cell_type": "code",
      "metadata": {
        "id": "J7sTS1pS6w17"
      },
      "source": [
        "# Importing Numpy\n",
        "#\n",
        "import numpy as np"
      ],
      "execution_count": 2,
      "outputs": []
    },
    {
      "cell_type": "code",
      "metadata": {
        "id": "T7fU_A8G3j2c"
      },
      "source": [
        "# Importing Seaborn\n",
        "#\n",
        "import seaborn as sns"
      ],
      "execution_count": 3,
      "outputs": []
    },
    {
      "cell_type": "code",
      "metadata": {
        "id": "h9m2KAfqKr_R"
      },
      "source": [
        "# Importing Matplotlib\n",
        "#\n",
        "import matplotlib.pyplot as plt"
      ],
      "execution_count": 4,
      "outputs": []
    },
    {
      "cell_type": "markdown",
      "metadata": {
        "id": "InrgA2D21MCl"
      },
      "source": [
        "## 1.2 Categorical Variables"
      ]
    },
    {
      "cell_type": "markdown",
      "metadata": {
        "id": "0CRs-dFC1ohx"
      },
      "source": [
        "### 1.21 Frequency Tables"
      ]
    },
    {
      "cell_type": "code",
      "metadata": {
        "id": "S1BPZ36A1LiF",
        "colab": {
          "base_uri": "https://localhost:8080/"
        },
        "outputId": "6654fec9-c370-4cc7-dc85-f00d07e70f46"
      },
      "source": [
        "# Example 1\n",
        "# ---\n",
        "# Creating Frequency table of column using the value_counts() function\n",
        "# ---\n",
        "# \n",
        "\n",
        "data = {'Name':['John', 'Paul', 'Jame','Mark', 'Susan', 'Ruth', 'Ragna', 'Irene', 'Gilbert', 'Esther', 'Salome', 'Moses'],\n",
        "       'County':['Nairobi', 'Kiambu', 'Mombasa', 'Kisumu', 'Kiambu', 'Mombasa', 'Nairobi', 'Mombasa', 'Kisumu', 'Nairobi', 'Kiambu','Mombasa']}\n",
        " \n",
        "# Creating our dataframe\n",
        "frequency_df = pd.DataFrame(data, columns=['Name', 'County'])\n",
        "frequency_df\n",
        "\n",
        "# Creating our frequency table\n",
        "# ---\n",
        "frequency_df.County.value_counts()"
      ],
      "execution_count": null,
      "outputs": [
        {
          "output_type": "execute_result",
          "data": {
            "text/plain": [
              "Mombasa    4\n",
              "Nairobi    3\n",
              "Kiambu     3\n",
              "Kisumu     2\n",
              "Name: County, dtype: int64"
            ]
          },
          "metadata": {},
          "execution_count": 6
        }
      ]
    },
    {
      "cell_type": "markdown",
      "metadata": {
        "id": "ck0zE_a43uV-"
      },
      "source": [
        "#### <font color=\"green\">1.21 Challenges</font>"
      ]
    },
    {
      "cell_type": "code",
      "metadata": {
        "id": "UNbhFPzR33L6",
        "colab": {
          "base_uri": "https://localhost:8080/"
        },
        "outputId": "f4f0db32-3ebb-4a41-bd65-ab351ef5c424"
      },
      "source": [
        "# Challenge 1\n",
        "# ---\n",
        "# Question: Generate a frequency table from the categorical data in the following dataset\n",
        "# ---\n",
        "Dataset_url = \"http://bit.ly/IrisDataset\"\n",
        "# ---\n",
        "# \n",
        "df=pd.read_csv(Dataset_url)\n",
        "df['species'].value_counts()"
      ],
      "execution_count": null,
      "outputs": [
        {
          "output_type": "execute_result",
          "data": {
            "text/plain": [
              "Iris-virginica     50\n",
              "Iris-versicolor    50\n",
              "Iris-setosa        50\n",
              "Name: species, dtype: int64"
            ]
          },
          "metadata": {},
          "execution_count": 9
        }
      ]
    },
    {
      "cell_type": "markdown",
      "metadata": {
        "id": "NCrhoYJz1dUY"
      },
      "source": [
        "### 1.22 Bar Charts and Histograms"
      ]
    },
    {
      "cell_type": "code",
      "metadata": {
        "id": "_3kf4a5q1ylu",
        "colab": {
          "base_uri": "https://localhost:8080/",
          "height": 295
        },
        "outputId": "812ed751-e1c0-44cc-aaaf-cc0528bff165"
      },
      "source": [
        "# Example 1\n",
        "# ---\n",
        "# Bar charts are used to display values associated with categorical data.\n",
        "# ---\n",
        "# \n",
        "\n",
        "# Defining our data\n",
        "x = ['Nuclear', 'Hydro', 'Gas', 'Oil', 'Coal', 'Biofuel']\n",
        "energy = [5, 6, 15, 22, 24, 8]\n",
        " \n",
        "\n",
        "plt.bar(x, energy, color='green')\n",
        "\n",
        "# Labelling our x axis\n",
        "plt.xlabel(\"Energy Source\")\n",
        "\n",
        "# Labelling our y axis\n",
        "plt.ylabel(\"Energy Output (GJ)\")\n",
        "\n",
        "# Giving a title to our Bar chart\n",
        "plt.title(\"Energy output from various fuel sources\")\n",
        "\n",
        "# Displaying our chart\n",
        "plt.show()"
      ],
      "execution_count": null,
      "outputs": [
        {
          "output_type": "display_data",
          "data": {
            "image/png": "[encoded data removed]",
            "text/plain": [
              "<Figure size 432x288 with 1 Axes>"
            ]
          },
          "metadata": {
            "needs_background": "light"
          }
        }
      ]
    },
    {
      "cell_type": "code",
      "metadata": {
        "id": "RWgB6pZg3-o6",
        "colab": {
          "base_uri": "https://localhost:8080/",
          "height": 295
        },
        "outputId": "6dc1bad7-e01d-4625-db9f-257e9636ff30"
      },
      "source": [
        "# Example 2\n",
        "# ---\n",
        "# We can also create the exact same chart horizontally as shown \n",
        "# ---\n",
        "# \n",
        "\n",
        "x = ['Nuclear', 'Hydro', 'Gas', 'Oil', 'Coal', 'Biofuel']\n",
        "energy = [15, 16, 25, 32, 34, 18]  \n",
        "\n",
        "plt.barh(x, energy)\n",
        "plt.ylabel(\"Energy Source\")\n",
        "plt.xlabel(\"Energy Output (GJ)\")\n",
        "plt.title(\"Energy output from various fuel sources\")\n",
        "plt.show()"
      ],
      "execution_count": null,
      "outputs": [
        {
          "output_type": "display_data",
          "data": {
            "image/png": "[encoded data removed]",
            "text/plain": [
              "<Figure size 432x288 with 1 Axes>"
            ]
          },
          "metadata": {
            "needs_background": "light"
          }
        }
      ]
    },
    {
      "cell_type": "code",
      "metadata": {
        "id": "n21agJh93_w0",
        "colab": {
          "base_uri": "https://localhost:8080/",
          "height": 295
        },
        "outputId": "6f7c461f-3494-4583-f03c-b727aae9d013"
      },
      "source": [
        "# Example 3\n",
        "# ---\n",
        "# Very much like a bar chart, histograms tend to show distribution by grouping segments together. \n",
        "# Examples of this might be age groups, or scores on a test. \n",
        "# Rather than showing every single age a group might be, maybe you just show people from 20-25, 25-30... and so on.\n",
        "# ---\n",
        "#\n",
        "\n",
        "population_ages = [22, 55, 62, 45, 21, 22, 34, 42, 42, 4, 99, 102, 110, 120, 121, 122, 130, 111, 115, 112, 80, 75, 65, 54, 44, 43, 42, 48]\n",
        "bins            = [0, 10, 20, 30, 40, 50, 60, 70, 80, 90, 100, 110, 120, 130]\n",
        "\n",
        "plt.hist(population_ages, bins=10, histtype='bar', rwidth=0.9)\n",
        "\n",
        "plt.xlabel('x')\n",
        "plt.ylabel('y')\n",
        "plt.title('Histogram of Population') \n",
        "plt.show()"
      ],
      "execution_count": null,
      "outputs": [
        {
          "output_type": "display_data",
          "data": {
            "image/png": "[encoded data removed]",
            "text/plain": [
              "<Figure size 432x288 with 1 Axes>"
            ]
          },
          "metadata": {
            "needs_background": "light"
          }
        }
      ]
    },
    {
      "cell_type": "code",
      "metadata": {
        "id": "eGXHLiBY8jbI",
        "colab": {
          "base_uri": "https://localhost:8080/",
          "height": 295
        },
        "outputId": "bfdd70d5-8b92-4028-e1cb-77f617ba82c2"
      },
      "source": [
        "# Example 4\n",
        "# ---\n",
        "# Creating a histogram from a given dataset using values from the points column\n",
        "# ---\n",
        "# Dataset url = http://bit.ly/WineDataset\n",
        "# ---\n",
        "#\n",
        "\n",
        "# Loading out dataset\n",
        "wine_df = pd.read_csv(\"http://bit.ly/WineDataset\")\n",
        "\n",
        "wine_points = wine_df['points']\n",
        "\n",
        "plt.hist(wine_points, bins=10, histtype='bar', rwidth=0.9)\n",
        "plt.xlabel('No. of Wines')\n",
        "plt.ylabel('Quantity')\n",
        "plt.title('Histogram of Points of Wine vs No. of Wines')\n",
        "plt.show()"
      ],
      "execution_count": null,
      "outputs": [
        {
          "output_type": "display_data",
          "data": {
            "image/png": "[encoded data removed]",
            "text/plain": [
              "<Figure size 432x288 with 1 Axes>"
            ]
          },
          "metadata": {
            "needs_background": "light"
          }
        }
      ]
    },
    {
      "cell_type": "markdown",
      "metadata": {
        "id": "jRKV0pa04BQH"
      },
      "source": [
        "#### <font color=\"green\">1.22 Challenges</font>"
      ]
    },
    {
      "cell_type": "code",
      "metadata": {
        "id": "VWgtpnM54Mf7",
        "colab": {
          "base_uri": "https://localhost:8080/",
          "height": 295
        },
        "outputId": "300f8be9-ac53-4e21-f7a4-3a828cdc5fef"
      },
      "source": [
        "# Challenge 1\n",
        "# ---\n",
        "# Question: Create a bar chart given the following dataset\n",
        "# ---\n",
        "# \n",
        "languages = ('Python', 'C++', 'Java', 'Perl', 'Scala', 'Lisp') \n",
        "performance = [20, 18, 66, 14, 12, 11]\n",
        "\n",
        "plt.bar(languages, performance)\n",
        "plt.ylabel(\"performance\")\n",
        "plt.xlabel(\"languages\")\n",
        "plt.title(\"Programming languages performance\")\n",
        "plt.show()"
      ],
      "execution_count": null,
      "outputs": [
        {
          "output_type": "display_data",
          "data": {
            "image/png": "[encoded data removed]",
            "text/plain": [
              "<Figure size 432x288 with 1 Axes>"
            ]
          },
          "metadata": {
            "needs_background": "light"
          }
        }
      ]
    },
    {
      "cell_type": "code",
      "metadata": {
        "id": "FUy2tpOl4Nax",
        "colab": {
          "base_uri": "https://localhost:8080/",
          "height": 315
        },
        "outputId": "dc8cf44a-36b4-45f0-99ba-3e841214d2fc"
      },
      "source": [
        "# Challenge 2\n",
        "# ---\n",
        "# Question: Create a histogram from the following data\n",
        "# ---\n",
        "# \n",
        "x = [21, 22, 23, 4, 5, 6, 77, 8, 9, 10, 31, 32, 33, 34, 35, 36, 37, 18, 49, 50, 100]\n",
        "num_bins = 5\n",
        "\n",
        "plt.hist(x, bins=num_bins, color='r')"
      ],
      "execution_count": null,
      "outputs": [
        {
          "output_type": "execute_result",
          "data": {
            "text/plain": [
              "(array([10.,  7.,  2.,  1.,  1.]),\n",
              " array([  4. ,  23.2,  42.4,  61.6,  80.8, 100. ]),\n",
              " <a list of 5 Patch objects>)"
            ]
          },
          "metadata": {},
          "execution_count": 15
        },
        {
          "output_type": "display_data",
          "data": {
            "image/png": "[encoded data removed]",
            "text/plain": [
              "<Figure size 432x288 with 1 Axes>"
            ]
          },
          "metadata": {
            "needs_background": "light"
          }
        }
      ]
    },
    {
      "cell_type": "code",
      "metadata": {
        "id": "eQV9iT2u4Po_",
        "colab": {
          "base_uri": "https://localhost:8080/",
          "height": 315
        },
        "outputId": "975daece-0375-4404-eb1f-8071b218bbd2"
      },
      "source": [
        "# Challenge 3\n",
        "# ---\n",
        "# Question: Create a histogram from a given dataset using values from the sepal length column\n",
        "# ---\n",
        "#Dataset url = http://bit.ly/IrisDataset\n",
        "# ---\n",
        "# \n",
        "df1=pd.read_csv(\"http://bit.ly/IrisDataset\")\n",
        "\n",
        "plt.hist(df1['sepal_length'])\n"
      ],
      "execution_count": null,
      "outputs": [
        {
          "output_type": "execute_result",
          "data": {
            "text/plain": [
              "(array([ 9., 23., 14., 27., 16., 26., 18.,  6.,  5.,  6.]),\n",
              " array([4.3 , 4.66, 5.02, 5.38, 5.74, 6.1 , 6.46, 6.82, 7.18, 7.54, 7.9 ]),\n",
              " <a list of 10 Patch objects>)"
            ]
          },
          "metadata": {},
          "execution_count": 23
        },
        {
          "output_type": "display_data",
          "data": {
            "image/png": "[encoded data removed]",
            "text/plain": [
              "<Figure size 432x288 with 1 Axes>"
            ]
          },
          "metadata": {
            "needs_background": "light"
          }
        }
      ]
    },
    {
      "cell_type": "markdown",
      "metadata": {
        "id": "yXH8QAl71vLq"
      },
      "source": [
        "### 1.23 Pie Charts"
      ]
    },
    {
      "cell_type": "code",
      "metadata": {
        "id": "UXYA0eoB09kd",
        "colab": {
          "base_uri": "https://localhost:8080/",
          "height": 268
        },
        "outputId": "75ea1842-d5e1-4578-baeb-4d84e7c2945f"
      },
      "source": [
        "# Example 1\n",
        "# ---\n",
        "# Question: Create a pie chart usig the sizes list given below\n",
        "# ---\n",
        "#\n",
        "\n",
        "# Defining our labels, sizes, colors and explode (this will explode the 1st slice)\n",
        "labels = 'Python', 'C++', 'Ruby', 'Java'\n",
        "sizes  = [215, 130, 245, 210]\n",
        "colors = ['gold', 'yellowgreen', 'lightcoral', 'lightskyblue']\n",
        "\n",
        "# Highlights a particular Value in plot\n",
        "explode = (0.1, 0, 0, 0)  \n",
        "\n",
        "# Plotting our pie chart\n",
        "plt.pie(sizes, explode=explode, labels=labels, colors=colors,\n",
        "autopct='%1.1f%%', shadow=True, startangle=140)\n",
        "\n",
        "plt.axis('equal')\n",
        "plt.title('Pie Chart of Programming Languages')\n",
        "plt.show()"
      ],
      "execution_count": null,
      "outputs": [
        {
          "output_type": "display_data",
          "data": {
            "image/png": "[encoded data removed]",
            "text/plain": [
              "<Figure size 432x288 with 1 Axes>"
            ]
          },
          "metadata": {}
        }
      ]
    },
    {
      "cell_type": "code",
      "metadata": {
        "id": "4IIwpXsF4To9",
        "colab": {
          "base_uri": "https://localhost:8080/",
          "height": 264
        },
        "outputId": "43500af6-274a-4952-952b-c63e06eb560b"
      },
      "source": [
        "# Example 2\n",
        "# ---\n",
        "# Question: Create a pie chart to show the distribution of age and population\n",
        "# ---\n",
        "# \n",
        "\n",
        "# Loading out dataset\n",
        "df = pd.read_csv(\"http://bit.ly/AgePopulationDataset\")\n",
        "\n",
        "# Previewing the dataset \n",
        "df.head()\n",
        "\n",
        "# Assigning our columns to population and age variables\n",
        "population = df['population']\n",
        "age        = df['age']\n",
        "\n",
        "# Plotting our pie chart\n",
        "# -------\n",
        "plt.pie(population, labels = age, autopct = '%1.1f%%', shadow = True, startangle = 140)\n",
        "plt.axis('equal')\n",
        "plt.title('Pie Chart of Age population')\n",
        "plt.show()"
      ],
      "execution_count": 5,
      "outputs": [
        {
          "output_type": "display_data",
          "data": {
            "image/png": "[encoded data removed]",
            "text/plain": [
              "<Figure size 432x288 with 1 Axes>"
            ]
          },
          "metadata": {}
        }
      ]
    },
    {
      "cell_type": "markdown",
      "metadata": {
        "id": "6lNbN0xS4XAY"
      },
      "source": [
        "#### <font color=\"green\">1.23 Challenges</font>"
      ]
    },
    {
      "cell_type": "code",
      "metadata": {
        "id": "SDYT8o0U4WE9",
        "colab": {
          "base_uri": "https://localhost:8080/",
          "height": 264
        },
        "outputId": "50d2fc37-30b0-4ba5-c215-23b390a4cb8b"
      },
      "source": [
        "# Challenge 1\n",
        "# ---\n",
        "# Question: Create a pie chart of county population given the following\n",
        "# ---\n",
        "# \n",
        "\n",
        "county_population = [12344408, 2441523, 30523371, 110012442, 47886051]\n",
        "counties = ['Thika', 'Mombasa', 'Kisumu', 'Nairobi', 'Nakuru']\n",
        "\n",
        "plt.pie(county_population, labels=counties, autopct = '%1.1f%%',shadow = True,startangle = 140)\n",
        "plt.axis('equal')\n",
        "plt.title('Pie Chart of County population')\n",
        "plt.show()\n"
      ],
      "execution_count": 9,
      "outputs": [
        {
          "output_type": "display_data",
          "data": {
            "image/png": "[encoded data removed]",
            "text/plain": [
              "<Figure size 432x288 with 1 Axes>"
            ]
          },
          "metadata": {}
        }
      ]
    },
    {
      "cell_type": "code",
      "metadata": {
        "id": "xRcsBrgL4jDB",
        "colab": {
          "base_uri": "https://localhost:8080/",
          "height": 203
        },
        "outputId": "2394e0c8-0190-4abf-a27f-55c0f5a03596"
      },
      "source": [
        "# Challenge 2\n",
        "# ---\n",
        "# Question: Acting as Chief Data Strategist for a ride sharing company, \n",
        "# you are expected to offer data-backed guidance on new opportunities for market differentiation.\n",
        "# Merge the two datasets into a single dataset based on the cities they share then \n",
        "# produce the following pie chart: Pie Chart of % of Total Fares by City Type.\n",
        "# Hint: When making the pie Chart, experiment with effects like shadow, startangle, and explosion\n",
        "# ---\n",
        "# Dataset 1 url = http://bit.ly/City-RideDataset\n",
        "# Dataset 2 url = http://bit.ly/RideDataset\n",
        "# ---\n",
        "#\n",
        "df=pd.read_csv('http://bit.ly/City-RideDataset')\n",
        "df.head()"
      ],
      "execution_count": 10,
      "outputs": [
        {
          "output_type": "execute_result",
          "data": {
            "text/html": [
              "<div>\n",
              "<style scoped>\n",
              "    .dataframe tbody tr th:only-of-type {\n",
              "        vertical-align: middle;\n",
              "    }\n",
              "\n",
              "    .dataframe tbody tr th {\n",
              "        vertical-align: top;\n",
              "    }\n",
              "\n",
              "    .dataframe thead th {\n",
              "        text-align: right;\n",
              "    }\n",
              "</style>\n",
              "<table border=\"1\" class=\"dataframe\">\n",
              "  <thead>\n",
              "    <tr style=\"text-align: right;\">\n",
              "      <th></th>\n",
              "      <th>city</th>\n",
              "      <th>driver_count</th>\n",
              "      <th>type</th>\n",
              "    </tr>\n",
              "  </thead>\n",
              "  <tbody>\n",
              "    <tr>\n",
              "      <th>0</th>\n",
              "      <td>Richardfort</td>\n",
              "      <td>38</td>\n",
              "      <td>Urban</td>\n",
              "    </tr>\n",
              "    <tr>\n",
              "      <th>1</th>\n",
              "      <td>Williamsstad</td>\n",
              "      <td>59</td>\n",
              "      <td>Urban</td>\n",
              "    </tr>\n",
              "    <tr>\n",
              "      <th>2</th>\n",
              "      <td>Port Angela</td>\n",
              "      <td>67</td>\n",
              "      <td>Urban</td>\n",
              "    </tr>\n",
              "    <tr>\n",
              "      <th>3</th>\n",
              "      <td>Rodneyfort</td>\n",
              "      <td>34</td>\n",
              "      <td>Urban</td>\n",
              "    </tr>\n",
              "    <tr>\n",
              "      <th>4</th>\n",
              "      <td>West Robert</td>\n",
              "      <td>39</td>\n",
              "      <td>Urban</td>\n",
              "    </tr>\n",
              "  </tbody>\n",
              "</table>\n",
              "</div>"
            ],
            "text/plain": [
              "           city  driver_count   type\n",
              "0   Richardfort            38  Urban\n",
              "1  Williamsstad            59  Urban\n",
              "2   Port Angela            67  Urban\n",
              "3    Rodneyfort            34  Urban\n",
              "4   West Robert            39  Urban"
            ]
          },
          "metadata": {},
          "execution_count": 10
        }
      ]
    },
    {
      "cell_type": "code",
      "metadata": {
        "colab": {
          "base_uri": "https://localhost:8080/",
          "height": 203
        },
        "id": "yTAuQVXldz0X",
        "outputId": "c9a86c3c-83be-4d7c-b1ce-4b6e52fd9a18"
      },
      "source": [
        "df_2=pd.read_csv('http://bit.ly/RideDataset')\n",
        "df_2.head()"
      ],
      "execution_count": 11,
      "outputs": [
        {
          "output_type": "execute_result",
          "data": {
            "text/html": [
              "<div>\n",
              "<style scoped>\n",
              "    .dataframe tbody tr th:only-of-type {\n",
              "        vertical-align: middle;\n",
              "    }\n",
              "\n",
              "    .dataframe tbody tr th {\n",
              "        vertical-align: top;\n",
              "    }\n",
              "\n",
              "    .dataframe thead th {\n",
              "        text-align: right;\n",
              "    }\n",
              "</style>\n",
              "<table border=\"1\" class=\"dataframe\">\n",
              "  <thead>\n",
              "    <tr style=\"text-align: right;\">\n",
              "      <th></th>\n",
              "      <th>city</th>\n",
              "      <th>date</th>\n",
              "      <th>fare</th>\n",
              "      <th>ride_id</th>\n",
              "    </tr>\n",
              "  </thead>\n",
              "  <tbody>\n",
              "    <tr>\n",
              "      <th>0</th>\n",
              "      <td>Lake Jonathanshire</td>\n",
              "      <td>2018-01-14 10:14:22</td>\n",
              "      <td>13.83</td>\n",
              "      <td>5739410935873</td>\n",
              "    </tr>\n",
              "    <tr>\n",
              "      <th>1</th>\n",
              "      <td>South Michelleport</td>\n",
              "      <td>2018-03-04 18:24:09</td>\n",
              "      <td>30.24</td>\n",
              "      <td>2343912425577</td>\n",
              "    </tr>\n",
              "    <tr>\n",
              "      <th>2</th>\n",
              "      <td>Port Samanthamouth</td>\n",
              "      <td>2018-02-24 04:29:00</td>\n",
              "      <td>33.44</td>\n",
              "      <td>2005065760003</td>\n",
              "    </tr>\n",
              "    <tr>\n",
              "      <th>3</th>\n",
              "      <td>Rodneyfort</td>\n",
              "      <td>2018-02-10 23:22:03</td>\n",
              "      <td>23.44</td>\n",
              "      <td>5149245426178</td>\n",
              "    </tr>\n",
              "    <tr>\n",
              "      <th>4</th>\n",
              "      <td>South Jack</td>\n",
              "      <td>2018-03-06 04:28:35</td>\n",
              "      <td>34.58</td>\n",
              "      <td>3908451377344</td>\n",
              "    </tr>\n",
              "  </tbody>\n",
              "</table>\n",
              "</div>"
            ],
            "text/plain": [
              "                 city                 date   fare        ride_id\n",
              "0  Lake Jonathanshire  2018-01-14 10:14:22  13.83  5739410935873\n",
              "1  South Michelleport  2018-03-04 18:24:09  30.24  2343912425577\n",
              "2  Port Samanthamouth  2018-02-24 04:29:00  33.44  2005065760003\n",
              "3          Rodneyfort  2018-02-10 23:22:03  23.44  5149245426178\n",
              "4          South Jack  2018-03-06 04:28:35  34.58  3908451377344"
            ]
          },
          "metadata": {},
          "execution_count": 11
        }
      ]
    },
    {
      "cell_type": "code",
      "metadata": {
        "colab": {
          "base_uri": "https://localhost:8080/",
          "height": 203
        },
        "id": "YPiP8DU9eLFQ",
        "outputId": "95570a5b-66f0-4544-8df6-7fb3f891caa7"
      },
      "source": [
        "merged_df=df.merge(df_2, left_on='city', right_on='city')\n",
        "merged_df.head()"
      ],
      "execution_count": 12,
      "outputs": [
        {
          "output_type": "execute_result",
          "data": {
            "text/html": [
              "<div>\n",
              "<style scoped>\n",
              "    .dataframe tbody tr th:only-of-type {\n",
              "        vertical-align: middle;\n",
              "    }\n",
              "\n",
              "    .dataframe tbody tr th {\n",
              "        vertical-align: top;\n",
              "    }\n",
              "\n",
              "    .dataframe thead th {\n",
              "        text-align: right;\n",
              "    }\n",
              "</style>\n",
              "<table border=\"1\" class=\"dataframe\">\n",
              "  <thead>\n",
              "    <tr style=\"text-align: right;\">\n",
              "      <th></th>\n",
              "      <th>city</th>\n",
              "      <th>driver_count</th>\n",
              "      <th>type</th>\n",
              "      <th>date</th>\n",
              "      <th>fare</th>\n",
              "      <th>ride_id</th>\n",
              "    </tr>\n",
              "  </thead>\n",
              "  <tbody>\n",
              "    <tr>\n",
              "      <th>0</th>\n",
              "      <td>Richardfort</td>\n",
              "      <td>38</td>\n",
              "      <td>Urban</td>\n",
              "      <td>2018-02-24 08:40:38</td>\n",
              "      <td>13.93</td>\n",
              "      <td>5628545007794</td>\n",
              "    </tr>\n",
              "    <tr>\n",
              "      <th>1</th>\n",
              "      <td>Richardfort</td>\n",
              "      <td>38</td>\n",
              "      <td>Urban</td>\n",
              "      <td>2018-02-13 12:46:07</td>\n",
              "      <td>14.00</td>\n",
              "      <td>910050116494</td>\n",
              "    </tr>\n",
              "    <tr>\n",
              "      <th>2</th>\n",
              "      <td>Richardfort</td>\n",
              "      <td>38</td>\n",
              "      <td>Urban</td>\n",
              "      <td>2018-02-16 13:52:19</td>\n",
              "      <td>17.92</td>\n",
              "      <td>820639054416</td>\n",
              "    </tr>\n",
              "    <tr>\n",
              "      <th>3</th>\n",
              "      <td>Richardfort</td>\n",
              "      <td>38</td>\n",
              "      <td>Urban</td>\n",
              "      <td>2018-02-01 20:18:28</td>\n",
              "      <td>10.26</td>\n",
              "      <td>9554935945413</td>\n",
              "    </tr>\n",
              "    <tr>\n",
              "      <th>4</th>\n",
              "      <td>Richardfort</td>\n",
              "      <td>38</td>\n",
              "      <td>Urban</td>\n",
              "      <td>2018-04-17 02:26:37</td>\n",
              "      <td>23.00</td>\n",
              "      <td>720020655850</td>\n",
              "    </tr>\n",
              "  </tbody>\n",
              "</table>\n",
              "</div>"
            ],
            "text/plain": [
              "          city  driver_count   type                 date   fare        ride_id\n",
              "0  Richardfort            38  Urban  2018-02-24 08:40:38  13.93  5628545007794\n",
              "1  Richardfort            38  Urban  2018-02-13 12:46:07  14.00   910050116494\n",
              "2  Richardfort            38  Urban  2018-02-16 13:52:19  17.92   820639054416\n",
              "3  Richardfort            38  Urban  2018-02-01 20:18:28  10.26  9554935945413\n",
              "4  Richardfort            38  Urban  2018-04-17 02:26:37  23.00   720020655850"
            ]
          },
          "metadata": {},
          "execution_count": 12
        }
      ]
    },
    {
      "cell_type": "code",
      "metadata": {
        "id": "bQRM0dzbesep"
      },
      "source": [
        "group_city=merged_df.groupby('type')['fare'].sum()"
      ],
      "execution_count": 17,
      "outputs": []
    },
    {
      "cell_type": "code",
      "metadata": {
        "colab": {
          "base_uri": "https://localhost:8080/",
          "height": 264
        },
        "id": "aSmTwL82fIEi",
        "outputId": "c6d842df-368f-44b7-96ea-2a8194840fda"
      },
      "source": [
        "explode = (0.4, 0, 0, ) \n",
        "plt.pie(group_city.values, explode=explode, labels=group_city.index, autopct = '%1.1f%%', shadow=True)\n",
        "plt.title('% of Total Fares by City Type')\n",
        "plt.show()"
      ],
      "execution_count": 22,
      "outputs": [
        {
          "output_type": "display_data",
          "data": {
            "image/png": "[encoded data removed]",
            "text/plain": [
              "<Figure size 432x288 with 1 Axes>"
            ]
          },
          "metadata": {}
        }
      ]
    },
    {
      "cell_type": "code",
      "metadata": {
        "id": "EpTRmGQF4kyA",
        "colab": {
          "base_uri": "https://localhost:8080/",
          "height": 264
        },
        "outputId": "07f18c95-9821-4126-dca5-161d9e0b4809"
      },
      "source": [
        "# Challenge 3\n",
        "# ---\n",
        "# Question: From the combined dataset in Challenge 2, \n",
        "# create a pie chart of % of Total Rides by City Type\n",
        "# ---\n",
        "#\n",
        "group_city_rides=merged_df.groupby('type')['ride_id'].count()\n",
        "explode = (0, 0.4, 0, ) \n",
        "plt.pie(group_city_rides.values, explode=explode, labels=group_city_rides.index, autopct = '%1.1f%%', shadow=True)\n",
        "plt.title('% of Total Rides by City Type')\n",
        "plt.show()"
      ],
      "execution_count": 28,
      "outputs": [
        {
          "output_type": "display_data",
          "data": {
            "image/png": "[encoded data removed]",
            "text/plain": [
              "<Figure size 432x288 with 1 Axes>"
            ]
          },
          "metadata": {}
        }
      ]
    },
    {
      "cell_type": "code",
      "metadata": {
        "id": "H4FACJNg6kPw",
        "colab": {
          "base_uri": "https://localhost:8080/",
          "height": 264
        },
        "outputId": "611bc138-c5ca-4ed7-e56a-db6147e32959"
      },
      "source": [
        "# Challenge 4\n",
        "# ---\n",
        "# Question: From the combined dataset in Challenge 2, \n",
        "# create a pie chart % of Total Drivers by City Type\n",
        "# ---\n",
        "#\n",
        "group_city_drivers=merged_df.groupby('type')['driver_count'].sum()\n",
        "explode = (0.6, 0, 0, ) \n",
        "plt.pie(group_city_drivers.values, explode=explode, labels=group_city_drivers.index, colors=['red','orange', 'green'],autopct = '%1.1f%%', shadow=True)\n",
        "plt.title('% of Total Drivers by City Type')\n",
        "plt.show()"
      ],
      "execution_count": 31,
      "outputs": [
        {
          "output_type": "display_data",
          "data": {
            "image/png": "[encoded data removed]",
            "text/plain": [
              "<Figure size 432x288 with 1 Axes>"
            ]
          },
          "metadata": {}
        }
      ]
    },
    {
      "cell_type": "markdown",
      "metadata": {
        "id": "QIuhupEZ1y_S"
      },
      "source": [
        "## 1.3 Numerical Variables"
      ]
    },
    {
      "cell_type": "markdown",
      "metadata": {
        "id": "GqietlVA2BUa"
      },
      "source": [
        "### 1.31 Measures of Central Tendency"
      ]
    },
    {
      "cell_type": "code",
      "metadata": {
        "id": "u_W0Wibz13A8",
        "colab": {
          "base_uri": "https://localhost:8080/"
        },
        "outputId": "a7e6099d-9b42-46db-fece-9e51cbc952db"
      },
      "source": [
        "# Example 1: Mean\n",
        "# Mean or Average is a central tendency of the data i.e. a number around which a whole data is spread out. \n",
        "# In a way, it is a single number which can estimate the value of whole data set.\n",
        "# ---\n",
        "# Question: From the following dataset, What is the mean monthly consumption and export of tea in millions of kg between 2003 and 2015\n",
        "# Dataset url = http://bit.ly/tea-exports\n",
        "# ---\n",
        "\n",
        "# Loading the dataset\n",
        "tea_exports_df = pd.read_csv(\"http://bit.ly/tea-exports\")\n",
        "\n",
        "# Previewing the dataset\n",
        "# tea_exports_df.head()\n",
        "\n",
        "# Finding the mean\n",
        "tea_exports_df[\"Millions_in_KGS_\"].mean()"
      ],
      "execution_count": 32,
      "outputs": [
        {
          "output_type": "execute_result",
          "data": {
            "text/plain": [
              "24.452987654321003"
            ]
          },
          "metadata": {},
          "execution_count": 32
        }
      ]
    },
    {
      "cell_type": "code",
      "metadata": {
        "id": "2DPrdaoc16tZ",
        "colab": {
          "base_uri": "https://localhost:8080/"
        },
        "outputId": "fe88afca-9a5b-41e0-e20a-d4a1c29563c9"
      },
      "source": [
        "# Example 2: Median\n",
        "# Median is the value which divides the data in 2 equal parts i.e. number of terms on right side of it \n",
        "# is same as number of terms on left side of it when data is arranged in either ascending or descending order.\n",
        "# ---\n",
        "# Question: From the following dataset, What was the monthly median fish production(kgs) in Kisumu sub county?\n",
        "# Dataset url = http://bit.ly/Kisumu-fish-production\n",
        "# ---\n",
        "# \n",
        "\n",
        "# Loading the dataset\n",
        "kisumu_fish_production_df = pd.read_csv(\"http://bit.ly/Kisumu-fish-production\")\n",
        "\n",
        "# Previewing the dataset\n",
        "# kisumu_fish_production_df.head()\n",
        "\n",
        "# Finding the median\n",
        "kisumu_fish_production_df[\"WEIGHT_KGS\"].median()"
      ],
      "execution_count": 33,
      "outputs": [
        {
          "output_type": "execute_result",
          "data": {
            "text/plain": [
              "2424.0"
            ]
          },
          "metadata": {},
          "execution_count": 33
        }
      ]
    },
    {
      "cell_type": "code",
      "metadata": {
        "id": "eYO9eGyH125E",
        "colab": {
          "base_uri": "https://localhost:8080/"
        },
        "outputId": "cd64314d-7bbd-4aa1-e8f4-f124d7463a10"
      },
      "source": [
        "# Example 3: Mode \n",
        "# Mode is the term appearing maximum time in data set i.e. term that has highest frequency.\n",
        "# ---\n",
        "# Question: From the given dataset, what was the mode target yield bags per hectare during the long rains?\n",
        "# Dataset url = http://bit.ly/Kisumu-crop-statistics\n",
        "# ---\n",
        "#\n",
        "\n",
        "# Loading the dataset\n",
        "kisumu_crop_statistics_df = pd.read_csv(\"http://bit.ly/Kisumu-crop-statistics\")\n",
        "\n",
        "# Previewing the dataset\n",
        "kisumu_crop_statistics_df.head()\n",
        "\n",
        "# Finding the median\n",
        "kisumu_crop_statistics_df[\"TARGET_YIELD__BAG/HA_LONG_RAINS\"].mode()"
      ],
      "execution_count": 34,
      "outputs": [
        {
          "output_type": "execute_result",
          "data": {
            "text/plain": [
              "0    10\n",
              "dtype: int64"
            ]
          },
          "metadata": {},
          "execution_count": 34
        }
      ]
    },
    {
      "cell_type": "markdown",
      "metadata": {
        "id": "Z6im-o4g4pK6"
      },
      "source": [
        "#### <font color=\"green\">1.32 Challenges</font>"
      ]
    },
    {
      "cell_type": "code",
      "metadata": {
        "id": "bd8oXas94osH",
        "colab": {
          "base_uri": "https://localhost:8080/"
        },
        "outputId": "88a4341c-f6d4-431d-fab4-7de81def9100"
      },
      "source": [
        "# Challenge 1: Mean\n",
        "# ---\n",
        "# Question: What was the mean target production bags of 90kg during short rains?\n",
        "# Dataset url = http://bit.ly/Kisumu-crop-statistics\n",
        "# ---\n",
        "# \n",
        "prod_df=pd.read_csv('http://bit.ly/Kisumu-crop-statistics')\n",
        "prod_df['TARGET_PRODUCTION_BAGS_SHORT_RAINS'].mean()"
      ],
      "execution_count": 36,
      "outputs": [
        {
          "output_type": "execute_result",
          "data": {
            "text/plain": [
              "14005.30303030303"
            ]
          },
          "metadata": {},
          "execution_count": 36
        }
      ]
    },
    {
      "cell_type": "code",
      "metadata": {
        "id": "lOwXYPaO4x7u",
        "colab": {
          "base_uri": "https://localhost:8080/"
        },
        "outputId": "2ec4614c-3080-463d-a0f3-9a8b22d5994e"
      },
      "source": [
        "# Challenge 2: Median\n",
        "# ---\n",
        "# Question: What was the median target production bags during long rains?\n",
        "# Dataset url = http://bit.ly/Kisumu-crop-statistics\n",
        "# ---\n",
        "#\n",
        "prod_df['TARGET_PRODUCTION_BAGS_LONG_RAINS'].median()\n"
      ],
      "execution_count": 38,
      "outputs": [
        {
          "output_type": "execute_result",
          "data": {
            "text/plain": [
              "3075.0"
            ]
          },
          "metadata": {},
          "execution_count": 38
        }
      ]
    },
    {
      "cell_type": "code",
      "metadata": {
        "colab": {
          "base_uri": "https://localhost:8080/"
        },
        "id": "aamDe5UYnNyN",
        "outputId": "e032517f-da7f-40b8-b8bf-8074c74a2739"
      },
      "source": [
        "prod_df.columns"
      ],
      "execution_count": 39,
      "outputs": [
        {
          "output_type": "execute_result",
          "data": {
            "text/plain": [
              "Index(['SUB-COUNTY', 'PRODUCE', 'TARGET_AREA_HA_LONG_RAINS',\n",
              "       'TARGET_AREA_HA_SHORT_RAINS', 'TARGET_TOTAL_',\n",
              "       'TARGET_YIELD__BAG/HA_LONG_RAINS', 'TARGET_YIELD__BAG/HA_SHORT_RAINS',\n",
              "       'TARGET_PRODUCTION_BAGS_LONG_RAINS',\n",
              "       'TARGET_PRODUCTION_BAGS_SHORT_RAINS', 'TARGET_PRODUCTION_BAGS_TOTAL',\n",
              "       'ACHIEVEMENT_AREA_HA_LONG_RAINS', 'ACHIEVEMENT_AREA_HA_SHORT_RAINS',\n",
              "       'ACHIEVEMENT_TOTAL', 'PROJECTED_YIELD_BAG/HA_LONG_RAINS',\n",
              "       'PROJECTED_YIELD_BAG/HA_SHORT_RAINS',\n",
              "       'PROJECTED___PRODUCTION_BAGS_OF_90KG_EACH__LR',\n",
              "       'PROJECTED___PRODUCTION_BAGS_OF_90KG_EACH__SR',\n",
              "       'PROJECTED___PRODUCTION_BAGS_OF_90KG_EACH__TOTAL',\n",
              "       'PRICES_KSH/BAG_LONG_RAINS', 'PRICES_KSH/BAG_SHORT_RAINS',\n",
              "       'VALUE_KSH__LONG_RAINS', 'VALUE_KSH_SHORT_RAINS', 'VALUE_KSH_TOTAL',\n",
              "       'DATE', 'OBJECTID'],\n",
              "      dtype='object')"
            ]
          },
          "metadata": {},
          "execution_count": 39
        }
      ]
    },
    {
      "cell_type": "code",
      "metadata": {
        "id": "JyOIjUMD4y-7",
        "colab": {
          "base_uri": "https://localhost:8080/"
        },
        "outputId": "dba715f8-8346-478d-8ece-380eecf2f125"
      },
      "source": [
        "# Challenge 3: Mode \n",
        "# ---\n",
        "# Question: What was the mode projected yield bags per hectare during short rains?\n",
        "# Dataset url = http://bit.ly/Kisumu-crop-statistics\n",
        "# ---\n",
        "#\n",
        "prod_df['PROJECTED_YIELD_BAG/HA_SHORT_RAINS'].mode()"
      ],
      "execution_count": 40,
      "outputs": [
        {
          "output_type": "execute_result",
          "data": {
            "text/plain": [
              "0    0.0\n",
              "dtype: float64"
            ]
          },
          "metadata": {},
          "execution_count": 40
        }
      ]
    },
    {
      "cell_type": "markdown",
      "metadata": {
        "id": "8POt4f4D2LcH"
      },
      "source": [
        "### 1.32 Measures of Dispersion/Variability/Spread"
      ]
    },
    {
      "cell_type": "code",
      "metadata": {
        "id": "kZeJoLg_2R3Q",
        "colab": {
          "base_uri": "https://localhost:8080/"
        },
        "outputId": "51699f97-39cc-46f4-d004-d26cc9479f24"
      },
      "source": [
        "# Example 1: Standard Deviation  \n",
        "# Standard deviation is the measurement of average distance between each quantity and mean. \n",
        "# That is, how data is spread out from mean. A low standard deviation indicates that the data points \n",
        "# tend to be close to the mean of the data set, while a high standard deviation indicates that the \n",
        "# data points are spread out over a wider range of values.\n",
        "# There are situations when we have to choose between sample or population Standard Deviation. \n",
        "# When we are asked to find SD of some part of a population, a segment of population; \n",
        "# then we use sample Standard Deviation. But when we have to deal with a whole population, \n",
        "# then we use population Standard Deviation. As you know, in descriptive statistics, \n",
        "# we generally deal with a data available in a sample, not in a population.\n",
        "# ---\n",
        "# Question: What was the standard deviation for the Nakuru Couty Herbicide average prices?\n",
        "# Dataset url = http://bit.ly/NakuruCountyHerbicidePrices\n",
        "# ----\n",
        "# \n",
        "\n",
        "# Loading the dataset\n",
        "nakuru_county_herbicide_prices_df = pd.read_csv(\"http://bit.ly/NakuruCountyHerbicidePrices\")\n",
        "\n",
        "# Previewing the dataset\n",
        "# nakuru_county_herbicide_prices_df.head()\n",
        "\n",
        "# Finding the standard deviation\n",
        "nakuru_county_herbicide_prices_df[\"Average_Price\"].std()"
      ],
      "execution_count": 41,
      "outputs": [
        {
          "output_type": "execute_result",
          "data": {
            "text/plain": [
              "2539.974525115418"
            ]
          },
          "metadata": {},
          "execution_count": 41
        }
      ]
    },
    {
      "cell_type": "code",
      "metadata": {
        "id": "P8vUwmx3-8iB",
        "colab": {
          "base_uri": "https://localhost:8080/"
        },
        "outputId": "7a008ab3-3713-4fd7-d49c-209cde9e0f7d"
      },
      "source": [
        "# Example 2: Variance\n",
        "# Variance is a square of average distance between each quantity and mean. \n",
        "# That is it is square of standard deviation. It is a measure of how dispersed or spread out the set is, \n",
        "# something that the “average” (mean or median) is not designed to do. \n",
        "# If I tell you a data set has a variance of zero, for example, you know that every member of it is the same. \n",
        "# If the variance is high, especially as a ratio to the mean, \n",
        "# that tells you that the data have some very large dis-similarities amongst its members. \n",
        "# If one considers the mean to be a sort of centre of the data, \n",
        "# the variance tells you how scattered around the centre of mass the points are.\n",
        "# ---\n",
        "# Question: What was the variance of the Nakuru Couty Herbicide average prices?\n",
        "# Dataset url = http://bit.ly/NakuruCountyHerbicidePrices\n",
        "# ---\n",
        "#  \n",
        "\n",
        "# Finding the variance of the herbicide average prices\n",
        "nakuru_county_herbicide_prices_df[\"Average_Price\"].var()"
      ],
      "execution_count": 42,
      "outputs": [
        {
          "output_type": "execute_result",
          "data": {
            "text/plain": [
              "6451470.5882352935"
            ]
          },
          "metadata": {},
          "execution_count": 42
        }
      ]
    },
    {
      "cell_type": "code",
      "metadata": {
        "id": "j73naeos2RRR",
        "colab": {
          "base_uri": "https://localhost:8080/"
        },
        "outputId": "b6baa62f-d86c-42b5-8cd6-f810c78623c4"
      },
      "source": [
        "# Examples 3: Range\n",
        "# Range is one of the simplest techniques of descriptive statistics. \n",
        "# It is the difference between lowest and highest value.\n",
        "# ---\n",
        "# Question: What was the range of the Nakuru county herbicide prices?\n",
        "# Dataset url = http://bit.ly/NakuruCountyHerbicidePrices\n",
        "# ---\n",
        "#\n",
        "\n",
        "# Finding the min and max values of the herbicide average prices\n",
        "nakuru_county_herbicide_prices_max = nakuru_county_herbicide_prices_df[\"Average_Price\"].max()\n",
        "nakuru_county_herbicide_prices_min = nakuru_county_herbicide_prices_df[\"Average_Price\"].min()\n",
        "\n",
        "# Calculating the range\n",
        "nakuru_county_herbicide_prices_max - nakuru_county_herbicide_prices_min"
      ],
      "execution_count": 44,
      "outputs": [
        {
          "output_type": "execute_result",
          "data": {
            "text/plain": [
              "7450"
            ]
          },
          "metadata": {},
          "execution_count": 44
        }
      ]
    },
    {
      "cell_type": "code",
      "metadata": {
        "id": "UobGI2kj2Q3Y",
        "colab": {
          "base_uri": "https://localhost:8080/"
        },
        "outputId": "453df8cc-964e-4a93-f6a5-c0155940744e"
      },
      "source": [
        "# Example 4: Quantiles \n",
        "# In statistics and probability, quartiles are values that divide your data into quarters provided data is sorted in an ascending order. \n",
        "# There are three quartile values. First quartile value is at 25 percentile. \n",
        "# Second quartile is 50 percentile and third quartile is 75 percentile. \n",
        "# Second quartile (Q2) is median of the whole data. First quartile (Q1) is median of upper half of the data. \n",
        "# And Third Quartile (Q3) is median of lower half of the data.\n",
        "# ---\n",
        "# Question: Determine the quantiles of the Nakuru county herbicide prices\n",
        "# Dataset url = http://bit.ly/NakuruCountyHerbicidePrices\n",
        "# ---\n",
        "# \n",
        "\n",
        "# Finding the quantiles of the herbicide average prices\n",
        "nakuru_county_herbicide_prices_df[\"Average_Price\"].quantile([0.25,0.5,0.75])"
      ],
      "execution_count": 45,
      "outputs": [
        {
          "output_type": "execute_result",
          "data": {
            "text/plain": [
              "0.25    1162.5\n",
              "0.50    1875.0\n",
              "0.75    3900.0\n",
              "Name: Average_Price, dtype: float64"
            ]
          },
          "metadata": {},
          "execution_count": 45
        }
      ]
    },
    {
      "cell_type": "code",
      "metadata": {
        "id": "j_9rzQpe3UEE",
        "colab": {
          "base_uri": "https://localhost:8080/"
        },
        "outputId": "89941c27-055d-4ae5-aee2-bb88b58165fe"
      },
      "source": [
        "# Examples 5: Skewness\n",
        "# Skewness is a measure of the asymmetry of the probability distribution (http://bit.ly/ProbabilityDistribution)\n",
        "# of a real-valued random variable about its mean. The skewness value can be positive or negative, or undefined.\n",
        "# In a perfect normal distribution, the tails on either side of the curve are exact mirror images of each other.\n",
        "# When a distribution is skewed to the left, the tail on the curve’s left-hand side is longer than the tail on the right-hand side,\n",
        "# and the mean is less than the mode. This situation is also called negative skewness.\n",
        "# When a distribution is skewed to the right, the tail on the curve’s right-hand side is longer than the tail on the left-hand side, \n",
        "# and the mean is greater than the mode. This situation is also called positive skewness.\n",
        "# It is important for researchers from the behavioral and business sciences to measure skewness when it appears in their data. \n",
        "# Great amount of skewness may motivate the data scientist to investigate the existence of outliers. \n",
        "# When making decisions about which measure of location to report and which inferential statistic to employ, \n",
        "# one should take into consideration the estimated skewness of the population.\n",
        "# A negative value means the distribution is negatively skewed. A positive value means the distribution is positively skewed.\n",
        "# ---\n",
        "# Question: Determine the skewness of the Nakuru county herbicide prices.\n",
        "# Dataset url = http://bit.ly/NakuruCountyHerbicidePrices\n",
        "# ---\n",
        "#\n",
        "\n",
        "# Determining the skeweness\n",
        "nakuru_county_herbicide_prices_df[\"Average_Price\"].skew()"
      ],
      "execution_count": 46,
      "outputs": [
        {
          "output_type": "execute_result",
          "data": {
            "text/plain": [
              "1.0944233329783948"
            ]
          },
          "metadata": {},
          "execution_count": 46
        }
      ]
    },
    {
      "cell_type": "code",
      "metadata": {
        "id": "HTwjeGEy3XAB",
        "colab": {
          "base_uri": "https://localhost:8080/"
        },
        "outputId": "fd32641b-7589-4835-98bc-05733ba07795"
      },
      "source": [
        "# Examples 6: Kurtosis\n",
        "# The exact interpretation of the measure of Kurtosis used to be disputed, but is now settled. \n",
        "# Its about existence of outliers. Kurtosis is a measure of whether the data are heavy-tailed (profusion of outliers)\n",
        "# or light-tailed (lack of outliers) relative to a normal distribution.\n",
        "# There are three types of Kurtosis: Mesokurtic, Leptokurtic, Mesokurtic and Platykurtic. \n",
        "# ***\n",
        "# Mesokurtic is the distribution which has similar kurtosis as normal distribution kurtosis, which is zero.\n",
        "# ***\n",
        "# Leptokurtic is the distribution which has kurtosis greater than a Mesokurtic distribution. Tails of such distributions are thick and heavy. \n",
        "# If the curve of a distribution is more peaked than Mesokurtic curve, it is referred to as a Leptokurtic curve.\n",
        "# ***\n",
        "# Platykurtic is the distribution which has kurtosis lesser than a Mesokurtic distribution. Tails of such distributions thinner. \n",
        "# If a curve of a distribution is less peaked than a Mesokurtic curve, it is referred to as a Platykurtic curve.\n",
        "# \n",
        "# If the kurtosis is close to 0, then a normal distribution is often assumed. These are called mesokurtic distributions. \n",
        "# If the kurtosis is less than zero, then the distribution is light tails and is called a platykurtic distribution.  \n",
        "# If the kurtosis is greater than zero, then the distribution has heavier tails and is called a leptokurtic distribution.\n",
        "# ---\n",
        "# Question: Determine the Kurtosis of the Nakuru county herbicide prices \n",
        "# Dataset url = http://bit.ly/NakuruCountyHerbicidePrices\n",
        "# ---\n",
        "#\n",
        "\n",
        "# Determining the skeweness \n",
        "nakuru_county_herbicide_prices_df[\"Average_Price\"].kurt()"
      ],
      "execution_count": 47,
      "outputs": [
        {
          "output_type": "execute_result",
          "data": {
            "text/plain": [
              "-0.1522981864221693"
            ]
          },
          "metadata": {},
          "execution_count": 47
        }
      ]
    },
    {
      "cell_type": "code",
      "metadata": {
        "id": "cN5YUpsblCLC",
        "colab": {
          "base_uri": "https://localhost:8080/"
        },
        "outputId": "f0175ef4-e136-4bac-d9d5-e2bfd5e83ffe"
      },
      "source": [
        "# Example 7: Displaying the summary statistics of the dataframe\n",
        "#\n",
        "nakuru_county_herbicide_prices_df['Average_Price'].describe()\n"
      ],
      "execution_count": 48,
      "outputs": [
        {
          "output_type": "execute_result",
          "data": {
            "text/plain": [
              "count      18.000000\n",
              "mean     2933.333333\n",
              "std      2539.974525\n",
              "min       550.000000\n",
              "25%      1162.500000\n",
              "50%      1875.000000\n",
              "75%      3900.000000\n",
              "max      8000.000000\n",
              "Name: Average_Price, dtype: float64"
            ]
          },
          "metadata": {},
          "execution_count": 48
        }
      ]
    },
    {
      "cell_type": "markdown",
      "metadata": {
        "id": "xumXllAg5A6N"
      },
      "source": [
        "#### <font color=\"green\">1.32 Challenges</font>"
      ]
    },
    {
      "cell_type": "code",
      "metadata": {
        "id": "gXnEzujX5Gi0",
        "colab": {
          "base_uri": "https://localhost:8080/"
        },
        "outputId": "01c20c17-acf5-4569-b490-346a6247d19b"
      },
      "source": [
        "# Challenge 1: Standard Deviation\n",
        "# ---\n",
        "# What was the variance of end of reporting month surplus for the 90kg bags?\n",
        "# Dataset url = http://bit.ly/KisumuFoodSecurtyDataset\n",
        "# ---\n",
        "# \n",
        "df_surp=pd.read_csv('http://bit.ly/KisumuFoodSecurtyDataset')\n",
        "df_surp['End_of_reporting_month_surplus-_90_Kg_bags'].std()"
      ],
      "execution_count": 51,
      "outputs": [
        {
          "output_type": "execute_result",
          "data": {
            "text/plain": [
              "16791.401843156884"
            ]
          },
          "metadata": {},
          "execution_count": 51
        }
      ]
    },
    {
      "cell_type": "code",
      "metadata": {
        "id": "233fZPZb3aE8",
        "colab": {
          "base_uri": "https://localhost:8080/"
        },
        "outputId": "1ed84bcf-247c-444f-948e-81656a9b89f4"
      },
      "source": [
        "# Challenge 2: Variance \n",
        "# ---\n",
        "# What was the variance of end of reporting month surplus for the 90kg bags?\n",
        "# Dataset url = http://bit.ly/KisumuFoodSecurityDataset\n",
        "# ---\n",
        "# \n",
        "df_surp['End_of_reporting_month_surplus-_90_Kg_bags'].var()"
      ],
      "execution_count": 52,
      "outputs": [
        {
          "output_type": "execute_result",
          "data": {
            "text/plain": [
              "281951175.85837245"
            ]
          },
          "metadata": {},
          "execution_count": 52
        }
      ]
    },
    {
      "cell_type": "code",
      "metadata": {
        "id": "0V7cj3tZ5Ive",
        "colab": {
          "base_uri": "https://localhost:8080/"
        },
        "outputId": "9aeff748-a192-46a8-9e87-2d6187ad580f"
      },
      "source": [
        "# Challenge 3: Range\n",
        "# ---\n",
        "# What was the range of end of reporting month surplus for the 90kg bags?\n",
        "# Dataset url = http://bit.ly/KisumuFoodSecurityDataset\n",
        "# ---\n",
        "# \n",
        "range_=df_surp['End_of_reporting_month_surplus-_90_Kg_bags'].max()-df_surp['End_of_reporting_month_surplus-_90_Kg_bags'].min()\n",
        "range_"
      ],
      "execution_count": 53,
      "outputs": [
        {
          "output_type": "execute_result",
          "data": {
            "text/plain": [
              "59835"
            ]
          },
          "metadata": {},
          "execution_count": 53
        }
      ]
    },
    {
      "cell_type": "code",
      "metadata": {
        "id": "goQeGKwvEYTR",
        "colab": {
          "base_uri": "https://localhost:8080/"
        },
        "outputId": "6c29f873-fe3d-4266-e137-581ea6100b61"
      },
      "source": [
        "# Challenge 4: Quantiles\n",
        "# ---\n",
        "# What was the range of end of reporting month surplus for the 90kg bags?\n",
        "# Dataset url = http://bit.ly/KisumuFoodSecurityDataset\n",
        "# ---\n",
        "# \n",
        "interquartile_range=df_surp['End_of_reporting_month_surplus-_90_Kg_bags'].quantile(0.75)-df_surp['End_of_reporting_month_surplus-_90_Kg_bags'].quantile(0.25)\n",
        "interquartile_range"
      ],
      "execution_count": 55,
      "outputs": [
        {
          "output_type": "execute_result",
          "data": {
            "text/plain": [
              "22171.5"
            ]
          },
          "metadata": {},
          "execution_count": 55
        }
      ]
    },
    {
      "cell_type": "code",
      "metadata": {
        "id": "9i9AaOF-EZ7M",
        "colab": {
          "base_uri": "https://localhost:8080/"
        },
        "outputId": "e6359ffd-960e-4a61-978c-e55644174d4a"
      },
      "source": [
        "# Challenge 5: Skewness\n",
        "# ---\n",
        "# What was the skewness of end of reporting month surplus for the 90kg bags?\n",
        "# Dataset url = http://bit.ly/KisumuFoodSecurityDataset\n",
        "# ---\n",
        "# \n",
        "df_surp['End_of_reporting_month_surplus-_90_Kg_bags'].skew()"
      ],
      "execution_count": 56,
      "outputs": [
        {
          "output_type": "execute_result",
          "data": {
            "text/plain": [
              "1.1041466566572853"
            ]
          },
          "metadata": {},
          "execution_count": 56
        }
      ]
    },
    {
      "cell_type": "code",
      "metadata": {
        "id": "jJG08eSTEbG6",
        "colab": {
          "base_uri": "https://localhost:8080/"
        },
        "outputId": "dc1c8271-06a0-4277-e8e8-ee7f1cd60b22"
      },
      "source": [
        "# Challenge 6: Kurtosis \n",
        "# ---\n",
        "# Find the kurtosis of end of reporting month surplus for the 90kg bags?\n",
        "# Dataset url = http://bit.ly/KisumuFoodSecurityDataset\n",
        "# ---\n",
        "# \n",
        "df_surp['End_of_reporting_month_surplus-_90_Kg_bags'].kurt()"
      ],
      "execution_count": 57,
      "outputs": [
        {
          "output_type": "execute_result",
          "data": {
            "text/plain": [
              "-0.007825909487768179"
            ]
          },
          "metadata": {},
          "execution_count": 57
        }
      ]
    },
    {
      "cell_type": "markdown",
      "metadata": {
        "id": "kKZFF5-Q6d5c"
      },
      "source": [
        "### 1.33 Visualisation Techniques"
      ]
    },
    {
      "cell_type": "markdown",
      "metadata": {
        "id": "32s_izI76icw"
      },
      "source": [
        "#### 1.41 Box Plots"
      ]
    },
    {
      "cell_type": "code",
      "metadata": {
        "id": "Cf_cAZET6iHd",
        "colab": {
          "base_uri": "https://localhost:8080/",
          "height": 350
        },
        "outputId": "fbff6e4d-dbcd-4c36-fd5f-f5f8b49689f2"
      },
      "source": [
        "# Example 1\n",
        "# A boxplot is a standardized way of displaying the distribution of data based on a \n",
        "# five number summary (“minimum”, first quartile (Q1), median, third quartile (Q3), and “maximum”). \n",
        "# It can tell you about your outliers and what their values are. It can also tell you if your data is symmetrical, \n",
        "# how tightly your data is grouped, and if and how your data is skewed.\n",
        "# ---\n",
        "# Question: Plot a box plot of the average herbicide price\n",
        "# Dataset url = http://bit.ly/Kisumu-crop-statistics\n",
        "# ---\n",
        "#\n",
        "\n",
        "# Creating the boxplot\n",
        "#\n",
        "sns.boxplot(nakuru_county_herbicide_prices_df[\"Average_Price\"], showmeans=True)\n"
      ],
      "execution_count": 58,
      "outputs": [
        {
          "output_type": "stream",
          "name": "stderr",
          "text": [
            "/usr/local/lib/python3.7/dist-packages/seaborn/_decorators.py:43: FutureWarning: Pass the following variable as a keyword arg: x. From version 0.12, the only valid positional argument will be `data`, and passing other arguments without an explicit keyword will result in an error or misinterpretation.\n",
            "  FutureWarning\n"
          ]
        },
        {
          "output_type": "execute_result",
          "data": {
            "text/plain": [
              "<matplotlib.axes._subplots.AxesSubplot at 0x7fe7e87615d0>"
            ]
          },
          "metadata": {},
          "execution_count": 58
        },
        {
          "output_type": "display_data",
          "data": {
            "image/png": "[encoded data removed]",
            "text/plain": [
              "<Figure size 432x288 with 1 Axes>"
            ]
          },
          "metadata": {
            "needs_background": "light"
          }
        }
      ]
    },
    {
      "cell_type": "code",
      "metadata": {
        "id": "QcI9bqIq68t3",
        "colab": {
          "base_uri": "https://localhost:8080/",
          "height": 283
        },
        "outputId": "9f279827-5257-4256-d85c-393f4faf92d6"
      },
      "source": [
        "# Example 2\n",
        "# ---\n",
        "# Question: Using pandas, create a boxplot of the target yield bags per hectare during the long rains. \n",
        "# Dataset url = http://bit.ly/Kisumu-crop-statistics\n",
        "# ---\n",
        "#\n",
        "\n",
        "# Creating the boxplot\n",
        "#\n",
        "kisumu_crop_statistics_df.boxplot([\"TARGET_YIELD__BAG/HA_LONG_RAINS\"])"
      ],
      "execution_count": 59,
      "outputs": [
        {
          "output_type": "execute_result",
          "data": {
            "text/plain": [
              "<matplotlib.axes._subplots.AxesSubplot at 0x7fe7e7434c10>"
            ]
          },
          "metadata": {},
          "execution_count": 59
        },
        {
          "output_type": "display_data",
          "data": {
            "image/png": "[encoded data removed]",
            "text/plain": [
              "<Figure size 432x288 with 1 Axes>"
            ]
          },
          "metadata": {
            "needs_background": "light"
          }
        }
      ]
    },
    {
      "cell_type": "code",
      "metadata": {
        "colab": {
          "base_uri": "https://localhost:8080/"
        },
        "id": "_0akhW8qOLf5",
        "outputId": "abf822a0-13af-4ad9-cdf0-4d470f5e8c80"
      },
      "source": [
        "kisumu_crop_statistics_df.columns"
      ],
      "execution_count": 60,
      "outputs": [
        {
          "output_type": "execute_result",
          "data": {
            "text/plain": [
              "Index(['SUB-COUNTY', 'PRODUCE', 'TARGET_AREA_HA_LONG_RAINS',\n",
              "       'TARGET_AREA_HA_SHORT_RAINS', 'TARGET_TOTAL_',\n",
              "       'TARGET_YIELD__BAG/HA_LONG_RAINS', 'TARGET_YIELD__BAG/HA_SHORT_RAINS',\n",
              "       'TARGET_PRODUCTION_BAGS_LONG_RAINS',\n",
              "       'TARGET_PRODUCTION_BAGS_SHORT_RAINS', 'TARGET_PRODUCTION_BAGS_TOTAL',\n",
              "       'ACHIEVEMENT_AREA_HA_LONG_RAINS', 'ACHIEVEMENT_AREA_HA_SHORT_RAINS',\n",
              "       'ACHIEVEMENT_TOTAL', 'PROJECTED_YIELD_BAG/HA_LONG_RAINS',\n",
              "       'PROJECTED_YIELD_BAG/HA_SHORT_RAINS',\n",
              "       'PROJECTED___PRODUCTION_BAGS_OF_90KG_EACH__LR',\n",
              "       'PROJECTED___PRODUCTION_BAGS_OF_90KG_EACH__SR',\n",
              "       'PROJECTED___PRODUCTION_BAGS_OF_90KG_EACH__TOTAL',\n",
              "       'PRICES_KSH/BAG_LONG_RAINS', 'PRICES_KSH/BAG_SHORT_RAINS',\n",
              "       'VALUE_KSH__LONG_RAINS', 'VALUE_KSH_SHORT_RAINS', 'VALUE_KSH_TOTAL',\n",
              "       'DATE', 'OBJECTID'],\n",
              "      dtype='object')"
            ]
          },
          "metadata": {},
          "execution_count": 60
        }
      ]
    },
    {
      "cell_type": "markdown",
      "metadata": {
        "id": "DHNDapES6-4D"
      },
      "source": [
        "##### <font color=\"green\">1.41 Challenges</font>"
      ]
    },
    {
      "cell_type": "code",
      "metadata": {
        "id": "Np_EB-2g7EjP",
        "colab": {
          "base_uri": "https://localhost:8080/",
          "height": 283
        },
        "outputId": "6b5e0fea-eb2b-4122-b5c4-a5fdbde32663"
      },
      "source": [
        "# Challenge 1\n",
        "# ---\n",
        "# Question: Using pandas, create a boxplot of the target area per hectare during the short rains.\n",
        "# Dataset url = http://bit.ly/Kisumu-crop-statistics\n",
        "# ---\n",
        "# \n",
        "kisumu_crop_statistics_df.boxplot(['TARGET_AREA_HA_SHORT_RAINS'])"
      ],
      "execution_count": 61,
      "outputs": [
        {
          "output_type": "execute_result",
          "data": {
            "text/plain": [
              "<matplotlib.axes._subplots.AxesSubplot at 0x7fe7e76a07d0>"
            ]
          },
          "metadata": {},
          "execution_count": 61
        },
        {
          "output_type": "display_data",
          "data": {
            "image/png": "[encoded data removed]",
            "text/plain": [
              "<Figure size 432x288 with 1 Axes>"
            ]
          },
          "metadata": {
            "needs_background": "light"
          }
        }
      ]
    },
    {
      "cell_type": "code",
      "metadata": {
        "id": "woDc6x7z7Jhf",
        "colab": {
          "base_uri": "https://localhost:8080/",
          "height": 283
        },
        "outputId": "51bb8771-27fb-4b7a-8e6a-d3ab8fca2969"
      },
      "source": [
        "# Challenge 2\n",
        "# ---\n",
        "# Question: Using pandas, create a boxplot of the target production bags the long rains.\n",
        "# Dataset url = http://bit.ly/Kisumu-crop-statistics\n",
        "# ---\n",
        "#\n",
        "kisumu_crop_statistics_df.boxplot(['TARGET_PRODUCTION_BAGS_LONG_RAINS'])"
      ],
      "execution_count": 62,
      "outputs": [
        {
          "output_type": "execute_result",
          "data": {
            "text/plain": [
              "<matplotlib.axes._subplots.AxesSubplot at 0x7fe7e75a1550>"
            ]
          },
          "metadata": {},
          "execution_count": 62
        },
        {
          "output_type": "display_data",
          "data": {
            "image/png": "[encoded data removed]",
            "text/plain": [
              "<Figure size 432x288 with 1 Axes>"
            ]
          },
          "metadata": {
            "needs_background": "light"
          }
        }
      ]
    },
    {
      "cell_type": "markdown",
      "metadata": {
        "id": "NqN2REVg6xM7"
      },
      "source": [
        "#### 1.42 More Histograms"
      ]
    },
    {
      "cell_type": "code",
      "metadata": {
        "id": "cGxxrtln66MY",
        "colab": {
          "base_uri": "https://localhost:8080/",
          "height": 282
        },
        "outputId": "407dd267-c82e-421e-adae-b70324cde5f5"
      },
      "source": [
        "# Example 1\n",
        "# ---\n",
        "# Question: Plot a histogram of target area during long rains in kisumu county.\n",
        "# Dataset url = http://bit.ly/Kisumu-crop-statistics\n",
        "# ---\n",
        "# \n",
        "\n",
        "# Plotting the histogram\n",
        "#\n",
        "kisumu_crop_statistics_df['TARGET_AREA_HA_LONG_RAINS'].hist()"
      ],
      "execution_count": 63,
      "outputs": [
        {
          "output_type": "execute_result",
          "data": {
            "text/plain": [
              "<matplotlib.axes._subplots.AxesSubplot at 0x7fe7e7600f10>"
            ]
          },
          "metadata": {},
          "execution_count": 63
        },
        {
          "output_type": "display_data",
          "data": {
            "image/png": "[encoded data removed]",
            "text/plain": [
              "<Figure size 432x288 with 1 Axes>"
            ]
          },
          "metadata": {
            "needs_background": "light"
          }
        }
      ]
    },
    {
      "cell_type": "code",
      "metadata": {
        "id": "31CPj4mFH2X2"
      },
      "source": [
        "kisumu_crop_statistics_df.head()"
      ],
      "execution_count": null,
      "outputs": []
    },
    {
      "cell_type": "code",
      "metadata": {
        "id": "jZ_y-wGN7Pro",
        "colab": {
          "base_uri": "https://localhost:8080/",
          "height": 350
        },
        "outputId": "76275fd7-266a-4575-88a9-a945b9fa1056"
      },
      "source": [
        "# Example 2\n",
        "# ---\n",
        "# Question: Using Seaborn, Plot a histogram of target area for maize during long rains in kisumu county\n",
        "# ---\n",
        "#\n",
        "\n",
        "# Plotting our histogram\n",
        "#\n",
        "df = kisumu_crop_statistics_df[kisumu_crop_statistics_df.PRODUCE == 'Maize']\n",
        "sns.distplot(kisumu_crop_statistics_df['TARGET_AREA_HA_LONG_RAINS'],  kde=False,label='Maize')"
      ],
      "execution_count": 66,
      "outputs": [
        {
          "output_type": "stream",
          "name": "stderr",
          "text": [
            "/usr/local/lib/python3.7/dist-packages/seaborn/distributions.py:2557: FutureWarning: `distplot` is a deprecated function and will be removed in a future version. Please adapt your code to use either `displot` (a figure-level function with similar flexibility) or `histplot` (an axes-level function for histograms).\n",
            "  warnings.warn(msg, FutureWarning)\n"
          ]
        },
        {
          "output_type": "execute_result",
          "data": {
            "text/plain": [
              "<matplotlib.axes._subplots.AxesSubplot at 0x7fe7e7275f50>"
            ]
          },
          "metadata": {},
          "execution_count": 66
        },
        {
          "output_type": "display_data",
          "data": {
            "image/png": "[encoded data removed]",
            "text/plain": [
              "<Figure size 432x288 with 1 Axes>"
            ]
          },
          "metadata": {
            "needs_background": "light"
          }
        }
      ]
    },
    {
      "cell_type": "markdown",
      "metadata": {
        "id": "uXIKUeun7Tz6"
      },
      "source": [
        "#### <font color=\"green\">1.43 Challenges</font>"
      ]
    },
    {
      "cell_type": "code",
      "metadata": {
        "id": "c20egYFA7ZQA",
        "colab": {
          "base_uri": "https://localhost:8080/",
          "height": 282
        },
        "outputId": "26fdf5a2-b98a-49b3-a297-d3fad91acbb5"
      },
      "source": [
        "# Challenge 1\n",
        "# ---\n",
        "# Question: Plot a histogram of weight in kgs for fish production\n",
        "# Dataset url = \"http://bit.ly/Kisumu-fish-production\"\n",
        "# ---\n",
        "#\n",
        "fish_df=pd.read_csv(\"http://bit.ly/Kisumu-fish-production\")\n",
        "fish_df['WEIGHT_KGS'].hist()"
      ],
      "execution_count": 68,
      "outputs": [
        {
          "output_type": "execute_result",
          "data": {
            "text/plain": [
              "<matplotlib.axes._subplots.AxesSubplot at 0x7fe7e8927310>"
            ]
          },
          "metadata": {},
          "execution_count": 68
        },
        {
          "output_type": "display_data",
          "data": {
            "image/png": "[encoded data removed]",
            "text/plain": [
              "<Figure size 432x288 with 1 Axes>"
            ]
          },
          "metadata": {
            "needs_background": "light"
          }
        }
      ]
    },
    {
      "cell_type": "code",
      "metadata": {
        "id": "8_NmsQOu7aTW",
        "colab": {
          "base_uri": "https://localhost:8080/",
          "height": 350
        },
        "outputId": "d6917f29-924c-4c54-b7de-46c7d7a5ab10"
      },
      "source": [
        "# Challenge 2\n",
        "# ---\n",
        "# Question: Plot a histogram of target yield bags during short rains.\n",
        "# Dataset url = \"http://bit.ly/Kisumu-crop-statistics\"\n",
        "# ---\n",
        "# \n",
        "kisumu_df=pd.read_csv(\"http://bit.ly/Kisumu-crop-statistics\")\n",
        "sns.distplot(kisumu_df['TARGET_YIELD__BAG/HA_SHORT_RAINS'], kde=False, label='maize')"
      ],
      "execution_count": 69,
      "outputs": [
        {
          "output_type": "stream",
          "name": "stderr",
          "text": [
            "/usr/local/lib/python3.7/dist-packages/seaborn/distributions.py:2557: FutureWarning: `distplot` is a deprecated function and will be removed in a future version. Please adapt your code to use either `displot` (a figure-level function with similar flexibility) or `histplot` (an axes-level function for histograms).\n",
            "  warnings.warn(msg, FutureWarning)\n"
          ]
        },
        {
          "output_type": "execute_result",
          "data": {
            "text/plain": [
              "<matplotlib.axes._subplots.AxesSubplot at 0x7fe7e3d01090>"
            ]
          },
          "metadata": {},
          "execution_count": 69
        },
        {
          "output_type": "display_data",
          "data": {
            "image/png": "[encoded data removed]",
            "text/plain": [
              "<Figure size 432x288 with 1 Axes>"
            ]
          },
          "metadata": {
            "needs_background": "light"
          }
        }
      ]
    },
    {
      "cell_type": "markdown",
      "metadata": {
        "id": "y2tpmU6oFKHX"
      },
      "source": [
        ""
      ]
    },
    {
      "cell_type": "code",
      "metadata": {
        "id": "gOGG_XWoFKiM"
      },
      "source": [
        ""
      ],
      "execution_count": null,
      "outputs": []
    }
  ]
}