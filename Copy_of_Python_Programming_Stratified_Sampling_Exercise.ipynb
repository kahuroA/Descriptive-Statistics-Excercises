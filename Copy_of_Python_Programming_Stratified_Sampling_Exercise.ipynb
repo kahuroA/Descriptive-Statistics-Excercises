{
  "nbformat": 4,
  "nbformat_minor": 0,
  "metadata": {
    "colab": {
      "name": "Copy of Python Programming: Stratified Sampling Exercise",
      "provenance": [],
      "collapsed_sections": [
        "c_l7pRnbX4Ws",
        "xIswFcWu4X-M"
      ],
      "include_colab_link": true
    },
    "kernelspec": {
      "name": "python3",
      "display_name": "Python 3"
    }
  },
  "cells": [
    {
      "cell_type": "markdown",
      "metadata": {
        "id": "view-in-github",
        "colab_type": "text"
      },
      "source": [
        "<a href=\"https://colab.research.google.com/github/kahuroA/Descriptive-Statistics-Excercises/blob/main/Copy_of_Python_Programming_Stratified_Sampling_Exercise.ipynb\" target=\"_parent\"><img src=\"https://colab.research.google.com/assets/colab-badge.svg\" alt=\"Open In Colab\"/></a>"
      ]
    },
    {
      "cell_type": "markdown",
      "metadata": {
        "id": "xyMO0fjEat9e"
      },
      "source": [
        "<font color=\"green\">*To start working on this notebook, or any other notebook that we will use in the Moringa Data Science Course, we will need to save our own copy of it. We can do this by clicking File > Save a Copy in Drive. We will then be able to make edits to our own copy of this notebook.*</font>"
      ]
    },
    {
      "cell_type": "markdown",
      "metadata": {
        "id": "roBP_xMEBpqE"
      },
      "source": [
        "# Python Programming: Stratified Sampling Exercise"
      ]
    },
    {
      "cell_type": "markdown",
      "metadata": {
        "id": "c_l7pRnbX4Ws"
      },
      "source": [
        "## Example"
      ]
    },
    {
      "cell_type": "markdown",
      "metadata": {
        "id": "2g6eBvTuD1-M"
      },
      "source": [
        "We are going to use the example we looked at in the overview. Our dataset is comprised of different heights of Moringa School students. It has 10,000 entries whereby 60% are female and 40% are Male. We are going to perform stratified sampling on this population so that we can get a sample of 1000 students which has the same proportion as the population."
      ]
    },
    {
      "cell_type": "markdown",
      "metadata": {
        "id": "RM4m989jCC9m"
      },
      "source": [
        "**Import relevant Libraries**"
      ]
    },
    {
      "cell_type": "code",
      "metadata": {
        "id": "SqwTmeFQZqp7"
      },
      "source": [
        "import pandas as pd\n"
      ],
      "execution_count": 1,
      "outputs": []
    },
    {
      "cell_type": "markdown",
      "metadata": {
        "id": "Z02bhgrMCQdc"
      },
      "source": [
        "**Load the Dataset**\n",
        "\n",
        "Here is the dataset we are going to use in this example.[Dataset Download](https://drive.google.com/file/d/1ODcSRSs_isRKCAShFwnMrXdcphed9kYn/view?usp=sharing)"
      ]
    },
    {
      "cell_type": "code",
      "metadata": {
        "id": "e61iXAYnaNqV",
        "colab": {
          "base_uri": "https://localhost:8080/",
          "height": 417
        },
        "outputId": "7f03ae6f-24c7-44fa-efaa-1ca1280bec80"
      },
      "source": [
        "# Load the data into a panda dataframe\n",
        "data= pd.read_csv('Gender_heights.csv')\n",
        "\n",
        "# Check out the data\n",
        "data\n",
        "\n"
      ],
      "execution_count": 2,
      "outputs": [
        {
          "output_type": "execute_result",
          "data": {
            "text/html": [
              "<div>\n",
              "<style scoped>\n",
              "    .dataframe tbody tr th:only-of-type {\n",
              "        vertical-align: middle;\n",
              "    }\n",
              "\n",
              "    .dataframe tbody tr th {\n",
              "        vertical-align: top;\n",
              "    }\n",
              "\n",
              "    .dataframe thead th {\n",
              "        text-align: right;\n",
              "    }\n",
              "</style>\n",
              "<table border=\"1\" class=\"dataframe\">\n",
              "  <thead>\n",
              "    <tr style=\"text-align: right;\">\n",
              "      <th></th>\n",
              "      <th>gender</th>\n",
              "      <th>ht</th>\n",
              "    </tr>\n",
              "  </thead>\n",
              "  <tbody>\n",
              "    <tr>\n",
              "      <th>0</th>\n",
              "      <td>F</td>\n",
              "      <td>55.398043</td>\n",
              "    </tr>\n",
              "    <tr>\n",
              "      <th>1</th>\n",
              "      <td>F</td>\n",
              "      <td>64.975468</td>\n",
              "    </tr>\n",
              "    <tr>\n",
              "      <th>2</th>\n",
              "      <td>F</td>\n",
              "      <td>70.591667</td>\n",
              "    </tr>\n",
              "    <tr>\n",
              "      <th>3</th>\n",
              "      <td>F</td>\n",
              "      <td>63.574479</td>\n",
              "    </tr>\n",
              "    <tr>\n",
              "      <th>4</th>\n",
              "      <td>F</td>\n",
              "      <td>62.535298</td>\n",
              "    </tr>\n",
              "    <tr>\n",
              "      <th>...</th>\n",
              "      <td>...</td>\n",
              "      <td>...</td>\n",
              "    </tr>\n",
              "    <tr>\n",
              "      <th>9995</th>\n",
              "      <td>M</td>\n",
              "      <td>91.485240</td>\n",
              "    </tr>\n",
              "    <tr>\n",
              "      <th>9996</th>\n",
              "      <td>M</td>\n",
              "      <td>94.842755</td>\n",
              "    </tr>\n",
              "    <tr>\n",
              "      <th>9997</th>\n",
              "      <td>M</td>\n",
              "      <td>98.096696</td>\n",
              "    </tr>\n",
              "    <tr>\n",
              "      <th>9998</th>\n",
              "      <td>M</td>\n",
              "      <td>91.478957</td>\n",
              "    </tr>\n",
              "    <tr>\n",
              "      <th>9999</th>\n",
              "      <td>M</td>\n",
              "      <td>88.849197</td>\n",
              "    </tr>\n",
              "  </tbody>\n",
              "</table>\n",
              "<p>10000 rows × 2 columns</p>\n",
              "</div>"
            ],
            "text/plain": [
              "     gender         ht\n",
              "0         F  55.398043\n",
              "1         F  64.975468\n",
              "2         F  70.591667\n",
              "3         F  63.574479\n",
              "4         F  62.535298\n",
              "...     ...        ...\n",
              "9995      M  91.485240\n",
              "9996      M  94.842755\n",
              "9997      M  98.096696\n",
              "9998      M  91.478957\n",
              "9999      M  88.849197\n",
              "\n",
              "[10000 rows x 2 columns]"
            ]
          },
          "metadata": {},
          "execution_count": 2
        }
      ]
    },
    {
      "cell_type": "code",
      "metadata": {
        "id": "9SDKk4eUGrx_",
        "colab": {
          "base_uri": "https://localhost:8080/"
        },
        "outputId": "4fe24b4f-6dd5-4c08-fd8b-1088de3463c7"
      },
      "source": [
        "# Now we will confirm how many Female students and Male students are there in our dataset.\n",
        "# To achieve this we will use pandas .value_count() method. This method outputs the number of times a value appears in a column.\n",
        "data['gender'].value_counts()"
      ],
      "execution_count": 3,
      "outputs": [
        {
          "output_type": "execute_result",
          "data": {
            "text/plain": [
              "F    6000\n",
              "M    4000\n",
              "Name: gender, dtype: int64"
            ]
          },
          "metadata": {},
          "execution_count": 3
        }
      ]
    },
    {
      "cell_type": "markdown",
      "metadata": {
        "id": "_u_K93F9KrS-"
      },
      "source": [
        "Now that we have confirmed that our popluation follows the correct proportion, we are going to first create a random sample of 1000 students without stratification just to see how it behaves."
      ]
    },
    {
      "cell_type": "code",
      "metadata": {
        "id": "-tWJJwM7LJn6",
        "colab": {
          "base_uri": "https://localhost:8080/"
        },
        "outputId": "ec67f185-e6c3-4e81-9376-6530128c6f8f"
      },
      "source": [
        "# To create a random sample from a dataframe we use the pandas sample method. You can read more about it here.https://pandas.pydata.org/pandas-docs/stable/reference/api/pandas.DataFrame.sample.html\n",
        "# We pass in an argument called frac which symbolises the fraction of the population we want to use as our sample\n",
        "\n",
        "# Non stratified sample\n",
        "non_strat_output = data.sample(frac=0.1) \n",
        "\n",
        "# check the proportion of the non_stratified sample\n",
        "print(non_strat_output['gender'].value_counts())"
      ],
      "execution_count": 4,
      "outputs": [
        {
          "output_type": "stream",
          "name": "stdout",
          "text": [
            "F    614\n",
            "M    386\n",
            "Name: gender, dtype: int64\n"
          ]
        }
      ]
    },
    {
      "cell_type": "markdown",
      "metadata": {
        "id": "9KY2PgCAUsa5"
      },
      "source": [
        "Run the code several times, taking note of the proportion of Female and Male. What do you notice?\n",
        "\n",
        "When you run it several time, you'll notice that the proportion varies each time. Although it ranges closely to our desired proportion, its not quite the 60-40 proportion we want. To remedy it, this is where stratified sampling comes in handy.\n",
        "\n",
        "Let's us create a stratified random sample and see how it behaves"
      ]
    },
    {
      "cell_type": "code",
      "metadata": {
        "id": "Mgxm7zGZWHj5",
        "cellView": "both",
        "colab": {
          "base_uri": "https://localhost:8080/"
        },
        "outputId": "2b2f682c-c44e-4f28-e0c2-f1c9e2234ed9"
      },
      "source": [
        "\n",
        "# To create a stratified random sample we'll use pandas groupBy method. Basically what the method does is that it splits our dataset into sets and then applies a function on each subset.\n",
        "# In our case, we are going to applies a function that puts each subset into a random sample with a size of 100. The beauty about this method is that it strictly maintains the populations proportion.\n",
        "\n",
        "# Stratified sample\n",
        "strat_output = data.groupby('gender', group_keys=False).apply(lambda grouped_subset : grouped_subset.sample(frac=0.1))\n",
        "\n",
        "# proportion of the non_stratified sample\n",
        "print(strat_output['gender'].value_counts())\n",
        "\n",
        "# Check the stratified output\n",
        "print(strat_output)\n",
        "\n",
        " "
      ],
      "execution_count": 5,
      "outputs": [
        {
          "output_type": "stream",
          "name": "stdout",
          "text": [
            "F    600\n",
            "M    400\n",
            "Name: gender, dtype: int64\n",
            "     gender         ht\n",
            "5978      F  62.145475\n",
            "1468      F  60.623567\n",
            "1732      F  63.367706\n",
            "3426      F  55.835200\n",
            "1480      F  49.946640\n",
            "...     ...        ...\n",
            "9152      M  85.888857\n",
            "9890      M  90.919419\n",
            "9137      M  89.542277\n",
            "6170      M  90.464325\n",
            "8255      M  94.203486\n",
            "\n",
            "[1000 rows x 2 columns]\n"
          ]
        }
      ]
    },
    {
      "cell_type": "markdown",
      "metadata": {
        "id": "xIswFcWu4X-M"
      },
      "source": [
        "## <font color=\"green\">Challenges</font>"
      ]
    },
    {
      "cell_type": "code",
      "metadata": {
        "id": "KKKNoN-pYBAa",
        "colab": {
          "base_uri": "https://localhost:8080/",
          "height": 203
        },
        "outputId": "e6b3a73b-b43d-4b84-b26f-dc65b1715cbe"
      },
      "source": [
        "# Challenge 1\n",
        "# ---\n",
        "# Question: Moringa school is doing an analysis on how the students perform based on the different programmes that they offer.\n",
        "# Given a dataset of 10000 students and you are told that 50% are Core students, 25% are Prep students and 25% are Pre-prep students. \n",
        "# Also in the dataset, 60% of the students are Female and the rest are Male. \n",
        "# You are tasked with creating a stratified random sample that represents that population.\n",
        "# ---\n",
        "# Dataset Source =g https://drive.google.com/file/d/10THQj3iqund_D5tgypBdeKoc2FZ9pC0S/view?usp=sharin\n",
        "# ---\n",
        "# \n",
        "df=pd.read_csv('Moringa_Students_heights.csv')\n",
        "df.head()"
      ],
      "execution_count": 8,
      "outputs": [
        {
          "output_type": "execute_result",
          "data": {
            "text/html": [
              "<div>\n",
              "<style scoped>\n",
              "    .dataframe tbody tr th:only-of-type {\n",
              "        vertical-align: middle;\n",
              "    }\n",
              "\n",
              "    .dataframe tbody tr th {\n",
              "        vertical-align: top;\n",
              "    }\n",
              "\n",
              "    .dataframe thead th {\n",
              "        text-align: right;\n",
              "    }\n",
              "</style>\n",
              "<table border=\"1\" class=\"dataframe\">\n",
              "  <thead>\n",
              "    <tr style=\"text-align: right;\">\n",
              "      <th></th>\n",
              "      <th>programme</th>\n",
              "      <th>gender</th>\n",
              "      <th>ht</th>\n",
              "    </tr>\n",
              "  </thead>\n",
              "  <tbody>\n",
              "    <tr>\n",
              "      <th>0</th>\n",
              "      <td>Prep</td>\n",
              "      <td>F</td>\n",
              "      <td>57.861539</td>\n",
              "    </tr>\n",
              "    <tr>\n",
              "      <th>1</th>\n",
              "      <td>Prep</td>\n",
              "      <td>F</td>\n",
              "      <td>65.550765</td>\n",
              "    </tr>\n",
              "    <tr>\n",
              "      <th>2</th>\n",
              "      <td>Core</td>\n",
              "      <td>F</td>\n",
              "      <td>52.142763</td>\n",
              "    </tr>\n",
              "    <tr>\n",
              "      <th>3</th>\n",
              "      <td>Pre-prep</td>\n",
              "      <td>F</td>\n",
              "      <td>69.453854</td>\n",
              "    </tr>\n",
              "    <tr>\n",
              "      <th>4</th>\n",
              "      <td>Pre-prep</td>\n",
              "      <td>F</td>\n",
              "      <td>54.203258</td>\n",
              "    </tr>\n",
              "  </tbody>\n",
              "</table>\n",
              "</div>"
            ],
            "text/plain": [
              "  programme gender         ht\n",
              "0      Prep      F  57.861539\n",
              "1      Prep      F  65.550765\n",
              "2      Core      F  52.142763\n",
              "3  Pre-prep      F  69.453854\n",
              "4  Pre-prep      F  54.203258"
            ]
          },
          "metadata": {},
          "execution_count": 8
        }
      ]
    },
    {
      "cell_type": "code",
      "metadata": {
        "id": "p4z_p4eCD9rC",
        "outputId": "bd3e6d22-ab5b-4c62-f285-4a8c749c1391",
        "colab": {
          "base_uri": "https://localhost:8080/"
        }
      },
      "source": [
        "strat1=df.groupby(['gender','programme'], group_keys=False).apply(lambda x: x.sample(frac=0.1))\n",
        "print(strat1['gender'].value_counts())\n",
        "print(strat1['programme'].value_counts())"
      ],
      "execution_count": 21,
      "outputs": [
        {
          "output_type": "stream",
          "name": "stdout",
          "text": [
            "F    599\n",
            "M    401\n",
            "Name: gender, dtype: int64\n",
            "Core        500\n",
            "Prep        250\n",
            "Pre-prep    250\n",
            "Name: programme, dtype: int64\n"
          ]
        }
      ]
    },
    {
      "cell_type": "code",
      "metadata": {
        "id": "A3JYY6qkYOXt",
        "colab": {
          "base_uri": "https://localhost:8080/",
          "height": 220
        },
        "outputId": "a2451aa9-7841-4315-d018-5817588c2989"
      },
      "source": [
        "# Challenge 2\n",
        "# ---\n",
        "# Question: A wine company would like to perform some analysis on a variety of new red wines. \n",
        "# Select a stratified sample based on wine quality from the given dataset.\n",
        "# ---\n",
        "# Dataset url = http://bit.ly/RedWinesDataset\n",
        "# ---\n",
        "# \n",
        "df_wine=pd.read_csv('http://bit.ly/RedWinesDataset')\n",
        "df_wine.head()"
      ],
      "execution_count": 22,
      "outputs": [
        {
          "output_type": "execute_result",
          "data": {
            "text/html": [
              "<div>\n",
              "<style scoped>\n",
              "    .dataframe tbody tr th:only-of-type {\n",
              "        vertical-align: middle;\n",
              "    }\n",
              "\n",
              "    .dataframe tbody tr th {\n",
              "        vertical-align: top;\n",
              "    }\n",
              "\n",
              "    .dataframe thead th {\n",
              "        text-align: right;\n",
              "    }\n",
              "</style>\n",
              "<table border=\"1\" class=\"dataframe\">\n",
              "  <thead>\n",
              "    <tr style=\"text-align: right;\">\n",
              "      <th></th>\n",
              "      <th>fixed acidity</th>\n",
              "      <th>volatile acidity</th>\n",
              "      <th>citric acid</th>\n",
              "      <th>residual sugar</th>\n",
              "      <th>chlorides</th>\n",
              "      <th>free sulfur dioxide</th>\n",
              "      <th>total sulfur dioxide</th>\n",
              "      <th>density</th>\n",
              "      <th>pH</th>\n",
              "      <th>sulphates</th>\n",
              "      <th>alcohol</th>\n",
              "      <th>quality</th>\n",
              "    </tr>\n",
              "  </thead>\n",
              "  <tbody>\n",
              "    <tr>\n",
              "      <th>0</th>\n",
              "      <td>7.4</td>\n",
              "      <td>0.70</td>\n",
              "      <td>0.00</td>\n",
              "      <td>1.9</td>\n",
              "      <td>0.076</td>\n",
              "      <td>11.0</td>\n",
              "      <td>34.0</td>\n",
              "      <td>0.9978</td>\n",
              "      <td>3.51</td>\n",
              "      <td>0.56</td>\n",
              "      <td>9.4</td>\n",
              "      <td>5</td>\n",
              "    </tr>\n",
              "    <tr>\n",
              "      <th>1</th>\n",
              "      <td>7.8</td>\n",
              "      <td>0.88</td>\n",
              "      <td>0.00</td>\n",
              "      <td>2.6</td>\n",
              "      <td>0.098</td>\n",
              "      <td>25.0</td>\n",
              "      <td>67.0</td>\n",
              "      <td>0.9968</td>\n",
              "      <td>3.20</td>\n",
              "      <td>0.68</td>\n",
              "      <td>9.8</td>\n",
              "      <td>5</td>\n",
              "    </tr>\n",
              "    <tr>\n",
              "      <th>2</th>\n",
              "      <td>7.8</td>\n",
              "      <td>0.76</td>\n",
              "      <td>0.04</td>\n",
              "      <td>2.3</td>\n",
              "      <td>0.092</td>\n",
              "      <td>15.0</td>\n",
              "      <td>54.0</td>\n",
              "      <td>0.9970</td>\n",
              "      <td>3.26</td>\n",
              "      <td>0.65</td>\n",
              "      <td>9.8</td>\n",
              "      <td>5</td>\n",
              "    </tr>\n",
              "    <tr>\n",
              "      <th>3</th>\n",
              "      <td>11.2</td>\n",
              "      <td>0.28</td>\n",
              "      <td>0.56</td>\n",
              "      <td>1.9</td>\n",
              "      <td>0.075</td>\n",
              "      <td>17.0</td>\n",
              "      <td>60.0</td>\n",
              "      <td>0.9980</td>\n",
              "      <td>3.16</td>\n",
              "      <td>0.58</td>\n",
              "      <td>9.8</td>\n",
              "      <td>6</td>\n",
              "    </tr>\n",
              "    <tr>\n",
              "      <th>4</th>\n",
              "      <td>7.4</td>\n",
              "      <td>0.70</td>\n",
              "      <td>0.00</td>\n",
              "      <td>1.9</td>\n",
              "      <td>0.076</td>\n",
              "      <td>11.0</td>\n",
              "      <td>34.0</td>\n",
              "      <td>0.9978</td>\n",
              "      <td>3.51</td>\n",
              "      <td>0.56</td>\n",
              "      <td>9.4</td>\n",
              "      <td>5</td>\n",
              "    </tr>\n",
              "  </tbody>\n",
              "</table>\n",
              "</div>"
            ],
            "text/plain": [
              "   fixed acidity  volatile acidity  citric acid  ...  sulphates  alcohol  quality\n",
              "0            7.4              0.70         0.00  ...       0.56      9.4        5\n",
              "1            7.8              0.88         0.00  ...       0.68      9.8        5\n",
              "2            7.8              0.76         0.04  ...       0.65      9.8        5\n",
              "3           11.2              0.28         0.56  ...       0.58      9.8        6\n",
              "4            7.4              0.70         0.00  ...       0.56      9.4        5\n",
              "\n",
              "[5 rows x 12 columns]"
            ]
          },
          "metadata": {},
          "execution_count": 22
        }
      ]
    },
    {
      "cell_type": "code",
      "metadata": {
        "id": "cQekK6WCIEdM",
        "outputId": "2c930d8d-ab1a-420b-8ec7-47a306ac11c6",
        "colab": {
          "base_uri": "https://localhost:8080/"
        }
      },
      "source": [
        "df_wine.columns"
      ],
      "execution_count": 23,
      "outputs": [
        {
          "output_type": "execute_result",
          "data": {
            "text/plain": [
              "Index(['fixed acidity', 'volatile acidity', 'citric acid', 'residual sugar',\n",
              "       'chlorides', 'free sulfur dioxide', 'total sulfur dioxide', 'density',\n",
              "       'pH', 'sulphates', 'alcohol', 'quality'],\n",
              "      dtype='object')"
            ]
          },
          "metadata": {},
          "execution_count": 23
        }
      ]
    },
    {
      "cell_type": "code",
      "metadata": {
        "id": "EhXZ8FYNIHvl",
        "outputId": "14bab522-dc94-4e0b-fb87-c8862d12e973",
        "colab": {
          "base_uri": "https://localhost:8080/"
        }
      },
      "source": [
        "wine_strat=df_wine.groupby('quality').apply(lambda x: x.sample(frac=0.5))\n",
        "print(wine_strat['quality'].value_counts())"
      ],
      "execution_count": 24,
      "outputs": [
        {
          "output_type": "stream",
          "name": "stdout",
          "text": [
            "5    340\n",
            "6    319\n",
            "7    100\n",
            "4     26\n",
            "8      9\n",
            "3      5\n",
            "Name: quality, dtype: int64\n"
          ]
        }
      ]
    },
    {
      "cell_type": "code",
      "metadata": {
        "id": "qY0aF-pJZzzs",
        "colab": {
          "base_uri": "https://localhost:8080/",
          "height": 203
        },
        "outputId": "74208bd8-f41d-4c33-c655-f7de2c8b670e"
      },
      "source": [
        "# Challenge 3\n",
        "# ---\n",
        "# Question: You have been provided with a list of employees of a certain company with some details about their gender (male/female) \n",
        "# and their type of employment (full-time/part-time). The HR team wants to conduct a survey on the working condition \n",
        "# that will be representative of the general opinion without interviewing every employee. \n",
        "# They request you conduct stratified sampling before any analysis is done. \n",
        "# ---\n",
        "# Dataset url = http://bit.ly/StratifiedEmployeeDataset\n",
        "# ---\n",
        "# Hint: Perform EDA first\n",
        "# ---\n",
        "#\n",
        "df_employee=pd.read_excel('http://bit.ly/StratifiedEmployeeDataset')\n",
        "df_employee.head()"
      ],
      "execution_count": 25,
      "outputs": [
        {
          "output_type": "execute_result",
          "data": {
            "text/html": [
              "<div>\n",
              "<style scoped>\n",
              "    .dataframe tbody tr th:only-of-type {\n",
              "        vertical-align: middle;\n",
              "    }\n",
              "\n",
              "    .dataframe tbody tr th {\n",
              "        vertical-align: top;\n",
              "    }\n",
              "\n",
              "    .dataframe thead th {\n",
              "        text-align: right;\n",
              "    }\n",
              "</style>\n",
              "<table border=\"1\" class=\"dataframe\">\n",
              "  <thead>\n",
              "    <tr style=\"text-align: right;\">\n",
              "      <th></th>\n",
              "      <th>Employee</th>\n",
              "      <th>Gender</th>\n",
              "      <th>Time</th>\n",
              "      <th>Strata</th>\n",
              "    </tr>\n",
              "  </thead>\n",
              "  <tbody>\n",
              "    <tr>\n",
              "      <th>0</th>\n",
              "      <td>Em001</td>\n",
              "      <td>Male</td>\n",
              "      <td>Full-time</td>\n",
              "      <td>MF</td>\n",
              "    </tr>\n",
              "    <tr>\n",
              "      <th>1</th>\n",
              "      <td>Em002</td>\n",
              "      <td>Male</td>\n",
              "      <td>Part-time</td>\n",
              "      <td>MP</td>\n",
              "    </tr>\n",
              "    <tr>\n",
              "      <th>2</th>\n",
              "      <td>Em003</td>\n",
              "      <td>Male</td>\n",
              "      <td>Full-time</td>\n",
              "      <td>MF</td>\n",
              "    </tr>\n",
              "    <tr>\n",
              "      <th>3</th>\n",
              "      <td>Em004</td>\n",
              "      <td>Female</td>\n",
              "      <td>Part-time</td>\n",
              "      <td>FP</td>\n",
              "    </tr>\n",
              "    <tr>\n",
              "      <th>4</th>\n",
              "      <td>Em005</td>\n",
              "      <td>Male</td>\n",
              "      <td>Full-time</td>\n",
              "      <td>MF</td>\n",
              "    </tr>\n",
              "  </tbody>\n",
              "</table>\n",
              "</div>"
            ],
            "text/plain": [
              "  Employee  Gender       Time Strata\n",
              "0    Em001    Male  Full-time     MF\n",
              "1    Em002    Male  Part-time     MP\n",
              "2    Em003    Male  Full-time     MF\n",
              "3    Em004  Female  Part-time     FP\n",
              "4    Em005    Male  Full-time     MF"
            ]
          },
          "metadata": {},
          "execution_count": 25
        }
      ]
    },
    {
      "cell_type": "code",
      "metadata": {
        "id": "doMIb7nKIw_o",
        "outputId": "d4f3e793-a83c-4cd8-bf5d-9f8a49462a68",
        "colab": {
          "base_uri": "https://localhost:8080/"
        }
      },
      "source": [
        "df_employee.shape"
      ],
      "execution_count": 26,
      "outputs": [
        {
          "output_type": "execute_result",
          "data": {
            "text/plain": [
              "(97, 4)"
            ]
          },
          "metadata": {},
          "execution_count": 26
        }
      ]
    },
    {
      "cell_type": "code",
      "metadata": {
        "id": "rUwmos05JKPf",
        "outputId": "f71bafd7-9bdc-43b8-f55c-63ab1ef7cc81",
        "colab": {
          "base_uri": "https://localhost:8080/"
        }
      },
      "source": [
        "#check the datatypes\n",
        "df_employee.info()"
      ],
      "execution_count": 30,
      "outputs": [
        {
          "output_type": "stream",
          "name": "stdout",
          "text": [
            "<class 'pandas.core.frame.DataFrame'>\n",
            "RangeIndex: 97 entries, 0 to 96\n",
            "Data columns (total 4 columns):\n",
            " #   Column    Non-Null Count  Dtype \n",
            "---  ------    --------------  ----- \n",
            " 0   Employee  97 non-null     object\n",
            " 1   Gender    97 non-null     object\n",
            " 2   Time      97 non-null     object\n",
            " 3   Strata    97 non-null     object\n",
            "dtypes: object(4)\n",
            "memory usage: 3.2+ KB\n"
          ]
        }
      ]
    },
    {
      "cell_type": "code",
      "metadata": {
        "id": "0PQTLot5I6SN",
        "outputId": "36821e94-1a79-448a-fb8c-26af5040d4e1",
        "colab": {
          "base_uri": "https://localhost:8080/"
        }
      },
      "source": [
        "#check for missing values\n",
        "df_employee.isnull().sum()"
      ],
      "execution_count": 27,
      "outputs": [
        {
          "output_type": "execute_result",
          "data": {
            "text/plain": [
              "Employee    0\n",
              "Gender      0\n",
              "Time        0\n",
              "Strata      0\n",
              "dtype: int64"
            ]
          },
          "metadata": {},
          "execution_count": 27
        }
      ]
    },
    {
      "cell_type": "code",
      "metadata": {
        "id": "YqKvjYo_JAKM",
        "outputId": "d2ba2703-0163-452d-83c9-9d4f9ca40c44",
        "colab": {
          "base_uri": "https://localhost:8080/"
        }
      },
      "source": [
        "#check for duplicates\n",
        "df_employee.duplicated().sum()"
      ],
      "execution_count": 29,
      "outputs": [
        {
          "output_type": "execute_result",
          "data": {
            "text/plain": [
              "0"
            ]
          },
          "metadata": {},
          "execution_count": 29
        }
      ]
    },
    {
      "cell_type": "code",
      "metadata": {
        "id": "_dF-kRfRJFfb",
        "outputId": "58ef9594-833a-45cf-9fad-b460cfa04030",
        "colab": {
          "base_uri": "https://localhost:8080/",
          "height": 296
        }
      },
      "source": [
        "#EDA\n",
        "#check the distributions of the columns\n",
        "#Gender column\n",
        "import matplotlib.pyplot as plt\n",
        "import seaborn as sns\n",
        "sns.histplot(df_employee['Gender'])"
      ],
      "execution_count": 33,
      "outputs": [
        {
          "output_type": "execute_result",
          "data": {
            "text/plain": [
              "<matplotlib.axes._subplots.AxesSubplot at 0x7f735c0ef8d0>"
            ]
          },
          "metadata": {},
          "execution_count": 33
        },
        {
          "output_type": "display_data",
          "data": {
            "image/png": "[encoded data removed]",
            "text/plain": [
              "<Figure size 432x288 with 1 Axes>"
            ]
          },
          "metadata": {
            "needs_background": "light"
          }
        }
      ]
    },
    {
      "cell_type": "code",
      "metadata": {
        "id": "qPE0Rlg-J2Ud",
        "outputId": "9bcc7ff9-c94a-4d7a-d7fe-bdfeb0dff0ed",
        "colab": {
          "base_uri": "https://localhost:8080/",
          "height": 296
        }
      },
      "source": [
        "#Time column\n",
        "sns.histplot(df_employee['Time'])"
      ],
      "execution_count": 34,
      "outputs": [
        {
          "output_type": "execute_result",
          "data": {
            "text/plain": [
              "<matplotlib.axes._subplots.AxesSubplot at 0x7f735c046490>"
            ]
          },
          "metadata": {},
          "execution_count": 34
        },
        {
          "output_type": "display_data",
          "data": {
            "image/png": "[encoded data removed]",
            "text/plain": [
              "<Figure size 432x288 with 1 Axes>"
            ]
          },
          "metadata": {
            "needs_background": "light"
          }
        }
      ]
    },
    {
      "cell_type": "code",
      "metadata": {
        "id": "P_oUT3mOKAK3",
        "outputId": "ea05199f-42f6-4573-eb46-f72969c0d8a6",
        "colab": {
          "base_uri": "https://localhost:8080/",
          "height": 296
        }
      },
      "source": [
        "#Strata\n",
        "sns.histplot(df_employee['Strata'])"
      ],
      "execution_count": 35,
      "outputs": [
        {
          "output_type": "execute_result",
          "data": {
            "text/plain": [
              "<matplotlib.axes._subplots.AxesSubplot at 0x7f735c0b9510>"
            ]
          },
          "metadata": {},
          "execution_count": 35
        },
        {
          "output_type": "display_data",
          "data": {
            "image/png": "[encoded data removed]",
            "text/plain": [
              "<Figure size 432x288 with 1 Axes>"
            ]
          },
          "metadata": {
            "needs_background": "light"
          }
        }
      ]
    },
    {
      "cell_type": "code",
      "metadata": {
        "id": "wtMnXrObKN4w",
        "outputId": "f1371c46-b5ea-407e-9833-52042bc22030",
        "colab": {
          "base_uri": "https://localhost:8080/"
        }
      },
      "source": [
        "#We will do the stratified sampling based on Gender and Strata columns as our startas\n",
        "emp_strat=df_employee.groupby(['Gender','Strata'], group_keys=False).apply(lambda x: x.sample(frac=0.5))\n",
        "print(emp_strat['Gender'].value_counts())\n",
        "print(emp_strat['Strata'].value_counts())"
      ],
      "execution_count": 36,
      "outputs": [
        {
          "output_type": "stream",
          "name": "stdout",
          "text": [
            "Male      26\n",
            "Female    22\n",
            "Name: Gender, dtype: int64\n",
            "MF    22\n",
            "FP    12\n",
            "FF    10\n",
            "MP     4\n",
            "Name: Strata, dtype: int64\n"
          ]
        }
      ]
    }
  ]
}