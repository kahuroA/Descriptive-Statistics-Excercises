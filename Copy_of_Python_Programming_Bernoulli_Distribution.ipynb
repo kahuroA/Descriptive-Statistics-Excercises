{
  "nbformat": 4,
  "nbformat_minor": 0,
  "metadata": {
    "colab": {
      "name": "Copy of Python Programming: Bernoulli Distribution",
      "provenance": [],
      "collapsed_sections": [
        "6QCv76lXcqNL",
        "6efjYE3FVAT8",
        "gehY6OctU53T"
      ],
      "toc_visible": true,
      "include_colab_link": true
    },
    "kernelspec": {
      "name": "python3",
      "display_name": "Python 3"
    }
  },
  "cells": [
    {
      "cell_type": "markdown",
      "metadata": {
        "id": "view-in-github",
        "colab_type": "text"
      },
      "source": [
        "<a href=\"https://colab.research.google.com/github/kahuroA/Descriptive-Statistics-Excercises/blob/main/Copy_of_Python_Programming_Bernoulli_Distribution.ipynb\" target=\"_parent\"><img src=\"https://colab.research.google.com/assets/colab-badge.svg\" alt=\"Open In Colab\"/></a>"
      ]
    },
    {
      "cell_type": "markdown",
      "metadata": {
        "id": "Smx00_nCqkDP"
      },
      "source": [
        "<font color=\"green\">*To start working on this notebook, or any other notebook that we will use in the Moringa Data Science Course, we will need to save our own copy of it. We can do this by clicking File > Save a Copy in Drive. We will then be able to make edits to our own copy of this notebook.*</font>"
      ]
    },
    {
      "cell_type": "markdown",
      "metadata": {
        "id": "r0XKiS-KU9tp"
      },
      "source": [
        "# Python Programming: Bernoulli Distribution"
      ]
    },
    {
      "cell_type": "markdown",
      "metadata": {
        "id": "6QCv76lXcqNL"
      },
      "source": [
        "## Loading Our Libraries"
      ]
    },
    {
      "cell_type": "code",
      "metadata": {
        "id": "zQ_tAs-vcr_2"
      },
      "source": [
        "# Importing binom from stats module in scipy\n",
        "# \n",
        "from scipy.stats import binom"
      ],
      "execution_count": 1,
      "outputs": []
    },
    {
      "cell_type": "markdown",
      "metadata": {
        "id": "6efjYE3FVAT8"
      },
      "source": [
        "## Examples"
      ]
    },
    {
      "cell_type": "code",
      "metadata": {
        "id": "G7Iv8d5MU45f",
        "colab": {
          "base_uri": "https://localhost:8080/"
        },
        "outputId": "9e4e6232-2f76-458e-e682-5bfc2884edd4"
      },
      "source": [
        "# Example 1\n",
        "# ---\n",
        "# Question: 10 coins are tossed simultaneously where the probability of getting head for each coin is 0.6. \n",
        "# 1. Find the probability of getting 1 head. \n",
        "# 2. Find the probability of not getting a head. \n",
        "# 3. Find the probability of getting 4 heads.\n",
        "# ---\n",
        "# \n",
        "\n",
        "# 1. Probability of getting 1 head\n",
        "prob_head = 0.6\n",
        "print(\"Probability of getting 1 head: \", prob_head)\n",
        "\n",
        "# 2. Probability of not getting a head\n",
        "print(\"Probability of not getting head: \", 1 - prob_head)\n",
        "\n",
        "\n",
        "# 3. Find the probability of getting 4 heads.\n",
        "prob_four_heads = binom.pmf(4, 10, 0.6)\n",
        "print(\"Probability of not getting head: \", prob_four_heads)"
      ],
      "execution_count": 2,
      "outputs": [
        {
          "output_type": "stream",
          "name": "stdout",
          "text": [
            "Probability of getting 1 head:  0.6\n",
            "Probability of not getting head:  0.4\n",
            "Probability of not getting head:  0.11147673600000013\n"
          ]
        }
      ]
    },
    {
      "cell_type": "markdown",
      "metadata": {
        "id": "gehY6OctU53T"
      },
      "source": [
        "## <font color=\"green\">Challenges</font>"
      ]
    },
    {
      "cell_type": "code",
      "metadata": {
        "id": "ogOyDHOLVDe9",
        "colab": {
          "base_uri": "https://localhost:8080/"
        },
        "outputId": "3a819848-6f5c-443b-af86-e69be7e61a64"
      },
      "source": [
        "# Challenge 1 \n",
        "# ---\n",
        "# Question: If the probability of a bulb being defective is 0.8, then what is the probability of the bulb not being defective.\n",
        "# ---\n",
        "# \n",
        "print(\"probability of the bulb not being defective = {}\".format(1-0.8))"
      ],
      "execution_count": 4,
      "outputs": [
        {
          "output_type": "stream",
          "name": "stdout",
          "text": [
            "probability of the bulb not being defective = 0.19999999999999996\n"
          ]
        }
      ]
    },
    {
      "cell_type": "code",
      "metadata": {
        "id": "6aC_iwk2VJnk",
        "colab": {
          "base_uri": "https://localhost:8080/"
        },
        "outputId": "0d7be20d-d713-42f0-8c9a-e1edad33803c"
      },
      "source": [
        "# Challenge 2\n",
        "# ---\n",
        "# Question: In an exam, 10 multiple choice questions are asked where only one out of four answers is correct. \n",
        "# 1. Probability of getting an answer correct.\n",
        "# 2. Probability of not getting an answer correct.\n",
        "# 3. Find the probability of getting 5 out of 10 questions correct in an answer sheet.\n",
        "# ---\n",
        "# \n",
        "#1)\n",
        "p=1/4\n",
        "print(\"probability of getting an answer correct = {}\".format(p))\n",
        "#2)\n",
        "q=1-p\n",
        "print(\"probability of not getting an answer correct = {}\".format(q))\n",
        "#3)\n",
        "print(\"probability of getting 5 out of 10 questions correct = {}\".format(binom.pmf(5,10,p)))"
      ],
      "execution_count": 3,
      "outputs": [
        {
          "output_type": "stream",
          "name": "stdout",
          "text": [
            "probability of getting an answer correct = 0.25\n",
            "probability of not getting an answer correct = 0.75\n",
            "probability of getting 5 out of 10 questions correct = 0.058399200439453194\n"
          ]
        }
      ]
    },
    {
      "cell_type": "code",
      "metadata": {
        "id": "rEtswHfOVLGB",
        "colab": {
          "base_uri": "https://localhost:8080/"
        },
        "outputId": "6e2a58f3-6c9c-4c8e-ba82-35759f1f1f01"
      },
      "source": [
        "# Challenge 3\n",
        "# ---\n",
        "# Question: Find the probability, that within 10 flips of a coin tails will result in 3 times.\n",
        "# ---\n",
        "# \n",
        "print(\"probability that within 10 flips of a coin tails will result in 3 times = {}\".format(binom.pmf(3,10,0.5)))"
      ],
      "execution_count": 5,
      "outputs": [
        {
          "output_type": "stream",
          "name": "stdout",
          "text": [
            "probability that within 10 flips of a coin tails will result in 3 times = 0.11718750000000014\n"
          ]
        }
      ]
    },
    {
      "cell_type": "code",
      "metadata": {
        "id": "vpOtsGYBVMhx",
        "colab": {
          "base_uri": "https://localhost:8080/"
        },
        "outputId": "b917683b-6d9f-4f46-9c34-378cdd329e95"
      },
      "source": [
        "# Challenge 4\n",
        "# ---\n",
        "# Question: The chances of a team winning a match is 0.7.  \n",
        "# 1. Probability of winning a match.\n",
        "# 2. Probability of not winning a match.\n",
        "# 3. Probability of winning zero matches.\n",
        "# 4. Find the probability that the team will win at least one match out of three.\n",
        "# ---\n",
        "# \n",
        "w=0.7\n",
        "print(\"probability of winning a match = {}\".format(w))\n",
        "print(\"probability of not winning a match = {}\".format(1-w))\n",
        "print(\"probability of winning zero matches = {}\".format(1-w))\n",
        "print(\"probability of winning at least one match out of 3 = {}\".format(1-binom.cdf(1,3,w)))"
      ],
      "execution_count": 6,
      "outputs": [
        {
          "output_type": "stream",
          "name": "stdout",
          "text": [
            "probability of winning a match = 0.7\n",
            "probability of not winning a match = 0.30000000000000004\n",
            "probability of winning zero matches = 0.30000000000000004\n",
            "probability of winning at least one match out of 3 = 0.7839999999999999\n"
          ]
        }
      ]
    },
    {
      "cell_type": "code",
      "metadata": {
        "id": "J6niSM8sVOmr",
        "colab": {
          "base_uri": "https://localhost:8080/"
        },
        "outputId": "fdfee1dc-b3ef-4b3f-be1b-29e4f97bd246"
      },
      "source": [
        "# Challenge 5\n",
        "# ---\n",
        "# Question: The probability a basketball player makes a free throw is 0.72. \n",
        "# If he shoots 12 free throws in a game, what is the probability he will make exactly 7 of them?\n",
        "# ---\n",
        "# \n",
        "throw=0.72\n",
        "not_throw=1-throw\n",
        "n=12\n",
        "print(\"probability he will make exactly 7 throws out of 12 = {}\".format(binom.pmf(7,12,throw)))"
      ],
      "execution_count": 7,
      "outputs": [
        {
          "output_type": "stream",
          "name": "stdout",
          "text": [
            "probability he will make exactly 7 throws out of 12 = 0.13672338852695048\n"
          ]
        }
      ]
    },
    {
      "cell_type": "code",
      "metadata": {
        "id": "6dZR0IAdVPp4",
        "colab": {
          "base_uri": "https://localhost:8080/"
        },
        "outputId": "549ff55d-66c2-46ac-ed76-918d98935b47"
      },
      "source": [
        "# Challenge 6\n",
        "# ---\n",
        "# Question: A quiz consists of 10 multiple choice questions. Each question has five possible answers. \n",
        "# In order to the quiz, a student must get at least 6 correct. \n",
        "# If a student guesses at each question, what is theprobability that they will pass the quiz?\n",
        "# 1. \n",
        "# ---\n",
        "# \n",
        "p=1/5\n",
        "print(\"probability of passing the quiz= {}\".format(1-binom.cdf(6,10,p)))"
      ],
      "execution_count": 8,
      "outputs": [
        {
          "output_type": "stream",
          "name": "stdout",
          "text": [
            "probability of passing the quiz= 0.0008643583999999871\n"
          ]
        }
      ]
    },
    {
      "cell_type": "code",
      "metadata": {
        "id": "KphAbwTMVQ-5",
        "colab": {
          "base_uri": "https://localhost:8080/"
        },
        "outputId": "53344c54-87b3-4680-b44a-83f09bddf7f7"
      },
      "source": [
        "# Challenge 7\n",
        "# ---\n",
        "# Question: Calculate the probability of rolling 4 on a dice exactly 5 times in 30 trials.\n",
        "# ---\n",
        "# \n",
        "p=1/6\n",
        "print(\"probability of rolling 4 exactly 5 times in 30 trials = {}\".format(binom.pmf(5,30,p)))"
      ],
      "execution_count": 9,
      "outputs": [
        {
          "output_type": "stream",
          "name": "stdout",
          "text": [
            "probability of rolling 4 exactly 5 times in 30 trials = 0.19210813105163368\n"
          ]
        }
      ]
    },
    {
      "cell_type": "code",
      "metadata": {
        "id": "cFww5Av1VSEf",
        "colab": {
          "base_uri": "https://localhost:8080/"
        },
        "outputId": "ea69f44a-a74a-4398-e739-97d96a7d4755"
      },
      "source": [
        "# Challenge 8\n",
        "# ---\n",
        "# Question:  Suppose that 30% of the restaurants in a certain part of a town are open past 10pm. \n",
        "# If 5 restaurants are randomly selected, what is the probability that;\n",
        "# 1. None or all of the restaurants are open past 10pm?\n",
        "# 2. No more than 3 of the restaurants are open past 10pm?\n",
        "# ---\n",
        "# \n",
        "print(\"probability that None or all of them are open past 10pm= {}\".format((binom.pmf(0,5,0.3))+(binom.pmf(5,5,0.3))))"
      ],
      "execution_count": 10,
      "outputs": [
        {
          "output_type": "stream",
          "name": "stdout",
          "text": [
            "probability that None or all of them are open past 10pm= 0.1705\n"
          ]
        }
      ]
    },
    {
      "cell_type": "code",
      "metadata": {
        "id": "6TVElL0QVTY9",
        "colab": {
          "base_uri": "https://localhost:8080/"
        },
        "outputId": "0725006e-8614-4604-da64-93e55813f688"
      },
      "source": [
        "# Challenge 9\n",
        "# ---\n",
        "# Question: Ten percent of computer parts produced by a certain supplier are defective. \n",
        "# What is the probability that a sample of 10 parts contains more than 3 defective ones?\n",
        "# ---\n",
        "# \n",
        "p=0.1\n",
        "print(\"probability that a sample of 10 parts contains more than 3 defective ones = {}\".format(1-binom.cdf(3,10,p)))"
      ],
      "execution_count": 11,
      "outputs": [
        {
          "output_type": "stream",
          "name": "stdout",
          "text": [
            "probability that a sample of 10 parts contains more than 3 defective ones = 0.012795198399999985\n"
          ]
        }
      ]
    },
    {
      "cell_type": "code",
      "metadata": {
        "id": "hzlMfw76VU9t",
        "colab": {
          "base_uri": "https://localhost:8080/"
        },
        "outputId": "99111984-98e1-40a0-ec53-1749cb5fa632"
      },
      "source": [
        "# Challenge 10\n",
        "# ---\n",
        "# Question: The probability that a DVD player produced by a company is defective is estimated to be 0.09. \n",
        "# If a sample of 14 DVD players is selected at random, what is the probability that the sample contains\n",
        "# between 2 and 10 defectives inclusive, that is, at least two but no more than 10.\n",
        "# ---\n",
        "# \n",
        "p=0.09\n",
        "print(\"probability at least 2 but not more than 10 DVD players are defective= {}\".format((binom.cdf(10,14,p))-(binom.cdf(2,14,p))))"
      ],
      "execution_count": 12,
      "outputs": [
        {
          "output_type": "stream",
          "name": "stdout",
          "text": [
            "probability at least 2 but not more than 10 DVD players are defective= 0.12551097234939534\n"
          ]
        }
      ]
    }
  ]
}