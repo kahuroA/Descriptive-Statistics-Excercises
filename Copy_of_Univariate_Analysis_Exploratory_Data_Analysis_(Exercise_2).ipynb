{
  "nbformat": 4,
  "nbformat_minor": 0,
  "metadata": {
    "colab": {
      "name": "Copy of Univariate Analysis - Exploratory Data Analysis (Exercise 2)",
      "provenance": [],
      "collapsed_sections": [
        "kLG2VTrnTvYL",
        "XecOwPNorl2W",
        "J4wfHZwQrs-t",
        "a9BPYqunry97",
        "7KMRBJ7zr9HD",
        "zSGyg6kWsBUl",
        "iUNbvIvnT7ep",
        "OI3P3YnHUEBk",
        "6XC_g-zKxe-r",
        "FlBMxEDBUc9B",
        "rF2ABPsHUtbZ",
        "vTbdjSrhVIiT",
        "lQ2G4ZPDVOXE",
        "xrmHVMVsVS--",
        "HPQviDmNtta8",
        "qjFHK1CKty7o",
        "HSsicSdvt4Zs"
      ],
      "toc_visible": true,
      "include_colab_link": true
    },
    "kernelspec": {
      "name": "python3",
      "display_name": "Python 3"
    }
  },
  "cells": [
    {
      "cell_type": "markdown",
      "metadata": {
        "id": "view-in-github",
        "colab_type": "text"
      },
      "source": [
        "<a href=\"https://colab.research.google.com/github/kahuroA/Descriptive-Statistics-Excercises/blob/main/Copy_of_Univariate_Analysis_Exploratory_Data_Analysis_(Exercise_2).ipynb\" target=\"_parent\"><img src=\"https://colab.research.google.com/assets/colab-badge.svg\" alt=\"Open In Colab\"/></a>"
      ]
    },
    {
      "cell_type": "markdown",
      "metadata": {
        "id": "xMxtPsqcTsSH"
      },
      "source": [
        "# Exploratory Data Analysis: Univariate Analysis"
      ]
    },
    {
      "cell_type": "markdown",
      "metadata": {
        "id": "kLG2VTrnTvYL"
      },
      "source": [
        "## 1. Defining the Question"
      ]
    },
    {
      "cell_type": "markdown",
      "metadata": {
        "id": "XecOwPNorl2W"
      },
      "source": [
        "### a) Specifying the Data Analytic Question"
      ]
    },
    {
      "cell_type": "markdown",
      "metadata": {
        "id": "fZOpvz6fWyFa"
      },
      "source": [
        "> Which subject performed best during the 2017 ACT test?"
      ]
    },
    {
      "cell_type": "markdown",
      "metadata": {
        "id": "J4wfHZwQrs-t"
      },
      "source": [
        "### b) Defining the Metric for Success"
      ]
    },
    {
      "cell_type": "markdown",
      "metadata": {
        "id": "a9BPYqunry97"
      },
      "source": [
        "### c) Understanding the context "
      ]
    },
    {
      "cell_type": "markdown",
      "metadata": {
        "id": "7KMRBJ7zr9HD"
      },
      "source": [
        "### d) Recording the Experimental Design"
      ]
    },
    {
      "cell_type": "markdown",
      "metadata": {
        "id": "zSGyg6kWsBUl"
      },
      "source": [
        "### e) Data Relevance"
      ]
    },
    {
      "cell_type": "markdown",
      "metadata": {
        "id": "iUNbvIvnT7ep"
      },
      "source": [
        "## 2. Reading the Data"
      ]
    },
    {
      "cell_type": "code",
      "metadata": {
        "id": "XJn2KjW-WMlG"
      },
      "source": [
        "# Loading the Data from the source \n",
        "# ---\n",
        "# Dataset url = http://bit.ly/2017ACTScoresDataset\n",
        "# ---\n",
        "import pandas as pd\n",
        "import numpy as np\n",
        "import matplotlib.pyplot as plt\n",
        "import seaborn as sns\n",
        "\n",
        "score_df=pd.read_csv('http://bit.ly/2017ACTScoresDataset')"
      ],
      "execution_count": 1,
      "outputs": []
    },
    {
      "cell_type": "markdown",
      "metadata": {
        "id": "OI3P3YnHUEBk"
      },
      "source": [
        "## 3. Checking the Data"
      ]
    },
    {
      "cell_type": "code",
      "metadata": {
        "id": "YjSVNwgptHxY",
        "colab": {
          "base_uri": "https://localhost:8080/"
        },
        "outputId": "47e6f0d3-3f98-437e-ae8b-5e05f1543101"
      },
      "source": [
        "# Determining the no. of records in our dataset\n",
        "print('The dataset has {} rows and {} columns'.format(score_df.shape[0], score_df.shape[1]))"
      ],
      "execution_count": 2,
      "outputs": [
        {
          "output_type": "stream",
          "name": "stdout",
          "text": [
            "The dataset has 52 rows and 7 columns\n"
          ]
        }
      ]
    },
    {
      "cell_type": "code",
      "metadata": {
        "id": "xHhTw5eKWr0n",
        "colab": {
          "base_uri": "https://localhost:8080/",
          "height": 203
        },
        "outputId": "9011f720-2d2e-44de-f0d2-1cb85ba90ac3"
      },
      "source": [
        "# Previewing the top of our dataset\n",
        "score_df.head()"
      ],
      "execution_count": 3,
      "outputs": [
        {
          "output_type": "execute_result",
          "data": {
            "text/html": [
              "<div>\n",
              "<style scoped>\n",
              "    .dataframe tbody tr th:only-of-type {\n",
              "        vertical-align: middle;\n",
              "    }\n",
              "\n",
              "    .dataframe tbody tr th {\n",
              "        vertical-align: top;\n",
              "    }\n",
              "\n",
              "    .dataframe thead th {\n",
              "        text-align: right;\n",
              "    }\n",
              "</style>\n",
              "<table border=\"1\" class=\"dataframe\">\n",
              "  <thead>\n",
              "    <tr style=\"text-align: right;\">\n",
              "      <th></th>\n",
              "      <th>State</th>\n",
              "      <th>Participation</th>\n",
              "      <th>English</th>\n",
              "      <th>Math</th>\n",
              "      <th>Reading</th>\n",
              "      <th>Science</th>\n",
              "      <th>Composite</th>\n",
              "    </tr>\n",
              "  </thead>\n",
              "  <tbody>\n",
              "    <tr>\n",
              "      <th>0</th>\n",
              "      <td>National</td>\n",
              "      <td>60%</td>\n",
              "      <td>20.3</td>\n",
              "      <td>20.7</td>\n",
              "      <td>21.4</td>\n",
              "      <td>21.0</td>\n",
              "      <td>21.0</td>\n",
              "    </tr>\n",
              "    <tr>\n",
              "      <th>1</th>\n",
              "      <td>Alabama</td>\n",
              "      <td>100%</td>\n",
              "      <td>18.9</td>\n",
              "      <td>18.4</td>\n",
              "      <td>19.7</td>\n",
              "      <td>19.4</td>\n",
              "      <td>19.2</td>\n",
              "    </tr>\n",
              "    <tr>\n",
              "      <th>2</th>\n",
              "      <td>Alaska</td>\n",
              "      <td>65%</td>\n",
              "      <td>18.7</td>\n",
              "      <td>19.8</td>\n",
              "      <td>20.4</td>\n",
              "      <td>19.9</td>\n",
              "      <td>19.8</td>\n",
              "    </tr>\n",
              "    <tr>\n",
              "      <th>3</th>\n",
              "      <td>Arizona</td>\n",
              "      <td>62%</td>\n",
              "      <td>18.6</td>\n",
              "      <td>19.8</td>\n",
              "      <td>20.1</td>\n",
              "      <td>19.8</td>\n",
              "      <td>19.7</td>\n",
              "    </tr>\n",
              "    <tr>\n",
              "      <th>4</th>\n",
              "      <td>Arkansas</td>\n",
              "      <td>100%</td>\n",
              "      <td>18.9</td>\n",
              "      <td>19.0</td>\n",
              "      <td>19.7</td>\n",
              "      <td>19.5</td>\n",
              "      <td>19.4</td>\n",
              "    </tr>\n",
              "  </tbody>\n",
              "</table>\n",
              "</div>"
            ],
            "text/plain": [
              "      State Participation  English  Math  Reading  Science Composite\n",
              "0  National           60%     20.3  20.7     21.4     21.0      21.0\n",
              "1   Alabama          100%     18.9  18.4     19.7     19.4      19.2\n",
              "2    Alaska           65%     18.7  19.8     20.4     19.9      19.8\n",
              "3   Arizona           62%     18.6  19.8     20.1     19.8      19.7\n",
              "4  Arkansas          100%     18.9  19.0     19.7     19.5      19.4"
            ]
          },
          "metadata": {},
          "execution_count": 3
        }
      ]
    },
    {
      "cell_type": "code",
      "metadata": {
        "id": "e9AzGcZFrIIr",
        "colab": {
          "base_uri": "https://localhost:8080/",
          "height": 203
        },
        "outputId": "8fdba42b-1aff-4130-f286-ac3dda713a96"
      },
      "source": [
        "# Previewing the bottom of our dataset\n",
        "score_df.tail()"
      ],
      "execution_count": 4,
      "outputs": [
        {
          "output_type": "execute_result",
          "data": {
            "text/html": [
              "<div>\n",
              "<style scoped>\n",
              "    .dataframe tbody tr th:only-of-type {\n",
              "        vertical-align: middle;\n",
              "    }\n",
              "\n",
              "    .dataframe tbody tr th {\n",
              "        vertical-align: top;\n",
              "    }\n",
              "\n",
              "    .dataframe thead th {\n",
              "        text-align: right;\n",
              "    }\n",
              "</style>\n",
              "<table border=\"1\" class=\"dataframe\">\n",
              "  <thead>\n",
              "    <tr style=\"text-align: right;\">\n",
              "      <th></th>\n",
              "      <th>State</th>\n",
              "      <th>Participation</th>\n",
              "      <th>English</th>\n",
              "      <th>Math</th>\n",
              "      <th>Reading</th>\n",
              "      <th>Science</th>\n",
              "      <th>Composite</th>\n",
              "    </tr>\n",
              "  </thead>\n",
              "  <tbody>\n",
              "    <tr>\n",
              "      <th>47</th>\n",
              "      <td>Virginia</td>\n",
              "      <td>29%</td>\n",
              "      <td>23.5</td>\n",
              "      <td>23.3</td>\n",
              "      <td>24.6</td>\n",
              "      <td>23.5</td>\n",
              "      <td>23.8</td>\n",
              "    </tr>\n",
              "    <tr>\n",
              "      <th>48</th>\n",
              "      <td>Washington</td>\n",
              "      <td>29%</td>\n",
              "      <td>20.9</td>\n",
              "      <td>21.9</td>\n",
              "      <td>22.1</td>\n",
              "      <td>22.0</td>\n",
              "      <td>21.9</td>\n",
              "    </tr>\n",
              "    <tr>\n",
              "      <th>49</th>\n",
              "      <td>West Virginia</td>\n",
              "      <td>69%</td>\n",
              "      <td>20.0</td>\n",
              "      <td>19.4</td>\n",
              "      <td>21.2</td>\n",
              "      <td>20.5</td>\n",
              "      <td>20.4</td>\n",
              "    </tr>\n",
              "    <tr>\n",
              "      <th>50</th>\n",
              "      <td>Wisconsin</td>\n",
              "      <td>100%</td>\n",
              "      <td>19.7</td>\n",
              "      <td>20.4</td>\n",
              "      <td>20.6</td>\n",
              "      <td>20.9</td>\n",
              "      <td>20.5</td>\n",
              "    </tr>\n",
              "    <tr>\n",
              "      <th>51</th>\n",
              "      <td>Wyoming</td>\n",
              "      <td>100%</td>\n",
              "      <td>19.4</td>\n",
              "      <td>19.8</td>\n",
              "      <td>20.8</td>\n",
              "      <td>20.6</td>\n",
              "      <td>20.2x</td>\n",
              "    </tr>\n",
              "  </tbody>\n",
              "</table>\n",
              "</div>"
            ],
            "text/plain": [
              "            State Participation  English  Math  Reading  Science Composite\n",
              "47       Virginia           29%     23.5  23.3     24.6     23.5      23.8\n",
              "48     Washington           29%     20.9  21.9     22.1     22.0      21.9\n",
              "49  West Virginia           69%     20.0  19.4     21.2     20.5      20.4\n",
              "50      Wisconsin          100%     19.7  20.4     20.6     20.9      20.5\n",
              "51        Wyoming          100%     19.4  19.8     20.8     20.6     20.2x"
            ]
          },
          "metadata": {},
          "execution_count": 4
        }
      ]
    },
    {
      "cell_type": "code",
      "metadata": {
        "id": "n8-dW4sQWzbc",
        "colab": {
          "base_uri": "https://localhost:8080/"
        },
        "outputId": "3c57d62d-289d-46f5-d07d-092f2505f816"
      },
      "source": [
        "# Checking whether each column has an appropriate datatype\n",
        "score_df.info()"
      ],
      "execution_count": 5,
      "outputs": [
        {
          "output_type": "stream",
          "name": "stdout",
          "text": [
            "<class 'pandas.core.frame.DataFrame'>\n",
            "RangeIndex: 52 entries, 0 to 51\n",
            "Data columns (total 7 columns):\n",
            " #   Column         Non-Null Count  Dtype  \n",
            "---  ------         --------------  -----  \n",
            " 0   State          52 non-null     object \n",
            " 1   Participation  52 non-null     object \n",
            " 2   English        52 non-null     float64\n",
            " 3   Math           52 non-null     float64\n",
            " 4   Reading        52 non-null     float64\n",
            " 5   Science        52 non-null     float64\n",
            " 6   Composite      52 non-null     object \n",
            "dtypes: float64(4), object(3)\n",
            "memory usage: 3.0+ KB\n"
          ]
        }
      ]
    },
    {
      "cell_type": "markdown",
      "metadata": {
        "id": "ckfufNrcUHeH"
      },
      "source": [
        "## 4. External Data Source Validation"
      ]
    },
    {
      "cell_type": "markdown",
      "metadata": {
        "id": "6L4sl_0WXlbg"
      },
      "source": [
        "Making sure your data matches something outside of the dataset is very important. It allows you to ensure that the measurements are roughly in line with what they should be and it serves as a check on what other things might be wrong in your dataset. External validation can often be as simple as checking your data against a single number, as we will do here.\n",
        "\n",
        "An example would be suppose that you're working with a dataset on the population of countries during the year 2016. Validating such information with an external reliable resource such as World Bank Data would be important step to providing credibility to your dataset. Have a look at the following link for an example. [Link](https://rstudio-pubs-static.s3.amazonaws.com/182250_19977d0c5c06403fbad1e653850fc7c6.html)."
      ]
    },
    {
      "cell_type": "markdown",
      "metadata": {
        "id": "6XC_g-zKxe-r"
      },
      "source": [
        "### a.Validation"
      ]
    },
    {
      "cell_type": "markdown",
      "metadata": {
        "id": "FlBMxEDBUc9B"
      },
      "source": [
        "## 5. Tidying the Dataset"
      ]
    },
    {
      "cell_type": "code",
      "metadata": {
        "id": "5o_bQcT5W3Wz",
        "colab": {
          "base_uri": "https://localhost:8080/",
          "height": 295
        },
        "outputId": "bec42ecb-1dc0-48aa-aabb-2b913de877ed"
      },
      "source": [
        "# Checking for Outliers\n",
        "#first plot\n",
        "plt.subplot(2,2,1)\n",
        "sns.boxplot(x=score_df.English)\n",
        "plt.title('English plot')\n",
        "#second plot\n",
        "plt.subplot(2,2,2)\n",
        "sns.boxplot(x=score_df.Math)\n",
        "plt.title('Math plot')\n",
        "#third plot\n",
        "plt.subplot(2,2,3)\n",
        "sns.boxplot(x=score_df.Reading)\n",
        "\n",
        "#fourth plot\n",
        "plt.subplot(2,2,4)\n",
        "sns.boxplot(x=score_df.Science)\n",
        "\n",
        "\n",
        "plt.show()"
      ],
      "execution_count": 6,
      "outputs": [
        {
          "output_type": "display_data",
          "data": {
            "image/png": "[encoded data removed]",
            "text/plain": [
              "<Figure size 432x288 with 4 Axes>"
            ]
          },
          "metadata": {
            "needs_background": "light"
          }
        }
      ]
    },
    {
      "cell_type": "code",
      "metadata": {
        "id": "PWlukLKUvFQN",
        "colab": {
          "base_uri": "https://localhost:8080/"
        },
        "outputId": "2fba792a-0c47-407b-9404-155edc0e1946"
      },
      "source": [
        "# Checking for Anomalies\n",
        "#let us check if there are duplicates\n",
        "score_df.duplicated().sum()"
      ],
      "execution_count": 7,
      "outputs": [
        {
          "output_type": "execute_result",
          "data": {
            "text/plain": [
              "0"
            ]
          },
          "metadata": {},
          "execution_count": 7
        }
      ]
    },
    {
      "cell_type": "code",
      "metadata": {
        "id": "lSmTBYYsIbaw"
      },
      "source": [
        "#The composite column is not in integer form, let us convert it to integer\n",
        "#before that, we notice that one of the values entered has an 'X' character at the end, therefore we will first remove that\n",
        "\n",
        "def remove_X(val):\n",
        "  new_val=val.replace('x','')\n",
        "  return new_val\n",
        "\n",
        "#let us run our function through the column\n",
        "score_df['Composite']=score_df['Composite'].apply(lambda x: remove_X(x))"
      ],
      "execution_count": 8,
      "outputs": []
    },
    {
      "cell_type": "code",
      "metadata": {
        "id": "p-jZYKGVK4Vf"
      },
      "source": [
        "score_df['Composite']=score_df['Composite'].astype(float)"
      ],
      "execution_count": 10,
      "outputs": []
    },
    {
      "cell_type": "code",
      "metadata": {
        "colab": {
          "base_uri": "https://localhost:8080/"
        },
        "id": "JGojrcK3LhRc",
        "outputId": "fe586053-b4f5-45e6-ca2e-c00b50e45b98"
      },
      "source": [
        "score_df.info()"
      ],
      "execution_count": 11,
      "outputs": [
        {
          "output_type": "stream",
          "name": "stdout",
          "text": [
            "<class 'pandas.core.frame.DataFrame'>\n",
            "RangeIndex: 52 entries, 0 to 51\n",
            "Data columns (total 7 columns):\n",
            " #   Column         Non-Null Count  Dtype  \n",
            "---  ------         --------------  -----  \n",
            " 0   State          52 non-null     object \n",
            " 1   Participation  52 non-null     object \n",
            " 2   English        52 non-null     float64\n",
            " 3   Math           52 non-null     float64\n",
            " 4   Reading        52 non-null     float64\n",
            " 5   Science        52 non-null     float64\n",
            " 6   Composite      52 non-null     float64\n",
            "dtypes: float64(5), object(2)\n",
            "memory usage: 3.0+ KB\n"
          ]
        }
      ]
    },
    {
      "cell_type": "code",
      "metadata": {
        "colab": {
          "base_uri": "https://localhost:8080/",
          "height": 296
        },
        "id": "NP64v6UAM0nR",
        "outputId": "97fc2120-7301-4b3b-e51c-07d71bc3c161"
      },
      "source": [
        "sns.boxplot(x=score_df['Composite'])"
      ],
      "execution_count": 13,
      "outputs": [
        {
          "output_type": "execute_result",
          "data": {
            "text/plain": [
              "<matplotlib.axes._subplots.AxesSubplot at 0x7f55bbca6b90>"
            ]
          },
          "metadata": {},
          "execution_count": 13
        },
        {
          "output_type": "display_data",
          "data": {
            "image/png": "[encoded data removed]",
            "text/plain": [
              "<Figure size 432x288 with 1 Axes>"
            ]
          },
          "metadata": {
            "needs_background": "light"
          }
        }
      ]
    },
    {
      "cell_type": "code",
      "metadata": {
        "id": "PvCYb6dgW4yh",
        "colab": {
          "base_uri": "https://localhost:8080/"
        },
        "outputId": "189632eb-c43a-4726-9dbe-9dd0834d7ce4"
      },
      "source": [
        "# Identifying the Missing Data\n",
        "score_df.isnull().sum()"
      ],
      "execution_count": 12,
      "outputs": [
        {
          "output_type": "execute_result",
          "data": {
            "text/plain": [
              "State            0\n",
              "Participation    0\n",
              "English          0\n",
              "Math             0\n",
              "Reading          0\n",
              "Science          0\n",
              "Composite        0\n",
              "dtype: int64"
            ]
          },
          "metadata": {},
          "execution_count": 12
        }
      ]
    },
    {
      "cell_type": "code",
      "metadata": {
        "id": "MpsDGKZHsf_W"
      },
      "source": [
        "# Dealing with the Missing Data\n",
        "#No missing data"
      ],
      "execution_count": 14,
      "outputs": []
    },
    {
      "cell_type": "code",
      "metadata": {
        "id": "D-4I__6Os4C5",
        "colab": {
          "base_uri": "https://localhost:8080/"
        },
        "outputId": "2bbab108-2aa2-4e3c-cb0c-3de8930af225"
      },
      "source": [
        "# More data cleaning procedures\n",
        "# let us remove outliers from the science column\n",
        "score_df['Science'].describe()"
      ],
      "execution_count": 15,
      "outputs": [
        {
          "output_type": "execute_result",
          "data": {
            "text/plain": [
              "count    52.000000\n",
              "mean     21.040385\n",
              "std       3.151113\n",
              "min       2.300000\n",
              "25%      19.900000\n",
              "50%      21.150000\n",
              "75%      22.525000\n",
              "max      24.900000\n",
              "Name: Science, dtype: float64"
            ]
          },
          "metadata": {},
          "execution_count": 15
        }
      ]
    },
    {
      "cell_type": "code",
      "metadata": {
        "id": "p9c3AN-8C9SI"
      },
      "source": [
        "def IQR_Method(data, column):\n",
        "  first_quartile, third_quartile=np.percentile(data[column], [25,75])\n",
        "  iqr=third_quartile-first_quartile\n",
        "  lower_limit=first_quartile-(1.5*iqr)\n",
        "  upper_limit=third_quartile+(1.5*iqr)\n",
        "  return data[(data[column]>=lower_limit) & (data[column]<=upper_limit)]"
      ],
      "execution_count": 16,
      "outputs": []
    },
    {
      "cell_type": "code",
      "metadata": {
        "id": "TAsgD9FsECJb"
      },
      "source": [
        "new_df=IQR_Method(score_df, 'Science')"
      ],
      "execution_count": 17,
      "outputs": []
    },
    {
      "cell_type": "code",
      "metadata": {
        "colab": {
          "base_uri": "https://localhost:8080/"
        },
        "id": "GWjhJUNNEdgT",
        "outputId": "2214e8b2-9963-4561-9914-389f561f4840"
      },
      "source": [
        "new_df['Science'].describe()"
      ],
      "execution_count": 18,
      "outputs": [
        {
          "output_type": "execute_result",
          "data": {
            "text/plain": [
              "count    51.000000\n",
              "mean     21.407843\n",
              "std       1.722306\n",
              "min      18.200000\n",
              "25%      19.950000\n",
              "50%      21.300000\n",
              "75%      22.750000\n",
              "max      24.900000\n",
              "Name: Science, dtype: float64"
            ]
          },
          "metadata": {},
          "execution_count": 18
        }
      ]
    },
    {
      "cell_type": "markdown",
      "metadata": {
        "id": "rF2ABPsHUtbZ"
      },
      "source": [
        "## 6. Exploratory Analysis"
      ]
    },
    {
      "cell_type": "code",
      "metadata": {
        "id": "5nnRToniXGDK",
        "colab": {
          "base_uri": "https://localhost:8080/",
          "height": 295
        },
        "outputId": "c6206f11-db80-45ef-d007-a29925524a71"
      },
      "source": [
        "# Ploting the univariate summaries and recording our observations\n",
        "plt.subplot(3,3,1)\n",
        "sns.histplot(new_df.English, kde=False, color='red')\n",
        "plt.title('English plot')\n",
        "#second plot\n",
        "plt.subplot(3,3,3)\n",
        "sns.histplot(new_df.Math, kde=False, color='green')\n",
        "plt.title('Math plot')\n",
        "#third plot\n",
        "plt.subplot(3,3,7)\n",
        "sns.histplot(new_df.Reading, kde=False, color='purple')\n",
        "plt.title('Reading plot')\n",
        "#fourth plot\n",
        "plt.subplot(3,3,9)\n",
        "sns.histplot(new_df.Science, kde=False, color='blue')\n",
        "plt.title('Science plot')\n",
        "\n",
        "#fifth plot\n",
        "plt.subplot(3,3,5)\n",
        "sns.histplot(new_df.Composite, kde=False, color='violet')\n",
        "plt.title('Composite plot')\n",
        "\n",
        "plt.show()"
      ],
      "execution_count": 19,
      "outputs": [
        {
          "output_type": "display_data",
          "data": {
            "image/png": "[encoded data removed]",
            "text/plain": [
              "<Figure size 432x288 with 5 Axes>"
            ]
          },
          "metadata": {
            "needs_background": "light"
          }
        }
      ]
    },
    {
      "cell_type": "markdown",
      "metadata": {
        "id": "vTbdjSrhVIiT"
      },
      "source": [
        "## 7. Implementing the Solution"
      ]
    },
    {
      "cell_type": "code",
      "metadata": {
        "id": "PJLZaRzJXJ3w",
        "colab": {
          "base_uri": "https://localhost:8080/",
          "height": 295
        },
        "outputId": "15ee9e0d-b3f5-4350-d2fb-0f5706d62679"
      },
      "source": [
        "# Implementing the Solution\n",
        "new_df.describe()"
      ],
      "execution_count": 20,
      "outputs": [
        {
          "output_type": "execute_result",
          "data": {
            "text/html": [
              "<div>\n",
              "<style scoped>\n",
              "    .dataframe tbody tr th:only-of-type {\n",
              "        vertical-align: middle;\n",
              "    }\n",
              "\n",
              "    .dataframe tbody tr th {\n",
              "        vertical-align: top;\n",
              "    }\n",
              "\n",
              "    .dataframe thead th {\n",
              "        text-align: right;\n",
              "    }\n",
              "</style>\n",
              "<table border=\"1\" class=\"dataframe\">\n",
              "  <thead>\n",
              "    <tr style=\"text-align: right;\">\n",
              "      <th></th>\n",
              "      <th>English</th>\n",
              "      <th>Math</th>\n",
              "      <th>Reading</th>\n",
              "      <th>Science</th>\n",
              "      <th>Composite</th>\n",
              "    </tr>\n",
              "  </thead>\n",
              "  <tbody>\n",
              "    <tr>\n",
              "      <th>count</th>\n",
              "      <td>51.000000</td>\n",
              "      <td>51.000000</td>\n",
              "      <td>51.000000</td>\n",
              "      <td>51.000000</td>\n",
              "      <td>51.000000</td>\n",
              "    </tr>\n",
              "    <tr>\n",
              "      <th>mean</th>\n",
              "      <td>20.872549</td>\n",
              "      <td>21.135294</td>\n",
              "      <td>21.958824</td>\n",
              "      <td>21.407843</td>\n",
              "      <td>21.468627</td>\n",
              "    </tr>\n",
              "    <tr>\n",
              "      <th>std</th>\n",
              "      <td>2.330672</td>\n",
              "      <td>1.963958</td>\n",
              "      <td>2.045109</td>\n",
              "      <td>1.722306</td>\n",
              "      <td>1.999849</td>\n",
              "    </tr>\n",
              "    <tr>\n",
              "      <th>min</th>\n",
              "      <td>16.300000</td>\n",
              "      <td>18.000000</td>\n",
              "      <td>18.100000</td>\n",
              "      <td>18.200000</td>\n",
              "      <td>17.800000</td>\n",
              "    </tr>\n",
              "    <tr>\n",
              "      <th>25%</th>\n",
              "      <td>19.000000</td>\n",
              "      <td>19.400000</td>\n",
              "      <td>20.450000</td>\n",
              "      <td>19.950000</td>\n",
              "      <td>19.800000</td>\n",
              "    </tr>\n",
              "    <tr>\n",
              "      <th>50%</th>\n",
              "      <td>20.400000</td>\n",
              "      <td>20.900000</td>\n",
              "      <td>21.600000</td>\n",
              "      <td>21.300000</td>\n",
              "      <td>21.400000</td>\n",
              "    </tr>\n",
              "    <tr>\n",
              "      <th>75%</th>\n",
              "      <td>22.900000</td>\n",
              "      <td>22.900000</td>\n",
              "      <td>23.650000</td>\n",
              "      <td>22.750000</td>\n",
              "      <td>23.200000</td>\n",
              "    </tr>\n",
              "    <tr>\n",
              "      <th>max</th>\n",
              "      <td>25.500000</td>\n",
              "      <td>25.300000</td>\n",
              "      <td>26.000000</td>\n",
              "      <td>24.900000</td>\n",
              "      <td>25.500000</td>\n",
              "    </tr>\n",
              "  </tbody>\n",
              "</table>\n",
              "</div>"
            ],
            "text/plain": [
              "         English       Math    Reading    Science  Composite\n",
              "count  51.000000  51.000000  51.000000  51.000000  51.000000\n",
              "mean   20.872549  21.135294  21.958824  21.407843  21.468627\n",
              "std     2.330672   1.963958   2.045109   1.722306   1.999849\n",
              "min    16.300000  18.000000  18.100000  18.200000  17.800000\n",
              "25%    19.000000  19.400000  20.450000  19.950000  19.800000\n",
              "50%    20.400000  20.900000  21.600000  21.300000  21.400000\n",
              "75%    22.900000  22.900000  23.650000  22.750000  23.200000\n",
              "max    25.500000  25.300000  26.000000  24.900000  25.500000"
            ]
          },
          "metadata": {},
          "execution_count": 20
        }
      ]
    },
    {
      "cell_type": "code",
      "metadata": {
        "id": "gQdfXqbnP2YY"
      },
      "source": [
        "#we will use the mean as the metric of our evaluation, based on the above, Reading was the best performed subject in all the states"
      ],
      "execution_count": 21,
      "outputs": []
    },
    {
      "cell_type": "markdown",
      "metadata": {
        "id": "lQ2G4ZPDVOXE"
      },
      "source": [
        "## 8. Challenging the solution"
      ]
    },
    {
      "cell_type": "markdown",
      "metadata": {
        "id": "jWVGKGuiYMWg"
      },
      "source": [
        "> The easy solution is nice because it is, well, easy, but you should never allow those results to hold the day. You should always be thinking of ways to challenge the results, especially if those results comport with your prior expectation.\n",
        "\n",
        "\n",
        "\n",
        "\n"
      ]
    },
    {
      "cell_type": "code",
      "metadata": {
        "id": "j3x3SXZ4XT_L"
      },
      "source": [
        "# Reviewing the Solution \n",
        "#"
      ],
      "execution_count": null,
      "outputs": []
    },
    {
      "cell_type": "markdown",
      "metadata": {
        "id": "xrmHVMVsVS--"
      },
      "source": [
        "## 9. Follow up questions"
      ]
    },
    {
      "cell_type": "markdown",
      "metadata": {
        "id": "pth2qSWhuBIy"
      },
      "source": [
        "> At this point, we can refine our question or collect new data, all in an iterative process to get at the truth.\n",
        "\n"
      ]
    },
    {
      "cell_type": "markdown",
      "metadata": {
        "id": "HPQviDmNtta8"
      },
      "source": [
        "### a). Did we have the right data?"
      ]
    },
    {
      "cell_type": "markdown",
      "metadata": {
        "id": "qjFHK1CKty7o"
      },
      "source": [
        "### b). Do we need other data to answer our question?"
      ]
    },
    {
      "cell_type": "markdown",
      "metadata": {
        "id": "HSsicSdvt4Zs"
      },
      "source": [
        "### c). Did we have the right question?"
      ]
    }
  ]
}