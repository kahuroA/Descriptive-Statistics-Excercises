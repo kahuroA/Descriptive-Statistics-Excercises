{
  "nbformat": 4,
  "nbformat_minor": 0,
  "metadata": {
    "colab": {
      "name": "Copy of Python Programming: The Poisson Distribution",
      "provenance": [],
      "collapsed_sections": [
        "qbU9R__X9No0",
        "IrKYwHaHJsQJ"
      ],
      "toc_visible": true,
      "include_colab_link": true
    },
    "kernelspec": {
      "name": "python3",
      "display_name": "Python 3"
    }
  },
  "cells": [
    {
      "cell_type": "markdown",
      "metadata": {
        "id": "view-in-github",
        "colab_type": "text"
      },
      "source": [
        "<a href=\"https://colab.research.google.com/github/kahuroA/Descriptive-Statistics-Excercises/blob/main/Copy_of_Python_Programming_The_Poisson_Distribution.ipynb\" target=\"_parent\"><img src=\"https://colab.research.google.com/assets/colab-badge.svg\" alt=\"Open In Colab\"/></a>"
      ]
    },
    {
      "cell_type": "markdown",
      "metadata": {
        "id": "B6aB2C4MohHT"
      },
      "source": [
        "<font color=\"green\">*To start working on this notebook, or any other notebook that we will use in the Moringa Data Science Course, we will need to save our own copy of it. We can do this by clicking File > Save a Copy in Drive. We will then be able to make edits to our own copy of this notebook.*</font>"
      ]
    },
    {
      "cell_type": "markdown",
      "metadata": {
        "id": "SDSkLLGrJqLF"
      },
      "source": [
        "# Python Programming: Poisson Distribution"
      ]
    },
    {
      "cell_type": "markdown",
      "metadata": {
        "id": "qbU9R__X9No0"
      },
      "source": [
        "## Importing Our Libraries"
      ]
    },
    {
      "cell_type": "code",
      "metadata": {
        "id": "Uw2dkvyv9Mfo"
      },
      "source": [
        "# \n",
        "# importing poisson from scipy \n",
        "#\n",
        "from scipy.stats import poisson"
      ],
      "execution_count": 1,
      "outputs": []
    },
    {
      "cell_type": "markdown",
      "metadata": {
        "id": "IrKYwHaHJsQJ"
      },
      "source": [
        "## 1.0 Basic Questions "
      ]
    },
    {
      "cell_type": "code",
      "metadata": {
        "id": "mGhBTwuqJn69",
        "colab": {
          "base_uri": "https://localhost:8080/"
        },
        "outputId": "a59a27d9-8518-4656-bba0-c034eff18e5e"
      },
      "source": [
        "# Example 1\n",
        "# ---\n",
        "# Question: An average of 20 customers walks into a store in a given hour. \n",
        "# What is the probability that 25 customers walk into a store in the next hour?\n",
        "# ---\n",
        "\n",
        "# Assigning the value of the mean of the distribution\n",
        "# This is average number of successes over a given time period. \n",
        "# \n",
        "mean = 12\n",
        "\n",
        "# Assigning the value of x (integer) at which the value of the density function is required\n",
        "# This is our random variable; The number of successes we want to find the probability mass of given our knowledge of mean.\n",
        "#\n",
        "lambda_ = 5\n",
        "\n",
        "# The value at x of the probability density function f(x) is:\n",
        "#\n",
        "print(\"The value of the probability density function at x =\", lambda_, \"is f(x) =\", poisson.pmf(lambda_, mean))"
      ],
      "execution_count": 25,
      "outputs": [
        {
          "output_type": "stream",
          "name": "stdout",
          "text": [
            "The value of the probability density function at x = 5 is f(x) = 0.012740638735861376\n"
          ]
        }
      ]
    },
    {
      "cell_type": "markdown",
      "metadata": {
        "id": "2qQrDLNp3cav"
      },
      "source": [
        "### <font color=\"green\">1.0 Challenges</font>"
      ]
    },
    {
      "cell_type": "code",
      "metadata": {
        "id": "GcWHfnUX9wqU",
        "colab": {
          "base_uri": "https://localhost:8080/"
        },
        "outputId": "19dc8fe6-1888-469c-a7dd-9984060a1b08"
      },
      "source": [
        "# Challenge 1\n",
        "# ---\n",
        "# Question: A police officer pulls over an average of 3 people for speeding violations per shift. \n",
        "# What is the probability that the officer will pull over two people for speeding violations during their next shift?\n",
        "# ---\n",
        "# Expected Output: 0.22404180765538775\n",
        "# \n",
        "poisson.pmf(2, 3)"
      ],
      "execution_count": 3,
      "outputs": [
        {
          "output_type": "execute_result",
          "data": {
            "text/plain": [
              "0.22404180765538775"
            ]
          },
          "metadata": {},
          "execution_count": 3
        }
      ]
    },
    {
      "cell_type": "code",
      "metadata": {
        "id": "IT8UssIhKwcO",
        "colab": {
          "base_uri": "https://localhost:8080/"
        },
        "outputId": "1ad593ee-fe0c-4c9d-ec3d-f71736fc8dc5"
      },
      "source": [
        "# Challenge 2\n",
        "# ---\n",
        "# Question: A fireman fights, on average, 4 fires per month. \n",
        "# What is the probability that a fireman is called to two different fires this week?\n",
        "# ---\n",
        "# Expected Output: 0.18393972058572117\n",
        "# \n",
        "poisson.pmf(2, 1)"
      ],
      "execution_count": 4,
      "outputs": [
        {
          "output_type": "execute_result",
          "data": {
            "text/plain": [
              "0.18393972058572114"
            ]
          },
          "metadata": {},
          "execution_count": 4
        }
      ]
    },
    {
      "cell_type": "code",
      "metadata": {
        "id": "enLvIGpT3kU2",
        "colab": {
          "base_uri": "https://localhost:8080/"
        },
        "outputId": "b852f164-863a-4090-86bc-db1fb770b7cc"
      },
      "source": [
        "# Challenge 3\n",
        "# ---\n",
        "# Question: A car salesman sells an average of 4 cars per week. What is the probability they sell a car today?\n",
        "# ---\n",
        "# Expected Output: 0.32269606971871956\n",
        "#\n",
        "poisson.pmf(1,4/7)"
      ],
      "execution_count": 17,
      "outputs": [
        {
          "output_type": "execute_result",
          "data": {
            "text/plain": [
              "0.3226960697187195"
            ]
          },
          "metadata": {},
          "execution_count": 17
        }
      ]
    },
    {
      "cell_type": "code",
      "metadata": {
        "id": "wgQNVn-u3lmX",
        "colab": {
          "base_uri": "https://localhost:8080/"
        },
        "outputId": "eac522f9-44f9-4d92-da0b-663c9ee9033a"
      },
      "source": [
        "# Challenge 4\n",
        "# ---\n",
        "# Question: A website makes an average of 50 sales per day. What is the probability that they make 3 sales in an hour?\n",
        "# ---\n",
        "# Expected Output: 0.18764840049328912\n",
        "# \n",
        "poisson.pmf(3,50/24)"
      ],
      "execution_count": 18,
      "outputs": [
        {
          "output_type": "execute_result",
          "data": {
            "text/plain": [
              "0.18764840049328915"
            ]
          },
          "metadata": {},
          "execution_count": 18
        }
      ]
    },
    {
      "cell_type": "code",
      "metadata": {
        "id": "qY7Cmm0t6fN9",
        "colab": {
          "base_uri": "https://localhost:8080/"
        },
        "outputId": "dd5a2d0c-8dca-4058-a07c-7280f46c5ae8"
      },
      "source": [
        "# Challenge 5\n",
        "# ---\n",
        "# Question: A factory produces 250 cars per week (assume that the factory runs day and night all week with no down time). \n",
        "# What is the probability that they produce 3 cars in the next hour?\n",
        "# ---\n",
        "# Expected Output: 0.1240136186052091\n",
        "# \n",
        "poisson.pmf(3,250/168)"
      ],
      "execution_count": 19,
      "outputs": [
        {
          "output_type": "execute_result",
          "data": {
            "text/plain": [
              "0.12401361860520911"
            ]
          },
          "metadata": {},
          "execution_count": 19
        }
      ]
    },
    {
      "cell_type": "code",
      "metadata": {
        "id": "aQmRucIkiAVg",
        "colab": {
          "base_uri": "https://localhost:8080/"
        },
        "outputId": "ca849dbe-c779-426b-f265-bb1f6e0b518a"
      },
      "source": [
        "# Challenge 6\n",
        "# ---\n",
        "# Question: \n",
        "# A Laptop Assembly unit is permorning a Defects Analysis, to understand the number of defects that could happen for a given defective laptop. \n",
        "# It is noted from past quality & audit data that 12 defects are noticed on an average for a defective Laptop, calculate\n",
        "# a) Probability that a defective laptop has exactly 5 defects\n",
        "# b) Probability that a defective laptop has less than 5 defects\n",
        "# ---\n",
        "# \n",
        "# \n",
        "poisson.pmf(5,12)"
      ],
      "execution_count": 20,
      "outputs": [
        {
          "output_type": "execute_result",
          "data": {
            "text/plain": [
              "0.012740638735861376"
            ]
          },
          "metadata": {},
          "execution_count": 20
        }
      ]
    },
    {
      "cell_type": "code",
      "metadata": {
        "colab": {
          "base_uri": "https://localhost:8080/"
        },
        "id": "qH10Jt3sIPlQ",
        "outputId": "d3c455f1-bcef-40db-a809-bd146965dad4"
      },
      "source": [
        "poisson.cdf(5,12)"
      ],
      "execution_count": 21,
      "outputs": [
        {
          "output_type": "execute_result",
          "data": {
            "text/plain": [
              "0.020341029416928398"
            ]
          },
          "metadata": {},
          "execution_count": 21
        }
      ]
    },
    {
      "cell_type": "code",
      "metadata": {
        "colab": {
          "base_uri": "https://localhost:8080/"
        },
        "id": "BanhmjUQIaS5",
        "outputId": "5eebf85c-2be1-4a25-b82c-f7a1e1aef191"
      },
      "source": [
        "(poisson.pmf(5,12))+(poisson.pmf(4,12))+(poisson.pmf(3,12))+(poisson.pmf(2,12))+(poisson.pmf(1,12))+(poisson.pmf(0,12))"
      ],
      "execution_count": 22,
      "outputs": [
        {
          "output_type": "execute_result",
          "data": {
            "text/plain": [
              "0.020341029416928374"
            ]
          },
          "metadata": {},
          "execution_count": 22
        }
      ]
    },
    {
      "cell_type": "code",
      "metadata": {
        "id": "R5cczyGbiHXf",
        "colab": {
          "base_uri": "https://localhost:8080/"
        },
        "outputId": "0b7c64d3-17f9-498a-b74d-ed4b783f9f90"
      },
      "source": [
        "# Challenge 7\n",
        "# ---\n",
        "# Question: \n",
        "# If on an average, 6 customers arrive every one minute at a bank during the busy hours of working, \n",
        "# a) what is the probability that exactly four customers arrive in a given minute? \n",
        "# b) What is the probability that more than three customers will arrive in a given minute?\n",
        "# ---\n",
        "# \n",
        "# \n",
        "poisson.pmf(4,6)"
      ],
      "execution_count": 23,
      "outputs": [
        {
          "output_type": "execute_result",
          "data": {
            "text/plain": [
              "0.13385261753998332"
            ]
          },
          "metadata": {},
          "execution_count": 23
        }
      ]
    },
    {
      "cell_type": "code",
      "metadata": {
        "colab": {
          "base_uri": "https://localhost:8080/"
        },
        "id": "FrJz-8rNJK8o",
        "outputId": "403c9c3a-a6c4-4407-fbfc-fb4ccf369c36"
      },
      "source": [
        "1-poisson.cdf(3,6)"
      ],
      "execution_count": 24,
      "outputs": [
        {
          "output_type": "execute_result",
          "data": {
            "text/plain": [
              "0.8487961172233521"
            ]
          },
          "metadata": {},
          "execution_count": 24
        }
      ]
    },
    {
      "cell_type": "code",
      "metadata": {
        "id": "SaBvTXvBiIDn",
        "colab": {
          "base_uri": "https://localhost:8080/"
        },
        "outputId": "3902ea3b-51b6-43bc-b4e4-886c74994891"
      },
      "source": [
        "# Challenge 8\n",
        "# ---\n",
        "# Question: \n",
        "# Student arrive at the rate of 72 per hour in the college.\n",
        "# a) What is the probability of 5 student arriving in 4 min?\n",
        "# b) What is the probability of not more than 3 students arriving in 4 min? \n",
        "# b) What is the probability of more than 3 students arriving in 4 min?\n",
        "# ---\n",
        "# \n",
        "# \n",
        "#a)\n",
        "avg=(72*4)/60\n",
        "poisson.pmf(5,avg)"
      ],
      "execution_count": 26,
      "outputs": [
        {
          "output_type": "execute_result",
          "data": {
            "text/plain": [
              "0.17474768364388296"
            ]
          },
          "metadata": {},
          "execution_count": 26
        }
      ]
    },
    {
      "cell_type": "code",
      "metadata": {
        "colab": {
          "base_uri": "https://localhost:8080/"
        },
        "id": "8AP4Qol_Kfin",
        "outputId": "095e9dbd-5d1a-4aae-f803-d53edce8c416"
      },
      "source": [
        "#b)\n",
        "poisson.cdf(3,avg)"
      ],
      "execution_count": 27,
      "outputs": [
        {
          "output_type": "execute_result",
          "data": {
            "text/plain": [
              "0.2942299164965642"
            ]
          },
          "metadata": {},
          "execution_count": 27
        }
      ]
    },
    {
      "cell_type": "code",
      "metadata": {
        "colab": {
          "base_uri": "https://localhost:8080/"
        },
        "id": "rhEirLVkKm0P",
        "outputId": "658271c6-01ab-42d5-831e-7d30d4306823"
      },
      "source": [
        "#c)\n",
        "1-(poisson.cdf(3,avg))"
      ],
      "execution_count": 28,
      "outputs": [
        {
          "output_type": "execute_result",
          "data": {
            "text/plain": [
              "0.7057700835034357"
            ]
          },
          "metadata": {},
          "execution_count": 28
        }
      ]
    }
  ]
}