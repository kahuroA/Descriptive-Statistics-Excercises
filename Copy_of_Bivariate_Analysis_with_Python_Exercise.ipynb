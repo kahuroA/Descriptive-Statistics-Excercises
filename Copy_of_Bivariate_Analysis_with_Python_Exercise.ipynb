{
  "nbformat": 4,
  "nbformat_minor": 0,
  "metadata": {
    "colab": {
      "name": "Copy of Bivariate Analysis with Python - Exercise",
      "provenance": [],
      "collapsed_sections": [
        "oElZ1j7itA2H",
        "H9vGX6dirmHL",
        "eaygizicsMIy",
        "ExMqwGE1sZV-",
        "JZFIpijOrqbM",
        "1SBigmCQtYR-",
        "B3f7oOaVuGoG",
        "JtjPD6J3tpXH",
        "BQXexlSluX-X",
        "ocEXb9JMtuq0",
        "mKmXFgb5ujhh"
      ],
      "include_colab_link": true
    },
    "kernelspec": {
      "name": "python3",
      "display_name": "Python 3"
    }
  },
  "cells": [
    {
      "cell_type": "markdown",
      "metadata": {
        "id": "view-in-github",
        "colab_type": "text"
      },
      "source": [
        "<a href=\"https://colab.research.google.com/github/kahuroA/Descriptive-Statistics-Excercises/blob/main/Copy_of_Bivariate_Analysis_with_Python_Exercise.ipynb\" target=\"_parent\"><img src=\"https://colab.research.google.com/assets/colab-badge.svg\" alt=\"Open In Colab\"/></a>"
      ]
    },
    {
      "cell_type": "markdown",
      "metadata": {
        "id": "fOOkSTsJy1PY"
      },
      "source": [
        "<font color=\"green\">*To start working on this notebook, or any other notebook that we will use in the Moringa Data Science Course, we will need to save our own copy of it. We can do this by clicking File > Save a Copy in Drive. We will then be able to make edits to our own copy of this notebook.*</font>"
      ]
    },
    {
      "cell_type": "markdown",
      "metadata": {
        "id": "_7HV1W96p9Pa"
      },
      "source": [
        "# Bivariate Analysis with Python - Exercise"
      ]
    },
    {
      "cell_type": "markdown",
      "metadata": {
        "id": "R-LF2g-wFZAy"
      },
      "source": [
        "## Introduction"
      ]
    },
    {
      "cell_type": "markdown",
      "metadata": {
        "id": "UhtjDiVhUeGj"
      },
      "source": [
        "This type of data involves two different variables. The analysis of this type of data deals with causes and relationships between two variables."
      ]
    },
    {
      "cell_type": "code",
      "metadata": {
        "id": "As8F2H5bYyzO"
      },
      "source": [
        "# Importing Numpy\n",
        "import numpy as np\n",
        "\n",
        "# Importing Pandas\n",
        "import pandas as pd\n",
        "\n",
        "# Importing Matplotlib\n",
        "import matplotlib.pyplot as plt\n",
        "\n",
        "# Importing Seaborn\n",
        "import seaborn as sns"
      ],
      "execution_count": 1,
      "outputs": []
    },
    {
      "cell_type": "markdown",
      "metadata": {
        "id": "J5_LC2_Crgta"
      },
      "source": [
        "## 1.0 Numerical and Numerical"
      ]
    },
    {
      "cell_type": "markdown",
      "metadata": {
        "id": "z0Ka3v_5r6nN"
      },
      "source": [
        "### 1.01 Scatter Plots"
      ]
    },
    {
      "cell_type": "markdown",
      "metadata": {
        "id": "SqRBkR-ld--C"
      },
      "source": [
        "The simplest bivariate plot is the scatter plot. A simple scatter plot simply maps each variable of interest to a point in two-dimensional space. "
      ]
    },
    {
      "cell_type": "code",
      "metadata": {
        "id": "dR5_qZu2bK4h",
        "colab": {
          "base_uri": "https://localhost:8080/",
          "height": 295
        },
        "outputId": "b9263b59-d500-402e-db7b-b1d176db507d"
      },
      "source": [
        "# Example 1\n",
        "# ---\n",
        "# Question: Create a scatter plot between the cypress tree and clearfell stampage trees\n",
        "# Dataset url  = http://bit.ly/CypressTimberStampageFeesDataset\n",
        "# Dataset info = This dataset contains the Timber Stampage Fees for thinning \n",
        "# and clearfell as per tree type and diameter.\n",
        "# ---\n",
        "#\n",
        "\n",
        "# Loading our dataset\n",
        "trees_df = pd.read_csv(\"http://bit.ly/CypressTimberStampageFeesDataset\")\n",
        "\n",
        "# Previewing our dataset\n",
        "trees_df.head()\n",
        "\n",
        "# Using Pandas: Plotting our scatterplot to compare the variables\n",
        "trees_df.plot(x = 'diameter_at_breast_height_cm', y = 'clear_fell_ksh/_m_cubed', kind='scatter')\n",
        "\n",
        "# Or Using Matplotlib: Plotting our scatterplot to compare the variables\n",
        "plt.scatter(trees_df[\"diameter_at_breast_height_cm\"] , trees_df[\"clear_fell_ksh/_m_cubed\"])\n",
        "\n",
        "# Or Using Seaborn: Using the function regplot to create our scatterplot\n",
        "sns.regplot(x = trees_df[\"diameter_at_breast_height_cm\"], y = trees_df[\"clear_fell_ksh/_m_cubed\"], fit_reg=False)\n",
        "\n",
        "# Giving our scatterplot a title\n",
        "plt.title('Diameter at Breast (cm) vs Clearfell Fees (m^3)')\n",
        "\n",
        "# Labelling our x axis\n",
        "plt.xlabel('Diameter at Breast (cm)')\n",
        "\n",
        "# Labelling our y axis\n",
        "plt.ylabel('Clearfell Fees (m^3)')\n",
        "\n",
        "# We then display our scatterplot as shown below\n",
        "plt.show()\n",
        "\n",
        "# The scatterplot graph shows that the variable diameter at breast is strongly correlated to the clearfell stampage fees.\n",
        "# This is because as the variable diameter increases the "
      ],
      "execution_count": 2,
      "outputs": [
        {
          "output_type": "display_data",
          "data": {
            "image/png": "[encoded data removed]",
            "text/plain": [
              "<Figure size 432x288 with 1 Axes>"
            ]
          },
          "metadata": {
            "needs_background": "light"
          }
        }
      ]
    },
    {
      "cell_type": "code",
      "metadata": {
        "id": "7FjzxOrYwfPu",
        "colab": {
          "base_uri": "https://localhost:8080/",
          "height": 295
        },
        "outputId": "87d8cc17-1d85-45fd-8c98-c8e08e01ce90"
      },
      "source": [
        "# Example 2\n",
        "# ---\n",
        "# Question: Create a scatter plot between sepal length and sepal width - \n",
        "# What is the basic relationship between these variables using just visual inspection?\n",
        "# Dataset url  = http://bit.ly/IrisDataset\n",
        "# Dataset Info = Iris Plants Dataset\n",
        "# ---\n",
        "#\n",
        "\n",
        "# Loading our dataset from a url\n",
        "iris_df = pd.read_csv(\"http://bit.ly/IrisDataset\")\n",
        "\n",
        "# Previewing our dataset\n",
        "iris_df.head()\n",
        "\n",
        "# Plotting our scatterplot\n",
        "plt.scatter(iris_df['sepal_length'], iris_df['sepal_width'])\n",
        "\n",
        "# Giving our scatterplot a title\n",
        "plt.title('Sepal Width vs Sepal Length')\n",
        "\n",
        "# Labelling our x axis\n",
        "plt.xlabel('Sepal Length (cm)')\n",
        "\n",
        "# Labelling our y axis\n",
        "plt.ylabel('Sepal Width (cm)')\n",
        "\n",
        "# Displaying our scatterplot\n",
        "plt.show()\n",
        "\n",
        "# There is no relation because the points are scattered throughout the graph."
      ],
      "execution_count": 3,
      "outputs": [
        {
          "output_type": "display_data",
          "data": {
            "image/png": "[encoded data removed]",
            "text/plain": [
              "<Figure size 432x288 with 1 Axes>"
            ]
          },
          "metadata": {
            "needs_background": "light"
          }
        }
      ]
    },
    {
      "cell_type": "code",
      "metadata": {
        "id": "k6JnbZZ3_Xyf",
        "colab": {
          "base_uri": "https://localhost:8080/",
          "height": 295
        },
        "outputId": "bf7f0470-05fc-4118-9e5f-606cd1e0f80d"
      },
      "source": [
        "# Example 3\n",
        "# ---\n",
        "# Question = Create a scatter plot between mpg and weight - what is the basic relationship between \n",
        "# these variables using just visual inspection? Do the results make sense? Why?\n",
        "# Dataset url  = http://bit.ly/AutoMPGDataset\n",
        "# Dataset info = The data is technical spec of cars. The dataset is downloaded from UCI Machine Learning Repository \n",
        "# ---\n",
        "# \n",
        "\n",
        "# Loading our dataset from a url\n",
        "iris_df = pd.read_csv(\"http://bit.ly/AutoMPGDataset\")\n",
        "\n",
        "# Previewing our dataset\n",
        "iris_df.head()\n",
        "\n",
        "# Plotting our scatterplot\n",
        "plt.scatter(iris_df['mpg'], iris_df['weight'])\n",
        "\n",
        "# Giving our scatterplot a title\n",
        "plt.title('MPG vs Weight')\n",
        "\n",
        "# Labelling our x axis\n",
        "plt.xlabel('MPG')\n",
        "\n",
        "# Labelling our y axis\n",
        "plt.ylabel('Weight')\n",
        "\n",
        "# Displaying our scatterplot\n",
        "plt.show()\n",
        "\n",
        "# The variables show inverse relation. As the weight of the vehicles increases the mpg decreases. \n",
        "# Yes, the results make sense. As the light weighted vehicles can run much faster than the heavy vehicles."
      ],
      "execution_count": 4,
      "outputs": [
        {
          "output_type": "display_data",
          "data": {
            "image/png": "[encoded data removed]",
            "text/plain": [
              "<Figure size 432x288 with 1 Axes>"
            ]
          },
          "metadata": {
            "needs_background": "light"
          }
        }
      ]
    },
    {
      "cell_type": "code",
      "metadata": {
        "id": "32vryTAJ_UvW",
        "colab": {
          "base_uri": "https://localhost:8080/",
          "height": 295
        },
        "outputId": "a2042805-d5a0-4bfe-b598-0c6e838fcce9"
      },
      "source": [
        "# Example 4 \n",
        "# ---\n",
        "# Question: Determine the relationship between price and points in the given wine reviews dataset below\n",
        "# Dataset url = http://bit.ly/WineDataset\n",
        "# ---\n",
        "# \n",
        "\n",
        "# Loading our dataset\n",
        "wine_reviews = pd.read_csv(\"http://bit.ly/WineDataset\")\n",
        "\n",
        "# Plotting our scatterplot\n",
        "wine_reviews[wine_reviews['price'] < 100].sample(100).plot.scatter(x='price', y='points')\n",
        "\n",
        "# Giving our scatterplot a title\n",
        "plt.title('Wine Price vs Awarded Points')\n",
        "\n",
        "# Displaying our scatterplot\n",
        "plt.show()\n",
        "\n",
        "# This plot shows us that price and points are weakly correlated: that is, \n",
        "# that more expensive wines do generally earn more points when reviewed. \n",
        "# In order to make effective use of this plot, we had to downsample our data, \n",
        "# taking just 100 points from the full set. This is because naive scatter plots do not \n",
        "# effectively treat points which map to the same place. \n",
        "# For example, if two wines, both costing $100, get a rating of 90, \n",
        "# then the second one is overplotted onto the first one, and we add just one point to the plot."
      ],
      "execution_count": 5,
      "outputs": [
        {
          "output_type": "display_data",
          "data": {
            "image/png": "[encoded data removed]",
            "text/plain": [
              "<Figure size 432x288 with 1 Axes>"
            ]
          },
          "metadata": {
            "needs_background": "light"
          }
        }
      ]
    },
    {
      "cell_type": "markdown",
      "metadata": {
        "id": "E-LqHxw-s1ix"
      },
      "source": [
        "####  <font color=\"green\">1.01 Challenges</font>"
      ]
    },
    {
      "cell_type": "code",
      "metadata": {
        "id": "kXXShxSls1A1",
        "colab": {
          "base_uri": "https://localhost:8080/",
          "height": 203
        },
        "outputId": "86f89d0b-1338-4f1b-8b0c-946c150e676d"
      },
      "source": [
        "# Challenge 1\n",
        "# ---\n",
        "# Question = Create a scatter plot between sea levels and the years - what is the basic relationship between \n",
        "# these variables using just visual inspection? What do the results imply.\n",
        "# Dataset url  = http://bit.ly/SeaLevelDataset\n",
        "# Dataset info = This data contains \"cumulative changes in sea level for the world’s oceans since 1880, \n",
        "# based on a combination of long-term tide gauge measurements and recent satellite measurements. \n",
        "# Hint: Clean the dataset i.e. drop unnecessary columns, rename colums etc, sea levels = \"CSIRO Adjusted Sea Level\"\n",
        "# ---\n",
        "#\n",
        "sea_level_df=pd.read_csv('http://bit.ly/SeaLevelDataset')\n",
        "sea_level_df.head()"
      ],
      "execution_count": 6,
      "outputs": [
        {
          "output_type": "execute_result",
          "data": {
            "text/html": [
              "<div>\n",
              "<style scoped>\n",
              "    .dataframe tbody tr th:only-of-type {\n",
              "        vertical-align: middle;\n",
              "    }\n",
              "\n",
              "    .dataframe tbody tr th {\n",
              "        vertical-align: top;\n",
              "    }\n",
              "\n",
              "    .dataframe thead th {\n",
              "        text-align: right;\n",
              "    }\n",
              "</style>\n",
              "<table border=\"1\" class=\"dataframe\">\n",
              "  <thead>\n",
              "    <tr style=\"text-align: right;\">\n",
              "      <th></th>\n",
              "      <th>Year</th>\n",
              "      <th>CSIRO Adjusted Sea Level</th>\n",
              "      <th>Lower Error Bound</th>\n",
              "      <th>Upper Error Bound</th>\n",
              "      <th>NOAA Adjusted Sea Level</th>\n",
              "    </tr>\n",
              "  </thead>\n",
              "  <tbody>\n",
              "    <tr>\n",
              "      <th>0</th>\n",
              "      <td>1880</td>\n",
              "      <td>0.000000</td>\n",
              "      <td>-0.952756</td>\n",
              "      <td>0.952756</td>\n",
              "      <td>NaN</td>\n",
              "    </tr>\n",
              "    <tr>\n",
              "      <th>1</th>\n",
              "      <td>1881</td>\n",
              "      <td>0.220472</td>\n",
              "      <td>-0.732283</td>\n",
              "      <td>1.173228</td>\n",
              "      <td>NaN</td>\n",
              "    </tr>\n",
              "    <tr>\n",
              "      <th>2</th>\n",
              "      <td>1882</td>\n",
              "      <td>-0.440945</td>\n",
              "      <td>-1.346457</td>\n",
              "      <td>0.464567</td>\n",
              "      <td>NaN</td>\n",
              "    </tr>\n",
              "    <tr>\n",
              "      <th>3</th>\n",
              "      <td>1883</td>\n",
              "      <td>-0.232283</td>\n",
              "      <td>-1.129921</td>\n",
              "      <td>0.665354</td>\n",
              "      <td>NaN</td>\n",
              "    </tr>\n",
              "    <tr>\n",
              "      <th>4</th>\n",
              "      <td>1884</td>\n",
              "      <td>0.590551</td>\n",
              "      <td>-0.283465</td>\n",
              "      <td>1.464567</td>\n",
              "      <td>NaN</td>\n",
              "    </tr>\n",
              "  </tbody>\n",
              "</table>\n",
              "</div>"
            ],
            "text/plain": [
              "   Year  CSIRO Adjusted Sea Level  ...  Upper Error Bound  NOAA Adjusted Sea Level\n",
              "0  1880                  0.000000  ...           0.952756                      NaN\n",
              "1  1881                  0.220472  ...           1.173228                      NaN\n",
              "2  1882                 -0.440945  ...           0.464567                      NaN\n",
              "3  1883                 -0.232283  ...           0.665354                      NaN\n",
              "4  1884                  0.590551  ...           1.464567                      NaN\n",
              "\n",
              "[5 rows x 5 columns]"
            ]
          },
          "metadata": {},
          "execution_count": 6
        }
      ]
    },
    {
      "cell_type": "code",
      "metadata": {
        "colab": {
          "base_uri": "https://localhost:8080/"
        },
        "id": "TVBNXw20M2WA",
        "outputId": "b0039626-3de8-4c27-c0e6-453ff34f144d"
      },
      "source": [
        "sea_level_df.info()"
      ],
      "execution_count": 7,
      "outputs": [
        {
          "output_type": "stream",
          "name": "stdout",
          "text": [
            "<class 'pandas.core.frame.DataFrame'>\n",
            "RangeIndex: 135 entries, 0 to 134\n",
            "Data columns (total 5 columns):\n",
            " #   Column                    Non-Null Count  Dtype  \n",
            "---  ------                    --------------  -----  \n",
            " 0   Year                      135 non-null    int64  \n",
            " 1   CSIRO Adjusted Sea Level  134 non-null    float64\n",
            " 2   Lower Error Bound         134 non-null    float64\n",
            " 3   Upper Error Bound         134 non-null    float64\n",
            " 4   NOAA Adjusted Sea Level   22 non-null     float64\n",
            "dtypes: float64(4), int64(1)\n",
            "memory usage: 5.4 KB\n"
          ]
        }
      ]
    },
    {
      "cell_type": "code",
      "metadata": {
        "id": "zC8hRq0iNDMn"
      },
      "source": [
        "#extract the relevant columns\n",
        "sea_level_df.drop([\"Lower Error Bound\",\"Upper Error Bound\",\"NOAA Adjusted Sea Level\"], axis=1, inplace=True)"
      ],
      "execution_count": 8,
      "outputs": []
    },
    {
      "cell_type": "code",
      "metadata": {
        "colab": {
          "base_uri": "https://localhost:8080/"
        },
        "id": "H0spTh4nO8QI",
        "outputId": "ff5ac75c-88b1-4458-b205-79a082e6f5a5"
      },
      "source": [
        "sea_level_df.columns"
      ],
      "execution_count": 9,
      "outputs": [
        {
          "output_type": "execute_result",
          "data": {
            "text/plain": [
              "Index(['Year', 'CSIRO Adjusted Sea Level'], dtype='object')"
            ]
          },
          "metadata": {},
          "execution_count": 9
        }
      ]
    },
    {
      "cell_type": "code",
      "metadata": {
        "colab": {
          "base_uri": "https://localhost:8080/",
          "height": 203
        },
        "id": "0vixQxDWPTnG",
        "outputId": "0192314b-bd6f-433e-cda0-fd795731c9f0"
      },
      "source": [
        "sea_level_df.head()"
      ],
      "execution_count": 10,
      "outputs": [
        {
          "output_type": "execute_result",
          "data": {
            "text/html": [
              "<div>\n",
              "<style scoped>\n",
              "    .dataframe tbody tr th:only-of-type {\n",
              "        vertical-align: middle;\n",
              "    }\n",
              "\n",
              "    .dataframe tbody tr th {\n",
              "        vertical-align: top;\n",
              "    }\n",
              "\n",
              "    .dataframe thead th {\n",
              "        text-align: right;\n",
              "    }\n",
              "</style>\n",
              "<table border=\"1\" class=\"dataframe\">\n",
              "  <thead>\n",
              "    <tr style=\"text-align: right;\">\n",
              "      <th></th>\n",
              "      <th>Year</th>\n",
              "      <th>CSIRO Adjusted Sea Level</th>\n",
              "    </tr>\n",
              "  </thead>\n",
              "  <tbody>\n",
              "    <tr>\n",
              "      <th>0</th>\n",
              "      <td>1880</td>\n",
              "      <td>0.000000</td>\n",
              "    </tr>\n",
              "    <tr>\n",
              "      <th>1</th>\n",
              "      <td>1881</td>\n",
              "      <td>0.220472</td>\n",
              "    </tr>\n",
              "    <tr>\n",
              "      <th>2</th>\n",
              "      <td>1882</td>\n",
              "      <td>-0.440945</td>\n",
              "    </tr>\n",
              "    <tr>\n",
              "      <th>3</th>\n",
              "      <td>1883</td>\n",
              "      <td>-0.232283</td>\n",
              "    </tr>\n",
              "    <tr>\n",
              "      <th>4</th>\n",
              "      <td>1884</td>\n",
              "      <td>0.590551</td>\n",
              "    </tr>\n",
              "  </tbody>\n",
              "</table>\n",
              "</div>"
            ],
            "text/plain": [
              "   Year  CSIRO Adjusted Sea Level\n",
              "0  1880                  0.000000\n",
              "1  1881                  0.220472\n",
              "2  1882                 -0.440945\n",
              "3  1883                 -0.232283\n",
              "4  1884                  0.590551"
            ]
          },
          "metadata": {},
          "execution_count": 10
        }
      ]
    },
    {
      "cell_type": "code",
      "metadata": {
        "id": "XeswNFu_Pakz"
      },
      "source": [
        "#let us rename the column\n",
        "sea_level_df.rename(columns={\"CSIRO Adjusted Sea Level\":\"sea level\"}, inplace=True)"
      ],
      "execution_count": 11,
      "outputs": []
    },
    {
      "cell_type": "code",
      "metadata": {
        "colab": {
          "base_uri": "https://localhost:8080/",
          "height": 110
        },
        "id": "D7meR31GP0dz",
        "outputId": "b3ea3acf-6239-4439-a249-0056b3480bcc"
      },
      "source": [
        "sea_level_df.head(2)"
      ],
      "execution_count": 12,
      "outputs": [
        {
          "output_type": "execute_result",
          "data": {
            "text/html": [
              "<div>\n",
              "<style scoped>\n",
              "    .dataframe tbody tr th:only-of-type {\n",
              "        vertical-align: middle;\n",
              "    }\n",
              "\n",
              "    .dataframe tbody tr th {\n",
              "        vertical-align: top;\n",
              "    }\n",
              "\n",
              "    .dataframe thead th {\n",
              "        text-align: right;\n",
              "    }\n",
              "</style>\n",
              "<table border=\"1\" class=\"dataframe\">\n",
              "  <thead>\n",
              "    <tr style=\"text-align: right;\">\n",
              "      <th></th>\n",
              "      <th>Year</th>\n",
              "      <th>sea level</th>\n",
              "    </tr>\n",
              "  </thead>\n",
              "  <tbody>\n",
              "    <tr>\n",
              "      <th>0</th>\n",
              "      <td>1880</td>\n",
              "      <td>0.000000</td>\n",
              "    </tr>\n",
              "    <tr>\n",
              "      <th>1</th>\n",
              "      <td>1881</td>\n",
              "      <td>0.220472</td>\n",
              "    </tr>\n",
              "  </tbody>\n",
              "</table>\n",
              "</div>"
            ],
            "text/plain": [
              "   Year  sea level\n",
              "0  1880   0.000000\n",
              "1  1881   0.220472"
            ]
          },
          "metadata": {},
          "execution_count": 12
        }
      ]
    },
    {
      "cell_type": "code",
      "metadata": {
        "id": "GSDPuplDQBdC"
      },
      "source": [
        "#let us remove the Nan in sea level column\n",
        "sea_level_df.dropna(inplace=True)"
      ],
      "execution_count": 13,
      "outputs": []
    },
    {
      "cell_type": "code",
      "metadata": {
        "colab": {
          "base_uri": "https://localhost:8080/"
        },
        "id": "M-cdmmv_QlUT",
        "outputId": "468703e6-a24d-4e9f-85f2-89bf450646dd"
      },
      "source": [
        "sea_level_df.info()"
      ],
      "execution_count": 14,
      "outputs": [
        {
          "output_type": "stream",
          "name": "stdout",
          "text": [
            "<class 'pandas.core.frame.DataFrame'>\n",
            "Int64Index: 134 entries, 0 to 133\n",
            "Data columns (total 2 columns):\n",
            " #   Column     Non-Null Count  Dtype  \n",
            "---  ------     --------------  -----  \n",
            " 0   Year       134 non-null    int64  \n",
            " 1   sea level  134 non-null    float64\n",
            "dtypes: float64(1), int64(1)\n",
            "memory usage: 3.1 KB\n"
          ]
        }
      ]
    },
    {
      "cell_type": "code",
      "metadata": {
        "colab": {
          "base_uri": "https://localhost:8080/",
          "height": 295
        },
        "id": "ztWJqle3QqaF",
        "outputId": "f049254a-d2ad-4910-b98a-3c7613834c6b"
      },
      "source": [
        "#let us plot the scatter plot\n",
        "plt.scatter(sea_level_df['Year'], sea_level_df['sea level'])\n",
        "#giving the scatter plot a tittle\n",
        "plt.title('year vs sea level')\n",
        "#label x axis\n",
        "plt.xlabel('year from 1980')\n",
        "#label y axis\n",
        "plt.ylabel('sea level')\n",
        "#displaying our scatter plot\n",
        "plt.show()\n"
      ],
      "execution_count": 15,
      "outputs": [
        {
          "output_type": "display_data",
          "data": {
            "image/png": "[encoded data removed]",
            "text/plain": [
              "<Figure size 432x288 with 1 Axes>"
            ]
          },
          "metadata": {
            "needs_background": "light"
          }
        }
      ]
    },
    {
      "cell_type": "code",
      "metadata": {
        "id": "I4ELU3uGUKW8",
        "colab": {
          "base_uri": "https://localhost:8080/",
          "height": 295
        },
        "outputId": "227bc62c-384a-44f8-c2ef-287db269af9d"
      },
      "source": [
        "# Example 2\n",
        "# ---\n",
        "# Question: Create a scatter plot between petal length and petal width - \n",
        "# What is the basic relationship between these variables using just visual inspection?\n",
        "# Dataset url  = http://bit.ly/IrisDataset\n",
        "# Dataset Info = Iris Plants Dataset\n",
        "# ---\n",
        "#\n",
        "\n",
        "# Loading our dataset from a url\n",
        "iris_df = pd.read_csv(\"http://bit.ly/IrisDataset\")\n",
        "\n",
        "# Previewing our dataset\n",
        "iris_df.head()\n",
        "\n",
        "# Plotting our scatterplot\n",
        "plt.scatter(iris_df['sepal_length'], iris_df['sepal_width'])\n",
        "\n",
        "# Giving our scatterplot a title\n",
        "plt.title('Sepal Width vs Sepal Length')\n",
        "\n",
        "# Labelling our x axis\n",
        "plt.xlabel('Sepal Length (cm)')\n",
        "\n",
        "# Labelling our y axis\n",
        "plt.ylabel('Sepal Width (cm)')\n",
        "\n",
        "# Displaying our scatterplot\n",
        "plt.show()\n",
        "\n",
        "# There is no relation because the points are scattered throughout the graph."
      ],
      "execution_count": 16,
      "outputs": [
        {
          "output_type": "display_data",
          "data": {
            "image/png": "[encoded data removed]",
            "text/plain": [
              "<Figure size 432x288 with 1 Axes>"
            ]
          },
          "metadata": {
            "needs_background": "light"
          }
        }
      ]
    },
    {
      "cell_type": "code",
      "metadata": {
        "id": "pm5_JBIIWSNY",
        "colab": {
          "base_uri": "https://localhost:8080/",
          "height": 203
        },
        "outputId": "767c7789-560e-4d91-d9a8-b8a65053cb32"
      },
      "source": [
        "# Challenge 3\n",
        "# --- based on the collected data provided below\n",
        "# Question: Find the relation between fixed acidity and density of Red wines\n",
        "# based on the collected data provided below\n",
        "# Dataset url  = http://bit.ly/WineRedsDataset\n",
        "# Dataset info =\n",
        "# ---\n",
        "#\n",
        "df_wine=pd.read_csv('http://bit.ly/WineRedsDataset')\n",
        "df_wine.head()"
      ],
      "execution_count": 17,
      "outputs": [
        {
          "output_type": "execute_result",
          "data": {
            "text/html": [
              "<div>\n",
              "<style scoped>\n",
              "    .dataframe tbody tr th:only-of-type {\n",
              "        vertical-align: middle;\n",
              "    }\n",
              "\n",
              "    .dataframe tbody tr th {\n",
              "        vertical-align: top;\n",
              "    }\n",
              "\n",
              "    .dataframe thead th {\n",
              "        text-align: right;\n",
              "    }\n",
              "</style>\n",
              "<table border=\"1\" class=\"dataframe\">\n",
              "  <thead>\n",
              "    <tr style=\"text-align: right;\">\n",
              "      <th></th>\n",
              "      <th>Unnamed: 0</th>\n",
              "      <th>fixed.acidity</th>\n",
              "      <th>volatile.acidity</th>\n",
              "      <th>citric.acid</th>\n",
              "      <th>residual.sugar</th>\n",
              "      <th>chlorides</th>\n",
              "      <th>free.sulfur.dioxide</th>\n",
              "      <th>total.sulfur.dioxide</th>\n",
              "      <th>density</th>\n",
              "      <th>pH</th>\n",
              "      <th>sulphates</th>\n",
              "      <th>alcohol</th>\n",
              "      <th>quality</th>\n",
              "    </tr>\n",
              "  </thead>\n",
              "  <tbody>\n",
              "    <tr>\n",
              "      <th>0</th>\n",
              "      <td>1</td>\n",
              "      <td>7.4</td>\n",
              "      <td>0.70</td>\n",
              "      <td>0.00</td>\n",
              "      <td>1.9</td>\n",
              "      <td>0.076</td>\n",
              "      <td>11.0</td>\n",
              "      <td>34.0</td>\n",
              "      <td>0.9978</td>\n",
              "      <td>3.51</td>\n",
              "      <td>0.56</td>\n",
              "      <td>9.4</td>\n",
              "      <td>5</td>\n",
              "    </tr>\n",
              "    <tr>\n",
              "      <th>1</th>\n",
              "      <td>2</td>\n",
              "      <td>7.8</td>\n",
              "      <td>0.88</td>\n",
              "      <td>0.00</td>\n",
              "      <td>2.6</td>\n",
              "      <td>0.098</td>\n",
              "      <td>25.0</td>\n",
              "      <td>67.0</td>\n",
              "      <td>0.9968</td>\n",
              "      <td>3.20</td>\n",
              "      <td>0.68</td>\n",
              "      <td>9.8</td>\n",
              "      <td>5</td>\n",
              "    </tr>\n",
              "    <tr>\n",
              "      <th>2</th>\n",
              "      <td>3</td>\n",
              "      <td>7.8</td>\n",
              "      <td>0.76</td>\n",
              "      <td>0.04</td>\n",
              "      <td>2.3</td>\n",
              "      <td>0.092</td>\n",
              "      <td>15.0</td>\n",
              "      <td>54.0</td>\n",
              "      <td>0.9970</td>\n",
              "      <td>3.26</td>\n",
              "      <td>0.65</td>\n",
              "      <td>9.8</td>\n",
              "      <td>5</td>\n",
              "    </tr>\n",
              "    <tr>\n",
              "      <th>3</th>\n",
              "      <td>4</td>\n",
              "      <td>11.2</td>\n",
              "      <td>0.28</td>\n",
              "      <td>0.56</td>\n",
              "      <td>1.9</td>\n",
              "      <td>0.075</td>\n",
              "      <td>17.0</td>\n",
              "      <td>60.0</td>\n",
              "      <td>0.9980</td>\n",
              "      <td>3.16</td>\n",
              "      <td>0.58</td>\n",
              "      <td>9.8</td>\n",
              "      <td>6</td>\n",
              "    </tr>\n",
              "    <tr>\n",
              "      <th>4</th>\n",
              "      <td>5</td>\n",
              "      <td>7.4</td>\n",
              "      <td>0.70</td>\n",
              "      <td>0.00</td>\n",
              "      <td>1.9</td>\n",
              "      <td>0.076</td>\n",
              "      <td>11.0</td>\n",
              "      <td>34.0</td>\n",
              "      <td>0.9978</td>\n",
              "      <td>3.51</td>\n",
              "      <td>0.56</td>\n",
              "      <td>9.4</td>\n",
              "      <td>5</td>\n",
              "    </tr>\n",
              "  </tbody>\n",
              "</table>\n",
              "</div>"
            ],
            "text/plain": [
              "   Unnamed: 0  fixed.acidity  volatile.acidity  ...  sulphates  alcohol  quality\n",
              "0           1            7.4              0.70  ...       0.56      9.4        5\n",
              "1           2            7.8              0.88  ...       0.68      9.8        5\n",
              "2           3            7.8              0.76  ...       0.65      9.8        5\n",
              "3           4           11.2              0.28  ...       0.58      9.8        6\n",
              "4           5            7.4              0.70  ...       0.56      9.4        5\n",
              "\n",
              "[5 rows x 13 columns]"
            ]
          },
          "metadata": {},
          "execution_count": 17
        }
      ]
    },
    {
      "cell_type": "code",
      "metadata": {
        "colab": {
          "base_uri": "https://localhost:8080/"
        },
        "id": "Zco98qDUSOd6",
        "outputId": "513f9e99-cf15-4ecc-dced-1b420d091374"
      },
      "source": [
        "#check whether the target columns have missing values\n",
        "df_wine['fixed.acidity'].isnull().sum()"
      ],
      "execution_count": 18,
      "outputs": [
        {
          "output_type": "execute_result",
          "data": {
            "text/plain": [
              "0"
            ]
          },
          "metadata": {},
          "execution_count": 18
        }
      ]
    },
    {
      "cell_type": "code",
      "metadata": {
        "colab": {
          "base_uri": "https://localhost:8080/"
        },
        "id": "3CaHu1rPSdl6",
        "outputId": "693925f6-3c0f-4e1f-847f-ab2014b31635"
      },
      "source": [
        "df_wine['density'].isnull().sum()"
      ],
      "execution_count": 19,
      "outputs": [
        {
          "output_type": "execute_result",
          "data": {
            "text/plain": [
              "0"
            ]
          },
          "metadata": {},
          "execution_count": 19
        }
      ]
    },
    {
      "cell_type": "code",
      "metadata": {
        "colab": {
          "base_uri": "https://localhost:8080/"
        },
        "id": "xgw3VEdHSlp4",
        "outputId": "2d8dedd9-8593-4593-c83a-9d108ed3e5b6"
      },
      "source": [
        "#the two columns have no missing values.Before we plot the scatter plot, let us check their data types\n",
        "df_wine.info()"
      ],
      "execution_count": 20,
      "outputs": [
        {
          "output_type": "stream",
          "name": "stdout",
          "text": [
            "<class 'pandas.core.frame.DataFrame'>\n",
            "RangeIndex: 1599 entries, 0 to 1598\n",
            "Data columns (total 13 columns):\n",
            " #   Column                Non-Null Count  Dtype  \n",
            "---  ------                --------------  -----  \n",
            " 0   Unnamed: 0            1599 non-null   int64  \n",
            " 1   fixed.acidity         1599 non-null   float64\n",
            " 2   volatile.acidity      1599 non-null   float64\n",
            " 3   citric.acid           1599 non-null   float64\n",
            " 4   residual.sugar        1599 non-null   float64\n",
            " 5   chlorides             1599 non-null   float64\n",
            " 6   free.sulfur.dioxide   1599 non-null   float64\n",
            " 7   total.sulfur.dioxide  1599 non-null   float64\n",
            " 8   density               1599 non-null   float64\n",
            " 9   pH                    1599 non-null   float64\n",
            " 10  sulphates             1599 non-null   float64\n",
            " 11  alcohol               1599 non-null   float64\n",
            " 12  quality               1599 non-null   int64  \n",
            "dtypes: float64(11), int64(2)\n",
            "memory usage: 162.5 KB\n"
          ]
        }
      ]
    },
    {
      "cell_type": "code",
      "metadata": {
        "colab": {
          "base_uri": "https://localhost:8080/",
          "height": 295
        },
        "id": "JSkFwzM2SzvN",
        "outputId": "df366318-e5ae-4719-8f2f-683cdec66d18"
      },
      "source": [
        "#From above, we can see that they are both of float data type.Now let us plot the scatter plot\n",
        "plt.scatter(df_wine['fixed.acidity'], df_wine['density']) \n",
        "#let us add a title\n",
        "plt.title('fixed acidity vs density')\n",
        "#label x axis\n",
        "plt.xlabel('fixed acidity')\n",
        "#label y axis\n",
        "plt.ylabel('density')\n",
        "#displaying our scatter plot\n",
        "plt.show()"
      ],
      "execution_count": 21,
      "outputs": [
        {
          "output_type": "display_data",
          "data": {
            "image/png": "[encoded data removed]",
            "text/plain": [
              "<Figure size 432x288 with 1 Axes>"
            ]
          },
          "metadata": {
            "needs_background": "light"
          }
        }
      ]
    },
    {
      "cell_type": "code",
      "metadata": {
        "id": "jxB3t9supzip"
      },
      "source": [
        "#There is a general trend in increased acidity leading to an increase in density"
      ],
      "execution_count": 22,
      "outputs": []
    },
    {
      "cell_type": "code",
      "metadata": {
        "id": "05icjfnXcGH_",
        "colab": {
          "base_uri": "https://localhost:8080/",
          "height": 203
        },
        "outputId": "6fb75ae6-6d83-49fb-9a76-e2aa28197114"
      },
      "source": [
        "# Challenge 4\n",
        "# --- \n",
        "# Question: Find the relation between density and the alcohol of red wines\n",
        "# based on the collected data provided below\n",
        "# Dataset url  = http://bit.ly/WineRedsDataset\n",
        "# Dataset info =\n",
        "# ---\n",
        "#\n",
        "df_wine_2=pd.read_csv('http://bit.ly/WineRedsDataset')\n",
        "df_wine_2.head()"
      ],
      "execution_count": 23,
      "outputs": [
        {
          "output_type": "execute_result",
          "data": {
            "text/html": [
              "<div>\n",
              "<style scoped>\n",
              "    .dataframe tbody tr th:only-of-type {\n",
              "        vertical-align: middle;\n",
              "    }\n",
              "\n",
              "    .dataframe tbody tr th {\n",
              "        vertical-align: top;\n",
              "    }\n",
              "\n",
              "    .dataframe thead th {\n",
              "        text-align: right;\n",
              "    }\n",
              "</style>\n",
              "<table border=\"1\" class=\"dataframe\">\n",
              "  <thead>\n",
              "    <tr style=\"text-align: right;\">\n",
              "      <th></th>\n",
              "      <th>Unnamed: 0</th>\n",
              "      <th>fixed.acidity</th>\n",
              "      <th>volatile.acidity</th>\n",
              "      <th>citric.acid</th>\n",
              "      <th>residual.sugar</th>\n",
              "      <th>chlorides</th>\n",
              "      <th>free.sulfur.dioxide</th>\n",
              "      <th>total.sulfur.dioxide</th>\n",
              "      <th>density</th>\n",
              "      <th>pH</th>\n",
              "      <th>sulphates</th>\n",
              "      <th>alcohol</th>\n",
              "      <th>quality</th>\n",
              "    </tr>\n",
              "  </thead>\n",
              "  <tbody>\n",
              "    <tr>\n",
              "      <th>0</th>\n",
              "      <td>1</td>\n",
              "      <td>7.4</td>\n",
              "      <td>0.70</td>\n",
              "      <td>0.00</td>\n",
              "      <td>1.9</td>\n",
              "      <td>0.076</td>\n",
              "      <td>11.0</td>\n",
              "      <td>34.0</td>\n",
              "      <td>0.9978</td>\n",
              "      <td>3.51</td>\n",
              "      <td>0.56</td>\n",
              "      <td>9.4</td>\n",
              "      <td>5</td>\n",
              "    </tr>\n",
              "    <tr>\n",
              "      <th>1</th>\n",
              "      <td>2</td>\n",
              "      <td>7.8</td>\n",
              "      <td>0.88</td>\n",
              "      <td>0.00</td>\n",
              "      <td>2.6</td>\n",
              "      <td>0.098</td>\n",
              "      <td>25.0</td>\n",
              "      <td>67.0</td>\n",
              "      <td>0.9968</td>\n",
              "      <td>3.20</td>\n",
              "      <td>0.68</td>\n",
              "      <td>9.8</td>\n",
              "      <td>5</td>\n",
              "    </tr>\n",
              "    <tr>\n",
              "      <th>2</th>\n",
              "      <td>3</td>\n",
              "      <td>7.8</td>\n",
              "      <td>0.76</td>\n",
              "      <td>0.04</td>\n",
              "      <td>2.3</td>\n",
              "      <td>0.092</td>\n",
              "      <td>15.0</td>\n",
              "      <td>54.0</td>\n",
              "      <td>0.9970</td>\n",
              "      <td>3.26</td>\n",
              "      <td>0.65</td>\n",
              "      <td>9.8</td>\n",
              "      <td>5</td>\n",
              "    </tr>\n",
              "    <tr>\n",
              "      <th>3</th>\n",
              "      <td>4</td>\n",
              "      <td>11.2</td>\n",
              "      <td>0.28</td>\n",
              "      <td>0.56</td>\n",
              "      <td>1.9</td>\n",
              "      <td>0.075</td>\n",
              "      <td>17.0</td>\n",
              "      <td>60.0</td>\n",
              "      <td>0.9980</td>\n",
              "      <td>3.16</td>\n",
              "      <td>0.58</td>\n",
              "      <td>9.8</td>\n",
              "      <td>6</td>\n",
              "    </tr>\n",
              "    <tr>\n",
              "      <th>4</th>\n",
              "      <td>5</td>\n",
              "      <td>7.4</td>\n",
              "      <td>0.70</td>\n",
              "      <td>0.00</td>\n",
              "      <td>1.9</td>\n",
              "      <td>0.076</td>\n",
              "      <td>11.0</td>\n",
              "      <td>34.0</td>\n",
              "      <td>0.9978</td>\n",
              "      <td>3.51</td>\n",
              "      <td>0.56</td>\n",
              "      <td>9.4</td>\n",
              "      <td>5</td>\n",
              "    </tr>\n",
              "  </tbody>\n",
              "</table>\n",
              "</div>"
            ],
            "text/plain": [
              "   Unnamed: 0  fixed.acidity  volatile.acidity  ...  sulphates  alcohol  quality\n",
              "0           1            7.4              0.70  ...       0.56      9.4        5\n",
              "1           2            7.8              0.88  ...       0.68      9.8        5\n",
              "2           3            7.8              0.76  ...       0.65      9.8        5\n",
              "3           4           11.2              0.28  ...       0.58      9.8        6\n",
              "4           5            7.4              0.70  ...       0.56      9.4        5\n",
              "\n",
              "[5 rows x 13 columns]"
            ]
          },
          "metadata": {},
          "execution_count": 23
        }
      ]
    },
    {
      "cell_type": "code",
      "metadata": {
        "colab": {
          "base_uri": "https://localhost:8080/"
        },
        "id": "yrkA-zX7UYcN",
        "outputId": "2062f702-ca1f-478a-9015-50f77728b5eb"
      },
      "source": [
        "#check whether the target columns have missing values\n",
        "df_wine_2['alcohol'].isnull().any()"
      ],
      "execution_count": 24,
      "outputs": [
        {
          "output_type": "execute_result",
          "data": {
            "text/plain": [
              "False"
            ]
          },
          "metadata": {},
          "execution_count": 24
        }
      ]
    },
    {
      "cell_type": "code",
      "metadata": {
        "colab": {
          "base_uri": "https://localhost:8080/"
        },
        "id": "aE7Mo3wKUsD6",
        "outputId": "7b866c30-a066-4484-f4fa-4d4b1860f508"
      },
      "source": [
        "df_wine_2['density'].isnull().any()"
      ],
      "execution_count": 25,
      "outputs": [
        {
          "output_type": "execute_result",
          "data": {
            "text/plain": [
              "False"
            ]
          },
          "metadata": {},
          "execution_count": 25
        }
      ]
    },
    {
      "cell_type": "code",
      "metadata": {
        "colab": {
          "base_uri": "https://localhost:8080/"
        },
        "id": "ob6go9BrU4Rw",
        "outputId": "383589b5-3aa1-4752-e41b-c2793ecd5aae"
      },
      "source": [
        "#the two columns have no missing values.Before we plot the scatter plot, let us check their data types\n",
        "df_wine_2.info()"
      ],
      "execution_count": 26,
      "outputs": [
        {
          "output_type": "stream",
          "name": "stdout",
          "text": [
            "<class 'pandas.core.frame.DataFrame'>\n",
            "RangeIndex: 1599 entries, 0 to 1598\n",
            "Data columns (total 13 columns):\n",
            " #   Column                Non-Null Count  Dtype  \n",
            "---  ------                --------------  -----  \n",
            " 0   Unnamed: 0            1599 non-null   int64  \n",
            " 1   fixed.acidity         1599 non-null   float64\n",
            " 2   volatile.acidity      1599 non-null   float64\n",
            " 3   citric.acid           1599 non-null   float64\n",
            " 4   residual.sugar        1599 non-null   float64\n",
            " 5   chlorides             1599 non-null   float64\n",
            " 6   free.sulfur.dioxide   1599 non-null   float64\n",
            " 7   total.sulfur.dioxide  1599 non-null   float64\n",
            " 8   density               1599 non-null   float64\n",
            " 9   pH                    1599 non-null   float64\n",
            " 10  sulphates             1599 non-null   float64\n",
            " 11  alcohol               1599 non-null   float64\n",
            " 12  quality               1599 non-null   int64  \n",
            "dtypes: float64(11), int64(2)\n",
            "memory usage: 162.5 KB\n"
          ]
        }
      ]
    },
    {
      "cell_type": "code",
      "metadata": {
        "colab": {
          "base_uri": "https://localhost:8080/",
          "height": 295
        },
        "id": "jAll9J8_VAaI",
        "outputId": "047d00ee-a7c1-4511-88e2-3e8d95573ec3"
      },
      "source": [
        "#From above, we can see that they are both of float data type.Now let us plot the scatter plot\n",
        "plt.scatter(df_wine_2['alcohol'], df_wine_2['density']) \n",
        "#let us add a title\n",
        "plt.title('alcohol vs density')\n",
        "#label x axis\n",
        "plt.xlabel('alcohol')\n",
        "#label y axis\n",
        "plt.ylabel('density')\n",
        "#displaying our scatter plot\n",
        "plt.show()"
      ],
      "execution_count": 27,
      "outputs": [
        {
          "output_type": "display_data",
          "data": {
            "image/png": "[encoded data removed]",
            "text/plain": [
              "<Figure size 432x288 with 1 Axes>"
            ]
          },
          "metadata": {
            "needs_background": "light"
          }
        }
      ]
    },
    {
      "cell_type": "code",
      "metadata": {
        "id": "A48wDN0nqIxp"
      },
      "source": [
        "#Generally as alcohol levels increase, the density decreases"
      ],
      "execution_count": 28,
      "outputs": []
    },
    {
      "cell_type": "markdown",
      "metadata": {
        "id": "ZXFWumZhr6Ex"
      },
      "source": [
        "### 1.02 Correlation"
      ]
    },
    {
      "cell_type": "markdown",
      "metadata": {
        "id": "v1z7T3zbgkMh"
      },
      "source": [
        "Correlation is a statistical measure that describes the association between random variables. In this section, will use pandas to calculate the correlation coefficient. We will learn how to calculate the pearson correlation coefficient which is the most widely used correlation coefficient."
      ]
    },
    {
      "cell_type": "code",
      "metadata": {
        "id": "xk9ZSH5XsDHk",
        "colab": {
          "base_uri": "https://localhost:8080/"
        },
        "outputId": "b0ee5b8d-1ab7-489b-eead-5aa5d178c654"
      },
      "source": [
        "# Example 1\n",
        "# ---\n",
        "# Question: Determine the relationship between the weight and displacement of vehicle \n",
        "# by determining the correlation coeffient.\n",
        "# Dataset url = http://bit.ly/AutoMPGDataset\n",
        "# Dataset info = The data is technical spec of cars. The dataset is downloaded from UCI Machine Learning Repository \n",
        "# ---\n",
        "#\n",
        "\n",
        "# Loading the dataset\n",
        "mpg_df = pd.read_csv(\"http://bit.ly/AutoMPGDataset\") \n",
        "\n",
        "# Previewing the dataframe\n",
        "mpg_df.head()\n",
        "\n",
        "# Calculating the pearson coefficient\n",
        "pearson_coeff = mpg_df[\"weight\"].corr(mpg_df[\"displacement\"], method=\"pearson\") \n",
        "print(pearson_coeff)\n",
        "\n",
        "# Checking whether you have to define the pearson\n",
        "coeff = mpg_df[\"weight\"].corr(mpg_df[\"displacement\"]) \n",
        "print(coeff)"
      ],
      "execution_count": 29,
      "outputs": [
        {
          "output_type": "stream",
          "name": "stdout",
          "text": [
            "0.9328241468416342\n",
            "0.9328241468416342\n"
          ]
        }
      ]
    },
    {
      "cell_type": "code",
      "metadata": {
        "id": "NT6fzg0Y9HEy",
        "colab": {
          "base_uri": "https://localhost:8080/"
        },
        "outputId": "f8fb65e6-9310-4dcd-c616-8ff454c71594"
      },
      "source": [
        "# Example 2\n",
        "# --- \n",
        "# Positive correlation is a relationship between two variables in which \n",
        "# both variables move in tandem—that is, in the same direction.\n",
        "# ---\n",
        "# Question: Using the correlation coefficient, determine whether acceleration and mpg are strongly or weakly correlated.\n",
        "# Dataset url = http://bit.ly/AutoMPGDataset\n",
        "# Dataset info = The data is technical spec of cars. The dataset is downloaded from UCI Machine Learning Repository \n",
        "# ---\n",
        "#\n",
        "\n",
        "# Loading the dataset\n",
        "mpg_df = pd.read_csv(\"http://bit.ly/AutoMPGDataset\") \n",
        "\n",
        "# Previewing the dataframe\n",
        "mpg_df.head()\n",
        "\n",
        "# Calculating the pearson coefficient\n",
        "mpg_df[\"acceleration\"].corr(mpg_df[\"mpg\"]) \n",
        "\n",
        "# Correlation coefficients between -.20 and .20 are generally considered weak, \n",
        "# between .20 and .50 (positive or negative) are considered moderate, \n",
        "# and above .50 (positive or negative) are considered strong. \n",
        "# Since the correlation coefficent of accelaration and mpg is 0.42, \n",
        "# this means that accelaration and mpg are moderately correlated."
      ],
      "execution_count": 31,
      "outputs": [
        {
          "output_type": "execute_result",
          "data": {
            "text/plain": [
              "0.42028891210165065"
            ]
          },
          "metadata": {},
          "execution_count": 31
        }
      ]
    },
    {
      "cell_type": "code",
      "metadata": {
        "id": "HthEGQEm_Yqj",
        "colab": {
          "base_uri": "https://localhost:8080/"
        },
        "outputId": "98c7427f-11f4-4764-f043-dd1cd4da4047"
      },
      "source": [
        "# Example 3\n",
        "# ---\n",
        "# Negative correlation or inverse correlation is a relationship between two variables\n",
        "# whereby they move in opposite directions. \n",
        "# ---\n",
        "# Question: Determine the correlation between accelaration and displacement of the cars given the dataset below.\n",
        "# Dataset url = http://bit.ly/AutoMPGDataset\n",
        "# Dataset info = The data is technical spec of cars. The dataset is downloaded from UCI Machine Learning Repository \n",
        "# ---\n",
        "#\n",
        "\n",
        "# Loading the dataset\n",
        "mpg_df = pd.read_csv(\"http://bit.ly/AutoMPGDataset\") \n",
        "\n",
        "# Previewing the dataframe\n",
        "mpg_df.head()\n",
        "\n",
        "# Calculating the pearson coefficient\n",
        "mpg_df[\"acceleration\"].corr(mpg_df[\"displacement\"]) \n",
        "\n",
        "# A negative (inverse) correlation occurs when the correlation coefficient is less than 0 \n",
        "# and indicates that both variables move in the opposite direction. \n",
        "# In short, any reading between 0 and -1 means that the two securities move in opposite directions.\n",
        "# The correlation coefficient is calculated to be -0.54.  This strong negative correlation signifies \n",
        "# that as the acceleration decreases, displacement increases and vice versa."
      ],
      "execution_count": 32,
      "outputs": [
        {
          "output_type": "execute_result",
          "data": {
            "text/plain": [
              "-0.5436840835009297"
            ]
          },
          "metadata": {},
          "execution_count": 32
        }
      ]
    },
    {
      "cell_type": "code",
      "metadata": {
        "id": "Cth-f1IrB7aT",
        "colab": {
          "base_uri": "https://localhost:8080/"
        },
        "outputId": "12e471a9-1412-4460-d201-96216e532f70"
      },
      "source": [
        "# Example 4\n",
        "# ---\n",
        "# Question: Determine the correlation between the sepal length and sepal width given the dataset below.\n",
        "# Dataset url = http://bit.ly/IrisDataset \n",
        "# Dataset Info = Iris Plants Dataset\n",
        "# ---\n",
        "#\n",
        "\n",
        "# Loading the dataset\n",
        "iris_df = pd.read_csv(\"http://bit.ly/IrisDataset\") \n",
        "\n",
        "# Previewing the dataframe\n",
        "iris_df.head()\n",
        "\n",
        "# Calculating the pearson coefficient\n",
        "iris_df[\"sepal_length\"].corr(iris_df[\"sepal_width\"])\n",
        "\n",
        "# When the value of the correlation coefficient is close to zero, generally between -0.1 and +0.1, \n",
        "# the variables are said to have no linear relationship or a very weak linear relationship. \n",
        "# Thus in this example sepal length and sepal width have a very weak negative correlation."
      ],
      "execution_count": 33,
      "outputs": [
        {
          "output_type": "execute_result",
          "data": {
            "text/plain": [
              "-0.10936924995064937"
            ]
          },
          "metadata": {},
          "execution_count": 33
        }
      ]
    },
    {
      "cell_type": "code",
      "metadata": {
        "id": "8y_sdU5JF0eX",
        "colab": {
          "base_uri": "https://localhost:8080/",
          "height": 172
        },
        "outputId": "c6d093a2-c72d-4857-fe55-f23271c58a13"
      },
      "source": [
        "# Example 5\n",
        "# ---\n",
        "# Display the correlation coefficients of the variables in the Iris Dataset\n",
        "# Dataset url = http://bit.ly/IrisDataset \n",
        "# Dataset Info = Iris Plants Dataset\n",
        "# ---\n",
        "#\n",
        "\n",
        "# Loading the dataset\n",
        "iris_df = pd.read_csv(\"http://bit.ly/IrisDataset\") \n",
        "\n",
        "# Previewing the dataframe\n",
        "iris_df.head()\n",
        "\n",
        "# Calculating the pearson coefficient\n",
        "iris_df.corr() "
      ],
      "execution_count": 34,
      "outputs": [
        {
          "output_type": "execute_result",
          "data": {
            "text/html": [
              "<div>\n",
              "<style scoped>\n",
              "    .dataframe tbody tr th:only-of-type {\n",
              "        vertical-align: middle;\n",
              "    }\n",
              "\n",
              "    .dataframe tbody tr th {\n",
              "        vertical-align: top;\n",
              "    }\n",
              "\n",
              "    .dataframe thead th {\n",
              "        text-align: right;\n",
              "    }\n",
              "</style>\n",
              "<table border=\"1\" class=\"dataframe\">\n",
              "  <thead>\n",
              "    <tr style=\"text-align: right;\">\n",
              "      <th></th>\n",
              "      <th>sepal_length</th>\n",
              "      <th>sepal_width</th>\n",
              "      <th>petal_length</th>\n",
              "      <th>petal_width</th>\n",
              "    </tr>\n",
              "  </thead>\n",
              "  <tbody>\n",
              "    <tr>\n",
              "      <th>sepal_length</th>\n",
              "      <td>1.000000</td>\n",
              "      <td>-0.109369</td>\n",
              "      <td>0.871754</td>\n",
              "      <td>0.817954</td>\n",
              "    </tr>\n",
              "    <tr>\n",
              "      <th>sepal_width</th>\n",
              "      <td>-0.109369</td>\n",
              "      <td>1.000000</td>\n",
              "      <td>-0.420516</td>\n",
              "      <td>-0.356544</td>\n",
              "    </tr>\n",
              "    <tr>\n",
              "      <th>petal_length</th>\n",
              "      <td>0.871754</td>\n",
              "      <td>-0.420516</td>\n",
              "      <td>1.000000</td>\n",
              "      <td>0.962757</td>\n",
              "    </tr>\n",
              "    <tr>\n",
              "      <th>petal_width</th>\n",
              "      <td>0.817954</td>\n",
              "      <td>-0.356544</td>\n",
              "      <td>0.962757</td>\n",
              "      <td>1.000000</td>\n",
              "    </tr>\n",
              "  </tbody>\n",
              "</table>\n",
              "</div>"
            ],
            "text/plain": [
              "              sepal_length  sepal_width  petal_length  petal_width\n",
              "sepal_length      1.000000    -0.109369      0.871754     0.817954\n",
              "sepal_width      -0.109369     1.000000     -0.420516    -0.356544\n",
              "petal_length      0.871754    -0.420516      1.000000     0.962757\n",
              "petal_width       0.817954    -0.356544      0.962757     1.000000"
            ]
          },
          "metadata": {},
          "execution_count": 34
        }
      ]
    },
    {
      "cell_type": "markdown",
      "metadata": {
        "id": "oElZ1j7itA2H"
      },
      "source": [
        "#### <font color=\"green\">1.02 Challenges</font>"
      ]
    },
    {
      "cell_type": "code",
      "metadata": {
        "id": "Q_yI0P6stG6f",
        "colab": {
          "base_uri": "https://localhost:8080/"
        },
        "outputId": "0221c511-0eaa-4145-82cd-6ee9d8d590ef"
      },
      "source": [
        "# Challenge 1\n",
        "# ---\n",
        "# What is the relationship between volatile acidity and residual sugar?\n",
        "# Dataset url  = http://bit.ly/WineRedsDataset\n",
        "# Dataset info = Red wine dataset\n",
        "# ---\n",
        "#\n",
        "df_wine['volatile.acidity'].corr(df_wine['residual.sugar'])\n",
        "#no linear relationship at all"
      ],
      "execution_count": 35,
      "outputs": [
        {
          "output_type": "execute_result",
          "data": {
            "text/plain": [
              "0.0019178819627907178"
            ]
          },
          "metadata": {},
          "execution_count": 35
        }
      ]
    },
    {
      "cell_type": "code",
      "metadata": {
        "id": "qupgp1ShIDhF",
        "colab": {
          "base_uri": "https://localhost:8080/"
        },
        "outputId": "f65334ad-389a-48ce-cf70-40396f799c75"
      },
      "source": [
        "# Challenge 2\n",
        "# What is the relationship between free sulfur dioxide and total sulfur dioxide?\n",
        "# Dataset url  = http://bit.ly/WineRedsDataset\n",
        "# Dataset info = Red wine dataset\n",
        "# ---\n",
        "#\n",
        "df_wine['free.sulfur.dioxide'].corr(df_wine['total.sulfur.dioxide'])\n",
        "#strong positive linear relationship"
      ],
      "execution_count": 36,
      "outputs": [
        {
          "output_type": "execute_result",
          "data": {
            "text/plain": [
              "0.6676664504810218"
            ]
          },
          "metadata": {},
          "execution_count": 36
        }
      ]
    },
    {
      "cell_type": "code",
      "metadata": {
        "id": "r3je-dfmIDPE",
        "colab": {
          "base_uri": "https://localhost:8080/"
        },
        "outputId": "37f8865d-342e-4f27-96f4-5941600460cd"
      },
      "source": [
        "# Challenge 3\n",
        "# ---\n",
        "# What is the relationship between fixed acidity and the pH of the wine?\n",
        "# Dataset url  = http://bit.ly/WineRedsDataset\n",
        "# Dataset info = Red wine dataset\n",
        "# ---\n",
        "#\n",
        "df_wine['fixed.acidity'].corr(df_wine['pH'])\n",
        "#strong negative linear relationship"
      ],
      "execution_count": 37,
      "outputs": [
        {
          "output_type": "execute_result",
          "data": {
            "text/plain": [
              "-0.6829781945685316"
            ]
          },
          "metadata": {},
          "execution_count": 37
        }
      ]
    },
    {
      "cell_type": "code",
      "metadata": {
        "id": "UDyvPD6XIGGt",
        "colab": {
          "base_uri": "https://localhost:8080/"
        },
        "outputId": "99fe4ea3-e21a-4a1f-890a-c78ca42765f5"
      },
      "source": [
        "# Challenge 4\n",
        "# ---\n",
        "# Compare the relationship between citric acid and quality\n",
        "# with alcohol and quality.\n",
        "# Dataset url  = http://bit.ly/WineRedsDataset\n",
        "# Dataset info = Red wine dataset\n",
        "# ---\n",
        "#\n",
        "print(\"The pearson correlation between citric acid and quality is {}\".format(df_wine['citric.acid'].corr(df_wine['quality'])))\n",
        "\n",
        "print(\"The pearson correlation between alcohol and quality is {}\".format(df_wine['alcohol'].corr(df_wine['quality'])))"
      ],
      "execution_count": 38,
      "outputs": [
        {
          "output_type": "stream",
          "name": "stdout",
          "text": [
            "The pearson correlation between citric acid and quality is 0.22637251431804123\n",
            "The pearson correlation between alcohol and quality is 0.47616632400113584\n"
          ]
        }
      ]
    },
    {
      "cell_type": "code",
      "metadata": {
        "id": "NMiZ-PCgIPQU",
        "colab": {
          "base_uri": "https://localhost:8080/",
          "height": 203
        },
        "outputId": "a2e2620d-6008-46a5-f0da-af81ea1b9752"
      },
      "source": [
        "# Challenge 5\n",
        "# ---\n",
        "# Question: Display the correlation coefficients of the variables in the NBA Dataset\n",
        "# Dataset url  = http://bit.ly/MSDS-NBA\n",
        "# Dataset info = NBA playes dataset\n",
        "# ---\n",
        "#\n",
        "NBA_df=pd.read_csv('nba.csv')\n",
        "NBA_df.head()"
      ],
      "execution_count": 40,
      "outputs": [
        {
          "output_type": "execute_result",
          "data": {
            "text/html": [
              "<div>\n",
              "<style scoped>\n",
              "    .dataframe tbody tr th:only-of-type {\n",
              "        vertical-align: middle;\n",
              "    }\n",
              "\n",
              "    .dataframe tbody tr th {\n",
              "        vertical-align: top;\n",
              "    }\n",
              "\n",
              "    .dataframe thead th {\n",
              "        text-align: right;\n",
              "    }\n",
              "</style>\n",
              "<table border=\"1\" class=\"dataframe\">\n",
              "  <thead>\n",
              "    <tr style=\"text-align: right;\">\n",
              "      <th></th>\n",
              "      <th>Name</th>\n",
              "      <th>Team</th>\n",
              "      <th>Number</th>\n",
              "      <th>Position</th>\n",
              "      <th>Age</th>\n",
              "      <th>Height</th>\n",
              "      <th>Weight</th>\n",
              "      <th>College</th>\n",
              "      <th>Salary</th>\n",
              "    </tr>\n",
              "  </thead>\n",
              "  <tbody>\n",
              "    <tr>\n",
              "      <th>0</th>\n",
              "      <td>Avery Bradley</td>\n",
              "      <td>Boston Celtics</td>\n",
              "      <td>0.0</td>\n",
              "      <td>PG</td>\n",
              "      <td>25.0</td>\n",
              "      <td>6-2</td>\n",
              "      <td>180.0</td>\n",
              "      <td>Texas</td>\n",
              "      <td>7730337.0</td>\n",
              "    </tr>\n",
              "    <tr>\n",
              "      <th>1</th>\n",
              "      <td>Jae Crowder</td>\n",
              "      <td>Boston Celtics</td>\n",
              "      <td>99.0</td>\n",
              "      <td>SF</td>\n",
              "      <td>25.0</td>\n",
              "      <td>6-6</td>\n",
              "      <td>235.0</td>\n",
              "      <td>Marquette</td>\n",
              "      <td>6796117.0</td>\n",
              "    </tr>\n",
              "    <tr>\n",
              "      <th>2</th>\n",
              "      <td>John Holland</td>\n",
              "      <td>Boston Celtics</td>\n",
              "      <td>30.0</td>\n",
              "      <td>SG</td>\n",
              "      <td>27.0</td>\n",
              "      <td>6-5</td>\n",
              "      <td>205.0</td>\n",
              "      <td>Boston University</td>\n",
              "      <td>NaN</td>\n",
              "    </tr>\n",
              "    <tr>\n",
              "      <th>3</th>\n",
              "      <td>R.J. Hunter</td>\n",
              "      <td>Boston Celtics</td>\n",
              "      <td>28.0</td>\n",
              "      <td>SG</td>\n",
              "      <td>22.0</td>\n",
              "      <td>6-5</td>\n",
              "      <td>185.0</td>\n",
              "      <td>Georgia State</td>\n",
              "      <td>1148640.0</td>\n",
              "    </tr>\n",
              "    <tr>\n",
              "      <th>4</th>\n",
              "      <td>Jonas Jerebko</td>\n",
              "      <td>Boston Celtics</td>\n",
              "      <td>8.0</td>\n",
              "      <td>PF</td>\n",
              "      <td>29.0</td>\n",
              "      <td>6-10</td>\n",
              "      <td>231.0</td>\n",
              "      <td>NaN</td>\n",
              "      <td>5000000.0</td>\n",
              "    </tr>\n",
              "  </tbody>\n",
              "</table>\n",
              "</div>"
            ],
            "text/plain": [
              "            Name            Team  Number  ... Weight            College     Salary\n",
              "0  Avery Bradley  Boston Celtics     0.0  ...  180.0              Texas  7730337.0\n",
              "1    Jae Crowder  Boston Celtics    99.0  ...  235.0          Marquette  6796117.0\n",
              "2   John Holland  Boston Celtics    30.0  ...  205.0  Boston University        NaN\n",
              "3    R.J. Hunter  Boston Celtics    28.0  ...  185.0      Georgia State  1148640.0\n",
              "4  Jonas Jerebko  Boston Celtics     8.0  ...  231.0                NaN  5000000.0\n",
              "\n",
              "[5 rows x 9 columns]"
            ]
          },
          "metadata": {},
          "execution_count": 40
        }
      ]
    },
    {
      "cell_type": "code",
      "metadata": {
        "colab": {
          "base_uri": "https://localhost:8080/"
        },
        "id": "UBNOOxGqc4i6",
        "outputId": "57933804-b8a0-450e-ad01-0208847c015a"
      },
      "source": [
        "NBA_df.info()"
      ],
      "execution_count": 41,
      "outputs": [
        {
          "output_type": "stream",
          "name": "stdout",
          "text": [
            "<class 'pandas.core.frame.DataFrame'>\n",
            "RangeIndex: 458 entries, 0 to 457\n",
            "Data columns (total 9 columns):\n",
            " #   Column    Non-Null Count  Dtype  \n",
            "---  ------    --------------  -----  \n",
            " 0   Name      457 non-null    object \n",
            " 1   Team      457 non-null    object \n",
            " 2   Number    457 non-null    float64\n",
            " 3   Position  457 non-null    object \n",
            " 4   Age       457 non-null    float64\n",
            " 5   Height    457 non-null    object \n",
            " 6   Weight    457 non-null    float64\n",
            " 7   College   373 non-null    object \n",
            " 8   Salary    446 non-null    float64\n",
            "dtypes: float64(4), object(5)\n",
            "memory usage: 32.3+ KB\n"
          ]
        }
      ]
    },
    {
      "cell_type": "code",
      "metadata": {
        "colab": {
          "base_uri": "https://localhost:8080/"
        },
        "id": "rIV7viJKctsJ",
        "outputId": "98e2f978-fdec-460b-8e08-1994463f2751"
      },
      "source": [
        "numeric_columns=['Number','Age','Weight','Salary']\n",
        "new_nba=NBA_df.copy()\n",
        "nba_num=new_nba[numeric_columns]\n",
        "nba_num.info()"
      ],
      "execution_count": 42,
      "outputs": [
        {
          "output_type": "stream",
          "name": "stdout",
          "text": [
            "<class 'pandas.core.frame.DataFrame'>\n",
            "RangeIndex: 458 entries, 0 to 457\n",
            "Data columns (total 4 columns):\n",
            " #   Column  Non-Null Count  Dtype  \n",
            "---  ------  --------------  -----  \n",
            " 0   Number  457 non-null    float64\n",
            " 1   Age     457 non-null    float64\n",
            " 2   Weight  457 non-null    float64\n",
            " 3   Salary  446 non-null    float64\n",
            "dtypes: float64(4)\n",
            "memory usage: 14.4 KB\n"
          ]
        }
      ]
    },
    {
      "cell_type": "code",
      "metadata": {
        "colab": {
          "base_uri": "https://localhost:8080/"
        },
        "id": "6PKOm5Wpd-Wg",
        "outputId": "af8905bb-3cf6-4899-e995-e1e6b62c2c5b"
      },
      "source": [
        "nba_num.dropna(inplace=True)"
      ],
      "execution_count": 43,
      "outputs": [
        {
          "output_type": "stream",
          "name": "stderr",
          "text": [
            "/usr/local/lib/python3.7/dist-packages/ipykernel_launcher.py:1: SettingWithCopyWarning: \n",
            "A value is trying to be set on a copy of a slice from a DataFrame\n",
            "\n",
            "See the caveats in the documentation: https://pandas.pydata.org/pandas-docs/stable/user_guide/indexing.html#returning-a-view-versus-a-copy\n",
            "  \"\"\"Entry point for launching an IPython kernel.\n"
          ]
        }
      ]
    },
    {
      "cell_type": "code",
      "metadata": {
        "id": "hkP2zZMaeGOV",
        "colab": {
          "base_uri": "https://localhost:8080/",
          "height": 172
        },
        "outputId": "2fc980c2-2f91-4c9f-aefc-f560d666693d"
      },
      "source": [
        "nba_num.corr()"
      ],
      "execution_count": 44,
      "outputs": [
        {
          "output_type": "execute_result",
          "data": {
            "text/html": [
              "<div>\n",
              "<style scoped>\n",
              "    .dataframe tbody tr th:only-of-type {\n",
              "        vertical-align: middle;\n",
              "    }\n",
              "\n",
              "    .dataframe tbody tr th {\n",
              "        vertical-align: top;\n",
              "    }\n",
              "\n",
              "    .dataframe thead th {\n",
              "        text-align: right;\n",
              "    }\n",
              "</style>\n",
              "<table border=\"1\" class=\"dataframe\">\n",
              "  <thead>\n",
              "    <tr style=\"text-align: right;\">\n",
              "      <th></th>\n",
              "      <th>Number</th>\n",
              "      <th>Age</th>\n",
              "      <th>Weight</th>\n",
              "      <th>Salary</th>\n",
              "    </tr>\n",
              "  </thead>\n",
              "  <tbody>\n",
              "    <tr>\n",
              "      <th>Number</th>\n",
              "      <td>1.000000</td>\n",
              "      <td>0.014776</td>\n",
              "      <td>0.198121</td>\n",
              "      <td>-0.112386</td>\n",
              "    </tr>\n",
              "    <tr>\n",
              "      <th>Age</th>\n",
              "      <td>0.014776</td>\n",
              "      <td>1.000000</td>\n",
              "      <td>0.076597</td>\n",
              "      <td>0.213459</td>\n",
              "    </tr>\n",
              "    <tr>\n",
              "      <th>Weight</th>\n",
              "      <td>0.198121</td>\n",
              "      <td>0.076597</td>\n",
              "      <td>1.000000</td>\n",
              "      <td>0.138321</td>\n",
              "    </tr>\n",
              "    <tr>\n",
              "      <th>Salary</th>\n",
              "      <td>-0.112386</td>\n",
              "      <td>0.213459</td>\n",
              "      <td>0.138321</td>\n",
              "      <td>1.000000</td>\n",
              "    </tr>\n",
              "  </tbody>\n",
              "</table>\n",
              "</div>"
            ],
            "text/plain": [
              "          Number       Age    Weight    Salary\n",
              "Number  1.000000  0.014776  0.198121 -0.112386\n",
              "Age     0.014776  1.000000  0.076597  0.213459\n",
              "Weight  0.198121  0.076597  1.000000  0.138321\n",
              "Salary -0.112386  0.213459  0.138321  1.000000"
            ]
          },
          "metadata": {},
          "execution_count": 44
        }
      ]
    },
    {
      "cell_type": "markdown",
      "metadata": {
        "id": "H9vGX6dirmHL"
      },
      "source": [
        "## 1.1 Categorical and Categorical"
      ]
    },
    {
      "cell_type": "markdown",
      "metadata": {
        "id": "eaygizicsMIy"
      },
      "source": [
        "### 1.11 Stacked Column Chart"
      ]
    },
    {
      "cell_type": "markdown",
      "metadata": {
        "id": "t_gpYDTCcaJ6"
      },
      "source": [
        "Stacked column charts work well when the focus of the chart is to compare the totals and one part of the totals. It\n",
        "is a useful graph to visualize the relationship between two categorical variables. It compares the percentage that each category from one variable contributes to a total across categories of the second variable. \t"
      ]
    },
    {
      "cell_type": "code",
      "metadata": {
        "id": "IoWlbncpRHTd",
        "colab": {
          "base_uri": "https://localhost:8080/",
          "height": 295
        },
        "outputId": "f440988f-3d69-4ff8-f851-254f0419c006"
      },
      "source": [
        "# Example 1 \n",
        "# We can create a stacked bar chart through the use of the pyplot.bar() function. \n",
        "# NB: Remember pyplot from when we imported matplotlib.pyplot...\n",
        "# Let's create a simple stacked column chart\n",
        "# \n",
        "\n",
        "teams       = ['Kiboko', 'Kifaru', 'Twiga', 'Ndovu']\n",
        "womenPoints = [10 , 25, 40, 23]\n",
        "menPoints   = [10 , 20, 15, 22]\n",
        " \n",
        "X = [team for team in teams]\n",
        "\n",
        "plt.bar(X, womenPoints, label='Women')\n",
        "plt.bar(X, menPoints, label='Men', bottom = womenPoints)\n",
        "\n",
        "# Labeling our y axis\n",
        "plt.ylabel(\"Points\")\n",
        "\n",
        "# Labeling our x axis\n",
        "plt.xlabel(\"Teams\")\n",
        "\n",
        "# Creating a key/legend for our chart\n",
        "plt.legend(loc=\"upper right\")\n",
        "\n",
        "# Adding a title\n",
        "plt.title(\"Teams vs Points\")\n",
        "\n",
        "# Displaying our chart\n",
        "plt.show()"
      ],
      "execution_count": 45,
      "outputs": [
        {
          "output_type": "display_data",
          "data": {
            "image/png": "[encoded data removed]",
            "text/plain": [
              "<Figure size 432x288 with 1 Axes>"
            ]
          },
          "metadata": {
            "needs_background": "light"
          }
        }
      ]
    },
    {
      "cell_type": "code",
      "metadata": {
        "id": "8HrHEx7kLXuq",
        "colab": {
          "base_uri": "https://localhost:8080/",
          "height": 295
        },
        "outputId": "426c23dc-5660-4f93-a7c2-8a5a3578e876"
      },
      "source": [
        "# Example 2\n",
        "# In this example, we will first create a stacked column chart from an array and numpy arrays \n",
        "# \n",
        "countries = ['Norway', 'Germany', 'Canada', 'United States', 'Netherlands']\n",
        "bronzes   = np.array([10, 7, 10, 6, 6])\n",
        "silvers   = np.array([14, 10, 8, 8, 6])\n",
        "golds     = np.array([14, 14, 11, 9, 8])\n",
        "\n",
        "X = [country for country in countries]\n",
        "\n",
        "# We stack the silver medal bars on top of the bronze medals bars and similarly gold medal bar on top\n",
        "# by passing the parameter bottom in the plt.bar () as shown below\n",
        "# \n",
        "plt.bar(X, golds, width=0.6, label='golds', color='gold', bottom=silvers+bronzes)\n",
        "plt.bar(X, silvers, width=0.6, label='silvers', color='silver', bottom=bronzes)\n",
        "plt.bar(X, bronzes, width=0.6, label='bronzes', color='#CD7F32')\n",
        "\n",
        "# labeling our y axis\n",
        "plt.ylabel(\"Medals\")\n",
        "\n",
        "# Labeling our x axis\n",
        "plt.xlabel(\"Countries\")\n",
        "\n",
        "# Creating a key/legend for our chart\n",
        "plt.legend(loc=\"upper right\")\n",
        "\n",
        "# Adding a title\n",
        "plt.title(\"2018 Winter Olympics Top Scorers\")\n",
        "\n",
        "# Displaying our chart\n",
        "plt.show()"
      ],
      "execution_count": 46,
      "outputs": [
        {
          "output_type": "display_data",
          "data": {
            "image/png": "[encoded data removed]",
            "text/plain": [
              "<Figure size 432x288 with 1 Axes>"
            ]
          },
          "metadata": {
            "needs_background": "light"
          }
        }
      ]
    },
    {
      "cell_type": "code",
      "metadata": {
        "id": "P54RyL9PfpsF",
        "colab": {
          "base_uri": "https://localhost:8080/",
          "height": 431
        },
        "outputId": "4e899768-3376-4340-cf5c-6cba46e42566"
      },
      "source": [
        "# Example 3\n",
        "# ---\n",
        "# Question: Create a stacked bar chart from the following dataset\n",
        "# Dataset url = http://bit.ly/Bikes-Sales-Dataset\n",
        "# --- \n",
        "# \n",
        "\n",
        "# Loading our dataset\n",
        "bike_sales_df = pd.read_csv(\"http://bit.ly/Bikes-Sales-Dataset\")\n",
        "\n",
        "bike_sales_df[['hybrid', 'racing', 'electric']].plot(kind='bar', figsize=(8, 6), stacked=True)\n",
        "\n",
        "# Rotating our x axis ticks\n",
        "plt.xticks(rotation = 45)\n",
        "\n",
        "# Giving our chart a title\n",
        "plt.title(\"Sales of Hybrid, Racing and Electric Bikes (May 2017 - May 18)\", fontsize=14, y=1.015)\n",
        "\n",
        "# Labeling our y axis\n",
        "plt.ylabel(\"Sales\", fontsize=14, labelpad=15)\n",
        "\n",
        "# Labeling our x axis\n",
        "plt.xlabel(\"Months\", fontsize=14, labelpad=15)\n",
        "\n",
        "# Displaying our chart\n",
        "plt.show()"
      ],
      "execution_count": 47,
      "outputs": [
        {
          "output_type": "display_data",
          "data": {
            "image/png": "[encoded data removed]",
            "text/plain": [
              "<Figure size 576x432 with 1 Axes>"
            ]
          },
          "metadata": {
            "needs_background": "light"
          }
        }
      ]
    },
    {
      "cell_type": "markdown",
      "metadata": {
        "id": "ExMqwGE1sZV-"
      },
      "source": [
        "#### <font color=\"green\">1.11 Challenges</font>"
      ]
    },
    {
      "cell_type": "code",
      "metadata": {
        "id": "XhVi0tR9sYvY",
        "colab": {
          "base_uri": "https://localhost:8080/",
          "height": 295
        },
        "outputId": "254c0f2c-aca0-41a8-c483-8e1bd4f0e811"
      },
      "source": [
        "# Challenge 1\n",
        "# ---\n",
        "# Question: Display the final results of the men's doubles badminton tournament at the 2016 Summer Olympics \n",
        "# at Riocentro, Brazil, between the shuttlers from China and Malaysia scoring 16-21, 21-11, 23-21 \n",
        "# in the first, second and third rounds respectively.\n",
        "# ---\n",
        "# \n",
        "\n",
        "# Rounds played\n",
        "rounds = ['Round 1', 'Round 2', 'Round 3']\n",
        "\n",
        "# Points scored\n",
        "chinaPoints     = [16, 21, 23]\n",
        "malaysiaPoints  = [21, 11, 21]\n",
        "\n",
        "X=[r for r in rounds]\n",
        "plt.bar(X, chinaPoints, label='china points')\n",
        "plt.bar(X, malaysiaPoints, label='malasia points', bottom=chinaPoints)\n",
        "#labelling our x axis\n",
        "plt.xlabel('points')\n",
        "#labelling our y axis\n",
        "plt.ylabel('rounds')\n",
        "#creating legend\n",
        "plt.legend(loc='upper left')\n",
        "#creating the title\n",
        "plt.title('China VS Malaysia')\n",
        "#displaying our chart\n",
        "plt.show()\n"
      ],
      "execution_count": 48,
      "outputs": [
        {
          "output_type": "display_data",
          "data": {
            "image/png": "[encoded data removed]",
            "text/plain": [
              "<Figure size 432x288 with 1 Axes>"
            ]
          },
          "metadata": {
            "needs_background": "light"
          }
        }
      ]
    },
    {
      "cell_type": "code",
      "metadata": {
        "id": "vVebRdN4W_Np",
        "colab": {
          "base_uri": "https://localhost:8080/",
          "height": 203
        },
        "outputId": "0502d134-85ed-495f-c57e-07f49bee06b9"
      },
      "source": [
        "# Challenge 2\n",
        "# ---\n",
        "# Create a stacked bar chart of racing and electric bikes from the following dataset\n",
        "# Dataset url = http://bit.ly/Bikes-Sales-Dataset\n",
        "# ---\n",
        "# \n",
        "\n",
        "df_race=pd.read_csv('http://bit.ly/Bikes-Sales-Dataset')\n",
        "df_race.head()"
      ],
      "execution_count": 49,
      "outputs": [
        {
          "output_type": "execute_result",
          "data": {
            "text/html": [
              "<div>\n",
              "<style scoped>\n",
              "    .dataframe tbody tr th:only-of-type {\n",
              "        vertical-align: middle;\n",
              "    }\n",
              "\n",
              "    .dataframe tbody tr th {\n",
              "        vertical-align: top;\n",
              "    }\n",
              "\n",
              "    .dataframe thead th {\n",
              "        text-align: right;\n",
              "    }\n",
              "</style>\n",
              "<table border=\"1\" class=\"dataframe\">\n",
              "  <thead>\n",
              "    <tr style=\"text-align: right;\">\n",
              "      <th></th>\n",
              "      <th>month-year</th>\n",
              "      <th>hybrid</th>\n",
              "      <th>mountain</th>\n",
              "      <th>racing</th>\n",
              "      <th>electric</th>\n",
              "      <th>bmx</th>\n",
              "    </tr>\n",
              "  </thead>\n",
              "  <tbody>\n",
              "    <tr>\n",
              "      <th>0</th>\n",
              "      <td>May 2017</td>\n",
              "      <td>75000</td>\n",
              "      <td>9000</td>\n",
              "      <td>18000</td>\n",
              "      <td>13000</td>\n",
              "      <td>5400</td>\n",
              "    </tr>\n",
              "    <tr>\n",
              "      <th>1</th>\n",
              "      <td>Jun 2017</td>\n",
              "      <td>76500</td>\n",
              "      <td>8500</td>\n",
              "      <td>15000</td>\n",
              "      <td>14600</td>\n",
              "      <td>4000</td>\n",
              "    </tr>\n",
              "    <tr>\n",
              "      <th>2</th>\n",
              "      <td>Jul 2017</td>\n",
              "      <td>66000</td>\n",
              "      <td>5350</td>\n",
              "      <td>13500</td>\n",
              "      <td>15000</td>\n",
              "      <td>3500</td>\n",
              "    </tr>\n",
              "    <tr>\n",
              "      <th>3</th>\n",
              "      <td>Aug 2017</td>\n",
              "      <td>59000</td>\n",
              "      <td>4800</td>\n",
              "      <td>14000</td>\n",
              "      <td>22000</td>\n",
              "      <td>1200</td>\n",
              "    </tr>\n",
              "    <tr>\n",
              "      <th>4</th>\n",
              "      <td>Sep 2017</td>\n",
              "      <td>51000</td>\n",
              "      <td>3900</td>\n",
              "      <td>12000</td>\n",
              "      <td>19800</td>\n",
              "      <td>1500</td>\n",
              "    </tr>\n",
              "  </tbody>\n",
              "</table>\n",
              "</div>"
            ],
            "text/plain": [
              "  month-year  hybrid  mountain  racing  electric   bmx\n",
              "0   May 2017   75000      9000   18000     13000  5400\n",
              "1   Jun 2017   76500      8500   15000     14600  4000\n",
              "2   Jul 2017   66000      5350   13500     15000  3500\n",
              "3   Aug 2017   59000      4800   14000     22000  1200\n",
              "4   Sep 2017   51000      3900   12000     19800  1500"
            ]
          },
          "metadata": {},
          "execution_count": 49
        }
      ]
    },
    {
      "cell_type": "code",
      "metadata": {
        "colab": {
          "base_uri": "https://localhost:8080/",
          "height": 431
        },
        "id": "aaklIR44pPjU",
        "outputId": "c01db715-73fd-4ef0-e460-9ccff6dcbddc"
      },
      "source": [
        "df_race[['hybrid','mountain','racing','electric','bmx']].plot(kind='bar',figsize=(8,6), stacked=True)\n",
        "# Rotating our x axis ticks\n",
        "plt.xticks(rotation = 45)\n",
        "\n",
        "# Giving our chart a title\n",
        "plt.title(\"Sales of Hybrid, Mountain, Racing, Electric and Bmx Bikes (May 2017 - May 18)\", fontsize=14, y=1.015)\n",
        "\n",
        "# Labeling our y axis\n",
        "plt.ylabel(\"Sales\", fontsize=14, labelpad=15)\n",
        "\n",
        "# Labeling our x axis\n",
        "plt.xlabel(\"Months\", fontsize=14, labelpad=15)\n",
        "\n",
        "# Displaying our chart\n",
        "plt.show()"
      ],
      "execution_count": 50,
      "outputs": [
        {
          "output_type": "display_data",
          "data": {
            "image/png": "[encoded data removed]",
            "text/plain": [
              "<Figure size 576x432 with 1 Axes>"
            ]
          },
          "metadata": {
            "needs_background": "light"
          }
        }
      ]
    },
    {
      "cell_type": "code",
      "metadata": {
        "id": "avnYuQBEXAxD",
        "colab": {
          "base_uri": "https://localhost:8080/",
          "height": 203
        },
        "outputId": "eb714176-9167-42be-d720-039e0a78e700"
      },
      "source": [
        "# Challenge 3\n",
        "# ---\n",
        "# Question: The following dataset contains series 1 and series 2 games. \n",
        "# Players were groupd in 20 groups and accumilated the given points.\n",
        "# Create a stack bar chart of Group 1, 2 and 3\n",
        "# Dataset url = http://bit.ly/SeriesDataset\n",
        "# ---\n",
        "#\n",
        "\n",
        "df_series=pd.read_csv('http://bit.ly/SeriesDataset')\n",
        "df_series.head()"
      ],
      "execution_count": 51,
      "outputs": [
        {
          "output_type": "execute_result",
          "data": {
            "text/html": [
              "<div>\n",
              "<style scoped>\n",
              "    .dataframe tbody tr th:only-of-type {\n",
              "        vertical-align: middle;\n",
              "    }\n",
              "\n",
              "    .dataframe tbody tr th {\n",
              "        vertical-align: top;\n",
              "    }\n",
              "\n",
              "    .dataframe thead th {\n",
              "        text-align: right;\n",
              "    }\n",
              "</style>\n",
              "<table border=\"1\" class=\"dataframe\">\n",
              "  <thead>\n",
              "    <tr style=\"text-align: right;\">\n",
              "      <th></th>\n",
              "      <th>Group</th>\n",
              "      <th>Series1</th>\n",
              "      <th>Series2</th>\n",
              "    </tr>\n",
              "  </thead>\n",
              "  <tbody>\n",
              "    <tr>\n",
              "      <th>0</th>\n",
              "      <td>1</td>\n",
              "      <td>3.324129</td>\n",
              "      <td>8.733030</td>\n",
              "    </tr>\n",
              "    <tr>\n",
              "      <th>1</th>\n",
              "      <td>2</td>\n",
              "      <td>3.109299</td>\n",
              "      <td>5.621415</td>\n",
              "    </tr>\n",
              "    <tr>\n",
              "      <th>2</th>\n",
              "      <td>3</td>\n",
              "      <td>3.603704</td>\n",
              "      <td>4.830770</td>\n",
              "    </tr>\n",
              "    <tr>\n",
              "      <th>3</th>\n",
              "      <td>4</td>\n",
              "      <td>5.030114</td>\n",
              "      <td>4.846976</td>\n",
              "    </tr>\n",
              "    <tr>\n",
              "      <th>4</th>\n",
              "      <td>5</td>\n",
              "      <td>6.555816</td>\n",
              "      <td>4.126257</td>\n",
              "    </tr>\n",
              "  </tbody>\n",
              "</table>\n",
              "</div>"
            ],
            "text/plain": [
              "   Group   Series1   Series2\n",
              "0      1  3.324129  8.733030\n",
              "1      2  3.109299  5.621415\n",
              "2      3  3.603704  4.830770\n",
              "3      4  5.030114  4.846976\n",
              "4      5  6.555816  4.126257"
            ]
          },
          "metadata": {},
          "execution_count": 51
        }
      ]
    },
    {
      "cell_type": "code",
      "metadata": {
        "id": "Q6W3sc1Cq72-"
      },
      "source": [
        "target_group=df_series[df_series['Group']<=3]"
      ],
      "execution_count": 52,
      "outputs": []
    },
    {
      "cell_type": "code",
      "metadata": {
        "colab": {
          "base_uri": "https://localhost:8080/",
          "height": 142
        },
        "id": "frpKYpG-rLFb",
        "outputId": "8c8f55cf-24dd-4df5-a16d-6fbf39559438"
      },
      "source": [
        "target_group"
      ],
      "execution_count": 53,
      "outputs": [
        {
          "output_type": "execute_result",
          "data": {
            "text/html": [
              "<div>\n",
              "<style scoped>\n",
              "    .dataframe tbody tr th:only-of-type {\n",
              "        vertical-align: middle;\n",
              "    }\n",
              "\n",
              "    .dataframe tbody tr th {\n",
              "        vertical-align: top;\n",
              "    }\n",
              "\n",
              "    .dataframe thead th {\n",
              "        text-align: right;\n",
              "    }\n",
              "</style>\n",
              "<table border=\"1\" class=\"dataframe\">\n",
              "  <thead>\n",
              "    <tr style=\"text-align: right;\">\n",
              "      <th></th>\n",
              "      <th>Group</th>\n",
              "      <th>Series1</th>\n",
              "      <th>Series2</th>\n",
              "    </tr>\n",
              "  </thead>\n",
              "  <tbody>\n",
              "    <tr>\n",
              "      <th>0</th>\n",
              "      <td>1</td>\n",
              "      <td>3.324129</td>\n",
              "      <td>8.733030</td>\n",
              "    </tr>\n",
              "    <tr>\n",
              "      <th>1</th>\n",
              "      <td>2</td>\n",
              "      <td>3.109299</td>\n",
              "      <td>5.621415</td>\n",
              "    </tr>\n",
              "    <tr>\n",
              "      <th>2</th>\n",
              "      <td>3</td>\n",
              "      <td>3.603704</td>\n",
              "      <td>4.830770</td>\n",
              "    </tr>\n",
              "  </tbody>\n",
              "</table>\n",
              "</div>"
            ],
            "text/plain": [
              "   Group   Series1   Series2\n",
              "0      1  3.324129  8.733030\n",
              "1      2  3.109299  5.621415\n",
              "2      3  3.603704  4.830770"
            ]
          },
          "metadata": {},
          "execution_count": 53
        }
      ]
    },
    {
      "cell_type": "code",
      "metadata": {
        "colab": {
          "base_uri": "https://localhost:8080/",
          "height": 401
        },
        "id": "ySHEAT8xrUSn",
        "outputId": "8e7698bc-1d8b-4913-b7ae-edcf961af191"
      },
      "source": [
        "target_group.plot(x='Group',kind='bar', figsize=(8,6), stacked=True)"
      ],
      "execution_count": 54,
      "outputs": [
        {
          "output_type": "execute_result",
          "data": {
            "text/plain": [
              "<matplotlib.axes._subplots.AxesSubplot at 0x7f485b888690>"
            ]
          },
          "metadata": {},
          "execution_count": 54
        },
        {
          "output_type": "display_data",
          "data": {
            "image/png": "[encoded data removed]",
            "text/plain": [
              "<Figure size 576x432 with 1 Axes>"
            ]
          },
          "metadata": {
            "needs_background": "light"
          }
        }
      ]
    },
    {
      "cell_type": "markdown",
      "metadata": {
        "id": "JZFIpijOrqbM"
      },
      "source": [
        "## 1.2 Categorical and Numerical"
      ]
    },
    {
      "cell_type": "markdown",
      "metadata": {
        "id": "1SBigmCQtYR-"
      },
      "source": [
        "### 1.21 Line Charts"
      ]
    },
    {
      "cell_type": "code",
      "metadata": {
        "id": "Mw-3r0JIrxgn",
        "colab": {
          "base_uri": "https://localhost:8080/",
          "height": 300
        },
        "outputId": "8b300911-eb08-46a1-8030-a6b3fbe6237d"
      },
      "source": [
        "# Example 1\n",
        "# ---\n",
        "# Question: Plot a graph of Sunlight vs. Time\n",
        "# ---\n",
        "#\n",
        "\n",
        "hours    = [1, 2, 3, 4, 5, 6, 7, 8, 9]\n",
        "sunlight = [2, 3, 4, 5, 7, 9, 13, 15, 17]\n",
        "\n",
        "# Plotting our line graph\n",
        "plt.plot(hours, sunlight)\n",
        "\n",
        "# Giving a title to our line graph\n",
        "plt.title(\"Sunlight vs Time (hrs)\", fontsize=14, y=1.015)\n",
        "\n",
        "# Labelling the y-axis\n",
        "plt.ylabel('Sunlight')\n",
        "\n",
        "# Labelling the x-axis\n",
        "plt.xlabel('Time')\n",
        "\n",
        "# Displaying our graph\n",
        "plt.show()"
      ],
      "execution_count": 55,
      "outputs": [
        {
          "output_type": "display_data",
          "data": {
            "image/png": "[encoded data removed]",
            "text/plain": [
              "<Figure size 432x288 with 1 Axes>"
            ]
          },
          "metadata": {
            "needs_background": "light"
          }
        }
      ]
    },
    {
      "cell_type": "code",
      "metadata": {
        "id": "8g3DUr72EeqU",
        "colab": {
          "base_uri": "https://localhost:8080/",
          "height": 300
        },
        "outputId": "c9d786a8-af5a-4e16-d621-1aa969c5e3b0"
      },
      "source": [
        "# Example 2\n",
        "# ---\n",
        "# Question: Create a line graph of Sales of hybrid bikes from May 2017 to May 2018\n",
        "# Dataset url = http://bit.ly/Bikes-Sales-Dataset\n",
        "# ---\n",
        "#\n",
        "\n",
        "# Loading our dataset\n",
        "bikes_dataset_df = pd.read_csv(\"http://bit.ly/Bikes-Sales-Dataset\")\n",
        "\n",
        "# Plotting our line graph\n",
        "bikes_dataset_df[[\"hybrid\"]].plot()\n",
        "\n",
        "# Giving a title to our line graph\n",
        "plt.title(\"Sales of Hybrid Bikes from May 2017 to May 2018\", fontsize=14, y=1.015)\n",
        "\n",
        "# Labelling the y-axis\n",
        "plt.ylabel('Sales')\n",
        "\n",
        "# Labelling the x-axis\n",
        "plt.xlabel('Time')\n",
        "\n",
        "# Displaying our graph\n",
        "plt.show()"
      ],
      "execution_count": 56,
      "outputs": [
        {
          "output_type": "display_data",
          "data": {
            "image/png": "[encoded data removed]",
            "text/plain": [
              "<Figure size 432x288 with 1 Axes>"
            ]
          },
          "metadata": {
            "needs_background": "light"
          }
        }
      ]
    },
    {
      "cell_type": "markdown",
      "metadata": {
        "id": "B3f7oOaVuGoG"
      },
      "source": [
        "### <font color=\"green\">1.21 Challenges</font>"
      ]
    },
    {
      "cell_type": "code",
      "metadata": {
        "id": "fgTFgSDluOkM",
        "colab": {
          "base_uri": "https://localhost:8080/",
          "height": 300
        },
        "outputId": "4612a726-4d35-4704-e121-5e1e4913959a"
      },
      "source": [
        "# Challenge 1\n",
        "# ---\n",
        "# Question: Create a line graph using the following data given below\n",
        "# ---\n",
        "# \n",
        "\n",
        "years= [1960, 1970, 1980, 1990, 2000, 2010] \n",
        "population_india=[449.48, 553.57, 696.783, 870.133, 1000.4, 1309.1]\n",
        "\n",
        "plt.plot(years,population_india)\n",
        "\n",
        "\n",
        "# Giving a title to our line graph\n",
        "plt.title(\"India Population vs Time (years)\", fontsize=14, y=1.015)\n",
        "\n",
        "# Labelling the y-axis\n",
        "plt.ylabel('Population')\n",
        "\n",
        "# Labelling the x-axis\n",
        "plt.xlabel('years')\n",
        "\n",
        "# Displaying our graph\n",
        "plt.show()"
      ],
      "execution_count": 57,
      "outputs": [
        {
          "output_type": "display_data",
          "data": {
            "image/png": "[encoded data removed]",
            "text/plain": [
              "<Figure size 432x288 with 1 Axes>"
            ]
          },
          "metadata": {
            "needs_background": "light"
          }
        }
      ]
    },
    {
      "cell_type": "code",
      "metadata": {
        "id": "N-pxraxpSMHj",
        "colab": {
          "base_uri": "https://localhost:8080/",
          "height": 203
        },
        "outputId": "d3b70777-9ba4-48d0-f4b7-6c1c9a1ef61f"
      },
      "source": [
        "# Challenge 2\n",
        "# ---\n",
        "# Question: Create seperate lines graph to study tends for Microsoft, \n",
        "# Google and IMB Stocks over time from the given dataset\n",
        "# Dataset url = http://bit.ly/StocksDataset\n",
        "# NB: If you choose to plot only one graph and account from all the above stocks,\n",
        "# you will no longer be performing bivariate analysis :)\n",
        "# ---\n",
        "# \n",
        "\n",
        "df_stocks=pd.read_csv('stocks.csv')\n",
        "df_stocks.head()"
      ],
      "execution_count": 59,
      "outputs": [
        {
          "output_type": "execute_result",
          "data": {
            "text/html": [
              "<div>\n",
              "<style scoped>\n",
              "    .dataframe tbody tr th:only-of-type {\n",
              "        vertical-align: middle;\n",
              "    }\n",
              "\n",
              "    .dataframe tbody tr th {\n",
              "        vertical-align: top;\n",
              "    }\n",
              "\n",
              "    .dataframe thead th {\n",
              "        text-align: right;\n",
              "    }\n",
              "</style>\n",
              "<table border=\"1\" class=\"dataframe\">\n",
              "  <thead>\n",
              "    <tr style=\"text-align: right;\">\n",
              "      <th></th>\n",
              "      <th>Date</th>\n",
              "      <th>AAPL</th>\n",
              "      <th>ADBE</th>\n",
              "      <th>CVX</th>\n",
              "      <th>GOOG</th>\n",
              "      <th>IBM</th>\n",
              "      <th>MDLZ</th>\n",
              "      <th>MSFT</th>\n",
              "      <th>NFLX</th>\n",
              "      <th>ORCL</th>\n",
              "      <th>SBUX</th>\n",
              "    </tr>\n",
              "  </thead>\n",
              "  <tbody>\n",
              "    <tr>\n",
              "      <th>0</th>\n",
              "      <td>3-Jan-07</td>\n",
              "      <td>11.107141</td>\n",
              "      <td>38.869999</td>\n",
              "      <td>50.777351</td>\n",
              "      <td>251.001007</td>\n",
              "      <td>79.242500</td>\n",
              "      <td>17.519524</td>\n",
              "      <td>24.118483</td>\n",
              "      <td>3.258571</td>\n",
              "      <td>15.696321</td>\n",
              "      <td>15.752188</td>\n",
              "    </tr>\n",
              "    <tr>\n",
              "      <th>1</th>\n",
              "      <td>1-Feb-07</td>\n",
              "      <td>10.962033</td>\n",
              "      <td>39.250000</td>\n",
              "      <td>48.082939</td>\n",
              "      <td>224.949951</td>\n",
              "      <td>74.503204</td>\n",
              "      <td>16.019426</td>\n",
              "      <td>22.092464</td>\n",
              "      <td>3.218571</td>\n",
              "      <td>15.028588</td>\n",
              "      <td>13.930813</td>\n",
              "    </tr>\n",
              "    <tr>\n",
              "      <th>2</th>\n",
              "      <td>1-Mar-07</td>\n",
              "      <td>12.037377</td>\n",
              "      <td>41.700001</td>\n",
              "      <td>51.900383</td>\n",
              "      <td>229.309311</td>\n",
              "      <td>75.561348</td>\n",
              "      <td>16.009354</td>\n",
              "      <td>21.857189</td>\n",
              "      <td>3.312857</td>\n",
              "      <td>16.583584</td>\n",
              "      <td>14.138198</td>\n",
              "    </tr>\n",
              "    <tr>\n",
              "      <th>3</th>\n",
              "      <td>2-Apr-07</td>\n",
              "      <td>12.930043</td>\n",
              "      <td>41.560001</td>\n",
              "      <td>54.588032</td>\n",
              "      <td>235.925919</td>\n",
              "      <td>81.934280</td>\n",
              "      <td>16.924608</td>\n",
              "      <td>23.480597</td>\n",
              "      <td>3.167143</td>\n",
              "      <td>17.196436</td>\n",
              "      <td>13.984914</td>\n",
              "    </tr>\n",
              "    <tr>\n",
              "      <th>4</th>\n",
              "      <td>1-May-07</td>\n",
              "      <td>15.701322</td>\n",
              "      <td>44.060001</td>\n",
              "      <td>57.598267</td>\n",
              "      <td>249.204208</td>\n",
              "      <td>85.786057</td>\n",
              "      <td>17.111704</td>\n",
              "      <td>24.146753</td>\n",
              "      <td>3.128572</td>\n",
              "      <td>17.726965</td>\n",
              "      <td>12.988567</td>\n",
              "    </tr>\n",
              "  </tbody>\n",
              "</table>\n",
              "</div>"
            ],
            "text/plain": [
              "       Date       AAPL       ADBE  ...      NFLX       ORCL       SBUX\n",
              "0  3-Jan-07  11.107141  38.869999  ...  3.258571  15.696321  15.752188\n",
              "1  1-Feb-07  10.962033  39.250000  ...  3.218571  15.028588  13.930813\n",
              "2  1-Mar-07  12.037377  41.700001  ...  3.312857  16.583584  14.138198\n",
              "3  2-Apr-07  12.930043  41.560001  ...  3.167143  17.196436  13.984914\n",
              "4  1-May-07  15.701322  44.060001  ...  3.128572  17.726965  12.988567\n",
              "\n",
              "[5 rows x 11 columns]"
            ]
          },
          "metadata": {},
          "execution_count": 59
        }
      ]
    },
    {
      "cell_type": "code",
      "metadata": {
        "colab": {
          "base_uri": "https://localhost:8080/"
        },
        "id": "htQyBcMA0V9N",
        "outputId": "6530b66d-e0c7-49a4-83e4-26abf3358f81"
      },
      "source": [
        "df_stocks.info()"
      ],
      "execution_count": 60,
      "outputs": [
        {
          "output_type": "stream",
          "name": "stdout",
          "text": [
            "<class 'pandas.core.frame.DataFrame'>\n",
            "RangeIndex: 121 entries, 0 to 120\n",
            "Data columns (total 11 columns):\n",
            " #   Column  Non-Null Count  Dtype  \n",
            "---  ------  --------------  -----  \n",
            " 0   Date    121 non-null    object \n",
            " 1   AAPL    121 non-null    float64\n",
            " 2   ADBE    121 non-null    float64\n",
            " 3   CVX     121 non-null    float64\n",
            " 4   GOOG    121 non-null    float64\n",
            " 5   IBM     121 non-null    float64\n",
            " 6   MDLZ    121 non-null    float64\n",
            " 7   MSFT    121 non-null    float64\n",
            " 8   NFLX    121 non-null    float64\n",
            " 9   ORCL    121 non-null    float64\n",
            " 10  SBUX    121 non-null    float64\n",
            "dtypes: float64(10), object(1)\n",
            "memory usage: 10.5+ KB\n"
          ]
        }
      ]
    },
    {
      "cell_type": "code",
      "metadata": {
        "colab": {
          "base_uri": "https://localhost:8080/",
          "height": 610
        },
        "id": "Kbge-oiG0d07",
        "outputId": "18e678c7-1f95-4e00-c773-bd36a07a4954"
      },
      "source": [
        "plt.figure(figsize=(20,10))\n",
        "feature_list=['MSFT','GOOG','IBM']\n",
        "for i in enumerate(feature_list):\n",
        "  plt.subplot(1,3,i[0]+1)\n",
        "  sns.lineplot(x=pd.to_datetime(df_stocks['Date']),y=df_stocks[i[1]])\n",
        "  plt.title(i[1])\n",
        "  plt.xticks(rotation=45)"
      ],
      "execution_count": 61,
      "outputs": [
        {
          "output_type": "display_data",
          "data": {
            "image/png": "[encoded data removed]",
            "text/plain": [
              "<Figure size 1440x720 with 3 Axes>"
            ]
          },
          "metadata": {
            "needs_background": "light"
          }
        }
      ]
    },
    {
      "cell_type": "code",
      "metadata": {
        "id": "pMlZHtkqW1X5",
        "colab": {
          "base_uri": "https://localhost:8080/",
          "height": 203
        },
        "outputId": "84209bcf-b1cd-48fa-bb2b-c3c47c8b56ab"
      },
      "source": [
        "# Challenge 3\n",
        "# ---\n",
        "# Question: What was the population trend for Sub-Saharan Africa (IDA & IBRD countries) from 2006 to 2016? \n",
        "# Dataset url = http://bit.ly/WorldPopulationDataset\n",
        "# ---\n",
        "#\n",
        "\n",
        "df_pop=pd.read_csv('http://bit.ly/WorldPopulationDataset')\n",
        "df_pop.head()"
      ],
      "execution_count": 62,
      "outputs": [
        {
          "output_type": "execute_result",
          "data": {
            "text/html": [
              "<div>\n",
              "<style scoped>\n",
              "    .dataframe tbody tr th:only-of-type {\n",
              "        vertical-align: middle;\n",
              "    }\n",
              "\n",
              "    .dataframe tbody tr th {\n",
              "        vertical-align: top;\n",
              "    }\n",
              "\n",
              "    .dataframe thead th {\n",
              "        text-align: right;\n",
              "    }\n",
              "</style>\n",
              "<table border=\"1\" class=\"dataframe\">\n",
              "  <thead>\n",
              "    <tr style=\"text-align: right;\">\n",
              "      <th></th>\n",
              "      <th>Country Name</th>\n",
              "      <th>Country Code</th>\n",
              "      <th>Year</th>\n",
              "      <th>Value</th>\n",
              "    </tr>\n",
              "  </thead>\n",
              "  <tbody>\n",
              "    <tr>\n",
              "      <th>0</th>\n",
              "      <td>Arab World</td>\n",
              "      <td>ARB</td>\n",
              "      <td>1960</td>\n",
              "      <td>92197753</td>\n",
              "    </tr>\n",
              "    <tr>\n",
              "      <th>1</th>\n",
              "      <td>Arab World</td>\n",
              "      <td>ARB</td>\n",
              "      <td>1961</td>\n",
              "      <td>94724510</td>\n",
              "    </tr>\n",
              "    <tr>\n",
              "      <th>2</th>\n",
              "      <td>Arab World</td>\n",
              "      <td>ARB</td>\n",
              "      <td>1962</td>\n",
              "      <td>97334442</td>\n",
              "    </tr>\n",
              "    <tr>\n",
              "      <th>3</th>\n",
              "      <td>Arab World</td>\n",
              "      <td>ARB</td>\n",
              "      <td>1963</td>\n",
              "      <td>100034179</td>\n",
              "    </tr>\n",
              "    <tr>\n",
              "      <th>4</th>\n",
              "      <td>Arab World</td>\n",
              "      <td>ARB</td>\n",
              "      <td>1964</td>\n",
              "      <td>102832760</td>\n",
              "    </tr>\n",
              "  </tbody>\n",
              "</table>\n",
              "</div>"
            ],
            "text/plain": [
              "  Country Name Country Code  Year      Value\n",
              "0   Arab World          ARB  1960   92197753\n",
              "1   Arab World          ARB  1961   94724510\n",
              "2   Arab World          ARB  1962   97334442\n",
              "3   Arab World          ARB  1963  100034179\n",
              "4   Arab World          ARB  1964  102832760"
            ]
          },
          "metadata": {},
          "execution_count": 62
        }
      ]
    },
    {
      "cell_type": "code",
      "metadata": {
        "id": "O4GFYngSAOW9"
      },
      "source": [
        "\n",
        "target_df=df_pop[df_pop['Country Name'].str.contains('IDA & IBRD countries')]"
      ],
      "execution_count": 63,
      "outputs": []
    },
    {
      "cell_type": "code",
      "metadata": {
        "id": "qI7nPLq-OVmz"
      },
      "source": [
        "df_filt=target_df[(target_df['Year']>=2006) & (target_df['Year']<=2016)]"
      ],
      "execution_count": 64,
      "outputs": []
    },
    {
      "cell_type": "code",
      "metadata": {
        "colab": {
          "base_uri": "https://localhost:8080/"
        },
        "id": "cpogjXvnOt1p",
        "outputId": "a95635c1-4cdd-43fb-a675-19d6a8abcb5a"
      },
      "source": [
        "df_filt.info()"
      ],
      "execution_count": 65,
      "outputs": [
        {
          "output_type": "stream",
          "name": "stdout",
          "text": [
            "<class 'pandas.core.frame.DataFrame'>\n",
            "Int64Index: 55 entries, 400 to 2593\n",
            "Data columns (total 4 columns):\n",
            " #   Column        Non-Null Count  Dtype \n",
            "---  ------        --------------  ----- \n",
            " 0   Country Name  55 non-null     object\n",
            " 1   Country Code  55 non-null     object\n",
            " 2   Year          55 non-null     int64 \n",
            " 3   Value         55 non-null     int64 \n",
            "dtypes: int64(2), object(2)\n",
            "memory usage: 2.1+ KB\n"
          ]
        }
      ]
    },
    {
      "cell_type": "code",
      "metadata": {
        "colab": {
          "base_uri": "https://localhost:8080/",
          "height": 307
        },
        "id": "5g6WKf0RO7_J",
        "outputId": "9d601ed7-331c-4aed-e8b6-2e01da662c85"
      },
      "source": [
        " sns.lineplot(x=df_filt['Year'],y=df_filt['Value'])"
      ],
      "execution_count": 66,
      "outputs": [
        {
          "output_type": "execute_result",
          "data": {
            "text/plain": [
              "<matplotlib.axes._subplots.AxesSubplot at 0x7f485f98e110>"
            ]
          },
          "metadata": {},
          "execution_count": 66
        },
        {
          "output_type": "display_data",
          "data": {
            "image/png": "[encoded data removed]",
            "text/plain": [
              "<Figure size 432x288 with 1 Axes>"
            ]
          },
          "metadata": {
            "needs_background": "light"
          }
        }
      ]
    },
    {
      "cell_type": "markdown",
      "metadata": {
        "id": "JtjPD6J3tpXH"
      },
      "source": [
        "### 1.23 Z-test "
      ]
    },
    {
      "cell_type": "code",
      "metadata": {
        "id": "j5cavzRKtr5U",
        "colab": {
          "base_uri": "https://localhost:8080/"
        },
        "outputId": "d09e4248-8c05-4f01-bca4-0238bff9a270"
      },
      "source": [
        "# Example 1\n",
        "# ---\n",
        "# Calculating the z - score from the given array\n",
        "# ---\n",
        "#\n",
        "from scipy import stats\n",
        "\n",
        "a = np.array([ 0.7972, 0.0767, 0.4383, 0.7866, 0.8091, 0.1954, 0.6307, 0.6599, 0.1065, 0.0508])\n",
        "stats.zscore(a)"
      ],
      "execution_count": 67,
      "outputs": [
        {
          "output_type": "execute_result",
          "data": {
            "text/plain": [
              "array([ 1.12724554, -1.2469956 , -0.05542642,  1.09231569,  1.16645923,\n",
              "       -0.8558472 ,  0.57858329,  0.67480514, -1.14879659, -1.33234306])"
            ]
          },
          "metadata": {},
          "execution_count": 67
        }
      ]
    },
    {
      "cell_type": "markdown",
      "metadata": {
        "id": "BQXexlSluX-X"
      },
      "source": [
        "### <font color=\"green\">1.23 Challenges</font>"
      ]
    },
    {
      "cell_type": "code",
      "metadata": {
        "id": "unSEVISMudU1"
      },
      "source": [
        "# Challenge 1\n",
        "# "
      ],
      "execution_count": null,
      "outputs": []
    },
    {
      "cell_type": "markdown",
      "metadata": {
        "id": "ocEXb9JMtuq0"
      },
      "source": [
        "### 1.24 T-test"
      ]
    },
    {
      "cell_type": "code",
      "metadata": {
        "id": "Yd92ydLXtwnD",
        "colab": {
          "base_uri": "https://localhost:8080/"
        },
        "outputId": "cadbae8b-5e12-4d17-88a1-7703c4b348df"
      },
      "source": [
        "# Example 1\n",
        "# --- \n",
        "# Question: Let's calculate the t-test for the mean of one group of scores \n",
        "# x = [1 , 2, 3, 4, 5]\n",
        "# ---\n",
        "#\n",
        "\n",
        "# Importing ttest_1samp from scipy.stats\n",
        "from scipy.stats import ttest_1samp\n",
        "\n",
        "# Defining x and expected mean\n",
        "x = [1, 1, 1, 1, 12]\n",
        "\n",
        "expected_mean = 0\n",
        "\n",
        "# Calculating the t-test\n",
        "t_statistic, p_value = ttest_1samp(x, expected_mean, axis = 0)\n",
        "\n",
        "# Then displaying the t-statistic\n",
        "t_statistic"
      ],
      "execution_count": 68,
      "outputs": [
        {
          "output_type": "execute_result",
          "data": {
            "text/plain": [
              "1.4545454545454546"
            ]
          },
          "metadata": {},
          "execution_count": 68
        }
      ]
    },
    {
      "cell_type": "code",
      "metadata": {
        "id": "S8jR6J8t1duR",
        "colab": {
          "base_uri": "https://localhost:8080/"
        },
        "outputId": "46fd20f0-3541-4594-f638-5d320ec155bb"
      },
      "source": [
        "# Example 2\n",
        "# ---\n",
        "# Computing the t-test for the means of two independent samples of scores; Group X and Y\n",
        "# x = [4, 5, 7, 5, 2]\n",
        "# y = [5, 6, 3, 6, 11]\n",
        "# ---\n",
        "# \n",
        "\n",
        "# Importing ttest_1samp from scipy.stats\n",
        "from scipy.stats import ttest_ind\n",
        "\n",
        "# Defining our scores...x and y\n",
        "x = [1, 2, 3, 4, 7]\n",
        "y = [1, 2, 3, 4, 6]\n",
        "\n",
        "# Then calculating the t-test\n",
        "t_statistic, p_value = ttest_ind(x, y)\n",
        "\n",
        "# Then displaying the t-statistic\n",
        "t_statistic"
      ],
      "execution_count": 69,
      "outputs": [
        {
          "output_type": "execute_result",
          "data": {
            "text/plain": [
              "0.1490711984999858"
            ]
          },
          "metadata": {},
          "execution_count": 69
        }
      ]
    },
    {
      "cell_type": "code",
      "metadata": {
        "id": "dAXT2J5NAj63"
      },
      "source": [
        "# Example 3: Independent T-test\n",
        "# ---\n",
        "# As we had learnt from our suggested readings, the independent t-test is also called the two sample t-test, \n",
        "# student’s t-test, or unpaired t-test. \n",
        "# It’s a parametric test that tests for a significant difference between the mean \n",
        "# of two independent (unrelated) groups.\n",
        "# ---\n",
        "# Compute the t-test to see if there is a significant difference in the sepal width \n",
        "# between the species Iris-setosa and Iris-versicolor which are variables “sepal_width” \n",
        "# and “species” respectively.\n",
        "# Dataset url = http://bit.ly/IrisDataset\n",
        "# ---\n",
        "# \n",
        "\n",
        "# Step 1: \n",
        "# Showing descriptive statistics from pandas.describe()\n",
        "# --- \n",
        "# df.groupby(\"species\")['sepal_width'].describe()\n",
        "\n",
        "# Step 2: \n",
        "# Showing descriptive statistics from researchpy.summary_cont()\n",
        "# --- \n",
        "# rp.summary_cont(df.groupby(\"species\")['sepal_width'])\n",
        "\n",
        "# Step 3: \n",
        "# Before the t-test can be conducted, the assumptions of the t-test need \n",
        "# to be checked to see if the t-test results can be trusted. The data which we will use must \n",
        "# meet those assumptions in order for the test results to be valid.\n",
        "# 1. The samples are independently and randomly drawn\n",
        "# 2. The distribution of the residuals between the two groups should follow the normal distribution\n",
        "# 3. The variances between the two groups are equal\n",
        "# If any of these assumptions are violated then another test should be used. \n",
        "# The dependent variable (outcome being measured) should be continuous which is measured on an interval or ratio scale.\n",
        "# --- \n",
        "# stats.levene(setosa['sepal_width'], versicolor['sepal_width'])\n",
        "\n",
        "# Step 3:\n",
        "# We learn that the test is not significant meaning there is homogeneity of variances and we can proceed. \n",
        "# If the test were to be significant, a viable alternative would be to conduct a Welch’s t-test.\n",
        "\n",
        "# Step 4: \n",
        "# Next we test the assumption of normality. The residuals needs to be normally distributed. \n",
        "# To calculate the residuals between the groups, subtract the values of one group from the values of the other group.\n",
        "# --- \n",
        "# diff = setosa['sepal_width'] - versicolor['sepal_width']\n",
        "\n",
        "# Step 5: \n",
        "# Checking for normality can be done visually or with a formula test. \n",
        "# Visually, one can use a p-p plot, a q-q plot, or histogram, and/or one can use the Shapiro-Wilk \n",
        "# test to formally test for normality. \n",
        "# To test for normality formally, use stats.shapiro() which is from the scipy.stats library that was imported. \n",
        "# Documention on shapiro can be found here: http://bit.ly/DocShapiro\n",
        "# First let’s check for normality visually with a p-p plot and a histogram plot.\n",
        "# --- \n",
        "# stats.probplot(diff, plot= plt)\n",
        "# plt.title('Sepal Width P-P Plot') \n",
        "# plt.show()\n",
        "\n",
        "# Step 5:\n",
        "# If you are unfamiliar with how to read a p-p or q-q plot, \n",
        "# the dots should fall on the red line. If the dots are not on the red line then it’s an indication that \n",
        "# there is deviation from normality. Some deviations from normality is fine, as long as it’s not severe.\n",
        "\n",
        "# Step 6:\n",
        "# The p-p plot shows that the data maintains normality. Let’s take a look at the histogram next.\n",
        "# --- \n",
        "# diff.plot(kind= \"hist\", title= \"Sepal Width Residuals\")\n",
        "# plt.xlabel(\"Length (cm)\") \n",
        "# plt.show()\n",
        "\n",
        "\n",
        "# Step 7: \n",
        "# For the formal test on normality\n",
        "# --- \n",
        "# stats.shapiro(diff)\n",
        "\n",
        "# Step 7: \n",
        "# The output is not labeled, but the first value is the W test statistic and the second value is the p-value. \n",
        "# Since the test statistic does not produce a significant p-value, the data is indicated to be normally distributed.\n",
        "# The data met all the assumptions for the t-test which indicates the results can be trusted \n",
        "# and the t-test is an appropriate test to be used.\n",
        "\n",
        "# Step 8: \n",
        "# To conduct the independent t-test using scipy.stats, use the stats.ttest_ind() method.\n",
        "# ---\n",
        "# stats.ttest_ind(setosa['sepal_width'], versicolor['sepal_width'])\n",
        "\n",
        "# Conclusion:\n",
        "# There is a statistically significant difference between the sepal width of Iris-setosa \n",
        "# and Iris-versicolor (t(98) = 9.282, p < 0.0001, r = 0.6840)"
      ],
      "execution_count": null,
      "outputs": []
    },
    {
      "cell_type": "code",
      "metadata": {
        "colab": {
          "base_uri": "https://localhost:8080/",
          "height": 172
        },
        "id": "i1bz18Nrd4ci",
        "outputId": "8111a83e-55ad-4c5b-ff10-8c7e543c98ed"
      },
      "source": [
        "df=pd.read_csv('http://bit.ly/IrisDataset')\n",
        "df.groupby(\"species\")['sepal_width'].describe()\n"
      ],
      "execution_count": 70,
      "outputs": [
        {
          "output_type": "execute_result",
          "data": {
            "text/html": [
              "<div>\n",
              "<style scoped>\n",
              "    .dataframe tbody tr th:only-of-type {\n",
              "        vertical-align: middle;\n",
              "    }\n",
              "\n",
              "    .dataframe tbody tr th {\n",
              "        vertical-align: top;\n",
              "    }\n",
              "\n",
              "    .dataframe thead th {\n",
              "        text-align: right;\n",
              "    }\n",
              "</style>\n",
              "<table border=\"1\" class=\"dataframe\">\n",
              "  <thead>\n",
              "    <tr style=\"text-align: right;\">\n",
              "      <th></th>\n",
              "      <th>count</th>\n",
              "      <th>mean</th>\n",
              "      <th>std</th>\n",
              "      <th>min</th>\n",
              "      <th>25%</th>\n",
              "      <th>50%</th>\n",
              "      <th>75%</th>\n",
              "      <th>max</th>\n",
              "    </tr>\n",
              "    <tr>\n",
              "      <th>species</th>\n",
              "      <th></th>\n",
              "      <th></th>\n",
              "      <th></th>\n",
              "      <th></th>\n",
              "      <th></th>\n",
              "      <th></th>\n",
              "      <th></th>\n",
              "      <th></th>\n",
              "    </tr>\n",
              "  </thead>\n",
              "  <tbody>\n",
              "    <tr>\n",
              "      <th>Iris-setosa</th>\n",
              "      <td>50.0</td>\n",
              "      <td>3.418</td>\n",
              "      <td>0.381024</td>\n",
              "      <td>2.3</td>\n",
              "      <td>3.125</td>\n",
              "      <td>3.4</td>\n",
              "      <td>3.675</td>\n",
              "      <td>4.4</td>\n",
              "    </tr>\n",
              "    <tr>\n",
              "      <th>Iris-versicolor</th>\n",
              "      <td>50.0</td>\n",
              "      <td>2.770</td>\n",
              "      <td>0.313798</td>\n",
              "      <td>2.0</td>\n",
              "      <td>2.525</td>\n",
              "      <td>2.8</td>\n",
              "      <td>3.000</td>\n",
              "      <td>3.4</td>\n",
              "    </tr>\n",
              "    <tr>\n",
              "      <th>Iris-virginica</th>\n",
              "      <td>50.0</td>\n",
              "      <td>2.974</td>\n",
              "      <td>0.322497</td>\n",
              "      <td>2.2</td>\n",
              "      <td>2.800</td>\n",
              "      <td>3.0</td>\n",
              "      <td>3.175</td>\n",
              "      <td>3.8</td>\n",
              "    </tr>\n",
              "  </tbody>\n",
              "</table>\n",
              "</div>"
            ],
            "text/plain": [
              "                 count   mean       std  min    25%  50%    75%  max\n",
              "species                                                             \n",
              "Iris-setosa       50.0  3.418  0.381024  2.3  3.125  3.4  3.675  4.4\n",
              "Iris-versicolor   50.0  2.770  0.313798  2.0  2.525  2.8  3.000  3.4\n",
              "Iris-virginica    50.0  2.974  0.322497  2.2  2.800  3.0  3.175  3.8"
            ]
          },
          "metadata": {},
          "execution_count": 70
        }
      ]
    },
    {
      "cell_type": "code",
      "metadata": {
        "colab": {
          "base_uri": "https://localhost:8080/"
        },
        "id": "gHXGHoHWfJXb",
        "outputId": "ea86ff44-1d67-4aac-851a-fcb350777164"
      },
      "source": [
        "pip install  researchpy"
      ],
      "execution_count": 72,
      "outputs": [
        {
          "output_type": "stream",
          "name": "stdout",
          "text": [
            "Collecting researchpy\n",
            "  Downloading researchpy-0.3.2-py3-none-any.whl (15 kB)\n",
            "Requirement already satisfied: patsy in /usr/local/lib/python3.7/dist-packages (from researchpy) (0.5.1)\n",
            "Requirement already satisfied: numpy in /usr/local/lib/python3.7/dist-packages (from researchpy) (1.19.5)\n",
            "Requirement already satisfied: pandas in /usr/local/lib/python3.7/dist-packages (from researchpy) (1.1.5)\n",
            "Requirement already satisfied: scipy in /usr/local/lib/python3.7/dist-packages (from researchpy) (1.4.1)\n",
            "Requirement already satisfied: statsmodels in /usr/local/lib/python3.7/dist-packages (from researchpy) (0.10.2)\n",
            "Requirement already satisfied: python-dateutil>=2.7.3 in /usr/local/lib/python3.7/dist-packages (from pandas->researchpy) (2.8.2)\n",
            "Requirement already satisfied: pytz>=2017.2 in /usr/local/lib/python3.7/dist-packages (from pandas->researchpy) (2018.9)\n",
            "Requirement already satisfied: six>=1.5 in /usr/local/lib/python3.7/dist-packages (from python-dateutil>=2.7.3->pandas->researchpy) (1.15.0)\n",
            "Installing collected packages: researchpy\n",
            "Successfully installed researchpy-0.3.2\n"
          ]
        }
      ]
    },
    {
      "cell_type": "code",
      "metadata": {
        "colab": {
          "base_uri": "https://localhost:8080/",
          "height": 259
        },
        "id": "8QhcjnOkeXbi",
        "outputId": "be1d47f6-93da-4023-8d19-148f8096b554"
      },
      "source": [
        "import researchpy as rp\n",
        "rp.summary_cont(df.groupby(\"species\")['sepal_width'])"
      ],
      "execution_count": 73,
      "outputs": [
        {
          "output_type": "stream",
          "name": "stdout",
          "text": [
            "\n",
            "\n"
          ]
        },
        {
          "output_type": "stream",
          "name": "stderr",
          "text": [
            "/usr/local/lib/python3.7/dist-packages/statsmodels/tools/_testing.py:19: FutureWarning: pandas.util.testing is deprecated. Use the functions in the public API at pandas.testing instead.\n",
            "  import pandas.util.testing as tm\n"
          ]
        },
        {
          "output_type": "execute_result",
          "data": {
            "text/html": [
              "<div>\n",
              "<style scoped>\n",
              "    .dataframe tbody tr th:only-of-type {\n",
              "        vertical-align: middle;\n",
              "    }\n",
              "\n",
              "    .dataframe tbody tr th {\n",
              "        vertical-align: top;\n",
              "    }\n",
              "\n",
              "    .dataframe thead th {\n",
              "        text-align: right;\n",
              "    }\n",
              "</style>\n",
              "<table border=\"1\" class=\"dataframe\">\n",
              "  <thead>\n",
              "    <tr style=\"text-align: right;\">\n",
              "      <th></th>\n",
              "      <th>N</th>\n",
              "      <th>Mean</th>\n",
              "      <th>SD</th>\n",
              "      <th>SE</th>\n",
              "      <th>95% Conf.</th>\n",
              "      <th>Interval</th>\n",
              "    </tr>\n",
              "    <tr>\n",
              "      <th>species</th>\n",
              "      <th></th>\n",
              "      <th></th>\n",
              "      <th></th>\n",
              "      <th></th>\n",
              "      <th></th>\n",
              "      <th></th>\n",
              "    </tr>\n",
              "  </thead>\n",
              "  <tbody>\n",
              "    <tr>\n",
              "      <th>Iris-setosa</th>\n",
              "      <td>50</td>\n",
              "      <td>3.418</td>\n",
              "      <td>0.3810</td>\n",
              "      <td>0.0539</td>\n",
              "      <td>3.3097</td>\n",
              "      <td>3.5263</td>\n",
              "    </tr>\n",
              "    <tr>\n",
              "      <th>Iris-versicolor</th>\n",
              "      <td>50</td>\n",
              "      <td>2.770</td>\n",
              "      <td>0.3138</td>\n",
              "      <td>0.0444</td>\n",
              "      <td>2.6808</td>\n",
              "      <td>2.8592</td>\n",
              "    </tr>\n",
              "    <tr>\n",
              "      <th>Iris-virginica</th>\n",
              "      <td>50</td>\n",
              "      <td>2.974</td>\n",
              "      <td>0.3225</td>\n",
              "      <td>0.0456</td>\n",
              "      <td>2.8823</td>\n",
              "      <td>3.0657</td>\n",
              "    </tr>\n",
              "  </tbody>\n",
              "</table>\n",
              "</div>"
            ],
            "text/plain": [
              "                  N   Mean      SD      SE  95% Conf.  Interval\n",
              "species                                                        \n",
              "Iris-setosa      50  3.418  0.3810  0.0539     3.3097    3.5263\n",
              "Iris-versicolor  50  2.770  0.3138  0.0444     2.6808    2.8592\n",
              "Iris-virginica   50  2.974  0.3225  0.0456     2.8823    3.0657"
            ]
          },
          "metadata": {},
          "execution_count": 73
        }
      ]
    },
    {
      "cell_type": "code",
      "metadata": {
        "id": "XcyslCd5gBIE"
      },
      "source": [
        "setosa=df[df['species']=='Iris-setosa']\n",
        "versicolor=df[df['species']=='Iris-versicolor']"
      ],
      "execution_count": 74,
      "outputs": []
    },
    {
      "cell_type": "code",
      "metadata": {
        "colab": {
          "base_uri": "https://localhost:8080/"
        },
        "id": "ekmvL82Xfelm",
        "outputId": "f600b9d4-d957-4bff-a8b5-c3db1dba2a63"
      },
      "source": [
        "stats.levene(setosa['sepal_width'], versicolor['sepal_width'])"
      ],
      "execution_count": 75,
      "outputs": [
        {
          "output_type": "execute_result",
          "data": {
            "text/plain": [
              "LeveneResult(statistic=0.6635459332943233, pvalue=0.4172859681296204)"
            ]
          },
          "metadata": {},
          "execution_count": 75
        }
      ]
    },
    {
      "cell_type": "code",
      "metadata": {
        "id": "LYRmYplhhD79"
      },
      "source": [
        "diff = setosa['sepal_width'].values - versicolor['sepal_width'].values"
      ],
      "execution_count": 76,
      "outputs": []
    },
    {
      "cell_type": "code",
      "metadata": {
        "colab": {
          "base_uri": "https://localhost:8080/",
          "height": 295
        },
        "id": "VVfdOL3dhK2Z",
        "outputId": "75ff448c-0064-46d2-e91e-4ca9c7f1fb9b"
      },
      "source": [
        "stats.probplot(diff, plot= plt)\n",
        "plt.title('Sepal Width P-P Plot') \n",
        "plt.show()"
      ],
      "execution_count": 77,
      "outputs": [
        {
          "output_type": "display_data",
          "data": {
            "image/png": "[encoded data removed]",
            "text/plain": [
              "<Figure size 432x288 with 1 Axes>"
            ]
          },
          "metadata": {
            "needs_background": "light"
          }
        }
      ]
    },
    {
      "cell_type": "code",
      "metadata": {
        "colab": {
          "base_uri": "https://localhost:8080/",
          "height": 295
        },
        "id": "yzR_ymn4iSxG",
        "outputId": "692d748e-7902-4946-f522-49b9ba2fd4a4"
      },
      "source": [
        "pd.Series(diff).plot(kind= \"hist\", title= \"Sepal Width Residuals\")\n",
        "plt.xlabel(\"Length (cm)\") \n",
        "plt.show()\n"
      ],
      "execution_count": 78,
      "outputs": [
        {
          "output_type": "display_data",
          "data": {
            "image/png": "[encoded data removed]",
            "text/plain": [
              "<Figure size 432x288 with 1 Axes>"
            ]
          },
          "metadata": {
            "needs_background": "light"
          }
        }
      ]
    },
    {
      "cell_type": "code",
      "metadata": {
        "colab": {
          "base_uri": "https://localhost:8080/"
        },
        "id": "utA49b_8kIGF",
        "outputId": "b07786a9-fa9f-4df3-862b-9232794ed677"
      },
      "source": [
        "stats.shapiro(diff)"
      ],
      "execution_count": 79,
      "outputs": [
        {
          "output_type": "execute_result",
          "data": {
            "text/plain": [
              "(0.9859335422515869, 0.8108891248703003)"
            ]
          },
          "metadata": {},
          "execution_count": 79
        }
      ]
    },
    {
      "cell_type": "code",
      "metadata": {
        "id": "oDuI-ihtkbCH",
        "colab": {
          "base_uri": "https://localhost:8080/"
        },
        "outputId": "f16466c0-8e0c-4c4e-cc50-72f1d3716262"
      },
      "source": [
        "stats.ttest_ind(setosa['sepal_width'], versicolor['sepal_width'])"
      ],
      "execution_count": 80,
      "outputs": [
        {
          "output_type": "execute_result",
          "data": {
            "text/plain": [
              "Ttest_indResult(statistic=9.282772555558111, pvalue=4.362239016010214e-15)"
            ]
          },
          "metadata": {},
          "execution_count": 80
        }
      ]
    },
    {
      "cell_type": "markdown",
      "metadata": {
        "id": "hJsmWSIrhJYb"
      },
      "source": [
        ""
      ]
    },
    {
      "cell_type": "code",
      "metadata": {
        "id": "8JjK2ivbV4wE"
      },
      "source": [
        "# Example 3: Dependent T-test\n",
        "# ---\n",
        "# The paired sample t-test is also called dependent sample t-test. \n",
        "# It’s an univariate test that tests for a significant difference between 2 related variables. \n",
        "# An example of this is if you where to collect the blood pressure for an individual before \n",
        "# and after some treatment, condition, or time point.\n",
        "# ---\n",
        "# Question: Compute the t-test to see if there is a significant difference in blood pressure before and blood pressure after.\n",
        "# Dataset url = http://bit.ly/BloodPressureDataset\n",
        "# ---\n",
        "# \n",
        "\n",
        "# In order for the paired sample t-test results to be trusted, the following assumptions need to be met:\n",
        "# 1. The dependent variable (DV) must be continuous which is measured on an interval or ratio scale\n",
        "# 2. The DV should be approximately normally distributed\n",
        "# - Testing for normality needs to be conducted on the differences between the two conditions, not the raw values of each condition itself\n",
        "# - The paired sample t-test is robust to this violation. If there is a violation of normality, as long as it’s not in a major violation the test results can be considered valid\n",
        "# 3. The DV should not contain any significant outliers\n",
        "# If any of these assumptions are violated, a different test should be used. \n",
        "# An alternative to the paired sample t-test is the Wilcoxon signed-rank Test.\n",
        "\n",
        "# Step 1: \n",
        "# Taking a look at our data\n",
        "# ---\n",
        "# df[['bp_before','bp_after']].describe()\n",
        "\n",
        "# Step 2:\n",
        "# Checking for any significant outliers in each of the variables\n",
        "# ---\n",
        "# df[['bp_before', 'bp_after']].plot(kind='box')\n",
        "\n",
        "# Step 2:\n",
        "# Remember that for the dependent sample T-test the normality check needs to be conducted on differences \n",
        "# between the two scores. There are a few ways one can test this assumption – make a histogram, use a Q-Q plot, \n",
        "# and/or use a statistical test. Let’s create a variable for the differences and run through these.\n",
        "\n",
        "# Step 3:\n",
        "# The histogram of our data seems to be normally distributed. \n",
        "# Another way to check for normally distributed data is to use a Q-Q plot. \n",
        "# If you’re unfamiliar with how to read a Q-Q plot, the data should be on the red line. \n",
        "# If it’s not, then it suggests that the data may not be normally distributed.\n",
        "# ---\n",
        "# stats.probplot(df['bp_difference'], plot= plt)\n",
        "# plt.title('Blood pressure Difference Q-Q Plot')\n",
        "\n",
        "# Step 4:\n",
        "# There is some deviation from normality, but it does not appear to be severe so there is no need to worry. \n",
        "# To be sure, let’s test this statistically to see if the data is normally distributed.\n",
        "# To test this, one can use the Shapiro-Wilk test for normality. Unfortunately the output is not labeled. \n",
        "# The first value is the W test value, and the second value it the p-value.\n",
        "# ---\n",
        "# stats.shapiro(df['bp_difference'])\n",
        "\n",
        "# Step 4:\n",
        "# The test was non-significant. Therefore, the difference between the two conditions is normally distributed. \n",
        "# If this test were to be significant, an appropriate alternative to use would be the Wilcoxon signed-rank Test.\n",
        "\n",
        "# Step 5:\n",
        "# To conduct the paired sample t-test, one needs to use the stats.ttest_rel() method.\n",
        "# stats.ttest_rel(df['bp_before'], df['bp_after'])\n",
        "\n",
        "# Step 6: \n",
        "# We can conclude that the findings are statistically significant."
      ],
      "execution_count": null,
      "outputs": []
    },
    {
      "cell_type": "code",
      "metadata": {
        "colab": {
          "base_uri": "https://localhost:8080/",
          "height": 203
        },
        "id": "nqibA6jn3gc2",
        "outputId": "e328d57c-77b0-4a5a-c0f5-95d72367b556"
      },
      "source": [
        "#load the data using pandas and checkout first 5 rows\n",
        "df_blood=pd.read_csv('http://bit.ly/BloodPressureDataset')\n",
        "df_blood.head()"
      ],
      "execution_count": 81,
      "outputs": [
        {
          "output_type": "execute_result",
          "data": {
            "text/html": [
              "<div>\n",
              "<style scoped>\n",
              "    .dataframe tbody tr th:only-of-type {\n",
              "        vertical-align: middle;\n",
              "    }\n",
              "\n",
              "    .dataframe tbody tr th {\n",
              "        vertical-align: top;\n",
              "    }\n",
              "\n",
              "    .dataframe thead th {\n",
              "        text-align: right;\n",
              "    }\n",
              "</style>\n",
              "<table border=\"1\" class=\"dataframe\">\n",
              "  <thead>\n",
              "    <tr style=\"text-align: right;\">\n",
              "      <th></th>\n",
              "      <th>patient</th>\n",
              "      <th>sex</th>\n",
              "      <th>agegrp</th>\n",
              "      <th>bp_before</th>\n",
              "      <th>bp_after</th>\n",
              "    </tr>\n",
              "  </thead>\n",
              "  <tbody>\n",
              "    <tr>\n",
              "      <th>0</th>\n",
              "      <td>1</td>\n",
              "      <td>Male</td>\n",
              "      <td>30-45</td>\n",
              "      <td>143</td>\n",
              "      <td>153</td>\n",
              "    </tr>\n",
              "    <tr>\n",
              "      <th>1</th>\n",
              "      <td>2</td>\n",
              "      <td>Male</td>\n",
              "      <td>30-45</td>\n",
              "      <td>163</td>\n",
              "      <td>170</td>\n",
              "    </tr>\n",
              "    <tr>\n",
              "      <th>2</th>\n",
              "      <td>3</td>\n",
              "      <td>Male</td>\n",
              "      <td>30-45</td>\n",
              "      <td>153</td>\n",
              "      <td>168</td>\n",
              "    </tr>\n",
              "    <tr>\n",
              "      <th>3</th>\n",
              "      <td>4</td>\n",
              "      <td>Male</td>\n",
              "      <td>30-45</td>\n",
              "      <td>153</td>\n",
              "      <td>142</td>\n",
              "    </tr>\n",
              "    <tr>\n",
              "      <th>4</th>\n",
              "      <td>5</td>\n",
              "      <td>Male</td>\n",
              "      <td>30-45</td>\n",
              "      <td>146</td>\n",
              "      <td>141</td>\n",
              "    </tr>\n",
              "  </tbody>\n",
              "</table>\n",
              "</div>"
            ],
            "text/plain": [
              "   patient   sex agegrp  bp_before  bp_after\n",
              "0        1  Male  30-45        143       153\n",
              "1        2  Male  30-45        163       170\n",
              "2        3  Male  30-45        153       168\n",
              "3        4  Male  30-45        153       142\n",
              "4        5  Male  30-45        146       141"
            ]
          },
          "metadata": {},
          "execution_count": 81
        }
      ]
    },
    {
      "cell_type": "code",
      "metadata": {
        "colab": {
          "base_uri": "https://localhost:8080/",
          "height": 295
        },
        "id": "-CrWAE1231st",
        "outputId": "9386b310-8163-4154-858f-fe02a6ef73f5"
      },
      "source": [
        "#let us checkut the nature of our data\n",
        "df_blood[['bp_before','bp_after']].describe()"
      ],
      "execution_count": 82,
      "outputs": [
        {
          "output_type": "execute_result",
          "data": {
            "text/html": [
              "<div>\n",
              "<style scoped>\n",
              "    .dataframe tbody tr th:only-of-type {\n",
              "        vertical-align: middle;\n",
              "    }\n",
              "\n",
              "    .dataframe tbody tr th {\n",
              "        vertical-align: top;\n",
              "    }\n",
              "\n",
              "    .dataframe thead th {\n",
              "        text-align: right;\n",
              "    }\n",
              "</style>\n",
              "<table border=\"1\" class=\"dataframe\">\n",
              "  <thead>\n",
              "    <tr style=\"text-align: right;\">\n",
              "      <th></th>\n",
              "      <th>bp_before</th>\n",
              "      <th>bp_after</th>\n",
              "    </tr>\n",
              "  </thead>\n",
              "  <tbody>\n",
              "    <tr>\n",
              "      <th>count</th>\n",
              "      <td>120.000000</td>\n",
              "      <td>120.000000</td>\n",
              "    </tr>\n",
              "    <tr>\n",
              "      <th>mean</th>\n",
              "      <td>156.450000</td>\n",
              "      <td>151.358333</td>\n",
              "    </tr>\n",
              "    <tr>\n",
              "      <th>std</th>\n",
              "      <td>11.389845</td>\n",
              "      <td>14.177622</td>\n",
              "    </tr>\n",
              "    <tr>\n",
              "      <th>min</th>\n",
              "      <td>138.000000</td>\n",
              "      <td>125.000000</td>\n",
              "    </tr>\n",
              "    <tr>\n",
              "      <th>25%</th>\n",
              "      <td>147.000000</td>\n",
              "      <td>140.750000</td>\n",
              "    </tr>\n",
              "    <tr>\n",
              "      <th>50%</th>\n",
              "      <td>154.500000</td>\n",
              "      <td>149.500000</td>\n",
              "    </tr>\n",
              "    <tr>\n",
              "      <th>75%</th>\n",
              "      <td>164.000000</td>\n",
              "      <td>161.000000</td>\n",
              "    </tr>\n",
              "    <tr>\n",
              "      <th>max</th>\n",
              "      <td>185.000000</td>\n",
              "      <td>185.000000</td>\n",
              "    </tr>\n",
              "  </tbody>\n",
              "</table>\n",
              "</div>"
            ],
            "text/plain": [
              "        bp_before    bp_after\n",
              "count  120.000000  120.000000\n",
              "mean   156.450000  151.358333\n",
              "std     11.389845   14.177622\n",
              "min    138.000000  125.000000\n",
              "25%    147.000000  140.750000\n",
              "50%    154.500000  149.500000\n",
              "75%    164.000000  161.000000\n",
              "max    185.000000  185.000000"
            ]
          },
          "metadata": {},
          "execution_count": 82
        }
      ]
    },
    {
      "cell_type": "code",
      "metadata": {
        "colab": {
          "base_uri": "https://localhost:8080/",
          "height": 283
        },
        "id": "8TdW8sHj4NJ0",
        "outputId": "dcf708a3-d7ad-4213-f3d0-87a997a01ee8"
      },
      "source": [
        "#check out if there are any significant outliers\n",
        "df_blood[['bp_before', 'bp_after']].plot(kind='box')"
      ],
      "execution_count": 83,
      "outputs": [
        {
          "output_type": "execute_result",
          "data": {
            "text/plain": [
              "<matplotlib.axes._subplots.AxesSubplot at 0x7f4859429690>"
            ]
          },
          "metadata": {},
          "execution_count": 83
        },
        {
          "output_type": "display_data",
          "data": {
            "image/png": "[encoded data removed]",
            "text/plain": [
              "<Figure size 432x288 with 1 Axes>"
            ]
          },
          "metadata": {
            "needs_background": "light"
          }
        }
      ]
    },
    {
      "cell_type": "code",
      "metadata": {
        "id": "EouS6q8G4aHy"
      },
      "source": [
        "#create a variable for the difference in bp, before and after\n",
        "df_blood['bp_diff']=df_blood['bp_after']-df_blood['bp_before']"
      ],
      "execution_count": 84,
      "outputs": []
    },
    {
      "cell_type": "code",
      "metadata": {
        "colab": {
          "base_uri": "https://localhost:8080/",
          "height": 312
        },
        "id": "XTEz3gqI4ykQ",
        "outputId": "64b14c40-1896-4112-8177-6a9e2a795936"
      },
      "source": [
        "#check for normality of the bp difference variable using a Q-Q plot\n",
        "stats.probplot(df_blood['bp_diff'], plot= plt)\n",
        "plt.title('Blood pressure Difference Q-Q Plot')"
      ],
      "execution_count": 85,
      "outputs": [
        {
          "output_type": "execute_result",
          "data": {
            "text/plain": [
              "Text(0.5, 1.0, 'Blood pressure Difference Q-Q Plot')"
            ]
          },
          "metadata": {},
          "execution_count": 85
        },
        {
          "output_type": "display_data",
          "data": {
            "image/png": "[encoded data removed]",
            "text/plain": [
              "<Figure size 432x288 with 1 Axes>"
            ]
          },
          "metadata": {
            "needs_background": "light"
          }
        }
      ]
    },
    {
      "cell_type": "code",
      "metadata": {
        "colab": {
          "base_uri": "https://localhost:8080/"
        },
        "id": "jwvqUffz5JvS",
        "outputId": "2c9fd514-86ce-4c66-fe3a-618369dbf262"
      },
      "source": [
        "#let us test for normality using the shapiro-Wilk's test\n",
        "stats.shapiro(df_blood['bp_diff'])"
      ],
      "execution_count": 86,
      "outputs": [
        {
          "output_type": "execute_result",
          "data": {
            "text/plain": [
              "(0.9926842451095581, 0.7841846942901611)"
            ]
          },
          "metadata": {},
          "execution_count": 86
        }
      ]
    },
    {
      "cell_type": "code",
      "metadata": {
        "colab": {
          "base_uri": "https://localhost:8080/"
        },
        "id": "LI-Jpgv85h-n",
        "outputId": "8ed5e18d-2d80-42a2-d0fe-a7f213ec91e4"
      },
      "source": [
        "#from the shapiro-wilk's test, we can see that the test is not significant, thus implying normality\n",
        "#finally we do the dependent t test\n",
        "stats.ttest_rel(df_blood['bp_before'], df_blood['bp_after'])"
      ],
      "execution_count": 87,
      "outputs": [
        {
          "output_type": "execute_result",
          "data": {
            "text/plain": [
              "Ttest_relResult(statistic=3.3371870510833657, pvalue=0.0011297914644840823)"
            ]
          },
          "metadata": {},
          "execution_count": 87
        }
      ]
    },
    {
      "cell_type": "code",
      "metadata": {
        "id": "mLrWeHQR5_-g"
      },
      "source": [
        "#from the p value above i.e p=0.001129791464.. , we can tell that the test is significant and therefore, there is a significant difference\n",
        "#between the bllod pressures."
      ],
      "execution_count": 88,
      "outputs": []
    },
    {
      "cell_type": "markdown",
      "metadata": {
        "id": "mKmXFgb5ujhh"
      },
      "source": [
        "### <font color=\"green\">1.24 Challenges</font>"
      ]
    },
    {
      "cell_type": "code",
      "metadata": {
        "id": "kUaIpFDn5-Pv"
      },
      "source": [
        "# Challenge 1\n",
        "# ---\n",
        "# Compute the t-test for the means of two independent samples of scores; Group x and Group y\n",
        "x = [[1, 2, 3, 4, 5],\n",
        "[6, 7, 8, 9, 10]]\n",
        "y = [[60, 70, 80, 90, 100],\n",
        "     [110, 120, 130, 140, 150]]\n",
        "# ---\n",
        "#\n"
      ],
      "execution_count": 92,
      "outputs": []
    },
    {
      "cell_type": "code",
      "metadata": {
        "id": "B2FrxqPo7N6W"
      },
      "source": [
        "#convert the samples into numpy arrays\n",
        "x_grp=np.array(x)\n",
        "y_grp=np.array(y)"
      ],
      "execution_count": 98,
      "outputs": []
    },
    {
      "cell_type": "code",
      "metadata": {
        "id": "OQ0vQRJL-HUD"
      },
      "source": [
        "#let us reshape the samples to 1 dimensional\n",
        "x_samp=x_grp.flatten()\n",
        "y_samp=y_grp.flatten()"
      ],
      "execution_count": 102,
      "outputs": []
    },
    {
      "cell_type": "code",
      "metadata": {
        "colab": {
          "base_uri": "https://localhost:8080/"
        },
        "id": "1cTJXEQvGjiX",
        "outputId": "64523118-4282-4696-bd54-b2235583aab1"
      },
      "source": [
        "#check if the variance of the two samples is homegenious\n",
        "stats.levene(x_samp,y_samp)"
      ],
      "execution_count": 123,
      "outputs": [
        {
          "output_type": "execute_result",
          "data": {
            "text/plain": [
              "LeveneResult(statistic=22.55569306930693, pvalue=0.00016020103368554386)"
            ]
          },
          "metadata": {},
          "execution_count": 123
        }
      ]
    },
    {
      "cell_type": "code",
      "metadata": {
        "id": "zXByD4y9_gjn"
      },
      "source": [
        "#from above, the levene is significant, therefore implying that the population variances are different and hence a Welch's test is performed\n",
        "t_statistic, p_value = ttest_ind(x_samp, y_samp, equal_var=False)"
      ],
      "execution_count": 120,
      "outputs": []
    },
    {
      "cell_type": "code",
      "metadata": {
        "colab": {
          "base_uri": "https://localhost:8080/"
        },
        "id": "2X6g2WTo_lTO",
        "outputId": "c2f8bda2-2cfb-4572-8e0e-efe558fcf0d1"
      },
      "source": [
        "p_value"
      ],
      "execution_count": 121,
      "outputs": [
        {
          "output_type": "execute_result",
          "data": {
            "text/plain": [
              "2.317181354138036e-06"
            ]
          },
          "metadata": {},
          "execution_count": 121
        }
      ]
    },
    {
      "cell_type": "code",
      "metadata": {
        "colab": {
          "base_uri": "https://localhost:8080/"
        },
        "id": "0UEDwHWl_o9h",
        "outputId": "63940556-f364-4176-c393-e57841d1023b"
      },
      "source": [
        "t_statistic"
      ],
      "execution_count": 122,
      "outputs": [
        {
          "output_type": "execute_result",
          "data": {
            "text/plain": [
              "-10.340860377131776"
            ]
          },
          "metadata": {},
          "execution_count": 122
        }
      ]
    },
    {
      "cell_type": "code",
      "metadata": {
        "id": "7wEURyFf-f7c",
        "colab": {
          "base_uri": "https://localhost:8080/",
          "height": 172
        },
        "outputId": "ed08e02f-48b2-4166-fb01-71e7194d9e88"
      },
      "source": [
        "# Challenge 2\n",
        "# ---\n",
        "# Question: Determine if there is a significant difference in the sepal width \n",
        "# between the species Iris-setosa and Iris-virginica.\n",
        "# Dataset url = http://bit.ly/IrisDataset\n",
        "# --- \n",
        "# \n",
        "df_iris=pd.read_csv('http://bit.ly/IrisDataset')\n",
        "#check out the summary stats for the diffrent species groups\n",
        "df_iris.groupby(\"species\")['sepal_width'].describe()\n"
      ],
      "execution_count": 108,
      "outputs": [
        {
          "output_type": "execute_result",
          "data": {
            "text/html": [
              "<div>\n",
              "<style scoped>\n",
              "    .dataframe tbody tr th:only-of-type {\n",
              "        vertical-align: middle;\n",
              "    }\n",
              "\n",
              "    .dataframe tbody tr th {\n",
              "        vertical-align: top;\n",
              "    }\n",
              "\n",
              "    .dataframe thead th {\n",
              "        text-align: right;\n",
              "    }\n",
              "</style>\n",
              "<table border=\"1\" class=\"dataframe\">\n",
              "  <thead>\n",
              "    <tr style=\"text-align: right;\">\n",
              "      <th></th>\n",
              "      <th>count</th>\n",
              "      <th>mean</th>\n",
              "      <th>std</th>\n",
              "      <th>min</th>\n",
              "      <th>25%</th>\n",
              "      <th>50%</th>\n",
              "      <th>75%</th>\n",
              "      <th>max</th>\n",
              "    </tr>\n",
              "    <tr>\n",
              "      <th>species</th>\n",
              "      <th></th>\n",
              "      <th></th>\n",
              "      <th></th>\n",
              "      <th></th>\n",
              "      <th></th>\n",
              "      <th></th>\n",
              "      <th></th>\n",
              "      <th></th>\n",
              "    </tr>\n",
              "  </thead>\n",
              "  <tbody>\n",
              "    <tr>\n",
              "      <th>Iris-setosa</th>\n",
              "      <td>50.0</td>\n",
              "      <td>3.418</td>\n",
              "      <td>0.381024</td>\n",
              "      <td>2.3</td>\n",
              "      <td>3.125</td>\n",
              "      <td>3.4</td>\n",
              "      <td>3.675</td>\n",
              "      <td>4.4</td>\n",
              "    </tr>\n",
              "    <tr>\n",
              "      <th>Iris-versicolor</th>\n",
              "      <td>50.0</td>\n",
              "      <td>2.770</td>\n",
              "      <td>0.313798</td>\n",
              "      <td>2.0</td>\n",
              "      <td>2.525</td>\n",
              "      <td>2.8</td>\n",
              "      <td>3.000</td>\n",
              "      <td>3.4</td>\n",
              "    </tr>\n",
              "    <tr>\n",
              "      <th>Iris-virginica</th>\n",
              "      <td>50.0</td>\n",
              "      <td>2.974</td>\n",
              "      <td>0.322497</td>\n",
              "      <td>2.2</td>\n",
              "      <td>2.800</td>\n",
              "      <td>3.0</td>\n",
              "      <td>3.175</td>\n",
              "      <td>3.8</td>\n",
              "    </tr>\n",
              "  </tbody>\n",
              "</table>\n",
              "</div>"
            ],
            "text/plain": [
              "                 count   mean       std  min    25%  50%    75%  max\n",
              "species                                                             \n",
              "Iris-setosa       50.0  3.418  0.381024  2.3  3.125  3.4  3.675  4.4\n",
              "Iris-versicolor   50.0  2.770  0.313798  2.0  2.525  2.8  3.000  3.4\n",
              "Iris-virginica    50.0  2.974  0.322497  2.2  2.800  3.0  3.175  3.8"
            ]
          },
          "metadata": {},
          "execution_count": 108
        }
      ]
    },
    {
      "cell_type": "code",
      "metadata": {
        "id": "ckRL-61rA4xH"
      },
      "source": [
        "#filter out data for the respectve target species\n",
        "setosa_sp=df_iris[df_iris['species']=='Iris-setosa']\n",
        "virginica_sp=df_iris[df_iris['species']=='Iris-virginica']"
      ],
      "execution_count": 109,
      "outputs": []
    },
    {
      "cell_type": "code",
      "metadata": {
        "colab": {
          "base_uri": "https://localhost:8080/"
        },
        "id": "HLFtOyW0Bbn2",
        "outputId": "5cd531b3-1f53-4c9b-c8aa-1890c140a17b"
      },
      "source": [
        "#before the t test, let us check whether the conditions for an indipendent t test are met by the two samples\n",
        "# 1. Let us check if the variance of the two samples is homogeneous\n",
        "stats.levene(setosa_sp['sepal_width'], virginica_sp['sepal_width']) "
      ],
      "execution_count": 111,
      "outputs": [
        {
          "output_type": "execute_result",
          "data": {
            "text/plain": [
              "LeveneResult(statistic=1.0574747096290729, pvalue=0.3063232756895671)"
            ]
          },
          "metadata": {},
          "execution_count": 111
        }
      ]
    },
    {
      "cell_type": "code",
      "metadata": {
        "id": "n_Pb1NQrCAXS"
      },
      "source": [
        "#from above, the test is not significant, hence implying homogenity in the variance. Next, let us check if the residuals of the two samples\n",
        "#are normaly distributed. We will first calculate the residuals\n",
        "diff_sp= setosa_sp['sepal_width'].values - virginica_sp['sepal_width'].values\n"
      ],
      "execution_count": 113,
      "outputs": []
    },
    {
      "cell_type": "code",
      "metadata": {
        "colab": {
          "base_uri": "https://localhost:8080/",
          "height": 295
        },
        "id": "K8hvAYOYCkr9",
        "outputId": "412bed94-323b-47d4-c9cd-8b1f78d61b3c"
      },
      "source": [
        "#to check for normality, we will use visualizations and also test stats\n",
        "#1. visualizatio; we create a Q-Q plot \n",
        "stats.probplot(diff_sp, plot= plt)\n",
        "plt.title('Sepal Width Q-Q Plot') \n",
        "plt.show()\n"
      ],
      "execution_count": 115,
      "outputs": [
        {
          "output_type": "display_data",
          "data": {
            "image/png": "[encoded data removed]",
            "text/plain": [
              "<Figure size 432x288 with 1 Axes>"
            ]
          },
          "metadata": {
            "needs_background": "light"
          }
        }
      ]
    },
    {
      "cell_type": "code",
      "metadata": {
        "colab": {
          "base_uri": "https://localhost:8080/",
          "height": 295
        },
        "id": "y0rq2XKkDAPS",
        "outputId": "5ff42326-0ab2-4fdb-d2ba-973bd4f5e305"
      },
      "source": [
        "#2. create a histogram of the residuals\n",
        "pd.Series(diff_sp).plot(kind= \"hist\", title= \"Sepal Width Residuals\")\n",
        "plt.xlabel(\"Length (cm)\") \n",
        "plt.show()"
      ],
      "execution_count": 116,
      "outputs": [
        {
          "output_type": "display_data",
          "data": {
            "image/png": "[encoded data removed]",
            "text/plain": [
              "<Figure size 432x288 with 1 Axes>"
            ]
          },
          "metadata": {
            "needs_background": "light"
          }
        }
      ]
    },
    {
      "cell_type": "code",
      "metadata": {
        "colab": {
          "base_uri": "https://localhost:8080/"
        },
        "id": "dM-v3Z51DUQQ",
        "outputId": "279608f7-eb5b-4cb2-ecdc-7d4b2cfeea9d"
      },
      "source": [
        "#3. use test statistic\n",
        "stats.shapiro(diff_sp)"
      ],
      "execution_count": 117,
      "outputs": [
        {
          "output_type": "execute_result",
          "data": {
            "text/plain": [
              "(0.9746063947677612, 0.3525015115737915)"
            ]
          },
          "metadata": {},
          "execution_count": 117
        }
      ]
    },
    {
      "cell_type": "code",
      "metadata": {
        "colab": {
          "base_uri": "https://localhost:8080/"
        },
        "id": "LfDNuBrCDcmJ",
        "outputId": "bb43430f-096e-4e2b-828b-57a0ec8083e5"
      },
      "source": [
        "#from above, we can see that the sahpiro wilk's test is not significant, therefore we conclude that the difference between the two samples\n",
        "#is normally distrbuted. Now we can do the t test\n",
        "stats.ttest_ind(setosa_sp['sepal_width'], virginica_sp['sepal_width'])"
      ],
      "execution_count": 118,
      "outputs": [
        {
          "output_type": "execute_result",
          "data": {
            "text/plain": [
              "Ttest_indResult(statistic=6.289384996672061, pvalue=8.916634067006443e-09)"
            ]
          },
          "metadata": {},
          "execution_count": 118
        }
      ]
    },
    {
      "cell_type": "code",
      "metadata": {
        "id": "E17JKn15D8j8"
      },
      "source": [
        "#from the t test, the difference in means is significant.This is because the p-value is way less than 0.05"
      ],
      "execution_count": 119,
      "outputs": []
    },
    {
      "cell_type": "code",
      "metadata": {
        "id": "_WTIUyF8UAIk",
        "colab": {
          "base_uri": "https://localhost:8080/",
          "height": 203
        },
        "outputId": "b512cd5e-0afa-49f7-fcc1-f5b03e243c8b"
      },
      "source": [
        "# Challenge 3\n",
        "# ---\n",
        "# Background: Par Inc., is a major manufacturer of golf equipment. Management believes that Par’s market\n",
        "# share could be increased with the introduction of a cut-resistant, longer-lasting golf ball. \n",
        "# Therefore, the research group at Par has been investigating a new golf ball coating designed \n",
        "# to resist cuts and provide a more durable ball. The tests with the coating have been promising. \n",
        "# One of the researchers voiced concern about the effect of the new coating on driving distances. \n",
        "# Par would like the new cut-resistant ball to offer driving distances comparable to those of the \n",
        "# current-model golf ball. To compare the driving distances for the two balls, \n",
        "# 40 balls of both the new and current models were subjected to distance tests. \n",
        "# The testing was performed with a mechanical hitting machine so that any difference between \n",
        "# the mean distances for the two models could be attributed to a difference in the design.\n",
        "# ---\n",
        "# Question: Determine if there is a significant differents in the current driving distances of golf balls without coating\n",
        "# and the new driving distances of golf balls with coating.\n",
        "# Dataset url = http://bit.ly/GolfDataset\n",
        "# \n",
        "# ---\n",
        "# \n",
        "df_golf=pd.read_csv('http://bit.ly/GolfDataset')\n",
        "df_golf.head()"
      ],
      "execution_count": 124,
      "outputs": [
        {
          "output_type": "execute_result",
          "data": {
            "text/html": [
              "<div>\n",
              "<style scoped>\n",
              "    .dataframe tbody tr th:only-of-type {\n",
              "        vertical-align: middle;\n",
              "    }\n",
              "\n",
              "    .dataframe tbody tr th {\n",
              "        vertical-align: top;\n",
              "    }\n",
              "\n",
              "    .dataframe thead th {\n",
              "        text-align: right;\n",
              "    }\n",
              "</style>\n",
              "<table border=\"1\" class=\"dataframe\">\n",
              "  <thead>\n",
              "    <tr style=\"text-align: right;\">\n",
              "      <th></th>\n",
              "      <th>Current</th>\n",
              "      <th>New</th>\n",
              "    </tr>\n",
              "  </thead>\n",
              "  <tbody>\n",
              "    <tr>\n",
              "      <th>0</th>\n",
              "      <td>264</td>\n",
              "      <td>277</td>\n",
              "    </tr>\n",
              "    <tr>\n",
              "      <th>1</th>\n",
              "      <td>261</td>\n",
              "      <td>269</td>\n",
              "    </tr>\n",
              "    <tr>\n",
              "      <th>2</th>\n",
              "      <td>267</td>\n",
              "      <td>263</td>\n",
              "    </tr>\n",
              "    <tr>\n",
              "      <th>3</th>\n",
              "      <td>272</td>\n",
              "      <td>266</td>\n",
              "    </tr>\n",
              "    <tr>\n",
              "      <th>4</th>\n",
              "      <td>258</td>\n",
              "      <td>262</td>\n",
              "    </tr>\n",
              "  </tbody>\n",
              "</table>\n",
              "</div>"
            ],
            "text/plain": [
              "   Current  New\n",
              "0      264  277\n",
              "1      261  269\n",
              "2      267  263\n",
              "3      272  266\n",
              "4      258  262"
            ]
          },
          "metadata": {},
          "execution_count": 124
        }
      ]
    },
    {
      "cell_type": "code",
      "metadata": {
        "colab": {
          "base_uri": "https://localhost:8080/",
          "height": 295
        },
        "id": "lRcpZe74Hxkv",
        "outputId": "2bb7e1f3-d9d5-42b5-c07e-3e5507d19703"
      },
      "source": [
        "#let us checkut the nature of our data\n",
        "df_golf.describe()"
      ],
      "execution_count": 125,
      "outputs": [
        {
          "output_type": "execute_result",
          "data": {
            "text/html": [
              "<div>\n",
              "<style scoped>\n",
              "    .dataframe tbody tr th:only-of-type {\n",
              "        vertical-align: middle;\n",
              "    }\n",
              "\n",
              "    .dataframe tbody tr th {\n",
              "        vertical-align: top;\n",
              "    }\n",
              "\n",
              "    .dataframe thead th {\n",
              "        text-align: right;\n",
              "    }\n",
              "</style>\n",
              "<table border=\"1\" class=\"dataframe\">\n",
              "  <thead>\n",
              "    <tr style=\"text-align: right;\">\n",
              "      <th></th>\n",
              "      <th>Current</th>\n",
              "      <th>New</th>\n",
              "    </tr>\n",
              "  </thead>\n",
              "  <tbody>\n",
              "    <tr>\n",
              "      <th>count</th>\n",
              "      <td>40.000000</td>\n",
              "      <td>40.000000</td>\n",
              "    </tr>\n",
              "    <tr>\n",
              "      <th>mean</th>\n",
              "      <td>270.275000</td>\n",
              "      <td>267.500000</td>\n",
              "    </tr>\n",
              "    <tr>\n",
              "      <th>std</th>\n",
              "      <td>8.752985</td>\n",
              "      <td>9.896904</td>\n",
              "    </tr>\n",
              "    <tr>\n",
              "      <th>min</th>\n",
              "      <td>255.000000</td>\n",
              "      <td>250.000000</td>\n",
              "    </tr>\n",
              "    <tr>\n",
              "      <th>25%</th>\n",
              "      <td>263.000000</td>\n",
              "      <td>262.000000</td>\n",
              "    </tr>\n",
              "    <tr>\n",
              "      <th>50%</th>\n",
              "      <td>270.000000</td>\n",
              "      <td>265.000000</td>\n",
              "    </tr>\n",
              "    <tr>\n",
              "      <th>75%</th>\n",
              "      <td>275.250000</td>\n",
              "      <td>274.500000</td>\n",
              "    </tr>\n",
              "    <tr>\n",
              "      <th>max</th>\n",
              "      <td>289.000000</td>\n",
              "      <td>289.000000</td>\n",
              "    </tr>\n",
              "  </tbody>\n",
              "</table>\n",
              "</div>"
            ],
            "text/plain": [
              "          Current         New\n",
              "count   40.000000   40.000000\n",
              "mean   270.275000  267.500000\n",
              "std      8.752985    9.896904\n",
              "min    255.000000  250.000000\n",
              "25%    263.000000  262.000000\n",
              "50%    270.000000  265.000000\n",
              "75%    275.250000  274.500000\n",
              "max    289.000000  289.000000"
            ]
          },
          "metadata": {},
          "execution_count": 125
        }
      ]
    },
    {
      "cell_type": "code",
      "metadata": {
        "colab": {
          "base_uri": "https://localhost:8080/",
          "height": 282
        },
        "id": "WXNVRl6YIBP5",
        "outputId": "f9bc10d7-08ff-4bd9-aa22-45d80f17d41e"
      },
      "source": [
        "#check out if there are any significant outliers\n",
        "df_golf.plot(kind='box')"
      ],
      "execution_count": 126,
      "outputs": [
        {
          "output_type": "execute_result",
          "data": {
            "text/plain": [
              "<matplotlib.axes._subplots.AxesSubplot at 0x7f4855571810>"
            ]
          },
          "metadata": {},
          "execution_count": 126
        },
        {
          "output_type": "display_data",
          "data": {
            "image/png": "[encoded data removed]",
            "text/plain": [
              "<Figure size 432x288 with 1 Axes>"
            ]
          },
          "metadata": {
            "needs_background": "light"
          }
        }
      ]
    },
    {
      "cell_type": "code",
      "metadata": {
        "id": "_K7i05GzIK-5"
      },
      "source": [
        "#create a variable for the difference in bp, before and after\n",
        "df_golf['diff']=df_golf['New']-df_golf['Current']"
      ],
      "execution_count": 127,
      "outputs": []
    },
    {
      "cell_type": "code",
      "metadata": {
        "colab": {
          "base_uri": "https://localhost:8080/",
          "height": 312
        },
        "id": "uLjJzHPQIgtL",
        "outputId": "5639eba8-5f9c-4fce-b505-b3d7d85792c9"
      },
      "source": [
        "#check for normality of the bp difference variable using a Q-Q plot\n",
        "stats.probplot(df_golf['diff'], plot= plt)\n",
        "plt.title('Distance Difference Q-Q Plot')"
      ],
      "execution_count": 128,
      "outputs": [
        {
          "output_type": "execute_result",
          "data": {
            "text/plain": [
              "Text(0.5, 1.0, 'Distance Difference Q-Q Plot')"
            ]
          },
          "metadata": {},
          "execution_count": 128
        },
        {
          "output_type": "display_data",
          "data": {
            "image/png": "[encoded data removed]",
            "text/plain": [
              "<Figure size 432x288 with 1 Axes>"
            ]
          },
          "metadata": {
            "needs_background": "light"
          }
        }
      ]
    },
    {
      "cell_type": "code",
      "metadata": {
        "colab": {
          "base_uri": "https://localhost:8080/"
        },
        "id": "cwQw9wUvIyT6",
        "outputId": "90e505a3-969d-4466-cfc2-4a79d922b722"
      },
      "source": [
        "#let us test for normality using the shapiro-Wilk's test\n",
        "stats.shapiro(df_golf['diff'])"
      ],
      "execution_count": 129,
      "outputs": [
        {
          "output_type": "execute_result",
          "data": {
            "text/plain": [
              "(0.983582615852356, 0.8185833692550659)"
            ]
          },
          "metadata": {},
          "execution_count": 129
        }
      ]
    },
    {
      "cell_type": "code",
      "metadata": {
        "colab": {
          "base_uri": "https://localhost:8080/"
        },
        "id": "tWfWMlTiJCgo",
        "outputId": "e42f5031-85ac-448e-adc2-702c2353a815"
      },
      "source": [
        "#from the shapiro-wilk's test, we can see that the test is not significant, thus implying normality\n",
        "#finally we do the dependent t test\n",
        "stats.ttest_rel(df_golf['Current'], df_golf['New'])"
      ],
      "execution_count": 130,
      "outputs": [
        {
          "output_type": "execute_result",
          "data": {
            "text/plain": [
              "Ttest_relResult(statistic=1.2769699827911767, pvalue=0.20916361823147053)"
            ]
          },
          "metadata": {},
          "execution_count": 130
        }
      ]
    },
    {
      "cell_type": "code",
      "metadata": {
        "id": "PMBN_9jeJbsO"
      },
      "source": [
        "#from the above, the difference is not significant and hence we upload the null hypothesis i.e There is no difference in the driving distance\n",
        "#between the two balls."
      ],
      "execution_count": 131,
      "outputs": []
    }
  ]
}