{
  "nbformat": 4,
  "nbformat_minor": 0,
  "metadata": {
    "colab": {
      "name": "Copy of Python Programming: Simple Random Sampling",
      "provenance": [],
      "collapsed_sections": [
        "s0-xi8v6eATI",
        "c2SS_SWaQXE2",
        "cSWmgSy3SV5D",
        "RcV5DlN5R2uh",
        "PA5HaWPvTALQ",
        "BeUYGvGhTsm1",
        "bNWFLKL-gRTO",
        "kV0dRO0nUJzL",
        "0gGIBBpggZT2",
        "DwOtPvA3UnHf",
        "LZgY26bsgfJv",
        "-22NquhoWF7l",
        "8QVs13BcYJpm"
      ],
      "toc_visible": true,
      "include_colab_link": true
    },
    "kernelspec": {
      "name": "python3",
      "display_name": "Python 3"
    }
  },
  "cells": [
    {
      "cell_type": "markdown",
      "metadata": {
        "id": "view-in-github",
        "colab_type": "text"
      },
      "source": [
        "<a href=\"https://colab.research.google.com/github/kahuroA/Descriptive-Statistics-Excercises/blob/main/Copy_of_Python_Programming_Simple_Random_Sampling.ipynb\" target=\"_parent\"><img src=\"https://colab.research.google.com/assets/colab-badge.svg\" alt=\"Open In Colab\"/></a>"
      ]
    },
    {
      "cell_type": "markdown",
      "metadata": {
        "id": "YutBgvuBdPHi"
      },
      "source": [
        "<font color=\"green\">To start working on this notebook, or any other notebook that we will use in the Moringa Data Science Course, we will need to save our own copy of it. We can do this by clicking File > Save a Copy in Drive. We will then be able to make edits to our own copy of this notebook.</font>"
      ]
    },
    {
      "cell_type": "markdown",
      "metadata": {
        "id": "5zn7dG78QUoE"
      },
      "source": [
        "# Python Programming:  Simple Random Sampling\n"
      ]
    },
    {
      "cell_type": "markdown",
      "metadata": {
        "id": "s0-xi8v6eATI"
      },
      "source": [
        "## Importing our Libraries"
      ]
    },
    {
      "cell_type": "code",
      "metadata": {
        "id": "suQkBJ4BTRWv"
      },
      "source": [
        "# importing numpy\n",
        "import numpy as np\n",
        "\n",
        "# importing pandas\n",
        "import pandas as pd\n",
        "\n",
        "# importing random module\n",
        "# we will use random.sample() function to return a k length \n",
        "# list of unique elements chosen from our population\n",
        "import random"
      ],
      "execution_count": 1,
      "outputs": []
    },
    {
      "cell_type": "markdown",
      "metadata": {
        "id": "c2SS_SWaQXE2"
      },
      "source": [
        "## 1.0 Selecting More than One item from a List"
      ]
    },
    {
      "cell_type": "code",
      "metadata": {
        "id": "ttRODtArQMVS",
        "colab": {
          "base_uri": "https://localhost:8080/"
        },
        "outputId": "10423400-f5a4-49ae-ff64-7243aec5500a"
      },
      "source": [
        "# Example 1\n",
        "# ---\n",
        "# Selecting more than one item from a list \n",
        "# ---\n",
        "#\n",
        "\n",
        "list = [20, 40, 80, 100, 120]\n",
        "print (\"Choosing 3 random items from a list using sample function\", random.sample(list, k=3))\n",
        "\n",
        "list = [20, 40, 20, 20, 20]\n",
        "print (\"Choosing 3 random items from a list using sample function\",random.sample(list, k=3))\n",
        "\n",
        "# As you can see we pass k=3 to choose 3 random elements from a list. \n",
        "# In return, we got a list of 3 random items."
      ],
      "execution_count": 2,
      "outputs": [
        {
          "output_type": "stream",
          "name": "stdout",
          "text": [
            "Choosing 3 random items from a list using sample function [20, 80, 100]\n",
            "Choosing 3 random items from a list using sample function [40, 20, 20]\n"
          ]
        }
      ]
    },
    {
      "cell_type": "markdown",
      "metadata": {
        "id": "cSWmgSy3SV5D"
      },
      "source": [
        "### <font color=\"green\"> 1.0 Challenges</font>"
      ]
    },
    {
      "cell_type": "code",
      "metadata": {
        "id": "Ga8D2XvfRFaP",
        "colab": {
          "base_uri": "https://localhost:8080/"
        },
        "outputId": "b194eccd-b1da-4511-c7e2-8fcef94ecaf7"
      },
      "source": [
        "# Challenge 1\n",
        "# ---\n",
        "# Question: Create a list containing 10 counties in Kenya \n",
        "# then select 2 random counties from the list.\n",
        "# ---\n",
        "# \n",
        "counties=['Kiambu','Nairobi','Uasin Gishu', 'Mombasa', 'Nakuru','Machakos', 'Kitui', 'Muranga', 'Nyeri', 'Turkana']\n",
        "random.sample(counties, k=2)"
      ],
      "execution_count": 3,
      "outputs": [
        {
          "output_type": "execute_result",
          "data": {
            "text/plain": [
              "['Nyeri', 'Uasin Gishu']"
            ]
          },
          "metadata": {},
          "execution_count": 3
        }
      ]
    },
    {
      "cell_type": "markdown",
      "metadata": {
        "id": "RcV5DlN5R2uh"
      },
      "source": [
        "## 2.0  Selecting the Random Sample from Dictionary"
      ]
    },
    {
      "cell_type": "code",
      "metadata": {
        "id": "yerkTFAPSIlT",
        "colab": {
          "base_uri": "https://localhost:8080/"
        },
        "outputId": "e1d4d873-3ed7-4fd2-e89d-392914a24305"
      },
      "source": [
        "# Example 1\n",
        "# ---\n",
        "# We can select a random key-value pair from the dictionary as shown \n",
        "# ---\n",
        "#\n",
        "marks_dict = {\n",
        "  \"Kelly\": 55,\n",
        "  \"jhon\": 70,\n",
        "  \"Donald\": 60,\n",
        "  \"Lennin\" :50\n",
        "}\n",
        "\n",
        "print (\"Choosing 2 random items from a dictionary using sample method \", random.sample(marks_dict.items(), k=2))"
      ],
      "execution_count": 4,
      "outputs": [
        {
          "output_type": "stream",
          "name": "stdout",
          "text": [
            "Choosing 2 random items from a dictionary using sample method  [('Donald', 60), ('jhon', 70)]\n"
          ]
        }
      ]
    },
    {
      "cell_type": "markdown",
      "metadata": {
        "id": "PA5HaWPvTALQ"
      },
      "source": [
        "### <font color=\"green\">2.0 Challenges</font>"
      ]
    },
    {
      "cell_type": "code",
      "metadata": {
        "id": "GZimMc1TSSGU",
        "colab": {
          "base_uri": "https://localhost:8080/"
        },
        "outputId": "2d70e5fb-f9bd-441b-9c5f-a0307857abc4"
      },
      "source": [
        "# Challenge 1\n",
        "# ---\n",
        "# A caterer offers three different food packages; \n",
        "# bronze package: starch:rice stew:chicken curry vegetable:cabbages desert:melon\n",
        "# silver package: starch:rice and chappati  stew:beef curry vegetable:spinach desert:melon and bananas\n",
        "# gold package: starch:rice, chappati and mukimo stew: beef curry vegetable:spinach and managu desert: tart\n",
        "# Create a dictionary that stores the above information and select a sample of size 2 \n",
        "# ---\n",
        "#\n",
        "package={'bronze package':{'starch':'rice', 'stew':'chicken curry', 'vegetable':'cabbages', 'desert':'melon'}, 'silver package':{'starch':'rice and chapati', \n",
        "                                                                                                                                 'stew':'beef curry', 'vegetable':'spinach', 'desert':'melon and bananas'},\n",
        "         'gold package':{'starch':'rice, chappati and mukimo', 'stew':'beef curry', 'vegetable':'spinach and managu', 'desert':'tart'}}\n",
        "random.sample(package.items(), k=2)"
      ],
      "execution_count": 5,
      "outputs": [
        {
          "output_type": "execute_result",
          "data": {
            "text/plain": [
              "[('gold package',\n",
              "  {'desert': 'tart',\n",
              "   'starch': 'rice, chappati and mukimo',\n",
              "   'stew': 'beef curry',\n",
              "   'vegetable': 'spinach and managu'}),\n",
              " ('silver package',\n",
              "  {'desert': 'melon and bananas',\n",
              "   'starch': 'rice and chapati',\n",
              "   'stew': 'beef curry',\n",
              "   'vegetable': 'spinach'})]"
            ]
          },
          "metadata": {},
          "execution_count": 5
        }
      ]
    },
    {
      "cell_type": "markdown",
      "metadata": {
        "id": "BeUYGvGhTsm1"
      },
      "source": [
        "## 3.0 Selecting a Random Sample with Replacement to including repetition\n"
      ]
    },
    {
      "cell_type": "code",
      "metadata": {
        "id": "9lDLmuqyT0DH",
        "colab": {
          "base_uri": "https://localhost:8080/"
        },
        "outputId": "4bf122ae-8f87-4286-ff0f-2fb2222a74ac"
      },
      "source": [
        "# Example 1\n",
        "# ---\n",
        "# We can select a random sample with replacement to include repetition as shown below\n",
        "# ---\n",
        "# \n",
        "names = [\"Roger\", \"Nadal\", \"Novac\", \"Andre\", \"Sarena\", \"Mariya\", \"Martina\"]\n",
        "\n",
        "print(\"random sample with replacement to including repetition \", random.choices(names, k=3))"
      ],
      "execution_count": 6,
      "outputs": [
        {
          "output_type": "stream",
          "name": "stdout",
          "text": [
            "random sample with replacement to including repetition  ['Sarena', 'Mariya', 'Novac']\n"
          ]
        }
      ]
    },
    {
      "cell_type": "markdown",
      "metadata": {
        "id": "bNWFLKL-gRTO"
      },
      "source": [
        "### <font color=\"green\">3.0 Challenges</font>"
      ]
    },
    {
      "cell_type": "code",
      "metadata": {
        "id": "OYjj3osOUCC3",
        "colab": {
          "base_uri": "https://localhost:8080/"
        },
        "outputId": "5f353a3f-bea1-48f3-bb02-08a24891e1fd"
      },
      "source": [
        "# Challenge 1\n",
        "# ---\n",
        "# Question: Select a random sample of 3 with replacement to include replacement from the \n",
        "# following list of months\n",
        "# ---\n",
        "#\n",
        "\n",
        "months = ['January', 'February', 'March', 'April', 'May', 'June', 'July',\n",
        "          'August', 'September', 'October', 'November', 'December']\n",
        "\n",
        "random.choices(months, k=3)"
      ],
      "execution_count": 7,
      "outputs": [
        {
          "output_type": "execute_result",
          "data": {
            "text/plain": [
              "['April', 'May', 'December']"
            ]
          },
          "metadata": {},
          "execution_count": 7
        }
      ]
    },
    {
      "cell_type": "markdown",
      "metadata": {
        "id": "kV0dRO0nUJzL"
      },
      "source": [
        "## 4.0 Selecting a Random Sample from a Range of Integers"
      ]
    },
    {
      "cell_type": "code",
      "metadata": {
        "id": "HBqhmibxUIgt",
        "colab": {
          "base_uri": "https://localhost:8080/"
        },
        "outputId": "3f1847d6-4fd2-4cfb-fe52-a70f26f8b604"
      },
      "source": [
        "# Example 1\n",
        "# ---\n",
        "# We can select a random sample from a range of integers as shown below\n",
        "# ---\n",
        "# \n",
        "\n",
        "weight_set = {40, 50, 55, 65, 75, 80}\n",
        "\n",
        "print (\"Choosing 4 random items from a set \", random.sample(weight_set, k=4))"
      ],
      "execution_count": 8,
      "outputs": [
        {
          "output_type": "stream",
          "name": "stdout",
          "text": [
            "Choosing 4 random items from a set  [40, 75, 50, 55]\n"
          ]
        }
      ]
    },
    {
      "cell_type": "markdown",
      "metadata": {
        "id": "0gGIBBpggZT2"
      },
      "source": [
        "### <font color=\"green\">4.1 Challenges</font>"
      ]
    },
    {
      "cell_type": "code",
      "metadata": {
        "id": "IIAkil2VUjuI",
        "colab": {
          "base_uri": "https://localhost:8080/"
        },
        "outputId": "248f2338-54d0-4a03-9ba2-c63585c17bb9"
      },
      "source": [
        "# Challenge 1\n",
        "# ---\n",
        "# Question: Select a random sample from a range of integers as shown below\n",
        "# --- \n",
        "# \n",
        "weight_set = {4, 5, 6, 7, 8, 9, 10}\n",
        "\n",
        "random.sample(weight_set, k=4)"
      ],
      "execution_count": 9,
      "outputs": [
        {
          "output_type": "execute_result",
          "data": {
            "text/plain": [
              "[4, 9, 7, 10]"
            ]
          },
          "metadata": {},
          "execution_count": 9
        }
      ]
    },
    {
      "cell_type": "markdown",
      "metadata": {
        "id": "DwOtPvA3UnHf"
      },
      "source": [
        "## 5.0 Selecting a Sample Array from a Large multidimensional Array\n",
        "\n"
      ]
    },
    {
      "cell_type": "code",
      "metadata": {
        "id": "RxtsWbUtU2cW",
        "colab": {
          "base_uri": "https://localhost:8080/"
        },
        "outputId": "c8707082-4934-43ac-baba-67d2c1d13cf8"
      },
      "source": [
        "# Example 1\n",
        "# ---\n",
        "# We can select a sample array from a large multidimensional array as shown\n",
        "# ---\n",
        "# \n",
        "\n",
        "array = np.array([[2 ,4, 6], [5, 10, 15], [6, 12, 18], [7, 14, 21], [8, 16, 24]]) \n",
        "print(\"Printing 2D Array\")\n",
        "print(array)\n",
        "\n",
        "# selecting multiple random rows from the 2D as shown\n",
        "print(\"Selecting multiple random rows from the 2D array\")\n",
        "randomRows = np.random.randint(5, size=2)\n",
        "for i in randomRows:\n",
        "  print(array[i,:])"
      ],
      "execution_count": 10,
      "outputs": [
        {
          "output_type": "stream",
          "name": "stdout",
          "text": [
            "Printing 2D Array\n",
            "[[ 2  4  6]\n",
            " [ 5 10 15]\n",
            " [ 6 12 18]\n",
            " [ 7 14 21]\n",
            " [ 8 16 24]]\n",
            "Selecting multiple random rows from the 2D array\n",
            "[2 4 6]\n",
            "[ 6 12 18]\n"
          ]
        }
      ]
    },
    {
      "cell_type": "markdown",
      "metadata": {
        "id": "LZgY26bsgfJv"
      },
      "source": [
        "### <font color=\"green\">5.0 Challenges</font>"
      ]
    },
    {
      "cell_type": "code",
      "metadata": {
        "id": "mJt1ePbSVR9j",
        "colab": {
          "base_uri": "https://localhost:8080/"
        },
        "outputId": "edaf1d63-992e-4be6-c304-20719b5f6920"
      },
      "source": [
        "# Challenge 1\n",
        "# ---\n",
        "# Question: Select two arrays from the given multidimensional array\n",
        "# ---\n",
        "# \n",
        "\n",
        "a = [[2, 4, 6, 8, 10], [3, 6, 9, 12, 15], [4, 8, 12, 16, 20], [1 ,2 , 4, 5, 6], [5, 10, 15, 20, 25], [6, 12, 18, 24, 30], [7, 14, 21, 28, 35]]  \n",
        "randomRows = np.random.randint(6, size=2)\n",
        "for i in randomRows:\n",
        "  print(a[i])\n"
      ],
      "execution_count": 19,
      "outputs": [
        {
          "output_type": "stream",
          "name": "stdout",
          "text": [
            "[1, 2, 4, 5, 6]\n",
            "[4, 8, 12, 16, 20]\n"
          ]
        }
      ]
    },
    {
      "cell_type": "code",
      "metadata": {
        "colab": {
          "base_uri": "https://localhost:8080/"
        },
        "id": "hpKeESbDS5xh",
        "outputId": "19a24eeb-381e-48d0-b4e5-3b86ac74bc7b"
      },
      "source": [
        "randomRows.tolist()"
      ],
      "execution_count": 16,
      "outputs": [
        {
          "output_type": "execute_result",
          "data": {
            "text/plain": [
              "[3, 1]"
            ]
          },
          "metadata": {},
          "execution_count": 16
        }
      ]
    },
    {
      "cell_type": "markdown",
      "metadata": {
        "id": "-22NquhoWF7l"
      },
      "source": [
        "## 6.0 Selecting Random Samples from a Dataset"
      ]
    },
    {
      "cell_type": "code",
      "metadata": {
        "id": "gimbl5z3Waat",
        "colab": {
          "base_uri": "https://localhost:8080/"
        },
        "outputId": "bf3de24f-308e-4f72-ae44-ec9070ea382f"
      },
      "source": [
        "# Example 1\n",
        "# ---\n",
        "# Selecting a random sample from the following medical appointments dataset\n",
        "# ---\n",
        "# Dataset url = http://bit.ly/MedicalAppointmentsDataset\n",
        "# ---\n",
        "# \n",
        "\n",
        "# Loading the dataset\n",
        "medical_df = pd.read_csv(\"http://bit.ly/MedicalAppointmentsDataset\")\n",
        "\n",
        "# Determining the size\n",
        "print(medical_df.shape)\n",
        "\n",
        "\n",
        "# Previewing the dataset\n",
        "print(medical_df.head())\n",
        "\n",
        "# Selecting the sample \n",
        "medical_sample = medical_df.sample(n = 10, replace=\"False\")\n",
        "print(medical_sample)"
      ],
      "execution_count": 20,
      "outputs": [
        {
          "output_type": "stream",
          "name": "stdout",
          "text": [
            "(110527, 14)\n",
            "      PatientId  AppointmentID Gender  ... Handcap SMS_received  No-show\n",
            "0  2.987250e+13        5642903      F  ...       0            0       No\n",
            "1  5.589978e+14        5642503      M  ...       0            0       No\n",
            "2  4.262962e+12        5642549      F  ...       0            0       No\n",
            "3  8.679512e+11        5642828      F  ...       0            0       No\n",
            "4  8.841186e+12        5642494      F  ...       0            0       No\n",
            "\n",
            "[5 rows x 14 columns]\n",
            "          PatientId  AppointmentID Gender  ... Handcap SMS_received  No-show\n",
            "62811  9.598223e+12        5681834      F  ...       0            0       No\n",
            "53332  9.839922e+13        5747970      F  ...       0            0       No\n",
            "70272  4.765496e+12        5653822      F  ...       0            0       No\n",
            "50983  6.529696e+12        5676634      F  ...       0            0       No\n",
            "96374  6.193517e+13        5663484      M  ...       0            1       No\n",
            "21531  4.694222e+13        5734718      F  ...       0            1       No\n",
            "23023  3.273318e+12        5665373      M  ...       0            0       No\n",
            "84974  4.567163e+13        5737420      F  ...       0            1       No\n",
            "64996  6.214772e+13        5685392      F  ...       0            0       No\n",
            "5072   3.712224e+12        5728923      F  ...       0            1       No\n",
            "\n",
            "[10 rows x 14 columns]\n"
          ]
        }
      ]
    },
    {
      "cell_type": "markdown",
      "metadata": {
        "id": "8QVs13BcYJpm"
      },
      "source": [
        "### <font color=\"green\">6.0 Challenges </font>"
      ]
    },
    {
      "cell_type": "code",
      "metadata": {
        "id": "VZEi6JOnXJNt",
        "colab": {
          "base_uri": "https://localhost:8080/",
          "height": 214
        },
        "outputId": "312ea183-fe55-47d8-e781-2af0f04faf81"
      },
      "source": [
        "# Challenge 1\n",
        "# ---\n",
        "# Select a random sample of 10 from the given dataset below \n",
        "# ---\n",
        "# Dataset url = http://bit.ly/DSRussianInvestigation\n",
        "# ---\n",
        "#\n",
        "russian_df=pd.read_csv('http://bit.ly/DSRussianInvestigation')\n",
        "russian_df.head(2)"
      ],
      "execution_count": 22,
      "outputs": [
        {
          "output_type": "execute_result",
          "data": {
            "text/html": [
              "<div>\n",
              "<style scoped>\n",
              "    .dataframe tbody tr th:only-of-type {\n",
              "        vertical-align: middle;\n",
              "    }\n",
              "\n",
              "    .dataframe tbody tr th {\n",
              "        vertical-align: top;\n",
              "    }\n",
              "\n",
              "    .dataframe thead th {\n",
              "        text-align: right;\n",
              "    }\n",
              "</style>\n",
              "<table border=\"1\" class=\"dataframe\">\n",
              "  <thead>\n",
              "    <tr style=\"text-align: right;\">\n",
              "      <th></th>\n",
              "      <th>investigation</th>\n",
              "      <th>investigation-start</th>\n",
              "      <th>investigation-end</th>\n",
              "      <th>investigation-days</th>\n",
              "      <th>name</th>\n",
              "      <th>indictment-days</th>\n",
              "      <th>type</th>\n",
              "      <th>cp-date</th>\n",
              "      <th>cp-days</th>\n",
              "      <th>overturned</th>\n",
              "      <th>pardoned</th>\n",
              "      <th>american</th>\n",
              "      <th>president</th>\n",
              "    </tr>\n",
              "  </thead>\n",
              "  <tbody>\n",
              "    <tr>\n",
              "      <th>0</th>\n",
              "      <td>watergate</td>\n",
              "      <td>1973-05-19</td>\n",
              "      <td>1977-06-19</td>\n",
              "      <td>1492</td>\n",
              "      <td>James W. McCord</td>\n",
              "      <td>-246.0</td>\n",
              "      <td>conviction</td>\n",
              "      <td>1973-01-30</td>\n",
              "      <td>-109.0</td>\n",
              "      <td>False</td>\n",
              "      <td>False</td>\n",
              "      <td>True</td>\n",
              "      <td>Richard Nixon</td>\n",
              "    </tr>\n",
              "    <tr>\n",
              "      <th>1</th>\n",
              "      <td>watergate</td>\n",
              "      <td>1973-05-19</td>\n",
              "      <td>1977-06-19</td>\n",
              "      <td>1492</td>\n",
              "      <td>Bernard L. Barker</td>\n",
              "      <td>-246.0</td>\n",
              "      <td>conviction</td>\n",
              "      <td>1973-01-15</td>\n",
              "      <td>-124.0</td>\n",
              "      <td>False</td>\n",
              "      <td>False</td>\n",
              "      <td>True</td>\n",
              "      <td>Richard Nixon</td>\n",
              "    </tr>\n",
              "  </tbody>\n",
              "</table>\n",
              "</div>"
            ],
            "text/plain": [
              "  investigation investigation-start  ... american      president\n",
              "0     watergate          1973-05-19  ...     True  Richard Nixon\n",
              "1     watergate          1973-05-19  ...     True  Richard Nixon\n",
              "\n",
              "[2 rows x 13 columns]"
            ]
          },
          "metadata": {},
          "execution_count": 22
        }
      ]
    },
    {
      "cell_type": "code",
      "metadata": {
        "colab": {
          "base_uri": "https://localhost:8080/",
          "height": 562
        },
        "id": "1XvBes2uUlyi",
        "outputId": "f1367168-98b8-4de5-ce2e-fb0f436d30be"
      },
      "source": [
        "russian_df.sample(n=10, replace=False)"
      ],
      "execution_count": 24,
      "outputs": [
        {
          "output_type": "execute_result",
          "data": {
            "text/html": [
              "<div>\n",
              "<style scoped>\n",
              "    .dataframe tbody tr th:only-of-type {\n",
              "        vertical-align: middle;\n",
              "    }\n",
              "\n",
              "    .dataframe tbody tr th {\n",
              "        vertical-align: top;\n",
              "    }\n",
              "\n",
              "    .dataframe thead th {\n",
              "        text-align: right;\n",
              "    }\n",
              "</style>\n",
              "<table border=\"1\" class=\"dataframe\">\n",
              "  <thead>\n",
              "    <tr style=\"text-align: right;\">\n",
              "      <th></th>\n",
              "      <th>investigation</th>\n",
              "      <th>investigation-start</th>\n",
              "      <th>investigation-end</th>\n",
              "      <th>investigation-days</th>\n",
              "      <th>name</th>\n",
              "      <th>indictment-days</th>\n",
              "      <th>type</th>\n",
              "      <th>cp-date</th>\n",
              "      <th>cp-days</th>\n",
              "      <th>overturned</th>\n",
              "      <th>pardoned</th>\n",
              "      <th>american</th>\n",
              "      <th>president</th>\n",
              "    </tr>\n",
              "  </thead>\n",
              "  <tbody>\n",
              "    <tr>\n",
              "      <th>83</th>\n",
              "      <td>iran-contra</td>\n",
              "      <td>1986-12-19</td>\n",
              "      <td>1993-08-03</td>\n",
              "      <td>2419</td>\n",
              "      <td>John Poindexter</td>\n",
              "      <td>453.0</td>\n",
              "      <td>conviction</td>\n",
              "      <td>1990-04-07</td>\n",
              "      <td>1205.0</td>\n",
              "      <td>True</td>\n",
              "      <td>False</td>\n",
              "      <td>True</td>\n",
              "      <td>Ronald Reagan</td>\n",
              "    </tr>\n",
              "    <tr>\n",
              "      <th>184</th>\n",
              "      <td>russia</td>\n",
              "      <td>2017-05-17</td>\n",
              "      <td>NaN</td>\n",
              "      <td>659</td>\n",
              "      <td>Russian national 18</td>\n",
              "      <td>422.0</td>\n",
              "      <td>indictment</td>\n",
              "      <td>NaN</td>\n",
              "      <td>NaN</td>\n",
              "      <td>False</td>\n",
              "      <td>False</td>\n",
              "      <td>False</td>\n",
              "      <td>Donald Trump</td>\n",
              "    </tr>\n",
              "    <tr>\n",
              "      <th>66</th>\n",
              "      <td>watergate</td>\n",
              "      <td>1973-05-19</td>\n",
              "      <td>1977-06-19</td>\n",
              "      <td>1492</td>\n",
              "      <td>Frank DeMarco</td>\n",
              "      <td>641.0</td>\n",
              "      <td>indictment</td>\n",
              "      <td>NaN</td>\n",
              "      <td>NaN</td>\n",
              "      <td>False</td>\n",
              "      <td>False</td>\n",
              "      <td>True</td>\n",
              "      <td>Richard Nixon</td>\n",
              "    </tr>\n",
              "    <tr>\n",
              "      <th>85</th>\n",
              "      <td>iran-contra</td>\n",
              "      <td>1986-12-19</td>\n",
              "      <td>1993-08-03</td>\n",
              "      <td>2419</td>\n",
              "      <td>Albert Hakim</td>\n",
              "      <td>453.0</td>\n",
              "      <td>guilty-plea</td>\n",
              "      <td>1989-11-21</td>\n",
              "      <td>1068.0</td>\n",
              "      <td>False</td>\n",
              "      <td>False</td>\n",
              "      <td>True</td>\n",
              "      <td>Ronald Reagan</td>\n",
              "    </tr>\n",
              "    <tr>\n",
              "      <th>17</th>\n",
              "      <td>watergate</td>\n",
              "      <td>1973-05-19</td>\n",
              "      <td>1977-06-19</td>\n",
              "      <td>1492</td>\n",
              "      <td>Frederick LaRue</td>\n",
              "      <td>39.0</td>\n",
              "      <td>guilty-plea</td>\n",
              "      <td>1973-06-28</td>\n",
              "      <td>40.0</td>\n",
              "      <td>False</td>\n",
              "      <td>False</td>\n",
              "      <td>True</td>\n",
              "      <td>Richard Nixon</td>\n",
              "    </tr>\n",
              "    <tr>\n",
              "      <th>72</th>\n",
              "      <td>hamilton-jordan</td>\n",
              "      <td>1979-11-29</td>\n",
              "      <td>1980-05-28</td>\n",
              "      <td>181</td>\n",
              "      <td>NaN</td>\n",
              "      <td>NaN</td>\n",
              "      <td>NaN</td>\n",
              "      <td>NaN</td>\n",
              "      <td>NaN</td>\n",
              "      <td>False</td>\n",
              "      <td>False</td>\n",
              "      <td>True</td>\n",
              "      <td>Jimmy Carter</td>\n",
              "    </tr>\n",
              "    <tr>\n",
              "      <th>9</th>\n",
              "      <td>watergate</td>\n",
              "      <td>1973-05-19</td>\n",
              "      <td>1977-06-19</td>\n",
              "      <td>1492</td>\n",
              "      <td>E. Howard Hunt</td>\n",
              "      <td>-246.0</td>\n",
              "      <td>guilty-plea</td>\n",
              "      <td>1973-01-11</td>\n",
              "      <td>-128.0</td>\n",
              "      <td>False</td>\n",
              "      <td>False</td>\n",
              "      <td>True</td>\n",
              "      <td>Richard Nixon</td>\n",
              "    </tr>\n",
              "    <tr>\n",
              "      <th>181</th>\n",
              "      <td>russia</td>\n",
              "      <td>2017-05-17</td>\n",
              "      <td>NaN</td>\n",
              "      <td>659</td>\n",
              "      <td>Russian national 15</td>\n",
              "      <td>422.0</td>\n",
              "      <td>indictment</td>\n",
              "      <td>NaN</td>\n",
              "      <td>NaN</td>\n",
              "      <td>False</td>\n",
              "      <td>False</td>\n",
              "      <td>False</td>\n",
              "      <td>Donald Trump</td>\n",
              "    </tr>\n",
              "    <tr>\n",
              "      <th>160</th>\n",
              "      <td>russia</td>\n",
              "      <td>2017-05-17</td>\n",
              "      <td>NaN</td>\n",
              "      <td>659</td>\n",
              "      <td>George Papadopolous</td>\n",
              "      <td>141.0</td>\n",
              "      <td>guilty-plea</td>\n",
              "      <td>2017-10-05</td>\n",
              "      <td>141.0</td>\n",
              "      <td>False</td>\n",
              "      <td>False</td>\n",
              "      <td>True</td>\n",
              "      <td>Donald Trump</td>\n",
              "    </tr>\n",
              "    <tr>\n",
              "      <th>157</th>\n",
              "      <td>herman</td>\n",
              "      <td>1998-05-26</td>\n",
              "      <td>2000-04-07</td>\n",
              "      <td>682</td>\n",
              "      <td>Abdul Rahman</td>\n",
              "      <td>631.0</td>\n",
              "      <td>indictment</td>\n",
              "      <td>NaN</td>\n",
              "      <td>NaN</td>\n",
              "      <td>False</td>\n",
              "      <td>False</td>\n",
              "      <td>False</td>\n",
              "      <td>Bill Clinton</td>\n",
              "    </tr>\n",
              "  </tbody>\n",
              "</table>\n",
              "</div>"
            ],
            "text/plain": [
              "       investigation investigation-start  ... american      president\n",
              "83       iran-contra          1986-12-19  ...     True  Ronald Reagan\n",
              "184           russia          2017-05-17  ...    False   Donald Trump\n",
              "66         watergate          1973-05-19  ...     True  Richard Nixon\n",
              "85       iran-contra          1986-12-19  ...     True  Ronald Reagan\n",
              "17         watergate          1973-05-19  ...     True  Richard Nixon\n",
              "72   hamilton-jordan          1979-11-29  ...     True   Jimmy Carter\n",
              "9          watergate          1973-05-19  ...     True  Richard Nixon\n",
              "181           russia          2017-05-17  ...    False   Donald Trump\n",
              "160           russia          2017-05-17  ...     True   Donald Trump\n",
              "157           herman          1998-05-26  ...    False   Bill Clinton\n",
              "\n",
              "[10 rows x 13 columns]"
            ]
          },
          "metadata": {},
          "execution_count": 24
        }
      ]
    },
    {
      "cell_type": "code",
      "metadata": {
        "id": "WZgm88i7YTRf",
        "colab": {
          "base_uri": "https://localhost:8080/",
          "height": 324
        },
        "outputId": "42579371-1309-4899-dfca-6f5661d0b7fb"
      },
      "source": [
        "# Challenge 2\n",
        "# ---\n",
        "# A medical company would like to follow up with 50 patients who never showed up for appointments \n",
        "# but received an sms. Select a random sample from such patients given the medical dataset below \n",
        "# ---\n",
        "# Dataset url = http://bit.ly/MedicalAppointmentsDataset\n",
        "# ---\n",
        "#\n",
        "df_med=pd.read_csv('http://bit.ly/MedicalAppointmentsDataset')\n",
        "df_med.head()"
      ],
      "execution_count": 25,
      "outputs": [
        {
          "output_type": "execute_result",
          "data": {
            "text/html": [
              "<div>\n",
              "<style scoped>\n",
              "    .dataframe tbody tr th:only-of-type {\n",
              "        vertical-align: middle;\n",
              "    }\n",
              "\n",
              "    .dataframe tbody tr th {\n",
              "        vertical-align: top;\n",
              "    }\n",
              "\n",
              "    .dataframe thead th {\n",
              "        text-align: right;\n",
              "    }\n",
              "</style>\n",
              "<table border=\"1\" class=\"dataframe\">\n",
              "  <thead>\n",
              "    <tr style=\"text-align: right;\">\n",
              "      <th></th>\n",
              "      <th>PatientId</th>\n",
              "      <th>AppointmentID</th>\n",
              "      <th>Gender</th>\n",
              "      <th>ScheduledDay</th>\n",
              "      <th>AppointmentDay</th>\n",
              "      <th>Age</th>\n",
              "      <th>Neighbourhood</th>\n",
              "      <th>Scholarship</th>\n",
              "      <th>Hipertension</th>\n",
              "      <th>Diabetes</th>\n",
              "      <th>Alcoholism</th>\n",
              "      <th>Handcap</th>\n",
              "      <th>SMS_received</th>\n",
              "      <th>No-show</th>\n",
              "    </tr>\n",
              "  </thead>\n",
              "  <tbody>\n",
              "    <tr>\n",
              "      <th>0</th>\n",
              "      <td>2.987250e+13</td>\n",
              "      <td>5642903</td>\n",
              "      <td>F</td>\n",
              "      <td>2016-04-29T18:38:08Z</td>\n",
              "      <td>2016-04-29T00:00:00Z</td>\n",
              "      <td>62</td>\n",
              "      <td>JARDIM DA PENHA</td>\n",
              "      <td>0</td>\n",
              "      <td>1</td>\n",
              "      <td>0</td>\n",
              "      <td>0</td>\n",
              "      <td>0</td>\n",
              "      <td>0</td>\n",
              "      <td>No</td>\n",
              "    </tr>\n",
              "    <tr>\n",
              "      <th>1</th>\n",
              "      <td>5.589978e+14</td>\n",
              "      <td>5642503</td>\n",
              "      <td>M</td>\n",
              "      <td>2016-04-29T16:08:27Z</td>\n",
              "      <td>2016-04-29T00:00:00Z</td>\n",
              "      <td>56</td>\n",
              "      <td>JARDIM DA PENHA</td>\n",
              "      <td>0</td>\n",
              "      <td>0</td>\n",
              "      <td>0</td>\n",
              "      <td>0</td>\n",
              "      <td>0</td>\n",
              "      <td>0</td>\n",
              "      <td>No</td>\n",
              "    </tr>\n",
              "    <tr>\n",
              "      <th>2</th>\n",
              "      <td>4.262962e+12</td>\n",
              "      <td>5642549</td>\n",
              "      <td>F</td>\n",
              "      <td>2016-04-29T16:19:04Z</td>\n",
              "      <td>2016-04-29T00:00:00Z</td>\n",
              "      <td>62</td>\n",
              "      <td>MATA DA PRAIA</td>\n",
              "      <td>0</td>\n",
              "      <td>0</td>\n",
              "      <td>0</td>\n",
              "      <td>0</td>\n",
              "      <td>0</td>\n",
              "      <td>0</td>\n",
              "      <td>No</td>\n",
              "    </tr>\n",
              "    <tr>\n",
              "      <th>3</th>\n",
              "      <td>8.679512e+11</td>\n",
              "      <td>5642828</td>\n",
              "      <td>F</td>\n",
              "      <td>2016-04-29T17:29:31Z</td>\n",
              "      <td>2016-04-29T00:00:00Z</td>\n",
              "      <td>8</td>\n",
              "      <td>PONTAL DE CAMBURI</td>\n",
              "      <td>0</td>\n",
              "      <td>0</td>\n",
              "      <td>0</td>\n",
              "      <td>0</td>\n",
              "      <td>0</td>\n",
              "      <td>0</td>\n",
              "      <td>No</td>\n",
              "    </tr>\n",
              "    <tr>\n",
              "      <th>4</th>\n",
              "      <td>8.841186e+12</td>\n",
              "      <td>5642494</td>\n",
              "      <td>F</td>\n",
              "      <td>2016-04-29T16:07:23Z</td>\n",
              "      <td>2016-04-29T00:00:00Z</td>\n",
              "      <td>56</td>\n",
              "      <td>JARDIM DA PENHA</td>\n",
              "      <td>0</td>\n",
              "      <td>1</td>\n",
              "      <td>1</td>\n",
              "      <td>0</td>\n",
              "      <td>0</td>\n",
              "      <td>0</td>\n",
              "      <td>No</td>\n",
              "    </tr>\n",
              "  </tbody>\n",
              "</table>\n",
              "</div>"
            ],
            "text/plain": [
              "      PatientId  AppointmentID Gender  ... Handcap SMS_received  No-show\n",
              "0  2.987250e+13        5642903      F  ...       0            0       No\n",
              "1  5.589978e+14        5642503      M  ...       0            0       No\n",
              "2  4.262962e+12        5642549      F  ...       0            0       No\n",
              "3  8.679512e+11        5642828      F  ...       0            0       No\n",
              "4  8.841186e+12        5642494      F  ...       0            0       No\n",
              "\n",
              "[5 rows x 14 columns]"
            ]
          },
          "metadata": {},
          "execution_count": 25
        }
      ]
    },
    {
      "cell_type": "code",
      "metadata": {
        "colab": {
          "base_uri": "https://localhost:8080/",
          "height": 562
        },
        "id": "pwexQkMNU8bY",
        "outputId": "f87c263f-c849-4b2b-fc99-98c46d04809b"
      },
      "source": [
        "df_med.sample(n=10, replace=False)"
      ],
      "execution_count": 26,
      "outputs": [
        {
          "output_type": "execute_result",
          "data": {
            "text/html": [
              "<div>\n",
              "<style scoped>\n",
              "    .dataframe tbody tr th:only-of-type {\n",
              "        vertical-align: middle;\n",
              "    }\n",
              "\n",
              "    .dataframe tbody tr th {\n",
              "        vertical-align: top;\n",
              "    }\n",
              "\n",
              "    .dataframe thead th {\n",
              "        text-align: right;\n",
              "    }\n",
              "</style>\n",
              "<table border=\"1\" class=\"dataframe\">\n",
              "  <thead>\n",
              "    <tr style=\"text-align: right;\">\n",
              "      <th></th>\n",
              "      <th>PatientId</th>\n",
              "      <th>AppointmentID</th>\n",
              "      <th>Gender</th>\n",
              "      <th>ScheduledDay</th>\n",
              "      <th>AppointmentDay</th>\n",
              "      <th>Age</th>\n",
              "      <th>Neighbourhood</th>\n",
              "      <th>Scholarship</th>\n",
              "      <th>Hipertension</th>\n",
              "      <th>Diabetes</th>\n",
              "      <th>Alcoholism</th>\n",
              "      <th>Handcap</th>\n",
              "      <th>SMS_received</th>\n",
              "      <th>No-show</th>\n",
              "    </tr>\n",
              "  </thead>\n",
              "  <tbody>\n",
              "    <tr>\n",
              "      <th>16429</th>\n",
              "      <td>8.141980e+11</td>\n",
              "      <td>5636342</td>\n",
              "      <td>M</td>\n",
              "      <td>2016-04-28T15:07:20Z</td>\n",
              "      <td>2016-05-09T00:00:00Z</td>\n",
              "      <td>47</td>\n",
              "      <td>TABUAZEIRO</td>\n",
              "      <td>0</td>\n",
              "      <td>0</td>\n",
              "      <td>0</td>\n",
              "      <td>0</td>\n",
              "      <td>0</td>\n",
              "      <td>0</td>\n",
              "      <td>Yes</td>\n",
              "    </tr>\n",
              "    <tr>\n",
              "      <th>41008</th>\n",
              "      <td>9.718652e+10</td>\n",
              "      <td>5740564</td>\n",
              "      <td>F</td>\n",
              "      <td>2016-05-25T15:35:06Z</td>\n",
              "      <td>2016-05-25T00:00:00Z</td>\n",
              "      <td>32</td>\n",
              "      <td>MARIA ORTIZ</td>\n",
              "      <td>0</td>\n",
              "      <td>0</td>\n",
              "      <td>0</td>\n",
              "      <td>0</td>\n",
              "      <td>0</td>\n",
              "      <td>0</td>\n",
              "      <td>No</td>\n",
              "    </tr>\n",
              "    <tr>\n",
              "      <th>105792</th>\n",
              "      <td>1.619288e+13</td>\n",
              "      <td>5722121</td>\n",
              "      <td>F</td>\n",
              "      <td>2016-05-20T07:05:50Z</td>\n",
              "      <td>2016-06-01T00:00:00Z</td>\n",
              "      <td>3</td>\n",
              "      <td>SANTO ANDRÉ</td>\n",
              "      <td>0</td>\n",
              "      <td>0</td>\n",
              "      <td>0</td>\n",
              "      <td>0</td>\n",
              "      <td>0</td>\n",
              "      <td>1</td>\n",
              "      <td>Yes</td>\n",
              "    </tr>\n",
              "    <tr>\n",
              "      <th>26364</th>\n",
              "      <td>2.786646e+12</td>\n",
              "      <td>5707008</td>\n",
              "      <td>F</td>\n",
              "      <td>2016-05-17T09:04:46Z</td>\n",
              "      <td>2016-05-18T00:00:00Z</td>\n",
              "      <td>46</td>\n",
              "      <td>INHANGUETÁ</td>\n",
              "      <td>0</td>\n",
              "      <td>1</td>\n",
              "      <td>0</td>\n",
              "      <td>0</td>\n",
              "      <td>0</td>\n",
              "      <td>0</td>\n",
              "      <td>Yes</td>\n",
              "    </tr>\n",
              "    <tr>\n",
              "      <th>54581</th>\n",
              "      <td>1.762886e+13</td>\n",
              "      <td>5672154</td>\n",
              "      <td>F</td>\n",
              "      <td>2016-05-09T07:41:29Z</td>\n",
              "      <td>2016-05-09T00:00:00Z</td>\n",
              "      <td>17</td>\n",
              "      <td>ILHA DO PRÍNCIPE</td>\n",
              "      <td>1</td>\n",
              "      <td>0</td>\n",
              "      <td>0</td>\n",
              "      <td>0</td>\n",
              "      <td>0</td>\n",
              "      <td>0</td>\n",
              "      <td>No</td>\n",
              "    </tr>\n",
              "    <tr>\n",
              "      <th>25289</th>\n",
              "      <td>7.922588e+14</td>\n",
              "      <td>5619209</td>\n",
              "      <td>F</td>\n",
              "      <td>2016-04-26T07:48:09Z</td>\n",
              "      <td>2016-05-18T00:00:00Z</td>\n",
              "      <td>43</td>\n",
              "      <td>JESUS DE NAZARETH</td>\n",
              "      <td>1</td>\n",
              "      <td>0</td>\n",
              "      <td>0</td>\n",
              "      <td>0</td>\n",
              "      <td>0</td>\n",
              "      <td>0</td>\n",
              "      <td>Yes</td>\n",
              "    </tr>\n",
              "    <tr>\n",
              "      <th>103103</th>\n",
              "      <td>9.439625e+11</td>\n",
              "      <td>5748897</td>\n",
              "      <td>F</td>\n",
              "      <td>2016-05-31T07:20:30Z</td>\n",
              "      <td>2016-06-02T00:00:00Z</td>\n",
              "      <td>56</td>\n",
              "      <td>ILHA DO PRÍNCIPE</td>\n",
              "      <td>0</td>\n",
              "      <td>1</td>\n",
              "      <td>0</td>\n",
              "      <td>0</td>\n",
              "      <td>0</td>\n",
              "      <td>0</td>\n",
              "      <td>No</td>\n",
              "    </tr>\n",
              "    <tr>\n",
              "      <th>81252</th>\n",
              "      <td>2.449457e+13</td>\n",
              "      <td>5656405</td>\n",
              "      <td>F</td>\n",
              "      <td>2016-05-04T08:00:55Z</td>\n",
              "      <td>2016-05-13T00:00:00Z</td>\n",
              "      <td>33</td>\n",
              "      <td>ROMÃO</td>\n",
              "      <td>0</td>\n",
              "      <td>0</td>\n",
              "      <td>0</td>\n",
              "      <td>0</td>\n",
              "      <td>0</td>\n",
              "      <td>0</td>\n",
              "      <td>Yes</td>\n",
              "    </tr>\n",
              "    <tr>\n",
              "      <th>7438</th>\n",
              "      <td>7.124589e+14</td>\n",
              "      <td>5740978</td>\n",
              "      <td>M</td>\n",
              "      <td>2016-05-25T16:49:45Z</td>\n",
              "      <td>2016-05-25T00:00:00Z</td>\n",
              "      <td>44</td>\n",
              "      <td>FORTE SÃO JOÃO</td>\n",
              "      <td>0</td>\n",
              "      <td>0</td>\n",
              "      <td>0</td>\n",
              "      <td>1</td>\n",
              "      <td>0</td>\n",
              "      <td>0</td>\n",
              "      <td>No</td>\n",
              "    </tr>\n",
              "    <tr>\n",
              "      <th>37361</th>\n",
              "      <td>9.662187e+13</td>\n",
              "      <td>5636484</td>\n",
              "      <td>F</td>\n",
              "      <td>2016-04-28T15:27:39Z</td>\n",
              "      <td>2016-05-18T00:00:00Z</td>\n",
              "      <td>0</td>\n",
              "      <td>ROMÃO</td>\n",
              "      <td>0</td>\n",
              "      <td>0</td>\n",
              "      <td>0</td>\n",
              "      <td>0</td>\n",
              "      <td>0</td>\n",
              "      <td>0</td>\n",
              "      <td>No</td>\n",
              "    </tr>\n",
              "  </tbody>\n",
              "</table>\n",
              "</div>"
            ],
            "text/plain": [
              "           PatientId  AppointmentID Gender  ... Handcap SMS_received  No-show\n",
              "16429   8.141980e+11        5636342      M  ...       0            0      Yes\n",
              "41008   9.718652e+10        5740564      F  ...       0            0       No\n",
              "105792  1.619288e+13        5722121      F  ...       0            1      Yes\n",
              "26364   2.786646e+12        5707008      F  ...       0            0      Yes\n",
              "54581   1.762886e+13        5672154      F  ...       0            0       No\n",
              "25289   7.922588e+14        5619209      F  ...       0            0      Yes\n",
              "103103  9.439625e+11        5748897      F  ...       0            0       No\n",
              "81252   2.449457e+13        5656405      F  ...       0            0      Yes\n",
              "7438    7.124589e+14        5740978      M  ...       0            0       No\n",
              "37361   9.662187e+13        5636484      F  ...       0            0       No\n",
              "\n",
              "[10 rows x 14 columns]"
            ]
          },
          "metadata": {},
          "execution_count": 26
        }
      ]
    }
  ]
}