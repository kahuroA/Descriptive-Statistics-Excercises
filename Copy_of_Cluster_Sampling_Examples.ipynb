{
  "nbformat": 4,
  "nbformat_minor": 0,
  "metadata": {
    "colab": {
      "name": "Copy of Cluster Sampling - Examples.ipynb",
      "provenance": [],
      "include_colab_link": true
    },
    "kernelspec": {
      "name": "python3",
      "display_name": "Python 3"
    }
  },
  "cells": [
    {
      "cell_type": "markdown",
      "metadata": {
        "id": "view-in-github",
        "colab_type": "text"
      },
      "source": [
        "<a href=\"https://colab.research.google.com/github/kahuroA/Descriptive-Statistics-Excercises/blob/main/Copy_of_Cluster_Sampling_Examples.ipynb\" target=\"_parent\"><img src=\"https://colab.research.google.com/assets/colab-badge.svg\" alt=\"Open In Colab\"/></a>"
      ]
    },
    {
      "cell_type": "markdown",
      "metadata": {
        "id": "MTIiH7scZhKw"
      },
      "source": [
        "# Cluster Sampling"
      ]
    },
    {
      "cell_type": "markdown",
      "metadata": {
        "id": "NGH1IcgIZukX"
      },
      "source": [
        "**K-Means Clustering**\n",
        "\n",
        "In this session, we are going to see how we can perform clustering in practice. To achieve this, we are going to apply one of the most commonly used mothod called K-Means. \n",
        "\n",
        "K-means clustering is a very simply algorithm that clusters data into K numbers of clusters. But before we dive into what K-mean is all about, there are few terminologies we need to understand to fully grasp the power of K-means clustering.\n",
        "\n",
        "Please watch the following short videos which explains a few terminologies we are going to use and an overview of how K-means work.\n",
        "\n",
        "\n",
        "*   [K-mean prerequisites](https://drive.google.com/file/d/1JCrS3sRjnZK6GyNYHNwCS6FjyJYryyIQ/view?usp=sharing)\n",
        "*   [K-mean clustering](https://drive.google.com/file/d/119mx9ftGnLZHpK2MuFu__pYKj8UEMKFW/view?usp=sharing)\n",
        "\n"
      ]
    },
    {
      "cell_type": "markdown",
      "metadata": {
        "id": "QDxEcAXmkXHn"
      },
      "source": [
        "#Examples"
      ]
    },
    {
      "cell_type": "code",
      "metadata": {
        "id": "A_sx5qG7h3lW"
      },
      "source": [
        "# Let's start by importing the necessary librabries\n",
        "import pandas as pd\n",
        "import numpy as np\n",
        "import matplotlib.pyplot as plt\n",
        "import seaborn as sns\n",
        "# Set the styles of all graphs to Seaborn one\n",
        "sns.set()\n",
        "# Import the KMeans module so we can perform k-means clustering with sklearn\n",
        "from sklearn.cluster import KMeans"
      ],
      "execution_count": 1,
      "outputs": []
    },
    {
      "cell_type": "markdown",
      "metadata": {
        "id": "YzjGnMsck9hD"
      },
      "source": [
        "**Load the data**\n",
        "\n",
        "Here is the dataset that we will be using for this example. [Dataset Download](https://drive.google.com/file/d/1IrGJhPCN0e70xlvK2UvLLsup4Fp9uEdH/view?usp=sharing)"
      ]
    },
    {
      "cell_type": "code",
      "metadata": {
        "id": "3mpSzTaglH4U",
        "colab": {
          "base_uri": "https://localhost:8080/",
          "height": 234
        },
        "outputId": "a80b0fd2-f487-4f70-809e-99451aaa1aaf"
      },
      "source": [
        "# Load the country clusters data\n",
        "data = pd.read_csv('3.01. Country clusters.csv')\n",
        "\n",
        "#checking out the data manually\n",
        "data"
      ],
      "execution_count": 2,
      "outputs": [
        {
          "output_type": "execute_result",
          "data": {
            "text/html": [
              "<div>\n",
              "<style scoped>\n",
              "    .dataframe tbody tr th:only-of-type {\n",
              "        vertical-align: middle;\n",
              "    }\n",
              "\n",
              "    .dataframe tbody tr th {\n",
              "        vertical-align: top;\n",
              "    }\n",
              "\n",
              "    .dataframe thead th {\n",
              "        text-align: right;\n",
              "    }\n",
              "</style>\n",
              "<table border=\"1\" class=\"dataframe\">\n",
              "  <thead>\n",
              "    <tr style=\"text-align: right;\">\n",
              "      <th></th>\n",
              "      <th>Country</th>\n",
              "      <th>Latitude</th>\n",
              "      <th>Longitude</th>\n",
              "      <th>Language</th>\n",
              "    </tr>\n",
              "  </thead>\n",
              "  <tbody>\n",
              "    <tr>\n",
              "      <th>0</th>\n",
              "      <td>USA</td>\n",
              "      <td>44.97</td>\n",
              "      <td>-103.77</td>\n",
              "      <td>English</td>\n",
              "    </tr>\n",
              "    <tr>\n",
              "      <th>1</th>\n",
              "      <td>Canada</td>\n",
              "      <td>62.40</td>\n",
              "      <td>-96.80</td>\n",
              "      <td>English</td>\n",
              "    </tr>\n",
              "    <tr>\n",
              "      <th>2</th>\n",
              "      <td>France</td>\n",
              "      <td>46.75</td>\n",
              "      <td>2.40</td>\n",
              "      <td>French</td>\n",
              "    </tr>\n",
              "    <tr>\n",
              "      <th>3</th>\n",
              "      <td>UK</td>\n",
              "      <td>54.01</td>\n",
              "      <td>-2.53</td>\n",
              "      <td>English</td>\n",
              "    </tr>\n",
              "    <tr>\n",
              "      <th>4</th>\n",
              "      <td>Germany</td>\n",
              "      <td>51.15</td>\n",
              "      <td>10.40</td>\n",
              "      <td>German</td>\n",
              "    </tr>\n",
              "    <tr>\n",
              "      <th>5</th>\n",
              "      <td>Australia</td>\n",
              "      <td>-25.45</td>\n",
              "      <td>133.11</td>\n",
              "      <td>English</td>\n",
              "    </tr>\n",
              "  </tbody>\n",
              "</table>\n",
              "</div>"
            ],
            "text/plain": [
              "     Country  Latitude  Longitude Language\n",
              "0        USA     44.97    -103.77  English\n",
              "1     Canada     62.40     -96.80  English\n",
              "2     France     46.75       2.40   French\n",
              "3         UK     54.01      -2.53  English\n",
              "4    Germany     51.15      10.40   German\n",
              "5  Australia    -25.45     133.11  English"
            ]
          },
          "metadata": {},
          "execution_count": 2
        }
      ]
    },
    {
      "cell_type": "markdown",
      "metadata": {
        "id": "W7-zyM_RmDjW"
      },
      "source": [
        "**Plotting the Data**"
      ]
    },
    {
      "cell_type": "code",
      "metadata": {
        "id": "esM3x9q5mIiB",
        "colab": {
          "base_uri": "https://localhost:8080/",
          "height": 285
        },
        "outputId": "e42b1c43-533b-4b5d-e6a0-19e19b57daa8"
      },
      "source": [
        "# Create a scatter plot using the longitude and latitude\n",
        "# Note that in order to reach a result resembling the world map, we must use the longitude as y, and the latitude as x\n",
        "plt.scatter(data['Longitude'],data['Latitude'])\n",
        "# Set limits of the axes, again to resemble the world map\n",
        "plt.xlim(-180,180)\n",
        "plt.ylim(-90,90)\n",
        "plt.show"
      ],
      "execution_count": 3,
      "outputs": [
        {
          "output_type": "execute_result",
          "data": {
            "text/plain": [
              "<function matplotlib.pyplot.show>"
            ]
          },
          "metadata": {},
          "execution_count": 3
        },
        {
          "output_type": "display_data",
          "data": {
            "image/png": "[encoded data removed]",
            "text/plain": [
              "<Figure size 432x288 with 1 Axes>"
            ]
          },
          "metadata": {
            "needs_background": "light"
          }
        }
      ]
    },
    {
      "cell_type": "markdown",
      "metadata": {
        "id": "0KqvoGAKn257"
      },
      "source": [
        "**Selecting the features we want from our Dataset**"
      ]
    },
    {
      "cell_type": "code",
      "metadata": {
        "id": "cnopVVFmoDu2",
        "colab": {
          "base_uri": "https://localhost:8080/",
          "height": 234
        },
        "outputId": "5248aa17-ce8c-4597-e716-181e7ff86418"
      },
      "source": [
        "# Since we want to cluster our dataset depending on location, we are going to extract the longitude and latitude and use them as our input while clustering\n",
        "# To achieve this we will use panda's method .iloc to slice the columns we want from the dataset.\n",
        "# The first argument of this method identifies the rows we want to keep\n",
        "# The second - the columns\n",
        "# In our case, we want to keep all rows and the 1 and 2 colummn.\n",
        "# Note: Python column indices start from 0\n",
        "\n",
        "x = data.iloc[:, 1:3]\n",
        "\n",
        "# Check if we got the 1 and 2 column\n",
        "x"
      ],
      "execution_count": 4,
      "outputs": [
        {
          "output_type": "execute_result",
          "data": {
            "text/html": [
              "<div>\n",
              "<style scoped>\n",
              "    .dataframe tbody tr th:only-of-type {\n",
              "        vertical-align: middle;\n",
              "    }\n",
              "\n",
              "    .dataframe tbody tr th {\n",
              "        vertical-align: top;\n",
              "    }\n",
              "\n",
              "    .dataframe thead th {\n",
              "        text-align: right;\n",
              "    }\n",
              "</style>\n",
              "<table border=\"1\" class=\"dataframe\">\n",
              "  <thead>\n",
              "    <tr style=\"text-align: right;\">\n",
              "      <th></th>\n",
              "      <th>Latitude</th>\n",
              "      <th>Longitude</th>\n",
              "    </tr>\n",
              "  </thead>\n",
              "  <tbody>\n",
              "    <tr>\n",
              "      <th>0</th>\n",
              "      <td>44.97</td>\n",
              "      <td>-103.77</td>\n",
              "    </tr>\n",
              "    <tr>\n",
              "      <th>1</th>\n",
              "      <td>62.40</td>\n",
              "      <td>-96.80</td>\n",
              "    </tr>\n",
              "    <tr>\n",
              "      <th>2</th>\n",
              "      <td>46.75</td>\n",
              "      <td>2.40</td>\n",
              "    </tr>\n",
              "    <tr>\n",
              "      <th>3</th>\n",
              "      <td>54.01</td>\n",
              "      <td>-2.53</td>\n",
              "    </tr>\n",
              "    <tr>\n",
              "      <th>4</th>\n",
              "      <td>51.15</td>\n",
              "      <td>10.40</td>\n",
              "    </tr>\n",
              "    <tr>\n",
              "      <th>5</th>\n",
              "      <td>-25.45</td>\n",
              "      <td>133.11</td>\n",
              "    </tr>\n",
              "  </tbody>\n",
              "</table>\n",
              "</div>"
            ],
            "text/plain": [
              "   Latitude  Longitude\n",
              "0     44.97    -103.77\n",
              "1     62.40     -96.80\n",
              "2     46.75       2.40\n",
              "3     54.01      -2.53\n",
              "4     51.15      10.40\n",
              "5    -25.45     133.11"
            ]
          },
          "metadata": {},
          "execution_count": 4
        }
      ]
    },
    {
      "cell_type": "markdown",
      "metadata": {
        "id": "yJKbNfky8sEG"
      },
      "source": [
        ""
      ]
    },
    {
      "cell_type": "markdown",
      "metadata": {
        "id": "eSe7x0LlsteV"
      },
      "source": [
        "**Clustering**"
      ]
    },
    {
      "cell_type": "code",
      "metadata": {
        "id": "9h9kMAcjsxf-",
        "colab": {
          "base_uri": "https://localhost:8080/"
        },
        "outputId": "67d26325-ea52-475a-f7cb-2d4c930cd45c"
      },
      "source": [
        "# Create an object from the KMeans method we imported from sklearn library\n",
        "# The argument in the Kmean method indicates the number of clusters we are aiming for. \n",
        "# We will use this object for clustering\n",
        "kmeans = KMeans(2)\n",
        "\n",
        "# Clustering itself happens using the fit method like this.Here, we are calling the fit method on the object we created and then using our input as x.\n",
        "kmeans.fit(x)"
      ],
      "execution_count": 5,
      "outputs": [
        {
          "output_type": "execute_result",
          "data": {
            "text/plain": [
              "KMeans(algorithm='auto', copy_x=True, init='k-means++', max_iter=300,\n",
              "       n_clusters=2, n_init=10, n_jobs=None, precompute_distances='auto',\n",
              "       random_state=None, tol=0.0001, verbose=0)"
            ]
          },
          "metadata": {},
          "execution_count": 5
        }
      ]
    },
    {
      "cell_type": "markdown",
      "metadata": {
        "id": "xsMSIQG8vRvF"
      },
      "source": [
        "**Clustering Results**"
      ]
    },
    {
      "cell_type": "code",
      "metadata": {
        "id": "9uXfdoRsvXEK",
        "colab": {
          "base_uri": "https://localhost:8080/"
        },
        "outputId": "7135784e-8079-4310-9a98-cc63e587dbf7"
      },
      "source": [
        "# Now that we have performed clustering, we need to obtain the predicted clusters for each observation by using the fit_predict method from sklearn.\n",
        "\n",
        "# Create a variable which will contain the predicted clusters for each observation\n",
        "identified_clusters = kmeans.fit_predict(x)\n",
        "# Check the result\n",
        "identified_clusters\n",
        "\n",
        "# The result is an array containing the predicted clusters. There are 2 clusters indicated by 0 and 1."
      ],
      "execution_count": 6,
      "outputs": [
        {
          "output_type": "execute_result",
          "data": {
            "text/plain": [
              "array([0, 0, 0, 0, 0, 1], dtype=int32)"
            ]
          },
          "metadata": {},
          "execution_count": 6
        }
      ]
    },
    {
      "cell_type": "code",
      "metadata": {
        "id": "8gDJ_TQgxY24",
        "colab": {
          "base_uri": "https://localhost:8080/",
          "height": 234
        },
        "outputId": "78340797-cf56-4ba0-c684-7ca671bb69c7"
      },
      "source": [
        "# Create a copy of the data\n",
        "data_with_clusters = data.copy()\n",
        "# Create a new Series, containing the identified cluster for each observation\n",
        "data_with_clusters['Cluster'] = identified_clusters\n",
        "# Check the result\n",
        "data_with_clusters"
      ],
      "execution_count": 7,
      "outputs": [
        {
          "output_type": "execute_result",
          "data": {
            "text/html": [
              "<div>\n",
              "<style scoped>\n",
              "    .dataframe tbody tr th:only-of-type {\n",
              "        vertical-align: middle;\n",
              "    }\n",
              "\n",
              "    .dataframe tbody tr th {\n",
              "        vertical-align: top;\n",
              "    }\n",
              "\n",
              "    .dataframe thead th {\n",
              "        text-align: right;\n",
              "    }\n",
              "</style>\n",
              "<table border=\"1\" class=\"dataframe\">\n",
              "  <thead>\n",
              "    <tr style=\"text-align: right;\">\n",
              "      <th></th>\n",
              "      <th>Country</th>\n",
              "      <th>Latitude</th>\n",
              "      <th>Longitude</th>\n",
              "      <th>Language</th>\n",
              "      <th>Cluster</th>\n",
              "    </tr>\n",
              "  </thead>\n",
              "  <tbody>\n",
              "    <tr>\n",
              "      <th>0</th>\n",
              "      <td>USA</td>\n",
              "      <td>44.97</td>\n",
              "      <td>-103.77</td>\n",
              "      <td>English</td>\n",
              "      <td>0</td>\n",
              "    </tr>\n",
              "    <tr>\n",
              "      <th>1</th>\n",
              "      <td>Canada</td>\n",
              "      <td>62.40</td>\n",
              "      <td>-96.80</td>\n",
              "      <td>English</td>\n",
              "      <td>0</td>\n",
              "    </tr>\n",
              "    <tr>\n",
              "      <th>2</th>\n",
              "      <td>France</td>\n",
              "      <td>46.75</td>\n",
              "      <td>2.40</td>\n",
              "      <td>French</td>\n",
              "      <td>0</td>\n",
              "    </tr>\n",
              "    <tr>\n",
              "      <th>3</th>\n",
              "      <td>UK</td>\n",
              "      <td>54.01</td>\n",
              "      <td>-2.53</td>\n",
              "      <td>English</td>\n",
              "      <td>0</td>\n",
              "    </tr>\n",
              "    <tr>\n",
              "      <th>4</th>\n",
              "      <td>Germany</td>\n",
              "      <td>51.15</td>\n",
              "      <td>10.40</td>\n",
              "      <td>German</td>\n",
              "      <td>0</td>\n",
              "    </tr>\n",
              "    <tr>\n",
              "      <th>5</th>\n",
              "      <td>Australia</td>\n",
              "      <td>-25.45</td>\n",
              "      <td>133.11</td>\n",
              "      <td>English</td>\n",
              "      <td>1</td>\n",
              "    </tr>\n",
              "  </tbody>\n",
              "</table>\n",
              "</div>"
            ],
            "text/plain": [
              "     Country  Latitude  Longitude Language  Cluster\n",
              "0        USA     44.97    -103.77  English        0\n",
              "1     Canada     62.40     -96.80  English        0\n",
              "2     France     46.75       2.40   French        0\n",
              "3         UK     54.01      -2.53  English        0\n",
              "4    Germany     51.15      10.40   German        0\n",
              "5  Australia    -25.45     133.11  English        1"
            ]
          },
          "metadata": {},
          "execution_count": 7
        }
      ]
    },
    {
      "cell_type": "code",
      "metadata": {
        "id": "_IE4OC6DyJya",
        "colab": {
          "base_uri": "https://localhost:8080/",
          "height": 268
        },
        "outputId": "091bad4f-43f6-4078-b807-67a5374ef22c"
      },
      "source": [
        "# Plot the data using the longitude and the latitude\n",
        "# c (color) is an argument which could be coded with a variable \n",
        "# The variable in this case has values 0,1,2, indicating to plt.scatter, that there are three colors (0,1,2)\n",
        "# All points in cluster 0 will be the same colour, all points in cluster 1 - another one, etc.\n",
        "# cmap is the color map. Rainbow is a nice one, but you can check others here: https://matplotlib.org/users/colormaps.html\n",
        "plt.scatter(data_with_clusters['Longitude'],data_with_clusters['Latitude'],c=data_with_clusters['Cluster'],cmap='rainbow')\n",
        "plt.xlim(-180,180)\n",
        "plt.ylim(-90,90)\n",
        "plt.show()"
      ],
      "execution_count": 8,
      "outputs": [
        {
          "output_type": "display_data",
          "data": {
            "image/png": "[encoded data removed]",
            "text/plain": [
              "<Figure size 432x288 with 1 Axes>"
            ]
          },
          "metadata": {
            "needs_background": "light"
          }
        }
      ]
    },
    {
      "cell_type": "markdown",
      "metadata": {
        "id": "vQkBEhLUyjjT"
      },
      "source": [
        "#Challenges\n"
      ]
    },
    {
      "cell_type": "markdown",
      "metadata": {
        "id": "uT-BZ9gANzC_"
      },
      "source": [
        "**Challenge 1**"
      ]
    },
    {
      "cell_type": "code",
      "metadata": {
        "id": "ujn1vpblyy3U"
      },
      "source": [
        "#Increase the number of clusterds in the above example to see the difference in the scatter plot"
      ],
      "execution_count": null,
      "outputs": []
    },
    {
      "cell_type": "markdown",
      "metadata": {
        "id": "M6VsGxDgLc58"
      },
      "source": [
        "**Challenge 2**\n",
        "\n",
        "You are given the following dataset ([Dataset Download](https://drive.google.com/file/d/1y6I2BZnYvFIcgyHpuNHnUAL2v2FIEgwr/view?usp=sharing)) and you are required to group all the countries into 2 clusters.\n",
        "\n",
        "Try with other numbers of clusters and see if they match your expectations.\n",
        "\n",
        "Plot the data using the c parameter to separate the data by the clusters we defined.\n",
        "\n",
        "Note: c stands for color "
      ]
    },
    {
      "cell_type": "code",
      "metadata": {
        "id": "omo48vGWHZBK",
        "colab": {
          "base_uri": "https://localhost:8080/",
          "height": 203
        },
        "outputId": "d621517e-b83f-4931-e25b-22008f45ab0c"
      },
      "source": [
        "# Your code goes here\n",
        "df=pd.read_csv('Countries-exercise.csv')\n",
        "df.head()"
      ],
      "execution_count": 9,
      "outputs": [
        {
          "output_type": "execute_result",
          "data": {
            "text/html": [
              "<div>\n",
              "<style scoped>\n",
              "    .dataframe tbody tr th:only-of-type {\n",
              "        vertical-align: middle;\n",
              "    }\n",
              "\n",
              "    .dataframe tbody tr th {\n",
              "        vertical-align: top;\n",
              "    }\n",
              "\n",
              "    .dataframe thead th {\n",
              "        text-align: right;\n",
              "    }\n",
              "</style>\n",
              "<table border=\"1\" class=\"dataframe\">\n",
              "  <thead>\n",
              "    <tr style=\"text-align: right;\">\n",
              "      <th></th>\n",
              "      <th>name</th>\n",
              "      <th>Longitude</th>\n",
              "      <th>Latitude</th>\n",
              "    </tr>\n",
              "  </thead>\n",
              "  <tbody>\n",
              "    <tr>\n",
              "      <th>0</th>\n",
              "      <td>Aruba</td>\n",
              "      <td>-69.982677</td>\n",
              "      <td>12.520880</td>\n",
              "    </tr>\n",
              "    <tr>\n",
              "      <th>1</th>\n",
              "      <td>Afghanistan</td>\n",
              "      <td>66.004734</td>\n",
              "      <td>33.835231</td>\n",
              "    </tr>\n",
              "    <tr>\n",
              "      <th>2</th>\n",
              "      <td>Angola</td>\n",
              "      <td>17.537368</td>\n",
              "      <td>-12.293361</td>\n",
              "    </tr>\n",
              "    <tr>\n",
              "      <th>3</th>\n",
              "      <td>Anguilla</td>\n",
              "      <td>-63.064989</td>\n",
              "      <td>18.223959</td>\n",
              "    </tr>\n",
              "    <tr>\n",
              "      <th>4</th>\n",
              "      <td>Albania</td>\n",
              "      <td>20.049834</td>\n",
              "      <td>41.142450</td>\n",
              "    </tr>\n",
              "  </tbody>\n",
              "</table>\n",
              "</div>"
            ],
            "text/plain": [
              "          name  Longitude   Latitude\n",
              "0        Aruba -69.982677  12.520880\n",
              "1  Afghanistan  66.004734  33.835231\n",
              "2       Angola  17.537368 -12.293361\n",
              "3     Anguilla -63.064989  18.223959\n",
              "4      Albania  20.049834  41.142450"
            ]
          },
          "metadata": {},
          "execution_count": 9
        }
      ]
    },
    {
      "cell_type": "code",
      "metadata": {
        "id": "GbHBWhqZ9dqU"
      },
      "source": [
        "#slice out the longitude and latitude columns\n",
        "coord=df.iloc[:,1:3]"
      ],
      "execution_count": 10,
      "outputs": []
    },
    {
      "cell_type": "code",
      "metadata": {
        "colab": {
          "base_uri": "https://localhost:8080/",
          "height": 417
        },
        "id": "DpoVgXBA9rvX",
        "outputId": "39f3dd83-eacb-42f2-ed1b-67bf4357fc09"
      },
      "source": [
        "coord"
      ],
      "execution_count": 11,
      "outputs": [
        {
          "output_type": "execute_result",
          "data": {
            "text/html": [
              "<div>\n",
              "<style scoped>\n",
              "    .dataframe tbody tr th:only-of-type {\n",
              "        vertical-align: middle;\n",
              "    }\n",
              "\n",
              "    .dataframe tbody tr th {\n",
              "        vertical-align: top;\n",
              "    }\n",
              "\n",
              "    .dataframe thead th {\n",
              "        text-align: right;\n",
              "    }\n",
              "</style>\n",
              "<table border=\"1\" class=\"dataframe\">\n",
              "  <thead>\n",
              "    <tr style=\"text-align: right;\">\n",
              "      <th></th>\n",
              "      <th>Longitude</th>\n",
              "      <th>Latitude</th>\n",
              "    </tr>\n",
              "  </thead>\n",
              "  <tbody>\n",
              "    <tr>\n",
              "      <th>0</th>\n",
              "      <td>-69.982677</td>\n",
              "      <td>12.520880</td>\n",
              "    </tr>\n",
              "    <tr>\n",
              "      <th>1</th>\n",
              "      <td>66.004734</td>\n",
              "      <td>33.835231</td>\n",
              "    </tr>\n",
              "    <tr>\n",
              "      <th>2</th>\n",
              "      <td>17.537368</td>\n",
              "      <td>-12.293361</td>\n",
              "    </tr>\n",
              "    <tr>\n",
              "      <th>3</th>\n",
              "      <td>-63.064989</td>\n",
              "      <td>18.223959</td>\n",
              "    </tr>\n",
              "    <tr>\n",
              "      <th>4</th>\n",
              "      <td>20.049834</td>\n",
              "      <td>41.142450</td>\n",
              "    </tr>\n",
              "    <tr>\n",
              "      <th>...</th>\n",
              "      <td>...</td>\n",
              "      <td>...</td>\n",
              "    </tr>\n",
              "    <tr>\n",
              "      <th>236</th>\n",
              "      <td>-172.164851</td>\n",
              "      <td>-13.753243</td>\n",
              "    </tr>\n",
              "    <tr>\n",
              "      <th>237</th>\n",
              "      <td>47.586762</td>\n",
              "      <td>15.909280</td>\n",
              "    </tr>\n",
              "    <tr>\n",
              "      <th>238</th>\n",
              "      <td>25.083901</td>\n",
              "      <td>-29.000341</td>\n",
              "    </tr>\n",
              "    <tr>\n",
              "      <th>239</th>\n",
              "      <td>27.774759</td>\n",
              "      <td>-13.458242</td>\n",
              "    </tr>\n",
              "    <tr>\n",
              "      <th>240</th>\n",
              "      <td>29.851441</td>\n",
              "      <td>-19.004204</td>\n",
              "    </tr>\n",
              "  </tbody>\n",
              "</table>\n",
              "<p>241 rows × 2 columns</p>\n",
              "</div>"
            ],
            "text/plain": [
              "      Longitude   Latitude\n",
              "0    -69.982677  12.520880\n",
              "1     66.004734  33.835231\n",
              "2     17.537368 -12.293361\n",
              "3    -63.064989  18.223959\n",
              "4     20.049834  41.142450\n",
              "..          ...        ...\n",
              "236 -172.164851 -13.753243\n",
              "237   47.586762  15.909280\n",
              "238   25.083901 -29.000341\n",
              "239   27.774759 -13.458242\n",
              "240   29.851441 -19.004204\n",
              "\n",
              "[241 rows x 2 columns]"
            ]
          },
          "metadata": {},
          "execution_count": 11
        }
      ]
    },
    {
      "cell_type": "code",
      "metadata": {
        "colab": {
          "base_uri": "https://localhost:8080/",
          "height": 285
        },
        "id": "ziKuGKvN9stc",
        "outputId": "ddeda95c-ce70-4573-a61d-d5f7306b6d9f"
      },
      "source": [
        "plt.scatter(coord['Longitude'],coord['Latitude'])\n",
        "# Set limits of the axes, again to resemble the world map\n",
        "plt.xlim(-180,180)\n",
        "plt.ylim(-90,90)\n",
        "plt.show"
      ],
      "execution_count": 12,
      "outputs": [
        {
          "output_type": "execute_result",
          "data": {
            "text/plain": [
              "<function matplotlib.pyplot.show>"
            ]
          },
          "metadata": {},
          "execution_count": 12
        },
        {
          "output_type": "display_data",
          "data": {
            "image/png": "[encoded data removed]",
            "text/plain": [
              "<Figure size 432x288 with 1 Axes>"
            ]
          },
          "metadata": {
            "needs_background": "light"
          }
        }
      ]
    },
    {
      "cell_type": "code",
      "metadata": {
        "colab": {
          "base_uri": "https://localhost:8080/"
        },
        "id": "VWjBz7-0-Lq_",
        "outputId": "c497663d-d38b-4b39-a111-46407442cc24"
      },
      "source": [
        "#create a clustering object\n",
        "Clust = KMeans(2)\n",
        "Clust.fit(coord)"
      ],
      "execution_count": 13,
      "outputs": [
        {
          "output_type": "execute_result",
          "data": {
            "text/plain": [
              "KMeans(algorithm='auto', copy_x=True, init='k-means++', max_iter=300,\n",
              "       n_clusters=2, n_init=10, n_jobs=None, precompute_distances='auto',\n",
              "       random_state=None, tol=0.0001, verbose=0)"
            ]
          },
          "metadata": {},
          "execution_count": 13
        }
      ]
    },
    {
      "cell_type": "code",
      "metadata": {
        "colab": {
          "base_uri": "https://localhost:8080/"
        },
        "id": "tjcZi_mX-gPk",
        "outputId": "f7507af7-4cdb-43ba-ba37-cafd62a19f44"
      },
      "source": [
        "clusters=Clust.fit_predict(coord)\n",
        "clusters"
      ],
      "execution_count": 14,
      "outputs": [
        {
          "output_type": "execute_result",
          "data": {
            "text/plain": [
              "array([0, 1, 1, 0, 1, 1, 1, 1, 0, 1, 0, 1, 1, 1, 0, 1, 1, 1, 1, 1, 1, 1,\n",
              "       1, 1, 1, 0, 0, 1, 0, 1, 0, 0, 0, 0, 0, 1, 1, 1, 1, 1, 0, 1, 1, 1,\n",
              "       1, 1, 0, 0, 1, 0, 0, 0, 0, 0, 1, 1, 1, 1, 1, 0, 1, 0, 1, 0, 1, 1,\n",
              "       1, 1, 1, 1, 1, 0, 1, 1, 1, 1, 1, 1, 1, 1, 1, 1, 1, 1, 1, 0, 0, 0,\n",
              "       1, 0, 1, 1, 0, 1, 0, 1, 1, 1, 1, 1, 1, 1, 1, 1, 1, 1, 1, 0, 1, 1,\n",
              "       1, 1, 1, 1, 1, 1, 0, 0, 1, 1, 1, 1, 1, 1, 1, 0, 1, 1, 1, 1, 1, 1,\n",
              "       1, 0, 1, 1, 1, 1, 1, 0, 1, 1, 1, 1, 1, 1, 1, 1, 1, 1, 0, 1, 1, 1,\n",
              "       1, 1, 1, 1, 1, 0, 0, 1, 1, 1, 1, 1, 1, 1, 0, 0, 0, 1, 1, 1, 1, 0,\n",
              "       1, 1, 0, 1, 0, 1, 1, 1, 1, 1, 1, 1, 1, 1, 1, 0, 1, 1, 1, 0, 1, 1,\n",
              "       1, 0, 1, 1, 0, 1, 1, 1, 1, 0, 1, 1, 0, 1, 1, 1, 1, 1, 1, 0, 0, 1,\n",
              "       1, 1, 1, 1, 1, 0, 0, 1, 1, 0, 0, 0, 0, 1, 1, 0, 0, 1, 1, 1, 1],\n",
              "      dtype=int32)"
            ]
          },
          "metadata": {},
          "execution_count": 14
        }
      ]
    },
    {
      "cell_type": "code",
      "metadata": {
        "colab": {
          "base_uri": "https://localhost:8080/",
          "height": 417
        },
        "id": "77jJ1Sp2-xJP",
        "outputId": "732fcaee-f53f-4c11-e9a9-60a696c67037"
      },
      "source": [
        "df['cluster']=clusters\n",
        "df"
      ],
      "execution_count": 15,
      "outputs": [
        {
          "output_type": "execute_result",
          "data": {
            "text/html": [
              "<div>\n",
              "<style scoped>\n",
              "    .dataframe tbody tr th:only-of-type {\n",
              "        vertical-align: middle;\n",
              "    }\n",
              "\n",
              "    .dataframe tbody tr th {\n",
              "        vertical-align: top;\n",
              "    }\n",
              "\n",
              "    .dataframe thead th {\n",
              "        text-align: right;\n",
              "    }\n",
              "</style>\n",
              "<table border=\"1\" class=\"dataframe\">\n",
              "  <thead>\n",
              "    <tr style=\"text-align: right;\">\n",
              "      <th></th>\n",
              "      <th>name</th>\n",
              "      <th>Longitude</th>\n",
              "      <th>Latitude</th>\n",
              "      <th>cluster</th>\n",
              "    </tr>\n",
              "  </thead>\n",
              "  <tbody>\n",
              "    <tr>\n",
              "      <th>0</th>\n",
              "      <td>Aruba</td>\n",
              "      <td>-69.982677</td>\n",
              "      <td>12.520880</td>\n",
              "      <td>0</td>\n",
              "    </tr>\n",
              "    <tr>\n",
              "      <th>1</th>\n",
              "      <td>Afghanistan</td>\n",
              "      <td>66.004734</td>\n",
              "      <td>33.835231</td>\n",
              "      <td>1</td>\n",
              "    </tr>\n",
              "    <tr>\n",
              "      <th>2</th>\n",
              "      <td>Angola</td>\n",
              "      <td>17.537368</td>\n",
              "      <td>-12.293361</td>\n",
              "      <td>1</td>\n",
              "    </tr>\n",
              "    <tr>\n",
              "      <th>3</th>\n",
              "      <td>Anguilla</td>\n",
              "      <td>-63.064989</td>\n",
              "      <td>18.223959</td>\n",
              "      <td>0</td>\n",
              "    </tr>\n",
              "    <tr>\n",
              "      <th>4</th>\n",
              "      <td>Albania</td>\n",
              "      <td>20.049834</td>\n",
              "      <td>41.142450</td>\n",
              "      <td>1</td>\n",
              "    </tr>\n",
              "    <tr>\n",
              "      <th>...</th>\n",
              "      <td>...</td>\n",
              "      <td>...</td>\n",
              "      <td>...</td>\n",
              "      <td>...</td>\n",
              "    </tr>\n",
              "    <tr>\n",
              "      <th>236</th>\n",
              "      <td>Samoa</td>\n",
              "      <td>-172.164851</td>\n",
              "      <td>-13.753243</td>\n",
              "      <td>0</td>\n",
              "    </tr>\n",
              "    <tr>\n",
              "      <th>237</th>\n",
              "      <td>Yemen</td>\n",
              "      <td>47.586762</td>\n",
              "      <td>15.909280</td>\n",
              "      <td>1</td>\n",
              "    </tr>\n",
              "    <tr>\n",
              "      <th>238</th>\n",
              "      <td>South Africa</td>\n",
              "      <td>25.083901</td>\n",
              "      <td>-29.000341</td>\n",
              "      <td>1</td>\n",
              "    </tr>\n",
              "    <tr>\n",
              "      <th>239</th>\n",
              "      <td>Zambia</td>\n",
              "      <td>27.774759</td>\n",
              "      <td>-13.458242</td>\n",
              "      <td>1</td>\n",
              "    </tr>\n",
              "    <tr>\n",
              "      <th>240</th>\n",
              "      <td>Zimbabwe</td>\n",
              "      <td>29.851441</td>\n",
              "      <td>-19.004204</td>\n",
              "      <td>1</td>\n",
              "    </tr>\n",
              "  </tbody>\n",
              "</table>\n",
              "<p>241 rows × 4 columns</p>\n",
              "</div>"
            ],
            "text/plain": [
              "             name   Longitude   Latitude  cluster\n",
              "0           Aruba  -69.982677  12.520880        0\n",
              "1     Afghanistan   66.004734  33.835231        1\n",
              "2          Angola   17.537368 -12.293361        1\n",
              "3        Anguilla  -63.064989  18.223959        0\n",
              "4         Albania   20.049834  41.142450        1\n",
              "..            ...         ...        ...      ...\n",
              "236         Samoa -172.164851 -13.753243        0\n",
              "237         Yemen   47.586762  15.909280        1\n",
              "238  South Africa   25.083901 -29.000341        1\n",
              "239        Zambia   27.774759 -13.458242        1\n",
              "240      Zimbabwe   29.851441 -19.004204        1\n",
              "\n",
              "[241 rows x 4 columns]"
            ]
          },
          "metadata": {},
          "execution_count": 15
        }
      ]
    },
    {
      "cell_type": "code",
      "metadata": {
        "colab": {
          "base_uri": "https://localhost:8080/",
          "height": 268
        },
        "id": "g2vGLCKy_B88",
        "outputId": "5c770974-92cd-41b2-d375-83d5ec39fc85"
      },
      "source": [
        "plt.scatter(df['Longitude'],df['Latitude'],c=df['cluster'],cmap='rainbow')\n",
        "plt.xlim(-180,180)\n",
        "plt.ylim(-90,90)\n",
        "plt.show()"
      ],
      "execution_count": 16,
      "outputs": [
        {
          "output_type": "display_data",
          "data": {
            "image/png": "[encoded data removed]",
            "text/plain": [
              "<Figure size 432x288 with 1 Axes>"
            ]
          },
          "metadata": {
            "needs_background": "light"
          }
        }
      ]
    }
  ]
}