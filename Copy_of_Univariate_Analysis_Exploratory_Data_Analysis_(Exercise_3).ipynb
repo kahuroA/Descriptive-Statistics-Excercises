{
  "nbformat": 4,
  "nbformat_minor": 0,
  "metadata": {
    "colab": {
      "name": "Copy of Univariate Analysis - Exploratory Data Analysis (Exercise 3)",
      "provenance": [],
      "collapsed_sections": [
        "kLG2VTrnTvYL",
        "iUNbvIvnT7ep",
        "OI3P3YnHUEBk",
        "ckfufNrcUHeH",
        "FlBMxEDBUc9B",
        "rF2ABPsHUtbZ",
        "vTbdjSrhVIiT",
        "lQ2G4ZPDVOXE",
        "xrmHVMVsVS--"
      ],
      "toc_visible": true,
      "include_colab_link": true
    },
    "kernelspec": {
      "name": "python3",
      "display_name": "Python 3"
    }
  },
  "cells": [
    {
      "cell_type": "markdown",
      "metadata": {
        "id": "view-in-github",
        "colab_type": "text"
      },
      "source": [
        "<a href=\"https://colab.research.google.com/github/kahuroA/Descriptive-Statistics-Excercises/blob/main/Copy_of_Univariate_Analysis_Exploratory_Data_Analysis_(Exercise_3).ipynb\" target=\"_parent\"><img src=\"https://colab.research.google.com/assets/colab-badge.svg\" alt=\"Open In Colab\"/></a>"
      ]
    },
    {
      "cell_type": "markdown",
      "metadata": {
        "id": "xMxtPsqcTsSH"
      },
      "source": [
        "# Exploratory Data Analysis: Univariate Analysis"
      ]
    },
    {
      "cell_type": "markdown",
      "metadata": {
        "id": "kLG2VTrnTvYL"
      },
      "source": [
        "## 1. Defining the Question"
      ]
    },
    {
      "cell_type": "markdown",
      "metadata": {
        "id": "XecOwPNorl2W"
      },
      "source": [
        "### a) Specifying the Data Analytic Question"
      ]
    },
    {
      "cell_type": "markdown",
      "metadata": {
        "id": "ym7-i7auXZPg"
      },
      "source": [
        "> Which was the most improved SAT subject from the year 2017 - 2018?"
      ]
    },
    {
      "cell_type": "markdown",
      "metadata": {
        "id": "J4wfHZwQrs-t"
      },
      "source": [
        "### b) Defining the Metric for Success"
      ]
    },
    {
      "cell_type": "markdown",
      "metadata": {
        "id": "a9BPYqunry97"
      },
      "source": [
        "### c) Understanding the context "
      ]
    },
    {
      "cell_type": "markdown",
      "metadata": {
        "id": "7KMRBJ7zr9HD"
      },
      "source": [
        "### d) Recording the Experimental Design"
      ]
    },
    {
      "cell_type": "markdown",
      "metadata": {
        "id": "zSGyg6kWsBUl"
      },
      "source": [
        "### e) Data Relevance"
      ]
    },
    {
      "cell_type": "markdown",
      "metadata": {
        "id": "iUNbvIvnT7ep"
      },
      "source": [
        "## 2. Reading the Data"
      ]
    },
    {
      "cell_type": "code",
      "metadata": {
        "id": "XJn2KjW-WMlG"
      },
      "source": [
        "# Loading the Data from the source i.e. csv\n",
        "# ---\n",
        "# Dataset 1 url = http://bit.ly/SAT2017Dataset\n",
        "# Dataset 2 url = http://bit.ly/SAT2018Dataset\n",
        "# ---\n",
        "#let us import packages\n",
        "import pandas as pd\n",
        "import numpy as np\n",
        "import matplotlib.pyplot as plt\n",
        "import seaborn as sns\n",
        "\n",
        "sat_2017=pd.read_csv('http://bit.ly/SAT2017Dataset')\n",
        "sat_2018=pd.read_csv('http://bit.ly/SAT2018Dataset')"
      ],
      "execution_count": 1,
      "outputs": []
    },
    {
      "cell_type": "markdown",
      "metadata": {
        "id": "OI3P3YnHUEBk"
      },
      "source": [
        "## 3. Checking the Data"
      ]
    },
    {
      "cell_type": "code",
      "metadata": {
        "id": "YjSVNwgptHxY",
        "colab": {
          "base_uri": "https://localhost:8080/"
        },
        "outputId": "1105770a-19f4-4970-c17e-d0faba3ba6e7"
      },
      "source": [
        "# Determining the no. of records in our dataset\n",
        "#\n",
        "print(\"The 2017 SAT data set has {} rows and {} columns\".format(sat_2017.shape[0],sat_2017.shape[1]))\n",
        "\n",
        "print(\"The 2018 SAT data set has {} rows and {} columns\".format(sat_2018.shape[0],sat_2018.shape[1]))"
      ],
      "execution_count": 2,
      "outputs": [
        {
          "output_type": "stream",
          "name": "stdout",
          "text": [
            "The 2017 SAT data set has 51 rows and 5 columns\n",
            "The 2018 SAT data set has 51 rows and 5 columns\n"
          ]
        }
      ]
    },
    {
      "cell_type": "code",
      "metadata": {
        "id": "xHhTw5eKWr0n",
        "colab": {
          "base_uri": "https://localhost:8080/",
          "height": 203
        },
        "outputId": "df529ec6-7047-4826-9b72-200edc29d569"
      },
      "source": [
        "# Previewing the top of our dataset\n",
        "sat_2017.head()"
      ],
      "execution_count": 3,
      "outputs": [
        {
          "output_type": "execute_result",
          "data": {
            "text/html": [
              "<div>\n",
              "<style scoped>\n",
              "    .dataframe tbody tr th:only-of-type {\n",
              "        vertical-align: middle;\n",
              "    }\n",
              "\n",
              "    .dataframe tbody tr th {\n",
              "        vertical-align: top;\n",
              "    }\n",
              "\n",
              "    .dataframe thead th {\n",
              "        text-align: right;\n",
              "    }\n",
              "</style>\n",
              "<table border=\"1\" class=\"dataframe\">\n",
              "  <thead>\n",
              "    <tr style=\"text-align: right;\">\n",
              "      <th></th>\n",
              "      <th>State</th>\n",
              "      <th>Participation</th>\n",
              "      <th>Evidence-Based Reading and Writing</th>\n",
              "      <th>Math</th>\n",
              "      <th>Total</th>\n",
              "    </tr>\n",
              "  </thead>\n",
              "  <tbody>\n",
              "    <tr>\n",
              "      <th>0</th>\n",
              "      <td>Alabama</td>\n",
              "      <td>5%</td>\n",
              "      <td>593</td>\n",
              "      <td>572</td>\n",
              "      <td>1165</td>\n",
              "    </tr>\n",
              "    <tr>\n",
              "      <th>1</th>\n",
              "      <td>Alaska</td>\n",
              "      <td>38%</td>\n",
              "      <td>547</td>\n",
              "      <td>533</td>\n",
              "      <td>1080</td>\n",
              "    </tr>\n",
              "    <tr>\n",
              "      <th>2</th>\n",
              "      <td>Arizona</td>\n",
              "      <td>30%</td>\n",
              "      <td>563</td>\n",
              "      <td>553</td>\n",
              "      <td>1116</td>\n",
              "    </tr>\n",
              "    <tr>\n",
              "      <th>3</th>\n",
              "      <td>Arkansas</td>\n",
              "      <td>3%</td>\n",
              "      <td>614</td>\n",
              "      <td>594</td>\n",
              "      <td>1208</td>\n",
              "    </tr>\n",
              "    <tr>\n",
              "      <th>4</th>\n",
              "      <td>California</td>\n",
              "      <td>53%</td>\n",
              "      <td>531</td>\n",
              "      <td>524</td>\n",
              "      <td>1055</td>\n",
              "    </tr>\n",
              "  </tbody>\n",
              "</table>\n",
              "</div>"
            ],
            "text/plain": [
              "        State Participation  Evidence-Based Reading and Writing  Math  Total\n",
              "0     Alabama            5%                                 593   572   1165\n",
              "1      Alaska           38%                                 547   533   1080\n",
              "2     Arizona           30%                                 563   553   1116\n",
              "3    Arkansas            3%                                 614   594   1208\n",
              "4  California           53%                                 531   524   1055"
            ]
          },
          "metadata": {},
          "execution_count": 3
        }
      ]
    },
    {
      "cell_type": "code",
      "metadata": {
        "colab": {
          "base_uri": "https://localhost:8080/",
          "height": 203
        },
        "id": "_1tCTmjZRvUF",
        "outputId": "08e903c0-ddfb-4681-f8a0-437234b5c539"
      },
      "source": [
        "sat_2018.head()"
      ],
      "execution_count": 4,
      "outputs": [
        {
          "output_type": "execute_result",
          "data": {
            "text/html": [
              "<div>\n",
              "<style scoped>\n",
              "    .dataframe tbody tr th:only-of-type {\n",
              "        vertical-align: middle;\n",
              "    }\n",
              "\n",
              "    .dataframe tbody tr th {\n",
              "        vertical-align: top;\n",
              "    }\n",
              "\n",
              "    .dataframe thead th {\n",
              "        text-align: right;\n",
              "    }\n",
              "</style>\n",
              "<table border=\"1\" class=\"dataframe\">\n",
              "  <thead>\n",
              "    <tr style=\"text-align: right;\">\n",
              "      <th></th>\n",
              "      <th>State</th>\n",
              "      <th>Participation</th>\n",
              "      <th>Evidence-Based Reading and Writing</th>\n",
              "      <th>Math</th>\n",
              "      <th>Total</th>\n",
              "    </tr>\n",
              "  </thead>\n",
              "  <tbody>\n",
              "    <tr>\n",
              "      <th>0</th>\n",
              "      <td>Alabama</td>\n",
              "      <td>6%</td>\n",
              "      <td>595</td>\n",
              "      <td>571</td>\n",
              "      <td>1166</td>\n",
              "    </tr>\n",
              "    <tr>\n",
              "      <th>1</th>\n",
              "      <td>Alaska</td>\n",
              "      <td>43%</td>\n",
              "      <td>562</td>\n",
              "      <td>544</td>\n",
              "      <td>1106</td>\n",
              "    </tr>\n",
              "    <tr>\n",
              "      <th>2</th>\n",
              "      <td>Arizona</td>\n",
              "      <td>29%</td>\n",
              "      <td>577</td>\n",
              "      <td>572</td>\n",
              "      <td>1149</td>\n",
              "    </tr>\n",
              "    <tr>\n",
              "      <th>3</th>\n",
              "      <td>Arkansas</td>\n",
              "      <td>5%</td>\n",
              "      <td>592</td>\n",
              "      <td>576</td>\n",
              "      <td>1169</td>\n",
              "    </tr>\n",
              "    <tr>\n",
              "      <th>4</th>\n",
              "      <td>California</td>\n",
              "      <td>60%</td>\n",
              "      <td>540</td>\n",
              "      <td>536</td>\n",
              "      <td>1076</td>\n",
              "    </tr>\n",
              "  </tbody>\n",
              "</table>\n",
              "</div>"
            ],
            "text/plain": [
              "        State Participation  Evidence-Based Reading and Writing  Math  Total\n",
              "0     Alabama            6%                                 595   571   1166\n",
              "1      Alaska           43%                                 562   544   1106\n",
              "2     Arizona           29%                                 577   572   1149\n",
              "3    Arkansas            5%                                 592   576   1169\n",
              "4  California           60%                                 540   536   1076"
            ]
          },
          "metadata": {},
          "execution_count": 4
        }
      ]
    },
    {
      "cell_type": "code",
      "metadata": {
        "id": "e9AzGcZFrIIr",
        "colab": {
          "base_uri": "https://localhost:8080/",
          "height": 203
        },
        "outputId": "26bd47b8-8624-49f4-fdbb-6c9e9af33da0"
      },
      "source": [
        "# Previewing the bottom of our dataset\n",
        "sat_2017.tail()"
      ],
      "execution_count": 5,
      "outputs": [
        {
          "output_type": "execute_result",
          "data": {
            "text/html": [
              "<div>\n",
              "<style scoped>\n",
              "    .dataframe tbody tr th:only-of-type {\n",
              "        vertical-align: middle;\n",
              "    }\n",
              "\n",
              "    .dataframe tbody tr th {\n",
              "        vertical-align: top;\n",
              "    }\n",
              "\n",
              "    .dataframe thead th {\n",
              "        text-align: right;\n",
              "    }\n",
              "</style>\n",
              "<table border=\"1\" class=\"dataframe\">\n",
              "  <thead>\n",
              "    <tr style=\"text-align: right;\">\n",
              "      <th></th>\n",
              "      <th>State</th>\n",
              "      <th>Participation</th>\n",
              "      <th>Evidence-Based Reading and Writing</th>\n",
              "      <th>Math</th>\n",
              "      <th>Total</th>\n",
              "    </tr>\n",
              "  </thead>\n",
              "  <tbody>\n",
              "    <tr>\n",
              "      <th>46</th>\n",
              "      <td>Virginia</td>\n",
              "      <td>65%</td>\n",
              "      <td>561</td>\n",
              "      <td>541</td>\n",
              "      <td>1102</td>\n",
              "    </tr>\n",
              "    <tr>\n",
              "      <th>47</th>\n",
              "      <td>Washington</td>\n",
              "      <td>64%</td>\n",
              "      <td>541</td>\n",
              "      <td>534</td>\n",
              "      <td>1075</td>\n",
              "    </tr>\n",
              "    <tr>\n",
              "      <th>48</th>\n",
              "      <td>West Virginia</td>\n",
              "      <td>14%</td>\n",
              "      <td>558</td>\n",
              "      <td>528</td>\n",
              "      <td>1086</td>\n",
              "    </tr>\n",
              "    <tr>\n",
              "      <th>49</th>\n",
              "      <td>Wisconsin</td>\n",
              "      <td>3%</td>\n",
              "      <td>642</td>\n",
              "      <td>649</td>\n",
              "      <td>1291</td>\n",
              "    </tr>\n",
              "    <tr>\n",
              "      <th>50</th>\n",
              "      <td>Wyoming</td>\n",
              "      <td>3%</td>\n",
              "      <td>626</td>\n",
              "      <td>604</td>\n",
              "      <td>1230</td>\n",
              "    </tr>\n",
              "  </tbody>\n",
              "</table>\n",
              "</div>"
            ],
            "text/plain": [
              "            State Participation  ...  Math  Total\n",
              "46       Virginia           65%  ...   541   1102\n",
              "47     Washington           64%  ...   534   1075\n",
              "48  West Virginia           14%  ...   528   1086\n",
              "49      Wisconsin            3%  ...   649   1291\n",
              "50        Wyoming            3%  ...   604   1230\n",
              "\n",
              "[5 rows x 5 columns]"
            ]
          },
          "metadata": {},
          "execution_count": 5
        }
      ]
    },
    {
      "cell_type": "code",
      "metadata": {
        "colab": {
          "base_uri": "https://localhost:8080/",
          "height": 203
        },
        "id": "bUWeSqTTSAoP",
        "outputId": "7383006b-bd4c-4bb7-b904-25a1e8a44e76"
      },
      "source": [
        "sat_2018.tail()"
      ],
      "execution_count": 6,
      "outputs": [
        {
          "output_type": "execute_result",
          "data": {
            "text/html": [
              "<div>\n",
              "<style scoped>\n",
              "    .dataframe tbody tr th:only-of-type {\n",
              "        vertical-align: middle;\n",
              "    }\n",
              "\n",
              "    .dataframe tbody tr th {\n",
              "        vertical-align: top;\n",
              "    }\n",
              "\n",
              "    .dataframe thead th {\n",
              "        text-align: right;\n",
              "    }\n",
              "</style>\n",
              "<table border=\"1\" class=\"dataframe\">\n",
              "  <thead>\n",
              "    <tr style=\"text-align: right;\">\n",
              "      <th></th>\n",
              "      <th>State</th>\n",
              "      <th>Participation</th>\n",
              "      <th>Evidence-Based Reading and Writing</th>\n",
              "      <th>Math</th>\n",
              "      <th>Total</th>\n",
              "    </tr>\n",
              "  </thead>\n",
              "  <tbody>\n",
              "    <tr>\n",
              "      <th>46</th>\n",
              "      <td>Virginia</td>\n",
              "      <td>68%</td>\n",
              "      <td>567</td>\n",
              "      <td>550</td>\n",
              "      <td>1117</td>\n",
              "    </tr>\n",
              "    <tr>\n",
              "      <th>47</th>\n",
              "      <td>Washington</td>\n",
              "      <td>69%</td>\n",
              "      <td>543</td>\n",
              "      <td>538</td>\n",
              "      <td>1081</td>\n",
              "    </tr>\n",
              "    <tr>\n",
              "      <th>48</th>\n",
              "      <td>West Virginia</td>\n",
              "      <td>28%</td>\n",
              "      <td>513</td>\n",
              "      <td>486</td>\n",
              "      <td>999</td>\n",
              "    </tr>\n",
              "    <tr>\n",
              "      <th>49</th>\n",
              "      <td>Wisconsin</td>\n",
              "      <td>3%</td>\n",
              "      <td>641</td>\n",
              "      <td>653</td>\n",
              "      <td>1294</td>\n",
              "    </tr>\n",
              "    <tr>\n",
              "      <th>50</th>\n",
              "      <td>Wyoming</td>\n",
              "      <td>3%</td>\n",
              "      <td>633</td>\n",
              "      <td>625</td>\n",
              "      <td>1257</td>\n",
              "    </tr>\n",
              "  </tbody>\n",
              "</table>\n",
              "</div>"
            ],
            "text/plain": [
              "            State Participation  ...  Math  Total\n",
              "46       Virginia           68%  ...   550   1117\n",
              "47     Washington           69%  ...   538   1081\n",
              "48  West Virginia           28%  ...   486    999\n",
              "49      Wisconsin            3%  ...   653   1294\n",
              "50        Wyoming            3%  ...   625   1257\n",
              "\n",
              "[5 rows x 5 columns]"
            ]
          },
          "metadata": {},
          "execution_count": 6
        }
      ]
    },
    {
      "cell_type": "code",
      "metadata": {
        "id": "n8-dW4sQWzbc",
        "colab": {
          "base_uri": "https://localhost:8080/"
        },
        "outputId": "619a8eab-9ecb-4708-f891-b893a7b127ba"
      },
      "source": [
        "# Checking whether each column has an appropriate datatype\n",
        "sat_2017.info()"
      ],
      "execution_count": 7,
      "outputs": [
        {
          "output_type": "stream",
          "name": "stdout",
          "text": [
            "<class 'pandas.core.frame.DataFrame'>\n",
            "RangeIndex: 51 entries, 0 to 50\n",
            "Data columns (total 5 columns):\n",
            " #   Column                              Non-Null Count  Dtype \n",
            "---  ------                              --------------  ----- \n",
            " 0   State                               51 non-null     object\n",
            " 1   Participation                       51 non-null     object\n",
            " 2   Evidence-Based Reading and Writing  51 non-null     int64 \n",
            " 3   Math                                51 non-null     int64 \n",
            " 4   Total                               51 non-null     int64 \n",
            "dtypes: int64(3), object(2)\n",
            "memory usage: 2.1+ KB\n"
          ]
        }
      ]
    },
    {
      "cell_type": "code",
      "metadata": {
        "colab": {
          "base_uri": "https://localhost:8080/"
        },
        "id": "oFjTsMIIWdas",
        "outputId": "35b21e85-c329-4f0e-cf4b-615bf662cbd0"
      },
      "source": [
        "sat_2018.info()"
      ],
      "execution_count": 8,
      "outputs": [
        {
          "output_type": "stream",
          "name": "stdout",
          "text": [
            "<class 'pandas.core.frame.DataFrame'>\n",
            "RangeIndex: 51 entries, 0 to 50\n",
            "Data columns (total 5 columns):\n",
            " #   Column                              Non-Null Count  Dtype \n",
            "---  ------                              --------------  ----- \n",
            " 0   State                               51 non-null     object\n",
            " 1   Participation                       51 non-null     object\n",
            " 2   Evidence-Based Reading and Writing  51 non-null     int64 \n",
            " 3   Math                                51 non-null     int64 \n",
            " 4   Total                               51 non-null     int64 \n",
            "dtypes: int64(3), object(2)\n",
            "memory usage: 2.1+ KB\n"
          ]
        }
      ]
    },
    {
      "cell_type": "markdown",
      "metadata": {
        "id": "jeA4jES8o8aF"
      },
      "source": [
        "The participation column is of object data type, however, we would like it to be of float data type to represent percentage."
      ]
    },
    {
      "cell_type": "markdown",
      "metadata": {
        "id": "ckfufNrcUHeH"
      },
      "source": [
        "## 4. External Data Source Validation"
      ]
    },
    {
      "cell_type": "markdown",
      "metadata": {
        "id": "6L4sl_0WXlbg"
      },
      "source": [
        "Making sure your data matches something outside of the dataset is very important. It allows you to ensure that the measurements are roughly in line with what they should be and it serves as a check on what other things might be wrong in your dataset. External validation can often be as simple as checking your data against a single number, as we will do here.\n",
        "\n",
        "An example would be suppose that you're working with a dataset on the population of countries during the year 2016. Validating such information with an external reliable resource such as World Bank Data would be important step to providing credibility to your dataset. Have a look at the following link for an example. [Link](https://rstudio-pubs-static.s3.amazonaws.com/182250_19977d0c5c06403fbad1e653850fc7c6.html)."
      ]
    },
    {
      "cell_type": "markdown",
      "metadata": {
        "id": "6XC_g-zKxe-r"
      },
      "source": [
        "### a.Validation"
      ]
    },
    {
      "cell_type": "markdown",
      "metadata": {
        "id": "1mEAKq-XqhPK"
      },
      "source": [
        "For validation, we checked out the data set in this website https://nces.ed.gov/programs/digest/d17/tables/dt17_226.40.asp  Our data can be regarded as valid based on the comparisons."
      ]
    },
    {
      "cell_type": "markdown",
      "metadata": {
        "id": "FlBMxEDBUc9B"
      },
      "source": [
        "## 5. Tidying the Dataset"
      ]
    },
    {
      "cell_type": "code",
      "metadata": {
        "id": "5o_bQcT5W3Wz",
        "colab": {
          "base_uri": "https://localhost:8080/",
          "height": 295
        },
        "outputId": "2b382413-5c45-45a2-b79b-391d8c952856"
      },
      "source": [
        "# Checking for Outliers\n",
        "plt.subplot(3,3,1)\n",
        "sns.boxplot(x=sat_2017['Evidence-Based Reading and Writing'])\n",
        "plt.title('2017 Evidence Based Reading and writing')\n",
        "plt.subplot(3,3,3)\n",
        "sns.boxplot(x=sat_2017['Math'])\n",
        "plt.title('2017 math')\n",
        "\n",
        "plt.subplot(3,3,7)\n",
        "sns.boxplot(x=sat_2018['Evidence-Based Reading and Writing'])\n",
        "plt.title('2018 Evidence Based Reading and writing')\n",
        "plt.subplot(3,3,9)\n",
        "sns.boxplot(x=sat_2018['Math'])\n",
        "plt.title('2018 math data')\n",
        "\n",
        "plt.show()"
      ],
      "execution_count": 9,
      "outputs": [
        {
          "output_type": "display_data",
          "data": {
            "image/png": "[encoded data removed]",
            "text/plain": [
              "<Figure size 432x288 with 4 Axes>"
            ]
          },
          "metadata": {
            "needs_background": "light"
          }
        }
      ]
    },
    {
      "cell_type": "code",
      "metadata": {
        "id": "PWlukLKUvFQN",
        "colab": {
          "base_uri": "https://localhost:8080/"
        },
        "outputId": "efbe9f90-8bfe-44e6-abdb-9901082090a2"
      },
      "source": [
        "# Checking for Anomalies\n",
        "#let us check for duplicates\n",
        "sat_2017.duplicated().sum()"
      ],
      "execution_count": 10,
      "outputs": [
        {
          "output_type": "execute_result",
          "data": {
            "text/plain": [
              "0"
            ]
          },
          "metadata": {},
          "execution_count": 10
        }
      ]
    },
    {
      "cell_type": "code",
      "metadata": {
        "colab": {
          "base_uri": "https://localhost:8080/"
        },
        "id": "9FfrxEY-Z-2I",
        "outputId": "e05cb712-a53b-478a-be3b-1ff0b82d20c7"
      },
      "source": [
        "#check for duplicates in 2018 data\n",
        "sat_2018.duplicated().sum()"
      ],
      "execution_count": 11,
      "outputs": [
        {
          "output_type": "execute_result",
          "data": {
            "text/plain": [
              "0"
            ]
          },
          "metadata": {},
          "execution_count": 11
        }
      ]
    },
    {
      "cell_type": "code",
      "metadata": {
        "id": "PvCYb6dgW4yh",
        "colab": {
          "base_uri": "https://localhost:8080/"
        },
        "outputId": "997fc891-dceb-48fd-e438-4a61a36cf289"
      },
      "source": [
        "# Identifying the Missing Data\n",
        "#check missing data in 2017 data\n",
        "sat_2017.isnull().sum()"
      ],
      "execution_count": 12,
      "outputs": [
        {
          "output_type": "execute_result",
          "data": {
            "text/plain": [
              "State                                 0\n",
              "Participation                         0\n",
              "Evidence-Based Reading and Writing    0\n",
              "Math                                  0\n",
              "Total                                 0\n",
              "dtype: int64"
            ]
          },
          "metadata": {},
          "execution_count": 12
        }
      ]
    },
    {
      "cell_type": "code",
      "metadata": {
        "colab": {
          "base_uri": "https://localhost:8080/"
        },
        "id": "u6vXX6CTaT_5",
        "outputId": "c9b0638a-2cbd-4454-f8f2-9a9f61b9ab89"
      },
      "source": [
        "#check missing data in 2018 data\n",
        "sat_2018.isnull().sum()"
      ],
      "execution_count": 13,
      "outputs": [
        {
          "output_type": "execute_result",
          "data": {
            "text/plain": [
              "State                                 0\n",
              "Participation                         0\n",
              "Evidence-Based Reading and Writing    0\n",
              "Math                                  0\n",
              "Total                                 0\n",
              "dtype: int64"
            ]
          },
          "metadata": {},
          "execution_count": 13
        }
      ]
    },
    {
      "cell_type": "code",
      "metadata": {
        "id": "MpsDGKZHsf_W"
      },
      "source": [
        "# Dealing with the Missing Data\n",
        "#No missing data in 2017 and 2018 data sets"
      ],
      "execution_count": 14,
      "outputs": []
    },
    {
      "cell_type": "code",
      "metadata": {
        "id": "D-4I__6Os4C5"
      },
      "source": [
        "# More data cleaning procedures\n",
        "#let us create a function to remove '%\n",
        "def remove_perc(label):\n",
        "  new_label=label.replace('%', '')\n",
        "  return int(new_label)/100"
      ],
      "execution_count": 15,
      "outputs": []
    },
    {
      "cell_type": "code",
      "metadata": {
        "id": "tZSA7TOubDNI"
      },
      "source": [
        "#let us transform the participation column into a float\n",
        "sat_2017['Participation']=sat_2017['Participation'].apply(lambda x: remove_perc(x))\n",
        "\n",
        "sat_2018['Participation']=sat_2018['Participation'].apply(lambda x: remove_perc(x))"
      ],
      "execution_count": 16,
      "outputs": []
    },
    {
      "cell_type": "code",
      "metadata": {
        "colab": {
          "base_uri": "https://localhost:8080/"
        },
        "id": "_-pwZib1bvr1",
        "outputId": "95c9642a-faf9-471a-85cd-6bb73d257812"
      },
      "source": [
        "sat_2017.info()"
      ],
      "execution_count": 17,
      "outputs": [
        {
          "output_type": "stream",
          "name": "stdout",
          "text": [
            "<class 'pandas.core.frame.DataFrame'>\n",
            "RangeIndex: 51 entries, 0 to 50\n",
            "Data columns (total 5 columns):\n",
            " #   Column                              Non-Null Count  Dtype  \n",
            "---  ------                              --------------  -----  \n",
            " 0   State                               51 non-null     object \n",
            " 1   Participation                       51 non-null     float64\n",
            " 2   Evidence-Based Reading and Writing  51 non-null     int64  \n",
            " 3   Math                                51 non-null     int64  \n",
            " 4   Total                               51 non-null     int64  \n",
            "dtypes: float64(1), int64(3), object(1)\n",
            "memory usage: 2.1+ KB\n"
          ]
        }
      ]
    },
    {
      "cell_type": "code",
      "metadata": {
        "colab": {
          "base_uri": "https://localhost:8080/"
        },
        "id": "QXacxdpsb1O7",
        "outputId": "5f614138-2514-4a35-d057-3461a5a1b400"
      },
      "source": [
        "sat_2018.info()"
      ],
      "execution_count": 18,
      "outputs": [
        {
          "output_type": "stream",
          "name": "stdout",
          "text": [
            "<class 'pandas.core.frame.DataFrame'>\n",
            "RangeIndex: 51 entries, 0 to 50\n",
            "Data columns (total 5 columns):\n",
            " #   Column                              Non-Null Count  Dtype  \n",
            "---  ------                              --------------  -----  \n",
            " 0   State                               51 non-null     object \n",
            " 1   Participation                       51 non-null     float64\n",
            " 2   Evidence-Based Reading and Writing  51 non-null     int64  \n",
            " 3   Math                                51 non-null     int64  \n",
            " 4   Total                               51 non-null     int64  \n",
            "dtypes: float64(1), int64(3), object(1)\n",
            "memory usage: 2.1+ KB\n"
          ]
        }
      ]
    },
    {
      "cell_type": "code",
      "metadata": {
        "id": "8L5rWMDcb5U8",
        "colab": {
          "base_uri": "https://localhost:8080/",
          "height": 203
        },
        "outputId": "d14e7c20-2a58-4075-d240-c576cf8e9145"
      },
      "source": [
        "sat_2017.head()"
      ],
      "execution_count": 19,
      "outputs": [
        {
          "output_type": "execute_result",
          "data": {
            "text/html": [
              "<div>\n",
              "<style scoped>\n",
              "    .dataframe tbody tr th:only-of-type {\n",
              "        vertical-align: middle;\n",
              "    }\n",
              "\n",
              "    .dataframe tbody tr th {\n",
              "        vertical-align: top;\n",
              "    }\n",
              "\n",
              "    .dataframe thead th {\n",
              "        text-align: right;\n",
              "    }\n",
              "</style>\n",
              "<table border=\"1\" class=\"dataframe\">\n",
              "  <thead>\n",
              "    <tr style=\"text-align: right;\">\n",
              "      <th></th>\n",
              "      <th>State</th>\n",
              "      <th>Participation</th>\n",
              "      <th>Evidence-Based Reading and Writing</th>\n",
              "      <th>Math</th>\n",
              "      <th>Total</th>\n",
              "    </tr>\n",
              "  </thead>\n",
              "  <tbody>\n",
              "    <tr>\n",
              "      <th>0</th>\n",
              "      <td>Alabama</td>\n",
              "      <td>0.05</td>\n",
              "      <td>593</td>\n",
              "      <td>572</td>\n",
              "      <td>1165</td>\n",
              "    </tr>\n",
              "    <tr>\n",
              "      <th>1</th>\n",
              "      <td>Alaska</td>\n",
              "      <td>0.38</td>\n",
              "      <td>547</td>\n",
              "      <td>533</td>\n",
              "      <td>1080</td>\n",
              "    </tr>\n",
              "    <tr>\n",
              "      <th>2</th>\n",
              "      <td>Arizona</td>\n",
              "      <td>0.30</td>\n",
              "      <td>563</td>\n",
              "      <td>553</td>\n",
              "      <td>1116</td>\n",
              "    </tr>\n",
              "    <tr>\n",
              "      <th>3</th>\n",
              "      <td>Arkansas</td>\n",
              "      <td>0.03</td>\n",
              "      <td>614</td>\n",
              "      <td>594</td>\n",
              "      <td>1208</td>\n",
              "    </tr>\n",
              "    <tr>\n",
              "      <th>4</th>\n",
              "      <td>California</td>\n",
              "      <td>0.53</td>\n",
              "      <td>531</td>\n",
              "      <td>524</td>\n",
              "      <td>1055</td>\n",
              "    </tr>\n",
              "  </tbody>\n",
              "</table>\n",
              "</div>"
            ],
            "text/plain": [
              "        State  Participation  Evidence-Based Reading and Writing  Math  Total\n",
              "0     Alabama           0.05                                 593   572   1165\n",
              "1      Alaska           0.38                                 547   533   1080\n",
              "2     Arizona           0.30                                 563   553   1116\n",
              "3    Arkansas           0.03                                 614   594   1208\n",
              "4  California           0.53                                 531   524   1055"
            ]
          },
          "metadata": {},
          "execution_count": 19
        }
      ]
    },
    {
      "cell_type": "markdown",
      "metadata": {
        "id": "rF2ABPsHUtbZ"
      },
      "source": [
        "## 6. Exploratory Analysis"
      ]
    },
    {
      "cell_type": "code",
      "metadata": {
        "id": "5nnRToniXGDK",
        "colab": {
          "base_uri": "https://localhost:8080/",
          "height": 296
        },
        "outputId": "e2282ac6-db55-48fa-bb6d-b8cd24b33edf"
      },
      "source": [
        "# Ploting the univariate summaries and recording our observations\n",
        "sns.set_style('darkgrid')\n",
        "plt.subplot(3,3,1)\n",
        "sns.histplot(sat_2017.Participation)\n",
        "\n",
        "plt.subplot(3,3,3)\n",
        "sns.histplot(x=sat_2017['Evidence-Based Reading and Writing'])\n",
        "\n",
        "plt.subplot(3,3,7)\n",
        "sns.histplot(x=sat_2017.Math)\n"
      ],
      "execution_count": 28,
      "outputs": [
        {
          "output_type": "execute_result",
          "data": {
            "text/plain": [
              "<matplotlib.axes._subplots.AxesSubplot at 0x7f8a5d818190>"
            ]
          },
          "metadata": {},
          "execution_count": 28
        },
        {
          "output_type": "display_data",
          "data": {
            "image/png": "[encoded data removed]",
            "text/plain": [
              "<Figure size 432x288 with 3 Axes>"
            ]
          },
          "metadata": {}
        }
      ]
    },
    {
      "cell_type": "code",
      "metadata": {
        "colab": {
          "base_uri": "https://localhost:8080/",
          "height": 296
        },
        "id": "gYVQ1j1luBhN",
        "outputId": "75445ff0-a81d-498e-bbc1-f3389c0cd66a"
      },
      "source": [
        "sns.set_style('darkgrid')\n",
        "plt.subplot(3,3,1)\n",
        "sns.histplot(sat_2018.Participation)\n",
        "\n",
        "plt.subplot(3,3,3)\n",
        "sns.histplot(x=sat_2018['Evidence-Based Reading and Writing'])\n",
        "\n",
        "plt.subplot(3,3,7)\n",
        "sns.histplot(x=sat_2018.Math)"
      ],
      "execution_count": 29,
      "outputs": [
        {
          "output_type": "execute_result",
          "data": {
            "text/plain": [
              "<matplotlib.axes._subplots.AxesSubplot at 0x7f8a5d6d1c10>"
            ]
          },
          "metadata": {},
          "execution_count": 29
        },
        {
          "output_type": "display_data",
          "data": {
            "image/png": "[encoded data removed]",
            "text/plain": [
              "<Figure size 432x288 with 3 Axes>"
            ]
          },
          "metadata": {}
        }
      ]
    },
    {
      "cell_type": "code",
      "metadata": {
        "colab": {
          "base_uri": "https://localhost:8080/",
          "height": 295
        },
        "id": "smeezQKtviCW",
        "outputId": "f71cd403-f47c-40ea-bf74-614e021d0441"
      },
      "source": [
        "sat_2017.describe()"
      ],
      "execution_count": 30,
      "outputs": [
        {
          "output_type": "execute_result",
          "data": {
            "text/html": [
              "<div>\n",
              "<style scoped>\n",
              "    .dataframe tbody tr th:only-of-type {\n",
              "        vertical-align: middle;\n",
              "    }\n",
              "\n",
              "    .dataframe tbody tr th {\n",
              "        vertical-align: top;\n",
              "    }\n",
              "\n",
              "    .dataframe thead th {\n",
              "        text-align: right;\n",
              "    }\n",
              "</style>\n",
              "<table border=\"1\" class=\"dataframe\">\n",
              "  <thead>\n",
              "    <tr style=\"text-align: right;\">\n",
              "      <th></th>\n",
              "      <th>Participation</th>\n",
              "      <th>Evidence-Based Reading and Writing</th>\n",
              "      <th>Math</th>\n",
              "      <th>Total</th>\n",
              "    </tr>\n",
              "  </thead>\n",
              "  <tbody>\n",
              "    <tr>\n",
              "      <th>count</th>\n",
              "      <td>51.000000</td>\n",
              "      <td>51.000000</td>\n",
              "      <td>51.000000</td>\n",
              "      <td>51.000000</td>\n",
              "    </tr>\n",
              "    <tr>\n",
              "      <th>mean</th>\n",
              "      <td>0.398039</td>\n",
              "      <td>569.117647</td>\n",
              "      <td>547.627451</td>\n",
              "      <td>1126.098039</td>\n",
              "    </tr>\n",
              "    <tr>\n",
              "      <th>std</th>\n",
              "      <td>0.352766</td>\n",
              "      <td>45.666901</td>\n",
              "      <td>84.909119</td>\n",
              "      <td>92.494812</td>\n",
              "    </tr>\n",
              "    <tr>\n",
              "      <th>min</th>\n",
              "      <td>0.020000</td>\n",
              "      <td>482.000000</td>\n",
              "      <td>52.000000</td>\n",
              "      <td>950.000000</td>\n",
              "    </tr>\n",
              "    <tr>\n",
              "      <th>25%</th>\n",
              "      <td>0.040000</td>\n",
              "      <td>533.500000</td>\n",
              "      <td>522.000000</td>\n",
              "      <td>1055.500000</td>\n",
              "    </tr>\n",
              "    <tr>\n",
              "      <th>50%</th>\n",
              "      <td>0.380000</td>\n",
              "      <td>559.000000</td>\n",
              "      <td>548.000000</td>\n",
              "      <td>1107.000000</td>\n",
              "    </tr>\n",
              "    <tr>\n",
              "      <th>75%</th>\n",
              "      <td>0.660000</td>\n",
              "      <td>613.000000</td>\n",
              "      <td>599.000000</td>\n",
              "      <td>1212.000000</td>\n",
              "    </tr>\n",
              "    <tr>\n",
              "      <th>max</th>\n",
              "      <td>1.000000</td>\n",
              "      <td>644.000000</td>\n",
              "      <td>651.000000</td>\n",
              "      <td>1295.000000</td>\n",
              "    </tr>\n",
              "  </tbody>\n",
              "</table>\n",
              "</div>"
            ],
            "text/plain": [
              "       Participation  ...        Total\n",
              "count      51.000000  ...    51.000000\n",
              "mean        0.398039  ...  1126.098039\n",
              "std         0.352766  ...    92.494812\n",
              "min         0.020000  ...   950.000000\n",
              "25%         0.040000  ...  1055.500000\n",
              "50%         0.380000  ...  1107.000000\n",
              "75%         0.660000  ...  1212.000000\n",
              "max         1.000000  ...  1295.000000\n",
              "\n",
              "[8 rows x 4 columns]"
            ]
          },
          "metadata": {},
          "execution_count": 30
        }
      ]
    },
    {
      "cell_type": "code",
      "metadata": {
        "colab": {
          "base_uri": "https://localhost:8080/",
          "height": 295
        },
        "id": "Ly8P8NFOvo0e",
        "outputId": "d06c0f8f-0bcc-4ad0-a9e5-ed7f7db4e796"
      },
      "source": [
        "sat_2018.describe()"
      ],
      "execution_count": 31,
      "outputs": [
        {
          "output_type": "execute_result",
          "data": {
            "text/html": [
              "<div>\n",
              "<style scoped>\n",
              "    .dataframe tbody tr th:only-of-type {\n",
              "        vertical-align: middle;\n",
              "    }\n",
              "\n",
              "    .dataframe tbody tr th {\n",
              "        vertical-align: top;\n",
              "    }\n",
              "\n",
              "    .dataframe thead th {\n",
              "        text-align: right;\n",
              "    }\n",
              "</style>\n",
              "<table border=\"1\" class=\"dataframe\">\n",
              "  <thead>\n",
              "    <tr style=\"text-align: right;\">\n",
              "      <th></th>\n",
              "      <th>Participation</th>\n",
              "      <th>Evidence-Based Reading and Writing</th>\n",
              "      <th>Math</th>\n",
              "      <th>Total</th>\n",
              "    </tr>\n",
              "  </thead>\n",
              "  <tbody>\n",
              "    <tr>\n",
              "      <th>count</th>\n",
              "      <td>51.000000</td>\n",
              "      <td>51.000000</td>\n",
              "      <td>51.000000</td>\n",
              "      <td>51.000000</td>\n",
              "    </tr>\n",
              "    <tr>\n",
              "      <th>mean</th>\n",
              "      <td>0.457451</td>\n",
              "      <td>563.686275</td>\n",
              "      <td>556.235294</td>\n",
              "      <td>1120.019608</td>\n",
              "    </tr>\n",
              "    <tr>\n",
              "      <th>std</th>\n",
              "      <td>0.373143</td>\n",
              "      <td>47.502627</td>\n",
              "      <td>47.772623</td>\n",
              "      <td>94.155083</td>\n",
              "    </tr>\n",
              "    <tr>\n",
              "      <th>min</th>\n",
              "      <td>0.020000</td>\n",
              "      <td>480.000000</td>\n",
              "      <td>480.000000</td>\n",
              "      <td>977.000000</td>\n",
              "    </tr>\n",
              "    <tr>\n",
              "      <th>25%</th>\n",
              "      <td>0.045000</td>\n",
              "      <td>534.500000</td>\n",
              "      <td>522.500000</td>\n",
              "      <td>1057.500000</td>\n",
              "    </tr>\n",
              "    <tr>\n",
              "      <th>50%</th>\n",
              "      <td>0.520000</td>\n",
              "      <td>552.000000</td>\n",
              "      <td>544.000000</td>\n",
              "      <td>1098.000000</td>\n",
              "    </tr>\n",
              "    <tr>\n",
              "      <th>75%</th>\n",
              "      <td>0.775000</td>\n",
              "      <td>610.500000</td>\n",
              "      <td>593.500000</td>\n",
              "      <td>1204.000000</td>\n",
              "    </tr>\n",
              "    <tr>\n",
              "      <th>max</th>\n",
              "      <td>1.000000</td>\n",
              "      <td>643.000000</td>\n",
              "      <td>655.000000</td>\n",
              "      <td>1298.000000</td>\n",
              "    </tr>\n",
              "  </tbody>\n",
              "</table>\n",
              "</div>"
            ],
            "text/plain": [
              "       Participation  ...        Total\n",
              "count      51.000000  ...    51.000000\n",
              "mean        0.457451  ...  1120.019608\n",
              "std         0.373143  ...    94.155083\n",
              "min         0.020000  ...   977.000000\n",
              "25%         0.045000  ...  1057.500000\n",
              "50%         0.520000  ...  1098.000000\n",
              "75%         0.775000  ...  1204.000000\n",
              "max         1.000000  ...  1298.000000\n",
              "\n",
              "[8 rows x 4 columns]"
            ]
          },
          "metadata": {},
          "execution_count": 31
        }
      ]
    },
    {
      "cell_type": "markdown",
      "metadata": {
        "id": "vTbdjSrhVIiT"
      },
      "source": [
        "## 7. Implementing the Solution"
      ]
    },
    {
      "cell_type": "code",
      "metadata": {
        "id": "PJLZaRzJXJ3w"
      },
      "source": [
        "# Implementing the Solution\n",
        "# we will use the difference in mean as the metric for our solution\n",
        "math_improvement=sat_2018.Math.mean()-sat_2017.Math.mean()\n",
        "ERW_improvement=sat_2018['Evidence-Based Reading and Writing'].mean()-sat_2017['Evidence-Based Reading and Writing'].mean()"
      ],
      "execution_count": 32,
      "outputs": []
    },
    {
      "cell_type": "code",
      "metadata": {
        "colab": {
          "base_uri": "https://localhost:8080/"
        },
        "id": "nUULtFKCwbDW",
        "outputId": "ee1ed7fa-33db-47cd-f603-00aa711fb9be"
      },
      "source": [
        "math_improvement"
      ],
      "execution_count": 33,
      "outputs": [
        {
          "output_type": "execute_result",
          "data": {
            "text/plain": [
              "8.607843137254918"
            ]
          },
          "metadata": {},
          "execution_count": 33
        }
      ]
    },
    {
      "cell_type": "code",
      "metadata": {
        "colab": {
          "base_uri": "https://localhost:8080/"
        },
        "id": "Ka5GCBJmwfjL",
        "outputId": "50e30862-32e1-4ae1-8c49-88eda0ba2811"
      },
      "source": [
        "ERW_improvement"
      ],
      "execution_count": 34,
      "outputs": [
        {
          "output_type": "execute_result",
          "data": {
            "text/plain": [
              "-5.43137254901967"
            ]
          },
          "metadata": {},
          "execution_count": 34
        }
      ]
    },
    {
      "cell_type": "markdown",
      "metadata": {
        "id": "RvmRounXwnhp"
      },
      "source": [
        "From above we can see that the Math subject performance improved by 8.60 on average in 2018 while the Evidence-Based Reading and Writing subject worsened by -5.431 on average in 2018"
      ]
    },
    {
      "cell_type": "markdown",
      "metadata": {
        "id": "lQ2G4ZPDVOXE"
      },
      "source": [
        "## 8. Challenging the solution"
      ]
    },
    {
      "cell_type": "markdown",
      "metadata": {
        "id": "jWVGKGuiYMWg"
      },
      "source": [
        "> The easy solution is nice because it is, well, easy, but you should never allow those results to hold the day. You should always be thinking of ways to challenge the results, especially if those results comport with your prior expectation.\n",
        "\n",
        "\n",
        "\n",
        "\n"
      ]
    },
    {
      "cell_type": "code",
      "metadata": {
        "id": "j3x3SXZ4XT_L"
      },
      "source": [
        "# Reviewing the Solution \n",
        "#We can see that in 2018, there was an increase in the participation of the SAT exams, this could have caused the increase in average of the \n",
        "#Math subject, in that the additional  no. of students in 2018 compared to 2017 were good in math and not so good in\n",
        "#Evidence-Based Reading and Writing. Therefore instead of using the mean as the metric, we will use the median which is more robust."
      ],
      "execution_count": 35,
      "outputs": []
    },
    {
      "cell_type": "code",
      "metadata": {
        "id": "V8Xl-zIjx-w_"
      },
      "source": [
        "math_improvement_2=sat_2018.Math.median()-sat_2017.Math.median()\n",
        "ERW_improvement_2=sat_2018['Evidence-Based Reading and Writing'].median()-sat_2017['Evidence-Based Reading and Writing'].median()"
      ],
      "execution_count": 36,
      "outputs": []
    },
    {
      "cell_type": "code",
      "metadata": {
        "colab": {
          "base_uri": "https://localhost:8080/"
        },
        "id": "9G2NvepoyL04",
        "outputId": "08543b59-e893-4d87-df8c-6cf2edc13316"
      },
      "source": [
        "math_improvement_2"
      ],
      "execution_count": 37,
      "outputs": [
        {
          "output_type": "execute_result",
          "data": {
            "text/plain": [
              "-4.0"
            ]
          },
          "metadata": {},
          "execution_count": 37
        }
      ]
    },
    {
      "cell_type": "code",
      "metadata": {
        "colab": {
          "base_uri": "https://localhost:8080/"
        },
        "id": "wYtY04cQyPXy",
        "outputId": "448324e7-4f6f-4090-bc8e-aa3f47e4e571"
      },
      "source": [
        "ERW_improvement_2"
      ],
      "execution_count": 38,
      "outputs": [
        {
          "output_type": "execute_result",
          "data": {
            "text/plain": [
              "-7.0"
            ]
          },
          "metadata": {},
          "execution_count": 38
        }
      ]
    },
    {
      "cell_type": "markdown",
      "metadata": {
        "id": "cUuIwCY6ytm_"
      },
      "source": [
        "Using the above metric(median), we can see that there was no improvement in 2018 in either subjects but still, it seems the Evidence-Based Reading and Writing did worse than Math relative to 2017\n"
      ]
    },
    {
      "cell_type": "markdown",
      "metadata": {
        "id": "xrmHVMVsVS--"
      },
      "source": [
        "## 9. Follow up questions"
      ]
    },
    {
      "cell_type": "markdown",
      "metadata": {
        "id": "pth2qSWhuBIy"
      },
      "source": [
        "> At this point, we can refine our question or collect new data, all in an iterative process to get at the truth.\n",
        "\n"
      ]
    },
    {
      "cell_type": "markdown",
      "metadata": {
        "id": "HPQviDmNtta8"
      },
      "source": [
        "### a). Did we have the right data?"
      ]
    },
    {
      "cell_type": "markdown",
      "metadata": {
        "id": "qjFHK1CKty7o"
      },
      "source": [
        "### b). Do we need other data to answer our question?"
      ]
    },
    {
      "cell_type": "markdown",
      "metadata": {
        "id": "HSsicSdvt4Zs"
      },
      "source": [
        "### c). Did we have the right question?"
      ]
    }
  ]
}